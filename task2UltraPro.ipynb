{
  "nbformat": 4,
  "nbformat_minor": 0,
  "metadata": {
    "colab": {
      "provenance": []
    },
    "kernelspec": {
      "name": "python3",
      "display_name": "Python 3"
    },
    "language_info": {
      "name": "python"
    }
  },
  "cells": [
    {
      "cell_type": "markdown",
      "source": [
        "По сформированным данным необходимо обучить модель для предсказания цены машины. Оцените качество работы созданной сети, определив средний процент ошибки на проверочной выборке. (Для этого потребуется привести предсказанные моделью значения к первоначальному диапазону цен. Это можно сделать с помощью следующего метода:\n",
        "\n",
        "predict_inverse = y_scaler.inverse_transform(predict).flatten()\n",
        "\n",
        "где predict - результат предсказания модели).\n",
        "\n",
        "Затем подсчитайте среднюю ошибку на тестовой выборке, среднюю цену и средний процент ошибки."
      ],
      "metadata": {
        "id": "wky1zfbuIlh5"
      }
    },
    {
      "cell_type": "markdown",
      "source": [
        "# Импорт библио"
      ],
      "metadata": {
        "id": "VPe0yywIIhY7"
      }
    },
    {
      "cell_type": "code",
      "metadata": {
        "id": "JX5sjRWRvM90"
      },
      "source": [
        "from tensorflow.keras.models import Sequential\n",
        "from tensorflow.keras.layers import Dense, Dropout, BatchNormalization\n",
        "from tensorflow.keras import utils\n",
        "from tensorflow.keras.optimizers import Adam\n",
        "\n",
        "from sklearn.model_selection import train_test_split\n",
        "from sklearn import preprocessing\n",
        "\n",
        "import numpy as np\n",
        "import pandas as pd\n",
        "import matplotlib.pyplot as plt\n",
        "\n",
        "from google.colab import drive\n",
        "\n",
        "%matplotlib inline"
      ],
      "execution_count": null,
      "outputs": []
    },
    {
      "cell_type": "code",
      "metadata": {
        "colab": {
          "base_uri": "https://localhost:8080/"
        },
        "id": "Jtii63zTwUVj",
        "outputId": "94f36081-f9a9-4f96-f1d7-17cd542ef2af"
      },
      "source": [
        "drive.mount(\"/content/drive\")\n",
        "fileData = pd.read_csv(\"/content/drive/MyDrive/Lessons/Lesson 2/cars_new.csv\")"
      ],
      "execution_count": null,
      "outputs": [
        {
          "output_type": "stream",
          "name": "stdout",
          "text": [
            "Drive already mounted at /content/drive; to attempt to forcibly remount, call drive.mount(\"/content/drive\", force_remount=True).\n"
          ]
        }
      ]
    },
    {
      "cell_type": "code",
      "metadata": {
        "colab": {
          "base_uri": "https://localhost:8080/",
          "height": 203
        },
        "id": "vKHxtoJqwcPC",
        "outputId": "1b524ca8-a695-4718-8b36-3d553b0116ab"
      },
      "source": [
        "fileData.head()"
      ],
      "execution_count": null,
      "outputs": [
        {
          "output_type": "execute_result",
          "data": {
            "text/html": [
              "<div>\n",
              "<style scoped>\n",
              "    .dataframe tbody tr th:only-of-type {\n",
              "        vertical-align: middle;\n",
              "    }\n",
              "\n",
              "    .dataframe tbody tr th {\n",
              "        vertical-align: top;\n",
              "    }\n",
              "\n",
              "    .dataframe thead th {\n",
              "        text-align: right;\n",
              "    }\n",
              "</style>\n",
              "<table border=\"1\" class=\"dataframe\">\n",
              "  <thead>\n",
              "    <tr style=\"text-align: right;\">\n",
              "      <th></th>\n",
              "      <th>mark</th>\n",
              "      <th>model</th>\n",
              "      <th>price</th>\n",
              "      <th>year</th>\n",
              "      <th>mileage</th>\n",
              "      <th>body</th>\n",
              "      <th>kpp</th>\n",
              "      <th>fuel</th>\n",
              "      <th>volume</th>\n",
              "      <th>power</th>\n",
              "    </tr>\n",
              "  </thead>\n",
              "  <tbody>\n",
              "    <tr>\n",
              "      <th>0</th>\n",
              "      <td>kia</td>\n",
              "      <td>cerato</td>\n",
              "      <td>996000</td>\n",
              "      <td>2018</td>\n",
              "      <td>28000</td>\n",
              "      <td>седан</td>\n",
              "      <td>автомат</td>\n",
              "      <td>бензин</td>\n",
              "      <td>2.0</td>\n",
              "      <td>150.0</td>\n",
              "    </tr>\n",
              "    <tr>\n",
              "      <th>1</th>\n",
              "      <td>daewoo</td>\n",
              "      <td>nexia 1 поколение [2-й рестайлинг]</td>\n",
              "      <td>140200</td>\n",
              "      <td>2012</td>\n",
              "      <td>60500</td>\n",
              "      <td>седан</td>\n",
              "      <td>механика</td>\n",
              "      <td>бензин</td>\n",
              "      <td>1.5</td>\n",
              "      <td>80.0</td>\n",
              "    </tr>\n",
              "    <tr>\n",
              "      <th>2</th>\n",
              "      <td>suzuki</td>\n",
              "      <td>jimny 3 поколение [рестайлинг]</td>\n",
              "      <td>750000</td>\n",
              "      <td>2011</td>\n",
              "      <td>29000</td>\n",
              "      <td>внедорожник</td>\n",
              "      <td>автомат</td>\n",
              "      <td>бензин</td>\n",
              "      <td>1.3</td>\n",
              "      <td>85.0</td>\n",
              "    </tr>\n",
              "    <tr>\n",
              "      <th>3</th>\n",
              "      <td>bmw</td>\n",
              "      <td>x1 18 e84 [рестайлинг]</td>\n",
              "      <td>970000</td>\n",
              "      <td>2014</td>\n",
              "      <td>49500</td>\n",
              "      <td>кроссовер</td>\n",
              "      <td>автомат</td>\n",
              "      <td>бензин</td>\n",
              "      <td>2.0</td>\n",
              "      <td>150.0</td>\n",
              "    </tr>\n",
              "    <tr>\n",
              "      <th>4</th>\n",
              "      <td>chevrolet</td>\n",
              "      <td>lacetti 1 поколение</td>\n",
              "      <td>205000</td>\n",
              "      <td>2007</td>\n",
              "      <td>151445</td>\n",
              "      <td>седан</td>\n",
              "      <td>механика</td>\n",
              "      <td>бензин</td>\n",
              "      <td>1.4</td>\n",
              "      <td>95.0</td>\n",
              "    </tr>\n",
              "  </tbody>\n",
              "</table>\n",
              "</div>"
            ],
            "text/plain": [
              "        mark                               model   price  ...    fuel  volume  power\n",
              "0        kia                              cerato  996000  ...  бензин     2.0  150.0\n",
              "1     daewoo  nexia 1 поколение [2-й рестайлинг]  140200  ...  бензин     1.5   80.0\n",
              "2     suzuki      jimny 3 поколение [рестайлинг]  750000  ...  бензин     1.3   85.0\n",
              "3        bmw              x1 18 e84 [рестайлинг]  970000  ...  бензин     2.0  150.0\n",
              "4  chevrolet                 lacetti 1 поколение  205000  ...  бензин     1.4   95.0\n",
              "\n",
              "[5 rows x 10 columns]"
            ]
          },
          "metadata": {},
          "execution_count": 41
        }
      ]
    },
    {
      "cell_type": "code",
      "metadata": {
        "id": "ETcrstzIwpC_",
        "colab": {
          "base_uri": "https://localhost:8080/"
        },
        "outputId": "562ba3a0-4977-4ddc-cada-7647b9a28f78"
      },
      "source": [
        "print(fileData.values.shape)"
      ],
      "execution_count": null,
      "outputs": [
        {
          "output_type": "stream",
          "name": "stdout",
          "text": [
            "(70119, 10)\n"
          ]
        }
      ]
    },
    {
      "cell_type": "code",
      "metadata": {
        "id": "P8V32EnxoxGl"
      },
      "source": [
        "def getDict(data):\n",
        "  newDict = {}\n",
        "  for ii, jj in enumerate(data):\n",
        "    newDict.update({jj: ii})\n",
        "  return newDict\n",
        "\n",
        "\n",
        "def to_ohc(value, data):\n",
        "  arr = [0] * len(data)\n",
        "  arr[data[value]] = 1\n",
        "  return arr"
      ],
      "execution_count": null,
      "outputs": []
    },
    {
      "cell_type": "code",
      "metadata": {
        "colab": {
          "base_uri": "https://localhost:8080/"
        },
        "id": "tpbYs0iXqEEx",
        "outputId": "9630a051-b09e-47bb-b033-728d6353ff37"
      },
      "source": [
        "for ii in fileData:\n",
        "  print(ii)"
      ],
      "execution_count": null,
      "outputs": [
        {
          "output_type": "stream",
          "name": "stdout",
          "text": [
            "mark\n",
            "model\n",
            "price\n",
            "year\n",
            "mileage\n",
            "body\n",
            "kpp\n",
            "fuel\n",
            "volume\n",
            "power\n"
          ]
        }
      ]
    },
    {
      "cell_type": "code",
      "metadata": {
        "id": "1VzL_Ld5p8-4"
      },
      "source": [
        "mark_dict = getDict(set(fileData[\"mark\"]))\n",
        "model_dict = getDict(set(fileData[\"model\"]))\n",
        "body_dict = getDict(set(fileData[\"body\"]))\n",
        "kpp_dict = getDict(set(fileData[\"kpp\"]))\n",
        "fuel_dict = getDict(set(fileData[\"fuel\"]))\n",
        "\n",
        "price = np.array(fileData[\"price\"], dtype=np.float)\n",
        "\n",
        "year = preprocessing.scale(fileData[\"year\"])\n",
        "meleage = preprocessing.scale(fileData[\"mileage\"])\n",
        "volume = preprocessing.scale(fileData[\"volume\"])\n",
        "power = preprocessing.scale(fileData[\"power\"])"
      ],
      "execution_count": null,
      "outputs": []
    },
    {
      "cell_type": "markdown",
      "metadata": {
        "id": "JGx5Y_y8sCHn"
      },
      "source": [
        "# Подготовка данных"
      ]
    },
    {
      "cell_type": "code",
      "metadata": {
        "id": "WE7qsAcbsFDA"
      },
      "source": [
        "xTrain = list()\n",
        "yTrain = list()\n",
        "\n",
        "for _id, car in enumerate(np.array(fileData)):\n",
        "\n",
        "  yTrain.append(price[_id])\n",
        "\n",
        "  context = to_ohc(car[0], mark_dict) + \\\n",
        "            to_ohc(car[1], model_dict) + \\\n",
        "            to_ohc(car[5], body_dict) + \\\n",
        "            to_ohc(car[6], kpp_dict) + \\\n",
        "            to_ohc(car[7], fuel_dict) + \\\n",
        "            [year[_id]] + \\\n",
        "            [meleage[_id]] + \\\n",
        "            [volume[_id]] + \\\n",
        "            [power[_id]]\n",
        "\n",
        "  xTrain.append(context)\n",
        "\n",
        "xTrain = np.array(xTrain, dtype=np.float)\n",
        "yTrain = np.array(yTrain, dtype=np.float)"
      ],
      "execution_count": null,
      "outputs": []
    },
    {
      "cell_type": "markdown",
      "metadata": {
        "id": "S3QaSTqGuf_W"
      },
      "source": [
        "# Создание стандартизатора"
      ]
    },
    {
      "cell_type": "code",
      "metadata": {
        "id": "1r9CxGrkui8A"
      },
      "source": [
        "yScaler = preprocessing.StandardScaler()\n",
        "yTrainScaled = yScaler.fit_transform(yTrain.reshape(-1, 1)).flatten()"
      ],
      "execution_count": null,
      "outputs": []
    },
    {
      "cell_type": "code",
      "metadata": {
        "colab": {
          "base_uri": "https://localhost:8080/"
        },
        "id": "jJzIDtmru_MH",
        "outputId": "905bedbb-ebcb-4577-9b8c-703300562c14"
      },
      "source": [
        "yTrainScaled.shape"
      ],
      "execution_count": null,
      "outputs": [
        {
          "output_type": "execute_result",
          "data": {
            "text/plain": [
              "(70119,)"
            ]
          },
          "metadata": {},
          "execution_count": 48
        }
      ]
    },
    {
      "cell_type": "code",
      "metadata": {
        "id": "PK1aTDo-w2zE"
      },
      "source": [
        "xTrain, xTest, yTrain, yTest = train_test_split(xTrain,\n",
        "                                                yTrainScaler,\n",
        "                                                test_size=0.2)"
      ],
      "execution_count": null,
      "outputs": []
    },
    {
      "cell_type": "markdown",
      "metadata": {
        "id": "Hu4u2cbLvGrQ"
      },
      "source": [
        "# Вспомогательные функции"
      ]
    },
    {
      "cell_type": "code",
      "metadata": {
        "id": "PjJGDhcLvI_v"
      },
      "source": [
        "def createModel():\n",
        "  model = Sequential()\n",
        "  model.add(Dropout(0.2, input_shape=xTrain.shape[1:]))\n",
        "  model.add(Dense(400, activation=\"relu\"))\n",
        "  model.add(Dropout(0.2))\n",
        "  model.add(Dense(500, activation=\"relu\"))\n",
        "  model.add(Dropout(0.2))\n",
        "  model.add(Dense(500, activation=\"relu\"))\n",
        "  model.add(Dense(1))\n",
        "\n",
        "  model.compile(optimizer=\"Adam\", loss=\"mse\", metrics=[\"mae\"])\n",
        "\n",
        "  return model\n"
      ],
      "execution_count": null,
      "outputs": []
    },
    {
      "cell_type": "code",
      "metadata": {
        "id": "Bgk_yUGpHH0n"
      },
      "source": [
        "def getMae(history):\n",
        "  plt.plot(history.history[\"mae\"],\n",
        "           label=\"Точность модели на обучающей выборке.\")\n",
        "  plt.plot(history.history[\"val_mae\"],\n",
        "           label=\"Точность модели на проверяющей выборке.\")\n",
        "  \n",
        "  plt.xlabel(\"Эпоха обучения\")\n",
        "  plt.ylabel(\"Точность модели\")\n",
        "\n",
        "  plt.legend()\n",
        "  plt.show()\n",
        "\n",
        "def getLoss(history):\n",
        "  plt.plot(history.history[\"loss\"],\n",
        "           label=\"Ошибка на обучающей выборке.\")\n",
        "  plt.plot(history.history[\"val_loss\"],\n",
        "           label=\"Ошибка на проверочной выборке\")\n",
        "  \n",
        "  plt.xlabel(\"Эпоха обучения\")\n",
        "  plt.ylabel(\"Ошибка модели\")\n",
        "\n",
        "  plt.legend()\n",
        "  plt.show()"
      ],
      "execution_count": null,
      "outputs": []
    },
    {
      "cell_type": "markdown",
      "metadata": {
        "id": "2n1yA5o7v6st"
      },
      "source": [
        "# Настройка модели\n",
        "\n"
      ]
    },
    {
      "cell_type": "markdown",
      "metadata": {
        "id": "MiEehBpbxTTr"
      },
      "source": [
        "## Создание констант"
      ]
    },
    {
      "cell_type": "code",
      "metadata": {
        "id": "IR_GWf_lwTZY"
      },
      "source": [
        "epochs = 50\n",
        "batch = 64"
      ],
      "execution_count": null,
      "outputs": []
    },
    {
      "cell_type": "code",
      "metadata": {
        "colab": {
          "base_uri": "https://localhost:8080/",
          "height": 1000
        },
        "id": "_hUUrKCVv6DN",
        "outputId": "aec9b872-eb96-4dfb-921e-516345ffbee6"
      },
      "source": [
        "model = createModel()\n",
        "\n",
        "history = model.fit(xTrain,\n",
        "          yTrainScaled,\n",
        "          epochs=epochs,\n",
        "          batch_size=batch,\n",
        "          validation_split=0.1,\n",
        "          )\n",
        "getMae(history)\n",
        "getLoss(history)\n",
        "predict = model.predict(xTest)"
      ],
      "execution_count": null,
      "outputs": [
        {
          "output_type": "stream",
          "name": "stdout",
          "text": [
            "Epoch 1/50\n",
            "789/789 [==============================] - 20s 24ms/step - loss: 0.9820 - mae: 0.5562 - val_loss: 0.9033 - val_mae: 0.5388\n",
            "Epoch 2/50\n",
            "789/789 [==============================] - 19s 24ms/step - loss: 0.9808 - mae: 0.5545 - val_loss: 0.9009 - val_mae: 0.5629\n",
            "Epoch 3/50\n",
            "789/789 [==============================] - 19s 24ms/step - loss: 0.9800 - mae: 0.5557 - val_loss: 0.8996 - val_mae: 0.5547\n",
            "Epoch 4/50\n",
            "789/789 [==============================] - 19s 24ms/step - loss: 0.9779 - mae: 0.5543 - val_loss: 0.9025 - val_mae: 0.5539\n",
            "Epoch 5/50\n",
            "789/789 [==============================] - 19s 24ms/step - loss: 0.9739 - mae: 0.5523 - val_loss: 0.9201 - val_mae: 0.5629\n",
            "Epoch 6/50\n",
            "789/789 [==============================] - 19s 24ms/step - loss: 0.9709 - mae: 0.5520 - val_loss: 0.9172 - val_mae: 0.5458\n",
            "Epoch 7/50\n",
            "789/789 [==============================] - 19s 24ms/step - loss: 0.9685 - mae: 0.5510 - val_loss: 0.9073 - val_mae: 0.5506\n",
            "Epoch 8/50\n",
            "789/789 [==============================] - 19s 24ms/step - loss: 0.9657 - mae: 0.5506 - val_loss: 0.9197 - val_mae: 0.5568\n",
            "Epoch 9/50\n",
            "789/789 [==============================] - 19s 24ms/step - loss: 0.9634 - mae: 0.5494 - val_loss: 0.9101 - val_mae: 0.5651\n",
            "Epoch 10/50\n",
            "789/789 [==============================] - 19s 24ms/step - loss: 0.9600 - mae: 0.5496 - val_loss: 0.9231 - val_mae: 0.5658\n",
            "Epoch 11/50\n",
            "789/789 [==============================] - 19s 24ms/step - loss: 0.9591 - mae: 0.5471 - val_loss: 0.9138 - val_mae: 0.5626\n",
            "Epoch 12/50\n",
            "789/789 [==============================] - 19s 24ms/step - loss: 0.9558 - mae: 0.5475 - val_loss: 0.9210 - val_mae: 0.5695\n",
            "Epoch 13/50\n",
            "789/789 [==============================] - 19s 24ms/step - loss: 0.9505 - mae: 0.5453 - val_loss: 0.9140 - val_mae: 0.5704\n",
            "Epoch 14/50\n",
            "789/789 [==============================] - 19s 24ms/step - loss: 0.9474 - mae: 0.5467 - val_loss: 0.9136 - val_mae: 0.5557\n",
            "Epoch 15/50\n",
            "789/789 [==============================] - 20s 25ms/step - loss: 0.9510 - mae: 0.5456 - val_loss: 0.9392 - val_mae: 0.5728\n",
            "Epoch 16/50\n",
            "789/789 [==============================] - 19s 24ms/step - loss: 0.9469 - mae: 0.5449 - val_loss: 0.9391 - val_mae: 0.5758\n",
            "Epoch 17/50\n",
            "789/789 [==============================] - 19s 24ms/step - loss: 0.9458 - mae: 0.5446 - val_loss: 0.9280 - val_mae: 0.5633\n",
            "Epoch 18/50\n",
            "789/789 [==============================] - 19s 24ms/step - loss: 0.9425 - mae: 0.5435 - val_loss: 0.9210 - val_mae: 0.5587\n",
            "Epoch 19/50\n",
            "789/789 [==============================] - 19s 24ms/step - loss: 0.9442 - mae: 0.5444 - val_loss: 0.9262 - val_mae: 0.5614\n",
            "Epoch 20/50\n",
            "789/789 [==============================] - 19s 24ms/step - loss: 0.9440 - mae: 0.5423 - val_loss: 0.9234 - val_mae: 0.5639\n",
            "Epoch 21/50\n",
            "789/789 [==============================] - 19s 24ms/step - loss: 0.9386 - mae: 0.5428 - val_loss: 0.9219 - val_mae: 0.5628\n",
            "Epoch 22/50\n",
            "789/789 [==============================] - 19s 24ms/step - loss: 0.9426 - mae: 0.5429 - val_loss: 0.9202 - val_mae: 0.5550\n",
            "Epoch 23/50\n",
            "789/789 [==============================] - 19s 24ms/step - loss: 0.9375 - mae: 0.5414 - val_loss: 0.9221 - val_mae: 0.5655\n",
            "Epoch 24/50\n",
            "789/789 [==============================] - 19s 24ms/step - loss: 0.9371 - mae: 0.5411 - val_loss: 0.9251 - val_mae: 0.5668\n",
            "Epoch 25/50\n",
            "789/789 [==============================] - 19s 24ms/step - loss: 0.9332 - mae: 0.5403 - val_loss: 0.9348 - val_mae: 0.5747\n",
            "Epoch 26/50\n",
            "789/789 [==============================] - 19s 24ms/step - loss: 0.9329 - mae: 0.5403 - val_loss: 0.9240 - val_mae: 0.5654\n",
            "Epoch 27/50\n",
            "789/789 [==============================] - 19s 24ms/step - loss: 0.9325 - mae: 0.5395 - val_loss: 0.9313 - val_mae: 0.5725\n",
            "Epoch 28/50\n",
            "789/789 [==============================] - 19s 24ms/step - loss: 0.9296 - mae: 0.5403 - val_loss: 0.9240 - val_mae: 0.5697\n",
            "Epoch 29/50\n",
            "789/789 [==============================] - 19s 24ms/step - loss: 0.9365 - mae: 0.5388 - val_loss: 0.9219 - val_mae: 0.5654\n",
            "Epoch 30/50\n",
            "789/789 [==============================] - 19s 24ms/step - loss: 0.9251 - mae: 0.5396 - val_loss: 0.9302 - val_mae: 0.5628\n",
            "Epoch 31/50\n",
            "789/789 [==============================] - 19s 24ms/step - loss: 0.9320 - mae: 0.5384 - val_loss: 0.9211 - val_mae: 0.5774\n",
            "Epoch 32/50\n",
            "789/789 [==============================] - 19s 24ms/step - loss: 0.9312 - mae: 0.5387 - val_loss: 0.9254 - val_mae: 0.5726\n",
            "Epoch 33/50\n",
            "789/789 [==============================] - 19s 24ms/step - loss: 0.9337 - mae: 0.5383 - val_loss: 0.9386 - val_mae: 0.5807\n",
            "Epoch 34/50\n",
            "789/789 [==============================] - 19s 24ms/step - loss: 0.9253 - mae: 0.5392 - val_loss: 0.9397 - val_mae: 0.5610\n",
            "Epoch 35/50\n",
            "789/789 [==============================] - 19s 24ms/step - loss: 0.9326 - mae: 0.5380 - val_loss: 0.9305 - val_mae: 0.5661\n",
            "Epoch 36/50\n",
            "789/789 [==============================] - 19s 24ms/step - loss: 0.9279 - mae: 0.5379 - val_loss: 0.9300 - val_mae: 0.5762\n",
            "Epoch 37/50\n",
            "789/789 [==============================] - 19s 24ms/step - loss: 0.9218 - mae: 0.5374 - val_loss: 0.9451 - val_mae: 0.5739\n",
            "Epoch 38/50\n",
            "789/789 [==============================] - 19s 24ms/step - loss: 0.9214 - mae: 0.5373 - val_loss: 0.9282 - val_mae: 0.5591\n",
            "Epoch 39/50\n",
            "789/789 [==============================] - 19s 24ms/step - loss: 0.9234 - mae: 0.5373 - val_loss: 0.9447 - val_mae: 0.5726\n",
            "Epoch 40/50\n",
            "789/789 [==============================] - 19s 24ms/step - loss: 0.9242 - mae: 0.5355 - val_loss: 0.9373 - val_mae: 0.5765\n",
            "Epoch 41/50\n",
            "789/789 [==============================] - 19s 24ms/step - loss: 0.9271 - mae: 0.5377 - val_loss: 0.9321 - val_mae: 0.5687\n",
            "Epoch 42/50\n",
            "789/789 [==============================] - 19s 24ms/step - loss: 0.9119 - mae: 0.5350 - val_loss: 0.9319 - val_mae: 0.5663\n",
            "Epoch 43/50\n",
            "789/789 [==============================] - 19s 24ms/step - loss: 0.9214 - mae: 0.5360 - val_loss: 0.9442 - val_mae: 0.5809\n",
            "Epoch 44/50\n",
            "789/789 [==============================] - 19s 24ms/step - loss: 0.9242 - mae: 0.5371 - val_loss: 0.9309 - val_mae: 0.5660\n",
            "Epoch 45/50\n",
            "789/789 [==============================] - 19s 24ms/step - loss: 0.9177 - mae: 0.5357 - val_loss: 0.9428 - val_mae: 0.5708\n",
            "Epoch 46/50\n",
            "789/789 [==============================] - 19s 24ms/step - loss: 0.9263 - mae: 0.5353 - val_loss: 0.9355 - val_mae: 0.5756\n",
            "Epoch 47/50\n",
            "789/789 [==============================] - 19s 24ms/step - loss: 0.9178 - mae: 0.5351 - val_loss: 0.9587 - val_mae: 0.5773\n",
            "Epoch 48/50\n",
            "789/789 [==============================] - 19s 24ms/step - loss: 0.9078 - mae: 0.5346 - val_loss: 0.9312 - val_mae: 0.5665\n",
            "Epoch 49/50\n",
            "789/789 [==============================] - 19s 24ms/step - loss: 0.9201 - mae: 0.5357 - val_loss: 0.9299 - val_mae: 0.5730\n",
            "Epoch 50/50\n",
            "789/789 [==============================] - 19s 24ms/step - loss: 0.9180 - mae: 0.5346 - val_loss: 0.9403 - val_mae: 0.5790\n"
          ]
        },
        {
          "output_type": "display_data",
          "data": {
            "image/png": "[encoded data removed]",
            "text/plain": [
              "<Figure size 432x288 with 1 Axes>"
            ]
          },
          "metadata": {
            "needs_background": "light"
          }
        },
        {
          "output_type": "display_data",
          "data": {
            "image/png": "[encoded data removed]",
            "text/plain": [
              "<Figure size 432x288 with 1 Axes>"
            ]
          },
          "metadata": {
            "needs_background": "light"
          }
        }
      ]
    },
    {
      "cell_type": "code",
      "metadata": {
        "id": "PqNQibopvutl"
      },
      "source": [
        "predict_inverse = yScaler.inverse_transform(predict).flatten()\n",
        "\n",
        "yTestNorm = yScaler.inverse_transform(yTest.reshape(-1, 1)).flatten()"
      ],
      "execution_count": null,
      "outputs": []
    },
    {
      "cell_type": "markdown",
      "metadata": {
        "id": "kR0u6qaw22zd"
      },
      "source": [
        "# Подсчет средней ошибки"
      ]
    },
    {
      "cell_type": "code",
      "metadata": {
        "colab": {
          "base_uri": "https://localhost:8080/"
        },
        "id": "lC4cTK7I26W5",
        "outputId": "febb1177-bb98-4c37-b99e-030f468dd060"
      },
      "source": [
        "\n",
        "mean_procent = 0\n",
        "mean_price = 0\n",
        "for ii in range(len(yTestNorm)):\n",
        "  mean_price += abs(predict_inverse[ii] - yTestNorm[ii])\n",
        "  mean_procent += (predict_inverse[ii] - yTestNorm[ii]) / yTestNorm[ii]\n",
        "ii += 1\n",
        "mean_price /= ii\n",
        "mean_procent /= ii\n",
        "\n",
        "print(f\"Средняя ошибка цены: {round(mean_price, 2)}\")\n",
        "print(f\"Средн процент ошибки: {round(mean_procent * 100, 4)}%\")"
      ],
      "execution_count": null,
      "outputs": [
        {
          "output_type": "stream",
          "name": "stdout",
          "text": [
            "Средняя ошибка цены: 360175.09\n",
            "Средняя процент ошибки: 139.2472%\n"
          ]
        }
      ]
    }
  ]
}