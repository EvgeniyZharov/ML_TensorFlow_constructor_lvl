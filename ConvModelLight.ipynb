{
  "nbformat": 4,
  "nbformat_minor": 0,
  "metadata": {
    "colab": {
      "provenance": [],
      "toc_visible": true
    },
    "kernelspec": {
      "display_name": "Python 3",
      "name": "python3"
    },
    "language_info": {
      "name": "python"
    }
  },
  "cells": [
    {
      "cell_type": "markdown",
      "source": [
        "Провести серию экспериментов по подбору гиперпараметров нейронной сети, созданной на занятии (можно использовать любую нейросеть с занятия, либо создать свою свёрточную сеть).\n",
        "\n",
        "Поменять количество нейронов (фильтров) в скрытом сверточном слое и обучить сеть, использовав следующие значения:\n",
        "○ первая сеть - скрытый слой 2 нейрона\n",
        "\n",
        "○ вторая сеть - тот же скрытый слой 4 нейрона\n",
        "\n",
        "○ третья сеть - тот же скрытый слой 16 нейронов\n",
        "\n",
        "Поменять активационную функцию в скрытых слоях с relu на linear\n",
        "Поменять размеры batch_size:\n",
        "○ 10\n",
        "\n",
        "○ 100\n",
        "\n",
        "○ Вся база (50000)\n",
        "\n",
        "Записать в таблицу получившиеся точности.\n",
        "\n",
        "Написать выводы по результатам проведенных тестов. \n"
      ],
      "metadata": {
        "id": "29YEeyB6IEKX"
      }
    },
    {
      "cell_type": "markdown",
      "metadata": {
        "id": "4Uc53qoRclu5"
      },
      "source": [
        "# Загрузка библиотек"
      ]
    },
    {
      "cell_type": "code",
      "metadata": {
        "id": "5yqPQPux-RKS"
      },
      "source": [
        "from tensorflow.keras.datasets import mnist\n",
        "from tensorflow.keras.models import Sequential\n",
        "from tensorflow.keras.layers import Dense, Conv2D, MaxPooling2D\n",
        "from tensorflow.keras.layers import Flatten, Dropout, BatchNormalization\n",
        "from tensorflow.keras import utils \n",
        "import numpy as np \n",
        "import pandas as pd\n",
        "import matplotlib.pyplot as plt\n",
        "from PIL import Image\n",
        "\n",
        "%matplotlib inline"
      ],
      "execution_count": null,
      "outputs": []
    },
    {
      "cell_type": "markdown",
      "metadata": {
        "id": "dc9Kaw37csXu"
      },
      "source": [
        "# Подготовка данных"
      ]
    },
    {
      "cell_type": "code",
      "metadata": {
        "colab": {
          "base_uri": "https://localhost:8080/"
        },
        "id": "Mj_6-ittcu3p",
        "outputId": "1916b345-d97b-437d-86c1-5910e2bb8878"
      },
      "source": [
        "(x, y), (x_test, y_test) = mnist.load_data()\n",
        "\n",
        "y = utils.to_categorical(y, 10)\n",
        "y_test = utils.to_categorical(y_test, 10)\n",
        "\n",
        "x = x.reshape(x.shape[0], 28, 28, 1)\n",
        "x_test = x_test.reshape(x_test.shape[0], 28, 28, 1)"
      ],
      "execution_count": null,
      "outputs": [
        {
          "output_type": "stream",
          "text": [
            "Downloading data from https://storage.googleapis.com/tensorflow/tf-keras-datasets/mnist.npz\n",
            "11493376/11490434 [==============================] - 0s 0us/step\n"
          ],
          "name": "stdout"
        }
      ]
    },
    {
      "cell_type": "markdown",
      "metadata": {
        "id": "BncCByewcyqz"
      },
      "source": [
        "# Функция создания модели"
      ]
    },
    {
      "cell_type": "code",
      "metadata": {
        "id": "03zML-aOc1IS"
      },
      "source": [
        "def createModel(neuron=32, activ='relu'):\n",
        "  model = Sequential()\n",
        "  model.add(BatchNormalization(input_shape=(28, 28, 1)))\n",
        "  model.add(Conv2D(neuron, (3, 3), padding='same', activation=activ))\n",
        "  model.add(MaxPooling2D(pool_size=(2, 2)))\n",
        "\n",
        "  model.add(Flatten())\n",
        "  model.add(Dense(256, activation=activ))\n",
        "  model.add(Dense(10, activation='softmax'))\n",
        "\n",
        "  model.compile(loss=\"categorical_crossentropy\", optimizer=\"adam\", metrics=[\"accuracy\"])\n",
        "\n",
        "  model.summary()\n",
        "  return model"
      ],
      "execution_count": null,
      "outputs": []
    },
    {
      "cell_type": "code",
      "metadata": {
        "id": "5BZbfGGCh0Q5"
      },
      "source": [
        "# Функция разделения модели на обучающую и проверяющую\n",
        "\n",
        "def testOne(x, y, n, batch=128, activ='relu'):\n",
        "  model = createModel(activ=activ)\n",
        "\n",
        "  x_train = x[:n]\n",
        "  x_check = x[n:]\n",
        "  y_train = y[:n]\n",
        "  y_check = y[n:]\n",
        "\n",
        "  model.fit(x_train,\n",
        "            y_train,\n",
        "            epochs=13,\n",
        "            batch_size=batch,\n",
        "            validation_data=(x_check, y_check),\n",
        "            verbose=1)\n",
        "  \n",
        "  return model\n",
        "  \n",
        " "
      ],
      "execution_count": null,
      "outputs": []
    },
    {
      "cell_type": "markdown",
      "metadata": {
        "id": "_otidCQeiLcr"
      },
      "source": [
        "# Задание 1 (Работа со скрытым слоем)\n",
        "\n"
      ]
    },
    {
      "cell_type": "markdown",
      "metadata": {
        "id": "txrB3tBd8_tr"
      },
      "source": [
        "## Тест 1 (2 нейрона)"
      ]
    },
    {
      "cell_type": "code",
      "metadata": {
        "colab": {
          "base_uri": "https://localhost:8080/"
        },
        "id": "ZFvQu7KE8veu",
        "outputId": "6d9ef690-9abf-465b-bb95-461b2eaeffff"
      },
      "source": [
        "modelOne = createModel(neuron=2)\n",
        "modelOne.fit(x, y, epochs=13, batch_size=128, verbose=1)\n",
        "accuracyOne = modelOne.evaluate(x_test, y_test, verbose=1)"
      ],
      "execution_count": null,
      "outputs": [
        {
          "output_type": "stream",
          "text": [
            "Model: \"sequential\"\n",
            "_________________________________________________________________\n",
            "Layer (type)                 Output Shape              Param #   \n",
            "=================================================================\n",
            "batch_normalization (BatchNo (None, 28, 28, 1)         4         \n",
            "_________________________________________________________________\n",
            "conv2d (Conv2D)              (None, 28, 28, 2)         20        \n",
            "_________________________________________________________________\n",
            "max_pooling2d (MaxPooling2D) (None, 14, 14, 2)         0         \n",
            "_________________________________________________________________\n",
            "flatten (Flatten)            (None, 392)               0         \n",
            "_________________________________________________________________\n",
            "dense (Dense)                (None, 256)               100608    \n",
            "_________________________________________________________________\n",
            "dense_1 (Dense)              (None, 10)                2570      \n",
            "=================================================================\n",
            "Total params: 103,202\n",
            "Trainable params: 103,200\n",
            "Non-trainable params: 2\n",
            "_________________________________________________________________\n",
            "Epoch 1/13\n",
            "469/469 [==============================] - 19s 38ms/step - loss: 0.2631 - accuracy: 0.9215\n",
            "Epoch 2/13\n",
            "469/469 [==============================] - 18s 39ms/step - loss: 0.1060 - accuracy: 0.9676\n",
            "Epoch 3/13\n",
            "469/469 [==============================] - 18s 39ms/step - loss: 0.0737 - accuracy: 0.9778\n",
            "Epoch 4/13\n",
            "469/469 [==============================] - 18s 39ms/step - loss: 0.0573 - accuracy: 0.9822\n",
            "Epoch 5/13\n",
            "469/469 [==============================] - 18s 39ms/step - loss: 0.0454 - accuracy: 0.9854\n",
            "Epoch 6/13\n",
            "469/469 [==============================] - 18s 39ms/step - loss: 0.0360 - accuracy: 0.9882\n",
            "Epoch 7/13\n",
            "469/469 [==============================] - 19s 40ms/step - loss: 0.0287 - accuracy: 0.9906\n",
            "Epoch 8/13\n",
            "469/469 [==============================] - 19s 40ms/step - loss: 0.0240 - accuracy: 0.9920\n",
            "Epoch 9/13\n",
            "469/469 [==============================] - 19s 40ms/step - loss: 0.0203 - accuracy: 0.9932\n",
            "Epoch 10/13\n",
            "469/469 [==============================] - 19s 40ms/step - loss: 0.0199 - accuracy: 0.9933\n",
            "Epoch 11/13\n",
            "469/469 [==============================] - 19s 40ms/step - loss: 0.0152 - accuracy: 0.9946\n",
            "Epoch 12/13\n",
            "469/469 [==============================] - 19s 40ms/step - loss: 0.0125 - accuracy: 0.9958\n",
            "Epoch 13/13\n",
            "469/469 [==============================] - 19s 40ms/step - loss: 0.0111 - accuracy: 0.9962\n",
            "313/313 [==============================] - 2s 6ms/step - loss: 0.0783 - accuracy: 0.9800\n"
          ],
          "name": "stdout"
        }
      ]
    },
    {
      "cell_type": "markdown",
      "metadata": {
        "id": "Rx7H_TgMAzit"
      },
      "source": [
        "## Тест 2 (4 нейрона)"
      ]
    },
    {
      "cell_type": "code",
      "metadata": {
        "colab": {
          "base_uri": "https://localhost:8080/"
        },
        "id": "Q5iHeMGZA88D",
        "outputId": "c966fabf-9ece-4db1-c7f5-c3990cbd57a7"
      },
      "source": [
        "modelTwo = createModel(neuron=4)\n",
        "modelTwo.fit(x, y, epochs=13, batch_size=128, verbose=1)\n",
        "accuracyTwo = modelTwo.evaluate(x_test, y_test, verbose=1)"
      ],
      "execution_count": null,
      "outputs": [
        {
          "output_type": "stream",
          "text": [
            "Model: \"sequential_1\"\n",
            "_________________________________________________________________\n",
            "Layer (type)                 Output Shape              Param #   \n",
            "=================================================================\n",
            "batch_normalization_1 (Batch (None, 28, 28, 1)         4         \n",
            "_________________________________________________________________\n",
            "conv2d_1 (Conv2D)            (None, 28, 28, 4)         40        \n",
            "_________________________________________________________________\n",
            "max_pooling2d_1 (MaxPooling2 (None, 14, 14, 4)         0         \n",
            "_________________________________________________________________\n",
            "flatten_1 (Flatten)          (None, 784)               0         \n",
            "_________________________________________________________________\n",
            "dense_2 (Dense)              (None, 256)               200960    \n",
            "_________________________________________________________________\n",
            "dense_3 (Dense)              (None, 10)                2570      \n",
            "=================================================================\n",
            "Total params: 203,574\n",
            "Trainable params: 203,572\n",
            "Non-trainable params: 2\n",
            "_________________________________________________________________\n",
            "Epoch 1/13\n",
            "469/469 [==============================] - 20s 43ms/step - loss: 0.2624 - accuracy: 0.9213\n",
            "Epoch 2/13\n",
            "469/469 [==============================] - 20s 43ms/step - loss: 0.1044 - accuracy: 0.9681\n",
            "Epoch 3/13\n",
            "469/469 [==============================] - 20s 43ms/step - loss: 0.0718 - accuracy: 0.9779\n",
            "Epoch 4/13\n",
            "469/469 [==============================] - 20s 43ms/step - loss: 0.0542 - accuracy: 0.9834\n",
            "Epoch 5/13\n",
            "469/469 [==============================] - 20s 43ms/step - loss: 0.0405 - accuracy: 0.9873\n",
            "Epoch 6/13\n",
            "469/469 [==============================] - 20s 43ms/step - loss: 0.0307 - accuracy: 0.9902\n",
            "Epoch 7/13\n",
            "469/469 [==============================] - 20s 43ms/step - loss: 0.0252 - accuracy: 0.9919\n",
            "Epoch 8/13\n",
            "469/469 [==============================] - 20s 43ms/step - loss: 0.0179 - accuracy: 0.9945\n",
            "Epoch 9/13\n",
            "469/469 [==============================] - 20s 43ms/step - loss: 0.0143 - accuracy: 0.9956\n",
            "Epoch 10/13\n",
            "469/469 [==============================] - 20s 43ms/step - loss: 0.0122 - accuracy: 0.9960\n",
            "Epoch 11/13\n",
            "469/469 [==============================] - 20s 43ms/step - loss: 0.0105 - accuracy: 0.9967\n",
            "Epoch 12/13\n",
            "469/469 [==============================] - 20s 43ms/step - loss: 0.0081 - accuracy: 0.9975\n",
            "Epoch 13/13\n",
            "469/469 [==============================] - 20s 43ms/step - loss: 0.0091 - accuracy: 0.9968\n",
            "313/313 [==============================] - 2s 6ms/step - loss: 0.0771 - accuracy: 0.9824\n"
          ],
          "name": "stdout"
        }
      ]
    },
    {
      "cell_type": "markdown",
      "metadata": {
        "id": "H3gBiIYAA9La"
      },
      "source": [
        "## Тест 3 (16 нейронов)"
      ]
    },
    {
      "cell_type": "code",
      "metadata": {
        "colab": {
          "base_uri": "https://localhost:8080/"
        },
        "id": "H7LqhH3WBB_F",
        "outputId": "fdca8496-8f0d-481c-dfbf-51583519eb93"
      },
      "source": [
        "modelThree = createModel(neuron=16)\n",
        "modelThree.fit(x, y, epochs=13, batch_size=128, verbose=1)\n",
        "accuracyThree = modelThree.evaluate(x_test, y_test, verbose=1)"
      ],
      "execution_count": null,
      "outputs": [
        {
          "output_type": "stream",
          "text": [
            "Model: \"sequential_2\"\n",
            "_________________________________________________________________\n",
            "Layer (type)                 Output Shape              Param #   \n",
            "=================================================================\n",
            "batch_normalization_2 (Batch (None, 28, 28, 1)         4         \n",
            "_________________________________________________________________\n",
            "conv2d_2 (Conv2D)            (None, 28, 28, 16)        160       \n",
            "_________________________________________________________________\n",
            "max_pooling2d_2 (MaxPooling2 (None, 14, 14, 16)        0         \n",
            "_________________________________________________________________\n",
            "flatten_2 (Flatten)          (None, 3136)              0         \n",
            "_________________________________________________________________\n",
            "dense_4 (Dense)              (None, 256)               803072    \n",
            "_________________________________________________________________\n",
            "dense_5 (Dense)              (None, 10)                2570      \n",
            "=================================================================\n",
            "Total params: 805,806\n",
            "Trainable params: 805,804\n",
            "Non-trainable params: 2\n",
            "_________________________________________________________________\n",
            "Epoch 1/13\n",
            "469/469 [==============================] - 30s 63ms/step - loss: 0.1894 - accuracy: 0.9442\n",
            "Epoch 2/13\n",
            "469/469 [==============================] - 29s 62ms/step - loss: 0.0625 - accuracy: 0.9808\n",
            "Epoch 3/13\n",
            "469/469 [==============================] - 29s 62ms/step - loss: 0.0406 - accuracy: 0.9876\n",
            "Epoch 4/13\n",
            "469/469 [==============================] - 29s 62ms/step - loss: 0.0261 - accuracy: 0.9921\n",
            "Epoch 5/13\n",
            "469/469 [==============================] - 29s 62ms/step - loss: 0.0207 - accuracy: 0.9933\n",
            "Epoch 6/13\n",
            "469/469 [==============================] - 29s 62ms/step - loss: 0.0146 - accuracy: 0.9952\n",
            "Epoch 7/13\n",
            "469/469 [==============================] - 29s 62ms/step - loss: 0.0102 - accuracy: 0.9966\n",
            "Epoch 8/13\n",
            "469/469 [==============================] - 29s 62ms/step - loss: 0.0103 - accuracy: 0.9967\n",
            "Epoch 9/13\n",
            "469/469 [==============================] - 29s 62ms/step - loss: 0.0073 - accuracy: 0.9977\n",
            "Epoch 10/13\n",
            "469/469 [==============================] - 29s 62ms/step - loss: 0.0060 - accuracy: 0.9979\n",
            "Epoch 11/13\n",
            "469/469 [==============================] - 29s 62ms/step - loss: 0.0067 - accuracy: 0.9976\n",
            "Epoch 12/13\n",
            "469/469 [==============================] - 29s 62ms/step - loss: 0.0051 - accuracy: 0.9983\n",
            "Epoch 13/13\n",
            "469/469 [==============================] - 29s 62ms/step - loss: 0.0040 - accuracy: 0.9987\n",
            "313/313 [==============================] - 3s 8ms/step - loss: 0.0609 - accuracy: 0.9853\n"
          ],
          "name": "stdout"
        }
      ]
    },
    {
      "cell_type": "markdown",
      "metadata": {
        "id": "Tw6rrGe_iaLW"
      },
      "source": [
        "# Задание 2 (Работа с activation и batch_size)"
      ]
    },
    {
      "cell_type": "markdown",
      "metadata": {
        "id": "d9ifC8upBIyF"
      },
      "source": [
        "# Тест 4 (batch_size=10)"
      ]
    },
    {
      "cell_type": "code",
      "metadata": {
        "colab": {
          "background_save": true,
          "base_uri": "https://localhost:8080/"
        },
        "id": "nD1cXnadBXVY",
        "outputId": "8b9b5b58-b153-4db4-8b64-829b267e9675"
      },
      "source": [
        "modelFour = testOne(x, y, n=50000, batch=10, activ='linear')\n",
        "accuracyFour = modelFour.evaluate(x_test, y_test, verbose=1)"
      ],
      "execution_count": null,
      "outputs": [
        {
          "output_type": "stream",
          "text": [
            "Model: \"sequential_3\"\n",
            "_________________________________________________________________\n",
            "Layer (type)                 Output Shape              Param #   \n",
            "=================================================================\n",
            "batch_normalization_3 (Batch (None, 28, 28, 1)         4         \n",
            "_________________________________________________________________\n",
            "conv2d_3 (Conv2D)            (None, 28, 28, 32)        320       \n",
            "_________________________________________________________________\n",
            "max_pooling2d_3 (MaxPooling2 (None, 14, 14, 32)        0         \n",
            "_________________________________________________________________\n",
            "flatten_3 (Flatten)          (None, 6272)              0         \n",
            "_________________________________________________________________\n",
            "dense_6 (Dense)              (None, 256)               1605888   \n",
            "_________________________________________________________________\n",
            "dense_7 (Dense)              (None, 10)                2570      \n",
            "=================================================================\n",
            "Total params: 1,608,782\n",
            "Trainable params: 1,608,780\n",
            "Non-trainable params: 2\n",
            "_________________________________________________________________\n",
            "Epoch 1/13\n",
            "5000/5000 [==============================] - 98s 20ms/step - loss: 0.2192 - accuracy: 0.9348 - val_loss: 0.1469 - val_accuracy: 0.9561\n",
            "Epoch 2/13\n",
            "5000/5000 [==============================] - 98s 20ms/step - loss: 0.1234 - accuracy: 0.9620 - val_loss: 0.1179 - val_accuracy: 0.9673\n",
            "Epoch 3/13\n",
            "5000/5000 [==============================] - 99s 20ms/step - loss: 0.0977 - accuracy: 0.9694 - val_loss: 0.1032 - val_accuracy: 0.9693\n",
            "Epoch 4/13\n",
            "5000/5000 [==============================] - 99s 20ms/step - loss: 0.0832 - accuracy: 0.9742 - val_loss: 0.1058 - val_accuracy: 0.9687\n",
            "Epoch 5/13\n",
            "5000/5000 [==============================] - 98s 20ms/step - loss: 0.0705 - accuracy: 0.9769 - val_loss: 0.1054 - val_accuracy: 0.9705\n",
            "Epoch 6/13\n",
            "5000/5000 [==============================] - 98s 20ms/step - loss: 0.0634 - accuracy: 0.9791 - val_loss: 0.0977 - val_accuracy: 0.9735\n",
            "Epoch 7/13\n",
            "5000/5000 [==============================] - 98s 20ms/step - loss: 0.0556 - accuracy: 0.9810 - val_loss: 0.1241 - val_accuracy: 0.9695\n",
            "Epoch 8/13\n",
            "5000/5000 [==============================] - 97s 19ms/step - loss: 0.0512 - accuracy: 0.9830 - val_loss: 0.0926 - val_accuracy: 0.9744\n",
            "Epoch 9/13\n",
            "5000/5000 [==============================] - 98s 20ms/step - loss: 0.0468 - accuracy: 0.9846 - val_loss: 0.1187 - val_accuracy: 0.9713\n",
            "Epoch 10/13\n",
            "5000/5000 [==============================] - 97s 19ms/step - loss: 0.0425 - accuracy: 0.9856 - val_loss: 0.1006 - val_accuracy: 0.9743\n",
            "Epoch 11/13\n",
            "5000/5000 [==============================] - 96s 19ms/step - loss: 0.0389 - accuracy: 0.9872 - val_loss: 0.1391 - val_accuracy: 0.9687\n",
            "Epoch 12/13\n",
            "5000/5000 [==============================] - 96s 19ms/step - loss: 0.0364 - accuracy: 0.9875 - val_loss: 0.1435 - val_accuracy: 0.9661\n",
            "Epoch 13/13\n",
            "5000/5000 [==============================] - 96s 19ms/step - loss: 0.0360 - accuracy: 0.9882 - val_loss: 0.1133 - val_accuracy: 0.9750\n",
            "313/313 [==============================] - 3s 9ms/step - loss: 0.1098 - accuracy: 0.9748\n"
          ],
          "name": "stdout"
        }
      ]
    },
    {
      "cell_type": "markdown",
      "metadata": {
        "id": "iSnVaLkRBXy8"
      },
      "source": [
        "# Тест 5 (batch_size=100)"
      ]
    },
    {
      "cell_type": "code",
      "metadata": {
        "colab": {
          "background_save": true
        },
        "id": "QFd8cDkQBbka",
        "outputId": "e0882565-d52e-4ae2-9a43-6b055306c092"
      },
      "source": [
        "modelFive = testOne(x, y, n=50000, batch=100, activ='linear')\n",
        "accuracyFive = modelFive.evaluate(x_test, y_test, verbose=1)"
      ],
      "execution_count": null,
      "outputs": [
        {
          "output_type": "stream",
          "text": [
            "Model: \"sequential_4\"\n",
            "_________________________________________________________________\n",
            "Layer (type)                 Output Shape              Param #   \n",
            "=================================================================\n",
            "batch_normalization_4 (Batch (None, 28, 28, 1)         4         \n",
            "_________________________________________________________________\n",
            "conv2d_4 (Conv2D)            (None, 28, 28, 32)        320       \n",
            "_________________________________________________________________\n",
            "max_pooling2d_4 (MaxPooling2 (None, 14, 14, 32)        0         \n",
            "_________________________________________________________________\n",
            "flatten_4 (Flatten)          (None, 6272)              0         \n",
            "_________________________________________________________________\n",
            "dense_8 (Dense)              (None, 256)               1605888   \n",
            "_________________________________________________________________\n",
            "dense_9 (Dense)              (None, 10)                2570      \n",
            "=================================================================\n",
            "Total params: 1,608,782\n",
            "Trainable params: 1,608,780\n",
            "Non-trainable params: 2\n",
            "_________________________________________________________________\n",
            "Epoch 1/13\n",
            "500/500 [==============================] - 36s 71ms/step - loss: 0.2508 - accuracy: 0.9299 - val_loss: 0.1153 - val_accuracy: 0.9667\n",
            "Epoch 2/13\n",
            "500/500 [==============================] - 35s 70ms/step - loss: 0.0963 - accuracy: 0.9696 - val_loss: 0.0970 - val_accuracy: 0.9740\n",
            "Epoch 3/13\n",
            "500/500 [==============================] - 35s 70ms/step - loss: 0.0753 - accuracy: 0.9758 - val_loss: 0.0912 - val_accuracy: 0.9748\n",
            "Epoch 4/13\n",
            "500/500 [==============================] - 35s 70ms/step - loss: 0.0621 - accuracy: 0.9803 - val_loss: 0.0986 - val_accuracy: 0.9735\n",
            "Epoch 5/13\n",
            "500/500 [==============================] - 35s 70ms/step - loss: 0.0552 - accuracy: 0.9819 - val_loss: 0.0938 - val_accuracy: 0.9746\n",
            "Epoch 6/13\n",
            "500/500 [==============================] - 35s 70ms/step - loss: 0.0496 - accuracy: 0.9842 - val_loss: 0.1021 - val_accuracy: 0.9745\n",
            "Epoch 7/13\n",
            "500/500 [==============================] - 35s 70ms/step - loss: 0.0473 - accuracy: 0.9841 - val_loss: 0.1274 - val_accuracy: 0.9668\n",
            "Epoch 8/13\n",
            "500/500 [==============================] - 35s 70ms/step - loss: 0.0390 - accuracy: 0.9867 - val_loss: 0.1132 - val_accuracy: 0.9733\n",
            "Epoch 9/13\n",
            "500/500 [==============================] - 35s 70ms/step - loss: 0.0384 - accuracy: 0.9872 - val_loss: 0.1212 - val_accuracy: 0.9720\n",
            "Epoch 10/13\n",
            "500/500 [==============================] - 35s 70ms/step - loss: 0.0356 - accuracy: 0.9882 - val_loss: 0.1192 - val_accuracy: 0.9735\n",
            "Epoch 11/13\n",
            "500/500 [==============================] - 35s 70ms/step - loss: 0.0342 - accuracy: 0.9888 - val_loss: 0.1170 - val_accuracy: 0.9739\n",
            "Epoch 12/13\n",
            "500/500 [==============================] - 35s 70ms/step - loss: 0.0311 - accuracy: 0.9893 - val_loss: 0.1383 - val_accuracy: 0.9709\n",
            "Epoch 13/13\n",
            "500/500 [==============================] - 35s 70ms/step - loss: 0.0275 - accuracy: 0.9904 - val_loss: 0.1227 - val_accuracy: 0.9737\n",
            "313/313 [==============================] - 3s 9ms/step - loss: 0.1267 - accuracy: 0.9716\n"
          ],
          "name": "stdout"
        }
      ]
    },
    {
      "cell_type": "markdown",
      "metadata": {
        "id": "97obvDhNBb1h"
      },
      "source": [
        "# Тест 6 (batch_size=50000)"
      ]
    },
    {
      "cell_type": "code",
      "metadata": {
        "colab": {
          "background_save": true
        },
        "id": "VZg9mGtjBgZz",
        "outputId": "b00b09f2-f2eb-41ed-a4e0-41560a5ce44f"
      },
      "source": [
        "modelSix = testOne(x, y, n=50000, batch=50000, activ='linear')\n",
        "accuracySix = modelSix.evaluate(x_test, y_test, verbose=1)"
      ],
      "execution_count": null,
      "outputs": [
        {
          "output_type": "stream",
          "text": [
            "Model: \"sequential_5\"\n",
            "_________________________________________________________________\n",
            "Layer (type)                 Output Shape              Param #   \n",
            "=================================================================\n",
            "batch_normalization_5 (Batch (None, 28, 28, 1)         4         \n",
            "_________________________________________________________________\n",
            "conv2d_5 (Conv2D)            (None, 28, 28, 32)        320       \n",
            "_________________________________________________________________\n",
            "max_pooling2d_5 (MaxPooling2 (None, 14, 14, 32)        0         \n",
            "_________________________________________________________________\n",
            "flatten_5 (Flatten)          (None, 6272)              0         \n",
            "_________________________________________________________________\n",
            "dense_10 (Dense)             (None, 256)               1605888   \n",
            "_________________________________________________________________\n",
            "dense_11 (Dense)             (None, 10)                2570      \n",
            "=================================================================\n",
            "Total params: 1,608,782\n",
            "Trainable params: 1,608,780\n",
            "Non-trainable params: 2\n",
            "_________________________________________________________________\n",
            "Epoch 1/13\n",
            "1/1 [==============================] - 32s 32s/step - loss: 2.4476 - accuracy: 0.0683 - val_loss: 6.1291 - val_accuracy: 0.4911\n",
            "Epoch 2/13\n",
            "1/1 [==============================] - 30s 30s/step - loss: 2.2631 - accuracy: 0.3314 - val_loss: 4.4656 - val_accuracy: 0.5925\n",
            "Epoch 3/13\n",
            "1/1 [==============================] - 28s 28s/step - loss: 1.5107 - accuracy: 0.5922 - val_loss: 3.1858 - val_accuracy: 0.6694\n",
            "Epoch 4/13\n",
            "1/1 [==============================] - 28s 28s/step - loss: 1.1084 - accuracy: 0.6722 - val_loss: 3.4846 - val_accuracy: 0.6666\n",
            "Epoch 5/13\n",
            "1/1 [==============================] - 27s 27s/step - loss: 1.2560 - accuracy: 0.6334 - val_loss: 2.1891 - val_accuracy: 0.7432\n",
            "Epoch 6/13\n",
            "1/1 [==============================] - 27s 27s/step - loss: 0.9334 - accuracy: 0.6965 - val_loss: 1.2951 - val_accuracy: 0.8312\n",
            "Epoch 7/13\n",
            "1/1 [==============================] - 27s 27s/step - loss: 0.5877 - accuracy: 0.8160 - val_loss: 1.1929 - val_accuracy: 0.8331\n",
            "Epoch 8/13\n",
            "1/1 [==============================] - 27s 27s/step - loss: 0.4982 - accuracy: 0.8395 - val_loss: 1.3278 - val_accuracy: 0.8124\n",
            "Epoch 9/13\n",
            "1/1 [==============================] - 27s 27s/step - loss: 0.5076 - accuracy: 0.8346 - val_loss: 1.4394 - val_accuracy: 0.7976\n",
            "Epoch 10/13\n",
            "1/1 [==============================] - 27s 27s/step - loss: 0.5336 - accuracy: 0.8296 - val_loss: 1.4311 - val_accuracy: 0.7932\n",
            "Epoch 11/13\n",
            "1/1 [==============================] - 27s 27s/step - loss: 0.5483 - accuracy: 0.8305 - val_loss: 1.3180 - val_accuracy: 0.8063\n",
            "Epoch 12/13\n",
            "1/1 [==============================] - 27s 27s/step - loss: 0.5366 - accuracy: 0.8375 - val_loss: 1.1665 - val_accuracy: 0.8223\n",
            "Epoch 13/13\n",
            "1/1 [==============================] - 27s 27s/step - loss: 0.5009 - accuracy: 0.8512 - val_loss: 1.0336 - val_accuracy: 0.8375\n",
            "313/313 [==============================] - 3s 8ms/step - loss: 1.2286 - accuracy: 0.8164\n"
          ],
          "name": "stdout"
        }
      ]
    },
    {
      "cell_type": "markdown",
      "metadata": {
        "id": "i3m7jhcglSeN"
      },
      "source": [
        "# Вывод таблицы точности"
      ]
    },
    {
      "cell_type": "code",
      "metadata": {
        "colab": {
          "background_save": true
        },
        "id": "HG-ypwXXlRLT",
        "outputId": "9771b0b2-f833-4bc7-ea39-a22c4759acc9"
      },
      "source": [
        "data = [accuracyOne[1], accuracyTwo[1], accuracyThree[1],\n",
        "        accuracyFour[1], accuracyFive[1], accuracySix[1]]\n",
        "ind = ['2 нейрона', '4 нейрона', '16 нейронов',\n",
        "       'batch_size=10', 'batch_size=100', 'batch_size=50000']\n",
        "\n",
        "accuracyTable = pd.DataFrame({\n",
        "    \"Точность модели\": data\n",
        "}, index=ind)\n",
        "accuracyTable.index.name = \"Название эксперимента\"\n",
        "print(accuracyTable)"
      ],
      "execution_count": null,
      "outputs": [
        {
          "output_type": "stream",
          "text": [
            "                       Точность модели\n",
            "Название эксперимента                 \n",
            "2 нейрона                       0.9800\n",
            "4 нейрона                       0.9824\n",
            "16 нейронов                     0.9853\n",
            "batch_size=10                   0.9748\n",
            "batch_size=100                  0.9716\n",
            "batch_size=50000                0.8164\n"
          ],
          "name": "stdout"
        }
      ]
    },
    {
      "cell_type": "markdown",
      "metadata": {
        "id": "7yylWxq_WZJj"
      },
      "source": [
        "# ВЫВОД"
      ]
    },
    {
      "cell_type": "markdown",
      "metadata": {
        "id": "D2mq21mPWahm"
      },
      "source": [
        "Во время проведения экспериментов над моделью били замечены следующие закономерности:\n",
        "\n",
        "При увеличении количества нейронов на скрытом слое, качество модели почти не увеличилось, однако количество времени требуемое на обучение модели поднималось.\n",
        "При увеличении гиперпараметра batch_size, количество времени на обучение падало вместе с качеством модели, однако разница модели по качеству между значениями 10 и 100 было незначительным, в то время, как время обучения сильно отличалось."
      ]
    }
  ]
}