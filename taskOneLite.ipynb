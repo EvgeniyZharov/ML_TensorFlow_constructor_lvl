{
  "nbformat": 4,
  "nbformat_minor": 0,
  "metadata": {
    "colab": {
      "provenance": []
    },
    "kernelspec": {
      "display_name": "Python 3",
      "name": "python3"
    },
    "language_info": {
      "name": "python"
    }
  },
  "cells": [
    {
      "cell_type": "markdown",
      "source": [
        "Предсказание рукописных чисел из базы mnist\n",
        "\n",
        "Использование разных архитектур для создания модели"
      ],
      "metadata": {
        "id": "C04XTcjbG-3t"
      }
    },
    {
      "cell_type": "markdown",
      "metadata": {
        "id": "W-Dj6c_3lAU6"
      },
      "source": [
        "# Импорт библиотек"
      ]
    },
    {
      "cell_type": "code",
      "metadata": {
        "id": "XMxoboXpY5Xi"
      },
      "source": [
        "from tensorflow.keras.datasets import mnist\n",
        "from tensorflow.keras.models import Sequential\n",
        "from tensorflow.keras.layers import Dense \n",
        "from tensorflow.keras.optimizers import Adam \n",
        "from tensorflow.keras import utils \n",
        "from tensorflow.keras.preprocessing import image \n",
        "import numpy as np \n",
        "import pylab\n",
        "import matplotlib.pyplot as plt\n",
        "from PIL import Image\n",
        "import pandas as pd\n",
        "\n",
        "%matplotlib inline "
      ],
      "execution_count": null,
      "outputs": []
    },
    {
      "cell_type": "markdown",
      "metadata": {
        "id": "l81hkO9SlQwU"
      },
      "source": [
        "# Загрузка базы mnist"
      ]
    },
    {
      "cell_type": "code",
      "metadata": {
        "colab": {
          "base_uri": "https://localhost:8080/"
        },
        "id": "HG0AofOolYCD",
        "outputId": "78725c67-4706-4760-94cc-502152ef54b1"
      },
      "source": [
        "(x_train_org, y_train_org), (x_test_org, y_test_org) = mnist.load_data()"
      ],
      "execution_count": null,
      "outputs": [
        {
          "output_type": "stream",
          "text": [
            "Downloading data from https://storage.googleapis.com/tensorflow/tf-keras-datasets/mnist.npz\n",
            "11493376/11490434 [==============================] - 0s 0us/step\n"
          ],
          "name": "stdout"
        }
      ]
    },
    {
      "cell_type": "markdown",
      "metadata": {
        "id": "D8OnEvc6lfM9"
      },
      "source": [
        "# Нормирование и преобразование x_train и y_train"
      ]
    },
    {
      "cell_type": "code",
      "metadata": {
        "id": "tzpEn6-bbbIF"
      },
      "source": [
        "\n",
        "\n",
        "x_train = x_train_org.reshape(60000, 784)\n",
        "x_test = x_test_org.reshape(10000, 784)\n",
        "\n",
        "x_train = x_train.astype('float32') \n",
        "x_train = x_train / 255 \n",
        "x_test = x_test.astype('float32') \n",
        "x_test = x_test / 255 \n",
        "\n",
        "y_train = utils.to_categorical(y_train_org, 10)\n",
        "y_test = utils.to_categorical(y_test_org, 10)\n"
      ],
      "execution_count": null,
      "outputs": []
    },
    {
      "cell_type": "markdown",
      "metadata": {
        "id": "X2jsBf15lwW4"
      },
      "source": [
        "# Експеримент с нейронной сетью 1 (10 нейронов на первый слой)"
      ]
    },
    {
      "cell_type": "code",
      "metadata": {
        "colab": {
          "base_uri": "https://localhost:8080/"
        },
        "id": "6KofLH8VcjU0",
        "outputId": "1dcf6f2e-9774-4af7-f1a4-d097fbd65246"
      },
      "source": [
        "modelOne = Sequential()\n",
        "modelOne.add(Dense(10, input_dim=784, activation=\"relu\"))\n",
        "modelOne.add(Dense(400, activation=\"relu\"))\n",
        "modelOne.add(Dense(10, activation=\"softmax\"))\n",
        "modelOne.compile(loss=\"categorical_crossentropy\", optimizer=\"adam\", metrics=[\"accuracy\"])\n",
        "print(modelOne.summary())\n",
        "\n",
        "modelOne.fit(x_train, y_train, batch_size=128, epochs=15, verbose=1)"
      ],
      "execution_count": null,
      "outputs": [
        {
          "output_type": "stream",
          "text": [
            "Model: \"sequential\"\n",
            "_________________________________________________________________\n",
            "Layer (type)                 Output Shape              Param #   \n",
            "=================================================================\n",
            "dense (Dense)                (None, 10)                7850      \n",
            "_________________________________________________________________\n",
            "dense_1 (Dense)              (None, 400)               4400      \n",
            "_________________________________________________________________\n",
            "dense_2 (Dense)              (None, 10)                4010      \n",
            "=================================================================\n",
            "Total params: 16,260\n",
            "Trainable params: 16,260\n",
            "Non-trainable params: 0\n",
            "_________________________________________________________________\n",
            "None\n",
            "Epoch 1/15\n",
            "469/469 [==============================] - 2s 3ms/step - loss: 0.5135 - accuracy: 0.8474\n",
            "Epoch 2/15\n",
            "469/469 [==============================] - 2s 3ms/step - loss: 0.2450 - accuracy: 0.9278\n",
            "Epoch 3/15\n",
            "469/469 [==============================] - 1s 3ms/step - loss: 0.2030 - accuracy: 0.9405\n",
            "Epoch 4/15\n",
            "469/469 [==============================] - 2s 3ms/step - loss: 0.1791 - accuracy: 0.9472\n",
            "Epoch 5/15\n",
            "469/469 [==============================] - 1s 3ms/step - loss: 0.1619 - accuracy: 0.9520\n",
            "Epoch 6/15\n",
            "469/469 [==============================] - 1s 3ms/step - loss: 0.1494 - accuracy: 0.9551\n",
            "Epoch 7/15\n",
            "469/469 [==============================] - 2s 3ms/step - loss: 0.1428 - accuracy: 0.9571\n",
            "Epoch 8/15\n",
            "469/469 [==============================] - 1s 3ms/step - loss: 0.1348 - accuracy: 0.9587\n",
            "Epoch 9/15\n",
            "469/469 [==============================] - 2s 3ms/step - loss: 0.1279 - accuracy: 0.9602\n",
            "Epoch 10/15\n",
            "469/469 [==============================] - 1s 3ms/step - loss: 0.1220 - accuracy: 0.9632\n",
            "Epoch 11/15\n",
            "469/469 [==============================] - 1s 3ms/step - loss: 0.1183 - accuracy: 0.9635\n",
            "Epoch 12/15\n",
            "469/469 [==============================] - 2s 3ms/step - loss: 0.1132 - accuracy: 0.9651\n",
            "Epoch 13/15\n",
            "469/469 [==============================] - 1s 3ms/step - loss: 0.1097 - accuracy: 0.9662\n",
            "Epoch 14/15\n",
            "469/469 [==============================] - 2s 3ms/step - loss: 0.1061 - accuracy: 0.9672\n",
            "Epoch 15/15\n",
            "469/469 [==============================] - 1s 3ms/step - loss: 0.1023 - accuracy: 0.9690\n"
          ],
          "name": "stdout"
        },
        {
          "output_type": "stream",
          "text": [
            "Exception ignored in: <function IteratorResourceDeleter.__del__ at 0x7f921f1ef5f0>\n",
            "Traceback (most recent call last):\n",
            "  File \"/usr/local/lib/python3.7/dist-packages/tensorflow/python/data/ops/iterator_ops.py\", line 546, in __del__\n",
            "    handle=self._handle, deleter=self._deleter)\n",
            "  File \"/usr/local/lib/python3.7/dist-packages/tensorflow/python/ops/gen_dataset_ops.py\", line 1264, in delete_iterator\n",
            "    _ctx, \"DeleteIterator\", name, handle, deleter)\n",
            "KeyboardInterrupt: \n"
          ],
          "name": "stderr"
        },
        {
          "output_type": "execute_result",
          "data": {
            "text/plain": [
              "<tensorflow.python.keras.callbacks.History at 0x7f9214c82c90>"
            ]
          },
          "metadata": {
            "tags": []
          },
          "execution_count": 4
        }
      ]
    },
    {
      "cell_type": "code",
      "metadata": {
        "colab": {
          "base_uri": "https://localhost:8080/"
        },
        "id": "yKO25hvh1eE0",
        "outputId": "0592d26b-ce8c-41a7-f1d4-c3976eafed4a"
      },
      "source": [
        "print(modelOne.train_on_batch(x_test, y_test)[1])"
      ],
      "execution_count": null,
      "outputs": [
        {
          "output_type": "stream",
          "text": [
            "0.9674714207649231\n"
          ],
          "name": "stdout"
        }
      ]
    },
    {
      "cell_type": "code",
      "metadata": {
        "id": "D8jrZ6lK4Yj3"
      },
      "source": [
        "# точность модели\n",
        "accuracyOne = modelOne.train_on_batch(x_test, y_test)[1]"
      ],
      "execution_count": null,
      "outputs": []
    },
    {
      "cell_type": "markdown",
      "metadata": {
        "id": "cMs1K8kGANd8"
      },
      "source": [
        "# Эксперимент с нейронной сетью 2 (100 нейронов на первый слой)\n",
        "\n"
      ]
    },
    {
      "cell_type": "code",
      "metadata": {
        "colab": {
          "base_uri": "https://localhost:8080/"
        },
        "id": "DRiEMPvuAY98",
        "outputId": "96950d22-f2af-4dcc-a701-d7b3fde3ba72"
      },
      "source": [
        "modelTwo = Sequential()\n",
        "modelTwo.add(Dense(100, input_dim=784, activation=\"relu\"))\n",
        "modelTwo.add(Dense(400, activation=\"relu\"))\n",
        "modelTwo.add(Dense(10, activation=\"softmax\"))\n",
        "modelTwo.compile(loss=\"categorical_crossentropy\", optimizer=\"adam\", metrics=[\"accuracy\"])\n",
        "print(modelTwo.summary())\n",
        "\n",
        "modelTwo.fit(x_train, y_train, batch_size=128, epochs=15, verbose=1)"
      ],
      "execution_count": null,
      "outputs": [
        {
          "output_type": "stream",
          "text": [
            "Model: \"sequential_1\"\n",
            "_________________________________________________________________\n",
            "Layer (type)                 Output Shape              Param #   \n",
            "=================================================================\n",
            "dense_3 (Dense)              (None, 100)               78500     \n",
            "_________________________________________________________________\n",
            "dense_4 (Dense)              (None, 400)               40400     \n",
            "_________________________________________________________________\n",
            "dense_5 (Dense)              (None, 10)                4010      \n",
            "=================================================================\n",
            "Total params: 122,910\n",
            "Trainable params: 122,910\n",
            "Non-trainable params: 0\n",
            "_________________________________________________________________\n",
            "None\n",
            "Epoch 1/15\n",
            "469/469 [==============================] - 3s 6ms/step - loss: 0.3108 - accuracy: 0.9131\n",
            "Epoch 2/15\n",
            "469/469 [==============================] - 2s 5ms/step - loss: 0.1209 - accuracy: 0.9634\n",
            "Epoch 3/15\n",
            "469/469 [==============================] - 2s 5ms/step - loss: 0.0862 - accuracy: 0.9736\n",
            "Epoch 4/15\n",
            "469/469 [==============================] - 2s 5ms/step - loss: 0.0625 - accuracy: 0.9800\n",
            "Epoch 5/15\n",
            "469/469 [==============================] - 2s 5ms/step - loss: 0.0482 - accuracy: 0.9854\n",
            "Epoch 6/15\n",
            "469/469 [==============================] - 2s 5ms/step - loss: 0.0390 - accuracy: 0.9877\n",
            "Epoch 7/15\n",
            "469/469 [==============================] - 2s 5ms/step - loss: 0.0326 - accuracy: 0.9893\n",
            "Epoch 8/15\n",
            "469/469 [==============================] - 2s 5ms/step - loss: 0.0290 - accuracy: 0.9904\n",
            "Epoch 9/15\n",
            "469/469 [==============================] - 2s 5ms/step - loss: 0.0223 - accuracy: 0.9930\n",
            "Epoch 10/15\n",
            "469/469 [==============================] - 2s 5ms/step - loss: 0.0195 - accuracy: 0.9936\n",
            "Epoch 11/15\n",
            "469/469 [==============================] - 2s 5ms/step - loss: 0.0173 - accuracy: 0.9942\n",
            "Epoch 12/15\n",
            "469/469 [==============================] - 2s 5ms/step - loss: 0.0120 - accuracy: 0.9962\n",
            "Epoch 13/15\n",
            "469/469 [==============================] - 2s 5ms/step - loss: 0.0175 - accuracy: 0.9939\n",
            "Epoch 14/15\n",
            "469/469 [==============================] - 2s 5ms/step - loss: 0.0130 - accuracy: 0.9954\n",
            "Epoch 15/15\n",
            "469/469 [==============================] - 2s 5ms/step - loss: 0.0082 - accuracy: 0.9973\n"
          ],
          "name": "stdout"
        },
        {
          "output_type": "execute_result",
          "data": {
            "text/plain": [
              "<tensorflow.python.keras.callbacks.History at 0x7f92074c7450>"
            ]
          },
          "metadata": {
            "tags": []
          },
          "execution_count": 7
        }
      ]
    },
    {
      "cell_type": "code",
      "metadata": {
        "id": "F3iqVagF8foo"
      },
      "source": [
        "# точность модели\n",
        "accuracyTwo = modelTwo.train_on_batch(x_test, y_test)[1]"
      ],
      "execution_count": null,
      "outputs": []
    },
    {
      "cell_type": "markdown",
      "metadata": {
        "id": "HgN-5zmpAbwc"
      },
      "source": [
        "# Эксперимент с нейронной сетью 3 (5000 нейронов на первый слой)"
      ]
    },
    {
      "cell_type": "code",
      "metadata": {
        "colab": {
          "base_uri": "https://localhost:8080/"
        },
        "id": "qozO0A6VAlAq",
        "outputId": "96c0ea4b-5864-42cf-dbf6-dd6aa9a51b5a"
      },
      "source": [
        "modelThree = Sequential()\n",
        "modelThree.add(Dense(5000, input_dim=784, activation=\"relu\"))\n",
        "modelThree.add(Dense(400, activation=\"relu\"))\n",
        "modelThree.add(Dense(10, activation=\"softmax\"))\n",
        "modelThree.compile(loss=\"categorical_crossentropy\", optimizer=\"adam\", metrics=[\"accuracy\"])\n",
        "print(modelThree.summary())\n",
        "\n",
        "modelThree.fit(x_train, y_train, batch_size=128, epochs=15, verbose=1)"
      ],
      "execution_count": null,
      "outputs": [
        {
          "output_type": "stream",
          "text": [
            "Model: \"sequential_2\"\n",
            "_________________________________________________________________\n",
            "Layer (type)                 Output Shape              Param #   \n",
            "=================================================================\n",
            "dense_6 (Dense)              (None, 5000)              3925000   \n",
            "_________________________________________________________________\n",
            "dense_7 (Dense)              (None, 400)               2000400   \n",
            "_________________________________________________________________\n",
            "dense_8 (Dense)              (None, 10)                4010      \n",
            "=================================================================\n",
            "Total params: 5,929,410\n",
            "Trainable params: 5,929,410\n",
            "Non-trainable params: 0\n",
            "_________________________________________________________________\n",
            "None\n",
            "Epoch 1/15\n",
            "469/469 [==============================] - 46s 96ms/step - loss: 0.1800 - accuracy: 0.9445\n",
            "Epoch 2/15\n",
            "469/469 [==============================] - 45s 96ms/step - loss: 0.0730 - accuracy: 0.9769\n",
            "Epoch 3/15\n",
            "469/469 [==============================] - 45s 96ms/step - loss: 0.0469 - accuracy: 0.9850\n",
            "Epoch 4/15\n",
            "469/469 [==============================] - 44s 94ms/step - loss: 0.0360 - accuracy: 0.9882\n",
            "Epoch 5/15\n",
            "469/469 [==============================] - 45s 96ms/step - loss: 0.0266 - accuracy: 0.9915\n",
            "Epoch 6/15\n",
            "469/469 [==============================] - 43s 93ms/step - loss: 0.0231 - accuracy: 0.9923\n",
            "Epoch 7/15\n",
            "469/469 [==============================] - 44s 93ms/step - loss: 0.0188 - accuracy: 0.9937\n",
            "Epoch 8/15\n",
            "469/469 [==============================] - 44s 94ms/step - loss: 0.0130 - accuracy: 0.9959\n",
            "Epoch 9/15\n",
            "469/469 [==============================] - 45s 95ms/step - loss: 0.0204 - accuracy: 0.9934\n",
            "Epoch 10/15\n",
            "469/469 [==============================] - 45s 95ms/step - loss: 0.0122 - accuracy: 0.9960\n",
            "Epoch 11/15\n",
            "469/469 [==============================] - 46s 98ms/step - loss: 0.0130 - accuracy: 0.9960\n",
            "Epoch 12/15\n",
            "469/469 [==============================] - 45s 96ms/step - loss: 0.0144 - accuracy: 0.9954\n",
            "Epoch 13/15\n",
            "469/469 [==============================] - 45s 96ms/step - loss: 0.0087 - accuracy: 0.9975\n",
            "Epoch 14/15\n",
            "469/469 [==============================] - 45s 95ms/step - loss: 0.0110 - accuracy: 0.9968\n",
            "Epoch 15/15\n",
            "469/469 [==============================] - 44s 95ms/step - loss: 0.0138 - accuracy: 0.9957\n"
          ],
          "name": "stdout"
        },
        {
          "output_type": "execute_result",
          "data": {
            "text/plain": [
              "<tensorflow.python.keras.callbacks.History at 0x7f92073b9dd0>"
            ]
          },
          "metadata": {
            "tags": []
          },
          "execution_count": 9
        }
      ]
    },
    {
      "cell_type": "code",
      "metadata": {
        "id": "-8PxZyzS82IQ"
      },
      "source": [
        "# точность модели\n",
        "accuracyThree = modelThree.train_on_batch(x_test, y_test)[1]"
      ],
      "execution_count": null,
      "outputs": []
    },
    {
      "cell_type": "markdown",
      "metadata": {
        "id": "EUVVAAOWAobN"
      },
      "source": [
        "# Эксперимент с нейронной сетью 4 (активационная функция во всех скрытых слоях linear)"
      ]
    },
    {
      "cell_type": "code",
      "metadata": {
        "colab": {
          "base_uri": "https://localhost:8080/"
        },
        "id": "2eWS0rmAA2K2",
        "outputId": "068753e5-cae3-4953-facf-68ec312b6407"
      },
      "source": [
        "modelFour = Sequential()\n",
        "modelFour.add(Dense(800, input_dim=784, activation=\"linear\"))\n",
        "modelFour.add(Dense(400, activation=\"linear\"))\n",
        "modelFour.add(Dense(10, activation=\"softmax\"))\n",
        "modelFour.compile(loss=\"categorical_crossentropy\", optimizer=\"adam\", metrics=[\"accuracy\"])\n",
        "print(modelFour.summary())\n",
        "\n",
        "modelFour.fit(x_train, y_train, batch_size=128, epochs=15, verbose=1)"
      ],
      "execution_count": null,
      "outputs": [
        {
          "output_type": "stream",
          "text": [
            "Model: \"sequential_3\"\n",
            "_________________________________________________________________\n",
            "Layer (type)                 Output Shape              Param #   \n",
            "=================================================================\n",
            "dense_9 (Dense)              (None, 800)               628000    \n",
            "_________________________________________________________________\n",
            "dense_10 (Dense)             (None, 400)               320400    \n",
            "_________________________________________________________________\n",
            "dense_11 (Dense)             (None, 10)                4010      \n",
            "=================================================================\n",
            "Total params: 952,410\n",
            "Trainable params: 952,410\n",
            "Non-trainable params: 0\n",
            "_________________________________________________________________\n",
            "None\n",
            "Epoch 1/15\n",
            "469/469 [==============================] - 9s 18ms/step - loss: 0.3917 - accuracy: 0.8870\n",
            "Epoch 2/15\n",
            "469/469 [==============================] - 8s 18ms/step - loss: 0.3297 - accuracy: 0.9079\n",
            "Epoch 3/15\n",
            "469/469 [==============================] - 8s 18ms/step - loss: 0.3098 - accuracy: 0.9130\n",
            "Epoch 4/15\n",
            "469/469 [==============================] - 8s 18ms/step - loss: 0.3015 - accuracy: 0.9144\n",
            "Epoch 5/15\n",
            "469/469 [==============================] - 8s 17ms/step - loss: 0.2958 - accuracy: 0.9165\n",
            "Epoch 6/15\n",
            "469/469 [==============================] - 8s 18ms/step - loss: 0.2908 - accuracy: 0.9176\n",
            "Epoch 7/15\n",
            "469/469 [==============================] - 8s 18ms/step - loss: 0.2846 - accuracy: 0.9193\n",
            "Epoch 8/15\n",
            "469/469 [==============================] - 8s 18ms/step - loss: 0.2851 - accuracy: 0.9194\n",
            "Epoch 9/15\n",
            "469/469 [==============================] - 8s 18ms/step - loss: 0.2826 - accuracy: 0.9205\n",
            "Epoch 10/15\n",
            "469/469 [==============================] - 8s 18ms/step - loss: 0.2777 - accuracy: 0.9212\n",
            "Epoch 11/15\n",
            "469/469 [==============================] - 9s 19ms/step - loss: 0.2744 - accuracy: 0.9225\n",
            "Epoch 12/15\n",
            "469/469 [==============================] - 9s 18ms/step - loss: 0.2717 - accuracy: 0.9239\n",
            "Epoch 13/15\n",
            "469/469 [==============================] - 9s 18ms/step - loss: 0.2704 - accuracy: 0.9233\n",
            "Epoch 14/15\n",
            "469/469 [==============================] - 8s 18ms/step - loss: 0.2696 - accuracy: 0.9235\n",
            "Epoch 15/15\n",
            "469/469 [==============================] - 9s 18ms/step - loss: 0.2669 - accuracy: 0.9254\n"
          ],
          "name": "stdout"
        },
        {
          "output_type": "execute_result",
          "data": {
            "text/plain": [
              "<tensorflow.python.keras.callbacks.History at 0x7f9205178c90>"
            ]
          },
          "metadata": {
            "tags": []
          },
          "execution_count": 11
        }
      ]
    },
    {
      "cell_type": "code",
      "metadata": {
        "id": "ZpPA_Mwt8jmX"
      },
      "source": [
        "# точность модели\n",
        "accuracyFour = modelFour.train_on_batch(x_test, y_test)[1]"
      ],
      "execution_count": null,
      "outputs": []
    },
    {
      "cell_type": "markdown",
      "metadata": {
        "id": "RmoigZXcA_ou"
      },
      "source": [
        "# Эксперимент с нейронной сетью 5 (batch_size = 1)"
      ]
    },
    {
      "cell_type": "code",
      "metadata": {
        "colab": {
          "background_save": true,
          "base_uri": "https://localhost:8080/"
        },
        "id": "TwxW5xR5BC7O",
        "outputId": "26f01b77-e209-4367-eae8-79c9fddeb663"
      },
      "source": [
        "modelFive = Sequential()\n",
        "modelFive.add(Dense(800, input_dim=784, activation=\"relu\"))\n",
        "modelFive.add(Dense(400, activation=\"relu\"))\n",
        "modelFive.add(Dense(10, activation=\"softmax\"))\n",
        "modelFive.compile(loss=\"categorical_crossentropy\", optimizer=\"adam\", metrics=[\"accuracy\"])\n",
        "print(modelFive.summary())\n",
        "\n",
        "modelFive.fit(x_train, y_train, batch_size=1, epochs=15, verbose=1)"
      ],
      "execution_count": null,
      "outputs": [
        {
          "output_type": "stream",
          "text": [
            "Model: \"sequential_4\"\n",
            "_________________________________________________________________\n",
            "Layer (type)                 Output Shape              Param #   \n",
            "=================================================================\n",
            "dense_12 (Dense)             (None, 800)               628000    \n",
            "_________________________________________________________________\n",
            "dense_13 (Dense)             (None, 400)               320400    \n",
            "_________________________________________________________________\n",
            "dense_14 (Dense)             (None, 10)                4010      \n",
            "=================================================================\n",
            "Total params: 952,410\n",
            "Trainable params: 952,410\n",
            "Non-trainable params: 0\n",
            "_________________________________________________________________\n",
            "None\n",
            "Epoch 1/15\n",
            "60000/60000 [==============================] - 363s 6ms/step - loss: 0.2835 - accuracy: 0.9271\n",
            "Epoch 2/15\n",
            "60000/60000 [==============================] - 376s 6ms/step - loss: 0.1889 - accuracy: 0.9567\n",
            "Epoch 3/15\n",
            "60000/60000 [==============================] - 349s 6ms/step - loss: 0.1724 - accuracy: 0.9650\n",
            "Epoch 4/15\n",
            "60000/60000 [==============================] - 343s 6ms/step - loss: 0.1585 - accuracy: 0.9685\n",
            "Epoch 5/15\n",
            "60000/60000 [==============================] - 325s 5ms/step - loss: 0.1494 - accuracy: 0.9704\n",
            "Epoch 6/15\n",
            "60000/60000 [==============================] - 345s 6ms/step - loss: 0.1497 - accuracy: 0.9728\n",
            "Epoch 7/15\n",
            "60000/60000 [==============================] - 369s 6ms/step - loss: 0.1335 - accuracy: 0.9742\n",
            "Epoch 8/15\n",
            "60000/60000 [==============================] - 377s 6ms/step - loss: 0.1496 - accuracy: 0.9743\n",
            "Epoch 9/15\n",
            "60000/60000 [==============================] - 367s 6ms/step - loss: 0.1505 - accuracy: 0.9756\n",
            "Epoch 10/15\n",
            "60000/60000 [==============================] - 362s 6ms/step - loss: 0.1425 - accuracy: 0.9756\n",
            "Epoch 11/15\n",
            "60000/60000 [==============================] - 374s 6ms/step - loss: 0.1513 - accuracy: 0.9774\n",
            "Epoch 12/15\n",
            "60000/60000 [==============================] - 349s 6ms/step - loss: 0.1460 - accuracy: 0.9774\n",
            "Epoch 13/15\n",
            "60000/60000 [==============================] - 344s 6ms/step - loss: 0.1593 - accuracy: 0.9756\n",
            "Epoch 14/15\n",
            "60000/60000 [==============================] - 357s 6ms/step - loss: 0.1799 - accuracy: 0.9735\n",
            "Epoch 15/15\n",
            "60000/60000 [==============================] - 363s 6ms/step - loss: 0.1723 - accuracy: 0.9733\n"
          ],
          "name": "stdout"
        },
        {
          "output_type": "execute_result",
          "data": {
            "text/plain": [
              "<tensorflow.python.keras.callbacks.History at 0x7f920404fd10>"
            ]
          },
          "metadata": {
            "tags": []
          },
          "execution_count": 0
        }
      ]
    },
    {
      "cell_type": "code",
      "metadata": {
        "colab": {
          "background_save": true
        },
        "id": "BUZ5dHoF86yC"
      },
      "source": [
        "# точность модели\n",
        "accuracyFive = modelFive.train_on_batch(x_test, y_test)[1]"
      ],
      "execution_count": null,
      "outputs": []
    },
    {
      "cell_type": "markdown",
      "metadata": {
        "id": "wBtvcTVQBh4g"
      },
      "source": [
        "# Эксперимент с нейронной сетью 6 (batch_size = 10)"
      ]
    },
    {
      "cell_type": "code",
      "metadata": {
        "colab": {
          "background_save": true
        },
        "id": "nH7WTbZyBZoJ",
        "outputId": "9f017428-009d-4975-8d6b-ee494d32a8c0"
      },
      "source": [
        "modelSix = Sequential()\n",
        "modelSix.add(Dense(800, input_dim=784, activation=\"relu\"))\n",
        "modelSix.add(Dense(400, activation=\"relu\"))\n",
        "modelSix.add(Dense(10, activation=\"softmax\"))\n",
        "modelSix.compile(loss=\"categorical_crossentropy\", optimizer=\"adam\", metrics=[\"accuracy\"])\n",
        "print(modelSix.summary())\n",
        "\n",
        "modelSix.fit(x_train, y_train, batch_size=10, epochs=15, verbose=1)"
      ],
      "execution_count": null,
      "outputs": [
        {
          "output_type": "stream",
          "text": [
            "Model: \"sequential_5\"\n",
            "_________________________________________________________________\n",
            "Layer (type)                 Output Shape              Param #   \n",
            "=================================================================\n",
            "dense_15 (Dense)             (None, 800)               628000    \n",
            "_________________________________________________________________\n",
            "dense_16 (Dense)             (None, 400)               320400    \n",
            "_________________________________________________________________\n",
            "dense_17 (Dense)             (None, 10)                4010      \n",
            "=================================================================\n",
            "Total params: 952,410\n",
            "Trainable params: 952,410\n",
            "Non-trainable params: 0\n",
            "_________________________________________________________________\n",
            "None\n",
            "Epoch 1/15\n",
            "6000/6000 [==============================] - 103s 17ms/step - loss: 0.1858 - accuracy: 0.9446\n",
            "Epoch 2/15\n",
            "6000/6000 [==============================] - 120s 20ms/step - loss: 0.0955 - accuracy: 0.9713\n",
            "Epoch 3/15\n",
            "6000/6000 [==============================] - 120s 20ms/step - loss: 0.0671 - accuracy: 0.9803\n",
            "Epoch 4/15\n",
            "6000/6000 [==============================] - 117s 19ms/step - loss: 0.0567 - accuracy: 0.9835\n",
            "Epoch 5/15\n",
            "6000/6000 [==============================] - 116s 19ms/step - loss: 0.0487 - accuracy: 0.9860\n",
            "Epoch 6/15\n",
            "6000/6000 [==============================] - 99s 17ms/step - loss: 0.0420 - accuracy: 0.9883\n",
            "Epoch 7/15\n",
            "6000/6000 [==============================] - 97s 16ms/step - loss: 0.0380 - accuracy: 0.9900\n",
            "Epoch 8/15\n",
            "6000/6000 [==============================] - 98s 16ms/step - loss: 0.0374 - accuracy: 0.9905\n",
            "Epoch 9/15\n",
            "6000/6000 [==============================] - 101s 17ms/step - loss: 0.0331 - accuracy: 0.9916\n",
            "Epoch 10/15\n",
            "6000/6000 [==============================] - 99s 16ms/step - loss: 0.0362 - accuracy: 0.9910\n",
            "Epoch 11/15\n",
            "6000/6000 [==============================] - 103s 17ms/step - loss: 0.0342 - accuracy: 0.9923\n",
            "Epoch 12/15\n",
            "6000/6000 [==============================] - 126s 21ms/step - loss: 0.0316 - accuracy: 0.9930\n",
            "Epoch 13/15\n",
            "6000/6000 [==============================] - 126s 21ms/step - loss: 0.0288 - accuracy: 0.9935\n",
            "Epoch 14/15\n",
            "6000/6000 [==============================] - 121s 20ms/step - loss: 0.0330 - accuracy: 0.9937\n",
            "Epoch 15/15\n",
            "6000/6000 [==============================] - 124s 21ms/step - loss: 0.0286 - accuracy: 0.9937\n"
          ],
          "name": "stdout"
        },
        {
          "output_type": "execute_result",
          "data": {
            "text/plain": [
              "<tensorflow.python.keras.callbacks.History at 0x7f9202e89ed0>"
            ]
          },
          "metadata": {
            "tags": []
          },
          "execution_count": 0
        }
      ]
    },
    {
      "cell_type": "code",
      "metadata": {
        "colab": {
          "background_save": true
        },
        "id": "9yJpGWb-8nc8"
      },
      "source": [
        "# точность модели\n",
        "accuracySix = modelSix.train_on_batch(x_test, y_test)[1]"
      ],
      "execution_count": null,
      "outputs": []
    },
    {
      "cell_type": "markdown",
      "metadata": {
        "id": "cRDMBmHVBqiQ"
      },
      "source": [
        "# Эксперимент с нейронной сетью 7 (batch_size = 100)"
      ]
    },
    {
      "cell_type": "code",
      "metadata": {
        "colab": {
          "background_save": true
        },
        "id": "1AfRqIAzBvCl",
        "outputId": "4e9f2e5d-24c6-4056-95d7-cb0d17828373"
      },
      "source": [
        "modelSeven = Sequential()\n",
        "modelSeven.add(Dense(800, input_dim=784, activation=\"relu\"))\n",
        "modelSeven.add(Dense(400, activation=\"relu\"))\n",
        "modelSeven.add(Dense(10, activation=\"softmax\"))\n",
        "modelSeven.compile(loss=\"categorical_crossentropy\", optimizer=\"adam\", metrics=[\"accuracy\"])\n",
        "print(modelSeven.summary())\n",
        "\n",
        "modelSeven.fit(x_train, y_train, batch_size=100, epochs=15, verbose=1)"
      ],
      "execution_count": null,
      "outputs": [
        {
          "output_type": "stream",
          "text": [
            "Model: \"sequential_6\"\n",
            "_________________________________________________________________\n",
            "Layer (type)                 Output Shape              Param #   \n",
            "=================================================================\n",
            "dense_18 (Dense)             (None, 800)               628000    \n",
            "_________________________________________________________________\n",
            "dense_19 (Dense)             (None, 400)               320400    \n",
            "_________________________________________________________________\n",
            "dense_20 (Dense)             (None, 10)                4010      \n",
            "=================================================================\n",
            "Total params: 952,410\n",
            "Trainable params: 952,410\n",
            "Non-trainable params: 0\n",
            "_________________________________________________________________\n",
            "None\n",
            "Epoch 1/15\n",
            "600/600 [==============================] - 12s 20ms/step - loss: 0.1980 - accuracy: 0.9405\n",
            "Epoch 2/15\n",
            "600/600 [==============================] - 13s 21ms/step - loss: 0.0747 - accuracy: 0.9764\n",
            "Epoch 3/15\n",
            "600/600 [==============================] - 11s 18ms/step - loss: 0.0476 - accuracy: 0.9851\n",
            "Epoch 4/15\n",
            "600/600 [==============================] - 11s 18ms/step - loss: 0.0348 - accuracy: 0.9885\n",
            "Epoch 5/15\n",
            "600/600 [==============================] - 10s 17ms/step - loss: 0.0257 - accuracy: 0.9916\n",
            "Epoch 6/15\n",
            "600/600 [==============================] - 10s 17ms/step - loss: 0.0260 - accuracy: 0.9916\n",
            "Epoch 7/15\n",
            "600/600 [==============================] - 13s 22ms/step - loss: 0.0197 - accuracy: 0.9934\n",
            "Epoch 8/15\n",
            "600/600 [==============================] - 15s 25ms/step - loss: 0.0152 - accuracy: 0.9949\n",
            "Epoch 9/15\n",
            "600/600 [==============================] - 11s 18ms/step - loss: 0.0136 - accuracy: 0.9956\n",
            "Epoch 10/15\n",
            "600/600 [==============================] - 11s 19ms/step - loss: 0.0157 - accuracy: 0.9946\n",
            "Epoch 11/15\n",
            "600/600 [==============================] - 11s 19ms/step - loss: 0.0100 - accuracy: 0.9969\n",
            "Epoch 12/15\n",
            "600/600 [==============================] - 14s 23ms/step - loss: 0.0128 - accuracy: 0.9959\n",
            "Epoch 13/15\n",
            "600/600 [==============================] - 15s 25ms/step - loss: 0.0115 - accuracy: 0.9963\n",
            "Epoch 14/15\n",
            "600/600 [==============================] - 14s 23ms/step - loss: 0.0075 - accuracy: 0.9977\n",
            "Epoch 15/15\n",
            "600/600 [==============================] - 15s 25ms/step - loss: 0.0101 - accuracy: 0.9970\n"
          ],
          "name": "stdout"
        },
        {
          "output_type": "execute_result",
          "data": {
            "text/plain": [
              "<tensorflow.python.keras.callbacks.History at 0x7f9201c9bf10>"
            ]
          },
          "metadata": {
            "tags": []
          },
          "execution_count": 0
        }
      ]
    },
    {
      "cell_type": "code",
      "metadata": {
        "colab": {
          "background_save": true
        },
        "id": "DEKXRHuM8qku"
      },
      "source": [
        "# точность модели\n",
        "accuracySeven = modelSeven.train_on_batch(x_test, y_test)[1]"
      ],
      "execution_count": null,
      "outputs": []
    },
    {
      "cell_type": "markdown",
      "metadata": {
        "id": "zRwJF5cqB-zD"
      },
      "source": [
        "# Эксперимент с нейронной сетью 8 (batch_size = 60000)"
      ]
    },
    {
      "cell_type": "code",
      "metadata": {
        "colab": {
          "background_save": true
        },
        "id": "eCf73byCCHx5",
        "outputId": "b8ac9532-09a1-4b51-90de-116ecc701f40"
      },
      "source": [
        "modelEight = Sequential()\n",
        "modelEight.add(Dense(800, input_dim=784, activation=\"relu\"))\n",
        "modelEight.add(Dense(400, activation=\"relu\"))\n",
        "modelEight.add(Dense(10, activation=\"softmax\"))\n",
        "modelEight.compile(loss=\"categorical_crossentropy\", optimizer=\"adam\", metrics=[\"accuracy\"])\n",
        "print(modelEight.summary())\n",
        "\n",
        "modelEight.fit(x_train, y_train, batch_size=60000, epochs=15, verbose=1)"
      ],
      "execution_count": null,
      "outputs": [
        {
          "output_type": "stream",
          "text": [
            "Model: \"sequential_7\"\n",
            "_________________________________________________________________\n",
            "Layer (type)                 Output Shape              Param #   \n",
            "=================================================================\n",
            "dense_21 (Dense)             (None, 800)               628000    \n",
            "_________________________________________________________________\n",
            "dense_22 (Dense)             (None, 400)               320400    \n",
            "_________________________________________________________________\n",
            "dense_23 (Dense)             (None, 10)                4010      \n",
            "=================================================================\n",
            "Total params: 952,410\n",
            "Trainable params: 952,410\n",
            "Non-trainable params: 0\n",
            "_________________________________________________________________\n",
            "None\n",
            "Epoch 1/15\n",
            "1/1 [==============================] - 5s 5s/step - loss: 2.3130 - accuracy: 0.0846\n",
            "Epoch 2/15\n",
            "1/1 [==============================] - 5s 5s/step - loss: 1.9032 - accuracy: 0.5893\n",
            "Epoch 3/15\n",
            "1/1 [==============================] - 5s 5s/step - loss: 1.5504 - accuracy: 0.7177\n",
            "Epoch 4/15\n",
            "1/1 [==============================] - 5s 5s/step - loss: 1.2217 - accuracy: 0.8001\n",
            "Epoch 5/15\n",
            "1/1 [==============================] - 5s 5s/step - loss: 0.9549 - accuracy: 0.8127\n",
            "Epoch 6/15\n",
            "1/1 [==============================] - 5s 5s/step - loss: 0.7488 - accuracy: 0.8323\n",
            "Epoch 7/15\n",
            "1/1 [==============================] - 5s 5s/step - loss: 0.6114 - accuracy: 0.8420\n",
            "Epoch 8/15\n",
            "1/1 [==============================] - 5s 5s/step - loss: 0.5202 - accuracy: 0.8561\n",
            "Epoch 9/15\n",
            "1/1 [==============================] - 5s 5s/step - loss: 0.4610 - accuracy: 0.8653\n",
            "Epoch 10/15\n",
            "1/1 [==============================] - 5s 5s/step - loss: 0.4191 - accuracy: 0.8759\n",
            "Epoch 11/15\n",
            "1/1 [==============================] - 5s 5s/step - loss: 0.3897 - accuracy: 0.8851\n",
            "Epoch 12/15\n",
            "1/1 [==============================] - 5s 5s/step - loss: 0.3692 - accuracy: 0.8904\n",
            "Epoch 13/15\n",
            "1/1 [==============================] - 5s 5s/step - loss: 0.3517 - accuracy: 0.8967\n",
            "Epoch 14/15\n",
            "1/1 [==============================] - 4s 4s/step - loss: 0.3402 - accuracy: 0.9013\n",
            "Epoch 15/15\n",
            "1/1 [==============================] - 5s 5s/step - loss: 0.3289 - accuracy: 0.9046\n"
          ],
          "name": "stdout"
        },
        {
          "output_type": "execute_result",
          "data": {
            "text/plain": [
              "<tensorflow.python.keras.callbacks.History at 0x7f9200b30fd0>"
            ]
          },
          "metadata": {
            "tags": []
          },
          "execution_count": 0
        }
      ]
    },
    {
      "cell_type": "code",
      "metadata": {
        "colab": {
          "background_save": true
        },
        "id": "pZGdmiUn8tcJ"
      },
      "source": [
        "# точность модели\n",
        "accuracyEight = modelEight.train_on_batch(x_test, y_test)[1]"
      ],
      "execution_count": null,
      "outputs": []
    },
    {
      "cell_type": "markdown",
      "metadata": {
        "id": "v7RzmMCM9Hgr"
      },
      "source": [
        "# Подведение итогов"
      ]
    },
    {
      "cell_type": "code",
      "metadata": {
        "colab": {
          "background_save": true
        },
        "id": "xy1upReB9Koo",
        "outputId": "d882e82b-efe8-437a-f820-7d49dba056e6"
      },
      "source": [
        "inds = [f\"Э.\" + str(i) for i in range(1, 9)]\n",
        "accur = [accuracyOne, accuracyTwo, accuracyThree, accuracyFour, accuracyFive,\n",
        "        accuracySix, accuracySeven, accuracyEight,]\n",
        "\n",
        "tableAccuracy = pd.DataFrame({\n",
        "    \"Точность модели:\": accur,\n",
        "}, index=inds)\n",
        "tableAccuracy.index.name = \"Номер эксперимента\"\n",
        "print(tableAccuracy)\n",
        "tableAccuracy.plot()\n",
        "plt.show()"
      ],
      "execution_count": null,
      "outputs": [
        {
          "output_type": "stream",
          "text": [
            "                    Точность модели:\n",
            "Номер эксперимента                  \n",
            "Э.1                         0.958500\n",
            "Э.2                         0.994443\n",
            "Э.3                         0.993600\n",
            "Э.4                         0.925214\n",
            "Э.5                         0.971286\n",
            "Э.6                         0.991771\n",
            "Э.7                         0.995157\n",
            "Э.8                         0.905714\n"
          ],
          "name": "stdout"
        },
        {
          "output_type": "display_data",
          "data": {
            "image/png": "[encoded data removed]",
            "text/plain": [
              "<Figure size 432x288 with 1 Axes>"
            ]
          },
          "metadata": {
            "tags": []
          }
        }
      ]
    },
    {
      "cell_type": "markdown",
      "metadata": {
        "id": "KR4vSdm9VZ-C"
      },
      "source": [
        "# ВЫВОД"
      ]
    },
    {
      "cell_type": "markdown",
      "metadata": {
        "id": "NM6Z2eCyVc3p"
      },
      "source": [
        "Во время проведения экспериментов над моделью били замечены следующие закономерности:\n",
        "\n",
        "При изменении количества нейронов изменения в точности были заметны только при увеличении с 10 до 100 нейронов, при этом время обучения модели тоже зависило от количества нейронов, поэтому вариант с 5000 нейронов выполнялся намного дольше, чем предыдущие варианты.\n",
        "\n",
        "изменение активационной функции с 'relu' на 'linear' дало точность ниже, при этом время, затраченное на обучение, не изменилось.\n",
        "\n",
        "Из эксперимента по изменению batch_size можно сделать вывод: чем выше значение гиперпараметра, тем выше качество обученной модели и ниже время требуемое на обучение. Однако с определенного значения точность начинает падать.\n"
      ]
    }
  ]
}