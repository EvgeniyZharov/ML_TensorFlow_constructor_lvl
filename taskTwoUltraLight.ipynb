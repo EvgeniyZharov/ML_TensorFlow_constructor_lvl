{
  "nbformat": 4,
  "nbformat_minor": 0,
  "metadata": {
    "colab": {
      "provenance": [],
      "toc_visible": true
    },
    "kernelspec": {
      "name": "python3",
      "display_name": "Python 3"
    },
    "language_info": {
      "name": "python"
    }
  },
  "cells": [
    {
      "cell_type": "markdown",
      "source": [
        "Создайте модель для распознавания рукописных цифр из набора MNIST (можно воспользоваться ноутбуком 1-го занятия) и проведите ряд тестов:\n",
        "\n",
        "Запустите сеть с различными размерами обучающей и проверочной выборок:\n",
        "\n",
        "Размер test_size=0.1\n",
        "Размер test_size=0.5\n",
        "Размер test_size=0.9\n",
        "Напишите выводы, как изменение test_size влияет на точность сети."
      ],
      "metadata": {
        "id": "NAEAEpRuIQjP"
      }
    },
    {
      "cell_type": "markdown",
      "metadata": {
        "id": "tI4Ji8naFfkU"
      },
      "source": [
        "# Импорт библиотек"
      ]
    },
    {
      "cell_type": "code",
      "metadata": {
        "id": "eJ68j7tpFfkU"
      },
      "source": [
        "from tensorflow.keras.datasets import mnist\n",
        "from tensorflow.keras.models import Sequential\n",
        "from tensorflow.keras.layers import Dense \n",
        "from tensorflow.keras.optimizers import Adam \n",
        "from tensorflow.keras import utils \n",
        "\n",
        "from sklearn.model_selection import train_test_split"
      ],
      "execution_count": null,
      "outputs": []
    },
    {
      "cell_type": "code",
      "metadata": {
        "id": "ojBrrOiDJ0NM"
      },
      "source": [
        "def createModel():\n",
        "  \n",
        "  model = Sequential()\n",
        "  model.add(Dense(800, input_dim=784, activation=\"relu\"))\n",
        "  model.add(Dense(400, activation=\"relu\"))\n",
        "  model.add(Dense(10, activation=\"softmax\"))\n",
        "\n",
        "  model.compile(loss=\"categorical_crossentropy\",\n",
        "                optimizer=\"adam\",\n",
        "                metrics=[\"accuracy\"])\n",
        "  print(model.summary())\n",
        "\n",
        "  return model"
      ],
      "execution_count": null,
      "outputs": []
    },
    {
      "cell_type": "markdown",
      "source": [
        "# Создание модели"
      ],
      "metadata": {
        "id": "GZawPRUVIMws"
      }
    },
    {
      "cell_type": "code",
      "source": [
        "model = Sequential()\n",
        "model.add(Dense(800, input_dim=784, activation=\"relu\"))\n",
        "model.add(Dense(400, activation=\"relu\"))\n",
        "model.add(Dense(10, activation=\"softmax\"))\n",
        "\n",
        "model.compile(loss=\"categorical_crossentropy\",\n",
        "              optimizer=\"adam\",\n",
        "              metrics=[\"accuracy\"])\n",
        "\n",
        "print(model.summary())"
      ],
      "metadata": {
        "colab": {
          "base_uri": "https://localhost:8080/"
        },
        "id": "3bmzXvetIPaZ",
        "outputId": "a5c47341-9f44-4af6-89a7-7397a6f16611"
      },
      "execution_count": null,
      "outputs": [
        {
          "output_type": "stream",
          "name": "stdout",
          "text": [
            "Model: \"sequential_1\"\n",
            "_________________________________________________________________\n",
            " Layer (type)                Output Shape              Param #   \n",
            "=================================================================\n",
            " dense_3 (Dense)             (None, 800)               628000    \n",
            "                                                                 \n",
            " dense_4 (Dense)             (None, 400)               320400    \n",
            "                                                                 \n",
            " dense_5 (Dense)             (None, 10)                4010      \n",
            "                                                                 \n",
            "=================================================================\n",
            "Total params: 952,410\n",
            "Trainable params: 952,410\n",
            "Non-trainable params: 0\n",
            "_________________________________________________________________\n",
            "None\n"
          ]
        }
      ]
    },
    {
      "cell_type": "markdown",
      "metadata": {
        "id": "CDuwtp1GKS42"
      },
      "source": [
        "# Подготовка данных"
      ]
    },
    {
      "cell_type": "code",
      "metadata": {
        "id": "PFUDHMiCFfkU",
        "colab": {
          "base_uri": "https://localhost:8080/"
        },
        "outputId": "133fc30b-f1bd-48f4-f0bb-e0a2382720bc"
      },
      "source": [
        "(x_train_org, y_train_org), (x_test_org, y_test_org) = mnist.load_data()\n",
        "\n",
        "x_train = x_train_org.reshape(60000, 784)\n",
        "x_test = x_test_org.reshape(10000, 784)\n",
        "\n",
        "x_train = x_train.astype('float32') \n",
        "x_train = x_train / 255 \n",
        "\n",
        "x_test = x_test.astype('float32') \n",
        "x_test = x_test / 255 \n",
        "\n",
        "y_train = utils.to_categorical(y_train_org, 10)\n",
        "y_test = utils.to_categorical(y_test_org, 10) "
      ],
      "execution_count": null,
      "outputs": [
        {
          "output_type": "stream",
          "name": "stdout",
          "text": [
            "Downloading data from https://storage.googleapis.com/tensorflow/tf-keras-datasets/mnist.npz\n",
            "11490434/11490434 [==============================] - 0s 0us/step\n"
          ]
        }
      ]
    },
    {
      "cell_type": "markdown",
      "source": [
        "# Обучение модели"
      ],
      "metadata": {
        "id": "I8NQQ2Z7ITyj"
      }
    },
    {
      "cell_type": "code",
      "source": [
        "model.fit(x_train,\n",
        "          y_train,\n",
        "          epochs=15,\n",
        "          batch_size=128,\n",
        "          validation_data=(x_test, y_test),\n",
        "          verbose=1)"
      ],
      "metadata": {
        "colab": {
          "base_uri": "https://localhost:8080/"
        },
        "id": "mcFDBalnH8Ou",
        "outputId": "33cde6ee-ba19-4f83-e13f-ed10e6054445"
      },
      "execution_count": null,
      "outputs": [
        {
          "output_type": "stream",
          "name": "stdout",
          "text": [
            "Epoch 1/15\n",
            "375/375 [==============================] - 5s 12ms/step - loss: 0.0113 - accuracy: 0.9961 - val_loss: 0.1117 - val_accuracy: 0.9762\n",
            "Epoch 2/15\n",
            "375/375 [==============================] - 4s 12ms/step - loss: 0.0101 - accuracy: 0.9967 - val_loss: 0.1038 - val_accuracy: 0.9801\n",
            "Epoch 3/15\n",
            "375/375 [==============================] - 4s 12ms/step - loss: 0.0063 - accuracy: 0.9979 - val_loss: 0.1231 - val_accuracy: 0.9776\n",
            "Epoch 4/15\n",
            "375/375 [==============================] - 4s 12ms/step - loss: 0.0102 - accuracy: 0.9970 - val_loss: 0.1294 - val_accuracy: 0.9750\n",
            "Epoch 5/15\n",
            "375/375 [==============================] - 5s 12ms/step - loss: 0.0101 - accuracy: 0.9965 - val_loss: 0.1228 - val_accuracy: 0.9785\n",
            "Epoch 6/15\n",
            "375/375 [==============================] - 5s 12ms/step - loss: 0.0057 - accuracy: 0.9981 - val_loss: 0.1167 - val_accuracy: 0.9809\n",
            "Epoch 7/15\n",
            "375/375 [==============================] - 5s 12ms/step - loss: 0.0034 - accuracy: 0.9989 - val_loss: 0.1277 - val_accuracy: 0.9787\n",
            "Epoch 8/15\n",
            "375/375 [==============================] - 5s 12ms/step - loss: 0.0086 - accuracy: 0.9976 - val_loss: 0.1420 - val_accuracy: 0.9753\n",
            "Epoch 9/15\n",
            "375/375 [==============================] - 5s 12ms/step - loss: 0.0101 - accuracy: 0.9970 - val_loss: 0.1354 - val_accuracy: 0.9771\n",
            "Epoch 10/15\n",
            "375/375 [==============================] - 5s 12ms/step - loss: 0.0090 - accuracy: 0.9972 - val_loss: 0.1183 - val_accuracy: 0.9807\n",
            "Epoch 11/15\n",
            "375/375 [==============================] - 4s 12ms/step - loss: 0.0062 - accuracy: 0.9982 - val_loss: 0.1091 - val_accuracy: 0.9818\n",
            "Epoch 12/15\n",
            "375/375 [==============================] - 5s 12ms/step - loss: 0.0032 - accuracy: 0.9991 - val_loss: 0.1015 - val_accuracy: 0.9831\n",
            "Epoch 13/15\n",
            "375/375 [==============================] - 5s 12ms/step - loss: 0.0016 - accuracy: 0.9995 - val_loss: 0.1123 - val_accuracy: 0.9826\n",
            "Epoch 14/15\n",
            "375/375 [==============================] - 5s 12ms/step - loss: 0.0075 - accuracy: 0.9976 - val_loss: 0.1400 - val_accuracy: 0.9768\n",
            "Epoch 15/15\n",
            "375/375 [==============================] - 4s 12ms/step - loss: 0.0124 - accuracy: 0.9964 - val_loss: 0.1308 - val_accuracy: 0.9795\n"
          ]
        },
        {
          "output_type": "execute_result",
          "data": {
            "text/plain": [
              "<keras.callbacks.History at 0x7f1866d15dc0>"
            ]
          },
          "metadata": {},
          "execution_count": 8
        }
      ]
    },
    {
      "cell_type": "markdown",
      "metadata": {
        "id": "4jFY300wLFs9"
      },
      "source": [
        "# Функция создание и обучение модели"
      ]
    },
    {
      "cell_type": "code",
      "metadata": {
        "id": "tRFzRj28LO28"
      },
      "source": [
        "def mainTest(x, y, testSize=0.2):\n",
        "  # Сортировка данных на обучающие и проверяющие\n",
        "  x_train, x_check, y_train, y_check = train_test_split(x,\n",
        "                                                        y,\n",
        "                                                        shuffle=True,\n",
        "                                                        test_size=testSize)\n",
        "\n",
        "  # Создание модели\n",
        "  model = createModel()\n",
        "\n",
        "  # Обучение модели\n",
        "  model.fit(x_train,\n",
        "            y_train,\n",
        "            epochs=15,\n",
        "            batch_size=128,\n",
        "            validation_data=(x_check, y_check),\n",
        "            verbose=1)"
      ],
      "execution_count": null,
      "outputs": []
    },
    {
      "cell_type": "markdown",
      "metadata": {
        "id": "H-XM1ZRLFfkV"
      },
      "source": [
        "# Эксперимент 1 (test_size=0.1)\n",
        "\n"
      ]
    },
    {
      "cell_type": "code",
      "metadata": {
        "colab": {
          "base_uri": "https://localhost:8080/"
        },
        "id": "LT0QnyC5F1F-",
        "outputId": "d5e3e63c-1c7f-4a6f-ba6e-065e7d548edb"
      },
      "source": [
        "mainTest(x_train, y_train, testSize=0.1)"
      ],
      "execution_count": null,
      "outputs": [
        {
          "output_type": "stream",
          "text": [
            "Model: \"sequential_8\"\n",
            "_________________________________________________________________\n",
            "Layer (type)                 Output Shape              Param #   \n",
            "=================================================================\n",
            "dense_24 (Dense)             (None, 800)               628000    \n",
            "_________________________________________________________________\n",
            "dense_25 (Dense)             (None, 400)               320400    \n",
            "_________________________________________________________________\n",
            "dense_26 (Dense)             (None, 10)                4010      \n",
            "=================================================================\n",
            "Total params: 952,410\n",
            "Trainable params: 952,410\n",
            "Non-trainable params: 0\n",
            "_________________________________________________________________\n",
            "None\n",
            "Epoch 1/15\n",
            "422/422 [==============================] - 7s 16ms/step - loss: 0.2138 - accuracy: 0.9370 - val_loss: 0.1271 - val_accuracy: 0.9637\n",
            "Epoch 2/15\n",
            "422/422 [==============================] - 7s 16ms/step - loss: 0.0779 - accuracy: 0.9753 - val_loss: 0.1010 - val_accuracy: 0.9708\n",
            "Epoch 3/15\n",
            "422/422 [==============================] - 7s 16ms/step - loss: 0.0518 - accuracy: 0.9834 - val_loss: 0.0822 - val_accuracy: 0.9775\n",
            "Epoch 4/15\n",
            "422/422 [==============================] - 7s 16ms/step - loss: 0.0323 - accuracy: 0.9900 - val_loss: 0.0811 - val_accuracy: 0.9780\n",
            "Epoch 5/15\n",
            "422/422 [==============================] - 7s 16ms/step - loss: 0.0243 - accuracy: 0.9918 - val_loss: 0.0859 - val_accuracy: 0.9778\n",
            "Epoch 6/15\n",
            "422/422 [==============================] - 7s 15ms/step - loss: 0.0232 - accuracy: 0.9922 - val_loss: 0.1048 - val_accuracy: 0.9745\n",
            "Epoch 7/15\n",
            "422/422 [==============================] - 7s 15ms/step - loss: 0.0179 - accuracy: 0.9939 - val_loss: 0.0951 - val_accuracy: 0.9782\n",
            "Epoch 8/15\n",
            "422/422 [==============================] - 7s 16ms/step - loss: 0.0176 - accuracy: 0.9941 - val_loss: 0.1004 - val_accuracy: 0.9783\n",
            "Epoch 9/15\n",
            "422/422 [==============================] - 7s 15ms/step - loss: 0.0145 - accuracy: 0.9952 - val_loss: 0.1050 - val_accuracy: 0.9773\n",
            "Epoch 10/15\n",
            "422/422 [==============================] - 7s 16ms/step - loss: 0.0132 - accuracy: 0.9956 - val_loss: 0.1046 - val_accuracy: 0.9770\n",
            "Epoch 11/15\n",
            "422/422 [==============================] - 7s 16ms/step - loss: 0.0112 - accuracy: 0.9964 - val_loss: 0.1001 - val_accuracy: 0.9808\n",
            "Epoch 12/15\n",
            "422/422 [==============================] - 7s 15ms/step - loss: 0.0091 - accuracy: 0.9969 - val_loss: 0.1211 - val_accuracy: 0.9767\n",
            "Epoch 13/15\n",
            "422/422 [==============================] - 7s 16ms/step - loss: 0.0122 - accuracy: 0.9960 - val_loss: 0.1004 - val_accuracy: 0.9782\n",
            "Epoch 14/15\n",
            "422/422 [==============================] - 7s 16ms/step - loss: 0.0080 - accuracy: 0.9977 - val_loss: 0.1153 - val_accuracy: 0.9793\n",
            "Epoch 15/15\n",
            "422/422 [==============================] - 7s 16ms/step - loss: 0.0093 - accuracy: 0.9969 - val_loss: 0.1279 - val_accuracy: 0.9762\n"
          ],
          "name": "stdout"
        }
      ]
    },
    {
      "cell_type": "markdown",
      "metadata": {
        "id": "SEIH8kVtLh_1"
      },
      "source": [
        "# Эксперимент 2 (test_size=0.5)"
      ]
    },
    {
      "cell_type": "code",
      "metadata": {
        "colab": {
          "base_uri": "https://localhost:8080/"
        },
        "id": "YgcizGLVLpa3",
        "outputId": "1780f65c-2baf-4ec3-9799-b5c4a563eca4"
      },
      "source": [
        "mainTest(x_train, y_train, testSize=0.5)"
      ],
      "execution_count": null,
      "outputs": [
        {
          "output_type": "stream",
          "text": [
            "Model: \"sequential_9\"\n",
            "_________________________________________________________________\n",
            "Layer (type)                 Output Shape              Param #   \n",
            "=================================================================\n",
            "dense_27 (Dense)             (None, 800)               628000    \n",
            "_________________________________________________________________\n",
            "dense_28 (Dense)             (None, 400)               320400    \n",
            "_________________________________________________________________\n",
            "dense_29 (Dense)             (None, 10)                4010      \n",
            "=================================================================\n",
            "Total params: 952,410\n",
            "Trainable params: 952,410\n",
            "Non-trainable params: 0\n",
            "_________________________________________________________________\n",
            "None\n",
            "Epoch 1/15\n",
            "235/235 [==============================] - 5s 21ms/step - loss: 0.2899 - accuracy: 0.9134 - val_loss: 0.1532 - val_accuracy: 0.9544\n",
            "Epoch 2/15\n",
            "235/235 [==============================] - 5s 20ms/step - loss: 0.1011 - accuracy: 0.9681 - val_loss: 0.1117 - val_accuracy: 0.9666\n",
            "Epoch 3/15\n",
            "235/235 [==============================] - 5s 20ms/step - loss: 0.0580 - accuracy: 0.9826 - val_loss: 0.1270 - val_accuracy: 0.9617\n",
            "Epoch 4/15\n",
            "235/235 [==============================] - 5s 20ms/step - loss: 0.0380 - accuracy: 0.9879 - val_loss: 0.0960 - val_accuracy: 0.9726\n",
            "Epoch 5/15\n",
            "235/235 [==============================] - 5s 20ms/step - loss: 0.0251 - accuracy: 0.9917 - val_loss: 0.1098 - val_accuracy: 0.9698\n",
            "Epoch 6/15\n",
            "235/235 [==============================] - 5s 21ms/step - loss: 0.0208 - accuracy: 0.9934 - val_loss: 0.1138 - val_accuracy: 0.9697\n",
            "Epoch 7/15\n",
            "235/235 [==============================] - 5s 20ms/step - loss: 0.0200 - accuracy: 0.9935 - val_loss: 0.1413 - val_accuracy: 0.9646\n",
            "Epoch 8/15\n",
            "235/235 [==============================] - 5s 20ms/step - loss: 0.0174 - accuracy: 0.9942 - val_loss: 0.1173 - val_accuracy: 0.9716\n",
            "Epoch 9/15\n",
            "235/235 [==============================] - 5s 20ms/step - loss: 0.0135 - accuracy: 0.9959 - val_loss: 0.1060 - val_accuracy: 0.9737\n",
            "Epoch 10/15\n",
            "235/235 [==============================] - 5s 20ms/step - loss: 0.0130 - accuracy: 0.9952 - val_loss: 0.1194 - val_accuracy: 0.9736\n",
            "Epoch 11/15\n",
            "235/235 [==============================] - 5s 20ms/step - loss: 0.0107 - accuracy: 0.9967 - val_loss: 0.1217 - val_accuracy: 0.9745\n",
            "Epoch 12/15\n",
            "235/235 [==============================] - 5s 20ms/step - loss: 0.0077 - accuracy: 0.9975 - val_loss: 0.1420 - val_accuracy: 0.9713\n",
            "Epoch 13/15\n",
            "235/235 [==============================] - 5s 20ms/step - loss: 0.0153 - accuracy: 0.9949 - val_loss: 0.1419 - val_accuracy: 0.9714\n",
            "Epoch 14/15\n",
            "235/235 [==============================] - 5s 20ms/step - loss: 0.0137 - accuracy: 0.9950 - val_loss: 0.1380 - val_accuracy: 0.9717\n",
            "Epoch 15/15\n",
            "235/235 [==============================] - 5s 20ms/step - loss: 0.0064 - accuracy: 0.9984 - val_loss: 0.1185 - val_accuracy: 0.9770\n"
          ],
          "name": "stdout"
        }
      ]
    },
    {
      "cell_type": "markdown",
      "metadata": {
        "id": "2n4_rEUHLsIN"
      },
      "source": [
        "# Эксперимент 3 (test_size=0.9)"
      ]
    },
    {
      "cell_type": "code",
      "metadata": {
        "colab": {
          "base_uri": "https://localhost:8080/"
        },
        "id": "D-iNspiOLyYY",
        "outputId": "2a0248d7-9169-486d-8bf4-4ae8bbee6f0e"
      },
      "source": [
        "mainTest(x_train, y_train, testSize=0.9)"
      ],
      "execution_count": null,
      "outputs": [
        {
          "output_type": "stream",
          "text": [
            "Model: \"sequential_10\"\n",
            "_________________________________________________________________\n",
            "Layer (type)                 Output Shape              Param #   \n",
            "=================================================================\n",
            "dense_30 (Dense)             (None, 800)               628000    \n",
            "_________________________________________________________________\n",
            "dense_31 (Dense)             (None, 400)               320400    \n",
            "_________________________________________________________________\n",
            "dense_32 (Dense)             (None, 10)                4010      \n",
            "=================================================================\n",
            "Total params: 952,410\n",
            "Trainable params: 952,410\n",
            "Non-trainable params: 0\n",
            "_________________________________________________________________\n",
            "None\n",
            "Epoch 1/15\n",
            "47/47 [==============================] - 3s 66ms/step - loss: 0.6196 - accuracy: 0.8182 - val_loss: 0.3080 - val_accuracy: 0.9090\n",
            "Epoch 2/15\n",
            "47/47 [==============================] - 3s 63ms/step - loss: 0.2183 - accuracy: 0.9363 - val_loss: 0.2481 - val_accuracy: 0.9254\n",
            "Epoch 3/15\n",
            "47/47 [==============================] - 3s 62ms/step - loss: 0.1351 - accuracy: 0.9627 - val_loss: 0.2085 - val_accuracy: 0.9378\n",
            "Epoch 4/15\n",
            "47/47 [==============================] - 3s 61ms/step - loss: 0.0881 - accuracy: 0.9748 - val_loss: 0.2146 - val_accuracy: 0.9379\n",
            "Epoch 5/15\n",
            "47/47 [==============================] - 3s 63ms/step - loss: 0.0553 - accuracy: 0.9843 - val_loss: 0.2055 - val_accuracy: 0.9412\n",
            "Epoch 6/15\n",
            "47/47 [==============================] - 3s 63ms/step - loss: 0.0301 - accuracy: 0.9943 - val_loss: 0.1892 - val_accuracy: 0.9474\n",
            "Epoch 7/15\n",
            "47/47 [==============================] - 3s 62ms/step - loss: 0.0166 - accuracy: 0.9978 - val_loss: 0.1924 - val_accuracy: 0.9490\n",
            "Epoch 8/15\n",
            "47/47 [==============================] - 3s 64ms/step - loss: 0.0103 - accuracy: 0.9990 - val_loss: 0.1866 - val_accuracy: 0.9523\n",
            "Epoch 9/15\n",
            "47/47 [==============================] - 3s 64ms/step - loss: 0.0049 - accuracy: 1.0000 - val_loss: 0.1861 - val_accuracy: 0.9529\n",
            "Epoch 10/15\n",
            "47/47 [==============================] - 3s 62ms/step - loss: 0.0031 - accuracy: 1.0000 - val_loss: 0.1905 - val_accuracy: 0.9529\n",
            "Epoch 11/15\n",
            "47/47 [==============================] - 3s 63ms/step - loss: 0.0022 - accuracy: 1.0000 - val_loss: 0.1985 - val_accuracy: 0.9527\n",
            "Epoch 12/15\n",
            "47/47 [==============================] - 3s 63ms/step - loss: 0.0017 - accuracy: 1.0000 - val_loss: 0.1975 - val_accuracy: 0.9531\n",
            "Epoch 13/15\n",
            "47/47 [==============================] - 3s 63ms/step - loss: 0.0014 - accuracy: 1.0000 - val_loss: 0.1988 - val_accuracy: 0.9536\n",
            "Epoch 14/15\n",
            "47/47 [==============================] - 3s 62ms/step - loss: 0.0012 - accuracy: 1.0000 - val_loss: 0.2023 - val_accuracy: 0.9531\n",
            "Epoch 15/15\n",
            "47/47 [==============================] - 3s 63ms/step - loss: 9.9287e-04 - accuracy: 1.0000 - val_loss: 0.2048 - val_accuracy: 0.9536\n"
          ],
          "name": "stdout"
        }
      ]
    },
    {
      "cell_type": "markdown",
      "metadata": {
        "id": "ClJFkzxu7M0P"
      },
      "source": [
        "# Вывод"
      ]
    },
    {
      "cell_type": "markdown",
      "metadata": {
        "id": "MVmamGet7OrN"
      },
      "source": [
        "Изменение гиперпараметра test_size наиболее точный результат дало при test_size = 0.1, однако по времени было затрачено больше всего времени\n",
        "Из проведенных исследований можно сделать вывод, что с увеличением значения гиперпараметра test_size уменьшаются время обучения и качество модели. На это оказывает влияние то, что обучающая выборка становится меньше и модель быстрее заучивает ее."
      ]
    }
  ]
}