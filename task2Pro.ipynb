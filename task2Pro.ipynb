{
  "nbformat": 4,
  "nbformat_minor": 0,
  "metadata": {
    "colab": {
      "provenance": []
    },
    "kernelspec": {
      "name": "python3",
      "display_name": "Python 3"
    },
    "language_info": {
      "name": "python"
    }
  },
  "cells": [
    {
      "cell_type": "markdown",
      "source": [
        "Повысьте точность модели по обнаружению мин (база sonar)  до 90 % на тестовой выборке. \n",
        "\n",
        "Можно использовать различные варианты слоев Dropout и BatchNormalization. Можно менять количество примеров в обучающей и проверочной выборках, но нельзя менять количество примеров в тестовой.\n"
      ],
      "metadata": {
        "id": "vcdTwdwNIYDs"
      }
    },
    {
      "cell_type": "markdown",
      "metadata": {
        "id": "scfJLbajLoCE"
      },
      "source": [
        "# Импорт библиотек"
      ]
    },
    {
      "cell_type": "code",
      "metadata": {
        "id": "40PCbf4FCk3-"
      },
      "source": [
        "from tensorflow.keras.models import Sequential\n",
        "from tensorflow.keras.layers import Dense, Dropout, BatchNormalization\n",
        "from tensorflow.keras import utils\n",
        "from tensorflow.keras.optimizers import Adam\n",
        "\n",
        "from sklearn.model_selection import train_test_split\n",
        "\n",
        "import pandas as pd\n",
        "import numpy as np\n",
        "import matplotlib.pyplot as plt\n",
        "\n",
        "from google.colab import drive\n",
        "\n",
        "%matplotlib inline"
      ],
      "execution_count": null,
      "outputs": []
    },
    {
      "cell_type": "markdown",
      "metadata": {
        "id": "zM9KsggjLvOg"
      },
      "source": [
        "# Подключение к гугл диску"
      ]
    },
    {
      "cell_type": "code",
      "metadata": {
        "colab": {
          "base_uri": "https://localhost:8080/"
        },
        "id": "AM246oREEHG2",
        "outputId": "3f4821ab-8c6c-45b3-df04-62a8ad8448d9"
      },
      "source": [
        "drive.mount('/content/drive')\n",
        "df = pd.read_csv('/content/drive/MyDrive/Lessons/Lesson 2/sonar.csv',\n",
        "                 header=None)"
      ],
      "execution_count": null,
      "outputs": [
        {
          "output_type": "stream",
          "name": "stdout",
          "text": [
            "Drive already mounted at /content/drive; to attempt to forcibly remount, call drive.mount(\"/content/drive\", force_remount=True).\n"
          ]
        }
      ]
    },
    {
      "cell_type": "markdown",
      "metadata": {
        "id": "fIegIkHRL1dN"
      },
      "source": [
        "# Подготовка данных"
      ]
    },
    {
      "cell_type": "code",
      "metadata": {
        "id": "sj-5ui3XFXBh"
      },
      "source": [
        "data = df.values\n",
        "X = data[:, 0:60].astype(float)\n",
        "Y = data[:, 60]\n",
        "Y[Y == 'R'] = '0'\n",
        "Y[Y == 'M'] = '1'\n",
        "Y = Y.astype(int)\n",
        "\n",
        "xTrain, xTest, yTrain, yTest = train_test_split(X,\n",
        "                                                Y,\n",
        "                                                test_size=0.2,\n",
        "                                                shuffle=True)"
      ],
      "execution_count": null,
      "outputs": []
    },
    {
      "cell_type": "markdown",
      "metadata": {
        "id": "tANKvBzwL4sM"
      },
      "source": [
        "# Вспомогательные функции"
      ]
    },
    {
      "cell_type": "code",
      "metadata": {
        "id": "uNmwBr9-GBJz"
      },
      "source": [
        "def createModel(layer=0, \n",
        "                neurons=60, \n",
        "                activ=\"relu\", \n",
        "                dropTwo=0.2, \n",
        "                dropOne=0,\n",
        "                batchOne=False,\n",
        "                batchTwo=False,\n",
        "                ):\n",
        "\n",
        "  model = Sequential()\n",
        "  model.add(Dropout(dropOne, input_shape=(60,)))\n",
        "  if batchOne:\n",
        "    model.add(BatchNormalization())\n",
        "  model.add(Dense(40, activation='relu'))\n",
        "\n",
        "  for ii in range(layer): \n",
        "    model.add(Dropout(dropTwo))\n",
        "    model.add(Dense(neurons, activation=activ))\n",
        "    if batchTwo:\n",
        "      model.add(BatchNormalization())\n",
        "\n",
        "  model.add(Dense(1, activation='sigmoid'))\n",
        "\n",
        "  model.compile(loss=\"binary_crossentropy\",\n",
        "                optimizer=Adam(lr=0.001),\n",
        "                metrics=[\"accuracy\"])\n",
        "  \n",
        "  return model"
      ],
      "execution_count": null,
      "outputs": []
    },
    {
      "cell_type": "code",
      "metadata": {
        "id": "XFpOHw8UV-pF"
      },
      "source": [
        "def showAccuracy(history):\n",
        "  plt.plot(history.history[\"accuracy\"],\n",
        "           label=\"Точность на обучающей выборке.\")\n",
        "  plt.plot(history.history[\"val_accuracy\"],\n",
        "           label=\"Точность на тестовой выборке.\")\n",
        "  \n",
        "  plt.xlabel(\"Эпоха обучения\")\n",
        "  plt.ylabel(\"Точность модели\")\n",
        "\n",
        "  plt.legend()\n",
        "  plt.show()\n",
        "\n",
        "\n",
        "def showLoss(history):\n",
        "  plt.plot(history.history[\"loss\"],\n",
        "           label=\"Ошибка на проверочной выборке.\")\n",
        "  plt.plot(history.history[\"val_loss\"],\n",
        "           label=\"Ошибка на тестовой выборке.\")\n",
        "  \n",
        "  plt.xlabel(\"Эпоха обучения\")\n",
        "  plt.ylabel(\"Ошибка\")\n",
        "\n",
        "  plt.legend()\n",
        "  plt.show()"
      ],
      "execution_count": null,
      "outputs": []
    },
    {
      "cell_type": "markdown",
      "metadata": {
        "id": "aZ5jHbKnL-ZI"
      },
      "source": [
        "# Работа с моделью"
      ]
    },
    {
      "cell_type": "markdown",
      "metadata": {
        "id": "8gxpIyv2MA_B"
      },
      "source": [
        "## Константы"
      ]
    },
    {
      "cell_type": "code",
      "metadata": {
        "id": "n_KjMn-_LkaI"
      },
      "source": [
        "# constants\n",
        "epochs = 150"
      ],
      "execution_count": null,
      "outputs": []
    },
    {
      "cell_type": "markdown",
      "metadata": {
        "id": "IL3M69yVMIDz"
      },
      "source": [
        "## Создание модели"
      ]
    },
    {
      "cell_type": "code",
      "metadata": {
        "id": "7AXqqoV0S3iA",
        "colab": {
          "base_uri": "https://localhost:8080/",
          "height": 1000
        },
        "outputId": "80a7c3a2-0e42-4dc0-b8b0-e091c9fbef9e"
      },
      "source": [
        "\n",
        "batch = 6\n",
        "\n",
        "result = []\n",
        "\n",
        "\n",
        "modelFour = createModel(layer=3, neurons=72)\n",
        "\n",
        "history = model.fit(xTrain,\n",
        "          yTrain,\n",
        "          batch_size=batch,\n",
        "          epochs=epochs,\n",
        "          validation_split=0.2,\n",
        "          verbose=1)\n",
        "\n",
        "showAccuracy(history)\n",
        "showLoss(history)\n",
        "\n",
        "score = model.evaluate(xTest, yTest, verbose=1)\n",
        "result.append(round(score[1], 4))\n",
        "print(f\"Точнось: {round(score[1], 4)}%\")"
      ],
      "execution_count": null,
      "outputs": [
        {
          "output_type": "stream",
          "name": "stdout",
          "text": [
            "Epoch 1/150\n",
            "22/22 [==============================] - 0s 5ms/step - loss: 0.0163 - accuracy: 0.9924 - val_loss: 1.0124 - val_accuracy: 0.8235\n",
            "Epoch 2/150\n",
            " 1/22 [>.............................] - ETA: 0s - loss: 0.0017 - accuracy: 1.0000"
          ]
        },
        {
          "output_type": "stream",
          "name": "stderr",
          "text": [
            "/usr/local/lib/python3.7/dist-packages/keras/optimizer_v2/optimizer_v2.py:356: UserWarning: The `lr` argument is deprecated, use `learning_rate` instead.\n",
            "  \"The `lr` argument is deprecated, use `learning_rate` instead.\")\n"
          ]
        },
        {
          "output_type": "stream",
          "name": "stdout",
          "text": [
            "22/22 [==============================] - 0s 5ms/step - loss: 0.0055 - accuracy: 1.0000 - val_loss: 0.9552 - val_accuracy: 0.8235\n",
            "Epoch 3/150\n",
            "22/22 [==============================] - 0s 4ms/step - loss: 0.0251 - accuracy: 0.9924 - val_loss: 1.0241 - val_accuracy: 0.8235\n",
            "Epoch 4/150\n",
            "22/22 [==============================] - 0s 4ms/step - loss: 5.1098e-04 - accuracy: 1.0000 - val_loss: 1.0432 - val_accuracy: 0.8235\n",
            "Epoch 5/150\n",
            "22/22 [==============================] - 0s 5ms/step - loss: 5.3798e-04 - accuracy: 1.0000 - val_loss: 1.0532 - val_accuracy: 0.8235\n",
            "Epoch 6/150\n",
            "22/22 [==============================] - 0s 4ms/step - loss: 0.0133 - accuracy: 0.9924 - val_loss: 1.0572 - val_accuracy: 0.8235\n",
            "Epoch 7/150\n",
            "22/22 [==============================] - 0s 4ms/step - loss: 0.0017 - accuracy: 1.0000 - val_loss: 1.0530 - val_accuracy: 0.8235\n",
            "Epoch 8/150\n",
            "22/22 [==============================] - 0s 3ms/step - loss: 5.7912e-04 - accuracy: 1.0000 - val_loss: 1.0720 - val_accuracy: 0.8235\n",
            "Epoch 9/150\n",
            "22/22 [==============================] - 0s 3ms/step - loss: 6.1913e-04 - accuracy: 1.0000 - val_loss: 1.0967 - val_accuracy: 0.8235\n",
            "Epoch 10/150\n",
            "22/22 [==============================] - 0s 5ms/step - loss: 0.0023 - accuracy: 1.0000 - val_loss: 1.0785 - val_accuracy: 0.8235\n",
            "Epoch 11/150\n",
            "22/22 [==============================] - 0s 4ms/step - loss: 0.0019 - accuracy: 1.0000 - val_loss: 1.0622 - val_accuracy: 0.8235\n",
            "Epoch 12/150\n",
            "22/22 [==============================] - 0s 3ms/step - loss: 0.0014 - accuracy: 1.0000 - val_loss: 1.0785 - val_accuracy: 0.8235\n",
            "Epoch 13/150\n",
            "22/22 [==============================] - 0s 5ms/step - loss: 4.0193e-05 - accuracy: 1.0000 - val_loss: 1.0848 - val_accuracy: 0.8235\n",
            "Epoch 14/150\n",
            "22/22 [==============================] - 0s 4ms/step - loss: 0.0037 - accuracy: 1.0000 - val_loss: 1.1014 - val_accuracy: 0.8235\n",
            "Epoch 15/150\n",
            "22/22 [==============================] - 0s 4ms/step - loss: 0.0022 - accuracy: 1.0000 - val_loss: 1.1210 - val_accuracy: 0.8235\n",
            "Epoch 16/150\n",
            "22/22 [==============================] - 0s 3ms/step - loss: 0.0163 - accuracy: 0.9924 - val_loss: 1.0938 - val_accuracy: 0.8235\n",
            "Epoch 17/150\n",
            "22/22 [==============================] - 0s 4ms/step - loss: 2.6010e-04 - accuracy: 1.0000 - val_loss: 1.0776 - val_accuracy: 0.8235\n",
            "Epoch 18/150\n",
            "22/22 [==============================] - 0s 3ms/step - loss: 0.0235 - accuracy: 0.9924 - val_loss: 1.0300 - val_accuracy: 0.8235\n",
            "Epoch 19/150\n",
            "22/22 [==============================] - 0s 4ms/step - loss: 0.0043 - accuracy: 1.0000 - val_loss: 0.6049 - val_accuracy: 0.8529\n",
            "Epoch 20/150\n",
            "22/22 [==============================] - 0s 3ms/step - loss: 0.0027 - accuracy: 1.0000 - val_loss: 0.7317 - val_accuracy: 0.8235\n",
            "Epoch 21/150\n",
            "22/22 [==============================] - 0s 3ms/step - loss: 0.0074 - accuracy: 0.9924 - val_loss: 0.8918 - val_accuracy: 0.8235\n",
            "Epoch 22/150\n",
            "22/22 [==============================] - 0s 4ms/step - loss: 0.0010 - accuracy: 1.0000 - val_loss: 0.8884 - val_accuracy: 0.8235\n",
            "Epoch 23/150\n",
            "22/22 [==============================] - 0s 4ms/step - loss: 4.5849e-04 - accuracy: 1.0000 - val_loss: 0.9140 - val_accuracy: 0.8235\n",
            "Epoch 24/150\n",
            "22/22 [==============================] - 0s 4ms/step - loss: 0.0046 - accuracy: 1.0000 - val_loss: 0.9377 - val_accuracy: 0.8235\n",
            "Epoch 25/150\n",
            "22/22 [==============================] - 0s 4ms/step - loss: 4.8777e-04 - accuracy: 1.0000 - val_loss: 0.9897 - val_accuracy: 0.8235\n",
            "Epoch 26/150\n",
            "22/22 [==============================] - 0s 3ms/step - loss: 0.0014 - accuracy: 1.0000 - val_loss: 1.0251 - val_accuracy: 0.8235\n",
            "Epoch 27/150\n",
            "22/22 [==============================] - 0s 4ms/step - loss: 1.0986e-04 - accuracy: 1.0000 - val_loss: 1.0506 - val_accuracy: 0.8235\n",
            "Epoch 28/150\n",
            "22/22 [==============================] - 0s 3ms/step - loss: 0.0018 - accuracy: 1.0000 - val_loss: 1.0962 - val_accuracy: 0.8235\n",
            "Epoch 29/150\n",
            "22/22 [==============================] - 0s 3ms/step - loss: 0.0011 - accuracy: 1.0000 - val_loss: 1.0785 - val_accuracy: 0.8235\n",
            "Epoch 30/150\n",
            "22/22 [==============================] - 0s 4ms/step - loss: 0.0028 - accuracy: 1.0000 - val_loss: 1.0531 - val_accuracy: 0.8235\n",
            "Epoch 31/150\n",
            "22/22 [==============================] - 0s 5ms/step - loss: 0.0010 - accuracy: 1.0000 - val_loss: 1.0637 - val_accuracy: 0.8235\n",
            "Epoch 32/150\n",
            "22/22 [==============================] - 0s 5ms/step - loss: 7.1641e-04 - accuracy: 1.0000 - val_loss: 1.0886 - val_accuracy: 0.8235\n",
            "Epoch 33/150\n",
            "22/22 [==============================] - 0s 4ms/step - loss: 0.0021 - accuracy: 1.0000 - val_loss: 1.1121 - val_accuracy: 0.8235\n",
            "Epoch 34/150\n",
            "22/22 [==============================] - 0s 4ms/step - loss: 1.9403e-04 - accuracy: 1.0000 - val_loss: 1.1145 - val_accuracy: 0.8235\n",
            "Epoch 35/150\n",
            "22/22 [==============================] - 0s 4ms/step - loss: 0.0010 - accuracy: 1.0000 - val_loss: 1.1461 - val_accuracy: 0.8235\n",
            "Epoch 36/150\n",
            "22/22 [==============================] - 0s 4ms/step - loss: 2.8672e-04 - accuracy: 1.0000 - val_loss: 1.1502 - val_accuracy: 0.8235\n",
            "Epoch 37/150\n",
            "22/22 [==============================] - 0s 5ms/step - loss: 1.3755e-04 - accuracy: 1.0000 - val_loss: 1.1415 - val_accuracy: 0.8235\n",
            "Epoch 38/150\n",
            "22/22 [==============================] - 0s 3ms/step - loss: 0.0103 - accuracy: 0.9924 - val_loss: 1.1050 - val_accuracy: 0.7647\n",
            "Epoch 39/150\n",
            "22/22 [==============================] - 0s 4ms/step - loss: 0.0155 - accuracy: 0.9924 - val_loss: 1.3931 - val_accuracy: 0.7647\n",
            "Epoch 40/150\n",
            "22/22 [==============================] - 0s 4ms/step - loss: 5.9340e-04 - accuracy: 1.0000 - val_loss: 1.4559 - val_accuracy: 0.7647\n",
            "Epoch 41/150\n",
            "22/22 [==============================] - 0s 5ms/step - loss: 0.0174 - accuracy: 0.9924 - val_loss: 1.4566 - val_accuracy: 0.7941\n",
            "Epoch 42/150\n",
            "22/22 [==============================] - 0s 3ms/step - loss: 0.0051 - accuracy: 1.0000 - val_loss: 1.5452 - val_accuracy: 0.7647\n",
            "Epoch 43/150\n",
            "22/22 [==============================] - 0s 4ms/step - loss: 0.0502 - accuracy: 0.9773 - val_loss: 1.4109 - val_accuracy: 0.7941\n",
            "Epoch 44/150\n",
            "22/22 [==============================] - 0s 4ms/step - loss: 0.0147 - accuracy: 0.9924 - val_loss: 1.1959 - val_accuracy: 0.7941\n",
            "Epoch 45/150\n",
            "22/22 [==============================] - 0s 4ms/step - loss: 0.0107 - accuracy: 1.0000 - val_loss: 1.3263 - val_accuracy: 0.7941\n",
            "Epoch 46/150\n",
            "22/22 [==============================] - 0s 4ms/step - loss: 0.0034 - accuracy: 1.0000 - val_loss: 1.3819 - val_accuracy: 0.7941\n",
            "Epoch 47/150\n",
            "22/22 [==============================] - 0s 3ms/step - loss: 4.7138e-04 - accuracy: 1.0000 - val_loss: 1.3735 - val_accuracy: 0.8235\n",
            "Epoch 48/150\n",
            "22/22 [==============================] - 0s 5ms/step - loss: 0.0044 - accuracy: 1.0000 - val_loss: 1.3364 - val_accuracy: 0.7941\n",
            "Epoch 49/150\n",
            "22/22 [==============================] - 0s 3ms/step - loss: 1.3620e-04 - accuracy: 1.0000 - val_loss: 1.3255 - val_accuracy: 0.7941\n",
            "Epoch 50/150\n",
            "22/22 [==============================] - 0s 5ms/step - loss: 1.6478e-04 - accuracy: 1.0000 - val_loss: 1.3266 - val_accuracy: 0.7941\n",
            "Epoch 51/150\n",
            "22/22 [==============================] - 0s 5ms/step - loss: 0.0312 - accuracy: 0.9924 - val_loss: 1.1642 - val_accuracy: 0.7941\n",
            "Epoch 52/150\n",
            "22/22 [==============================] - 0s 4ms/step - loss: 5.6123e-04 - accuracy: 1.0000 - val_loss: 1.1647 - val_accuracy: 0.7941\n",
            "Epoch 53/150\n",
            "22/22 [==============================] - 0s 4ms/step - loss: 6.5116e-04 - accuracy: 1.0000 - val_loss: 1.1744 - val_accuracy: 0.7941\n",
            "Epoch 54/150\n",
            "22/22 [==============================] - 0s 4ms/step - loss: 0.0100 - accuracy: 0.9924 - val_loss: 1.3042 - val_accuracy: 0.8235\n",
            "Epoch 55/150\n",
            "22/22 [==============================] - 0s 5ms/step - loss: 0.0029 - accuracy: 1.0000 - val_loss: 1.3325 - val_accuracy: 0.8235\n",
            "Epoch 56/150\n",
            "22/22 [==============================] - 0s 4ms/step - loss: 5.9151e-04 - accuracy: 1.0000 - val_loss: 1.3462 - val_accuracy: 0.8235\n",
            "Epoch 57/150\n",
            "22/22 [==============================] - 0s 3ms/step - loss: 0.0200 - accuracy: 0.9848 - val_loss: 1.3027 - val_accuracy: 0.8529\n",
            "Epoch 58/150\n",
            "22/22 [==============================] - 0s 5ms/step - loss: 7.8832e-04 - accuracy: 1.0000 - val_loss: 1.3038 - val_accuracy: 0.8529\n",
            "Epoch 59/150\n",
            "22/22 [==============================] - 0s 3ms/step - loss: 0.0039 - accuracy: 1.0000 - val_loss: 1.2646 - val_accuracy: 0.8529\n",
            "Epoch 60/150\n",
            "22/22 [==============================] - 0s 4ms/step - loss: 2.2595e-04 - accuracy: 1.0000 - val_loss: 1.2577 - val_accuracy: 0.8529\n",
            "Epoch 61/150\n",
            "22/22 [==============================] - 0s 4ms/step - loss: 0.0142 - accuracy: 0.9924 - val_loss: 1.2612 - val_accuracy: 0.8529\n",
            "Epoch 62/150\n",
            "22/22 [==============================] - 0s 4ms/step - loss: 1.3020e-04 - accuracy: 1.0000 - val_loss: 1.2705 - val_accuracy: 0.8529\n",
            "Epoch 63/150\n",
            "22/22 [==============================] - 0s 4ms/step - loss: 0.0034 - accuracy: 1.0000 - val_loss: 1.2464 - val_accuracy: 0.8235\n",
            "Epoch 64/150\n",
            "22/22 [==============================] - 0s 3ms/step - loss: 0.0070 - accuracy: 0.9924 - val_loss: 1.3100 - val_accuracy: 0.8235\n",
            "Epoch 65/150\n",
            "22/22 [==============================] - 0s 4ms/step - loss: 0.0059 - accuracy: 1.0000 - val_loss: 1.3280 - val_accuracy: 0.8235\n",
            "Epoch 66/150\n",
            "22/22 [==============================] - 0s 4ms/step - loss: 5.5854e-04 - accuracy: 1.0000 - val_loss: 1.4040 - val_accuracy: 0.8529\n",
            "Epoch 67/150\n",
            "22/22 [==============================] - 0s 4ms/step - loss: 1.9498e-04 - accuracy: 1.0000 - val_loss: 1.5024 - val_accuracy: 0.8529\n",
            "Epoch 68/150\n",
            "22/22 [==============================] - 0s 4ms/step - loss: 0.0228 - accuracy: 0.9848 - val_loss: 0.9975 - val_accuracy: 0.8235\n",
            "Epoch 69/150\n",
            "22/22 [==============================] - 0s 3ms/step - loss: 0.0548 - accuracy: 0.9924 - val_loss: 0.9159 - val_accuracy: 0.7941\n",
            "Epoch 70/150\n",
            "22/22 [==============================] - 0s 3ms/step - loss: 0.0056 - accuracy: 1.0000 - val_loss: 0.6289 - val_accuracy: 0.8235\n",
            "Epoch 71/150\n",
            "22/22 [==============================] - 0s 4ms/step - loss: 0.0273 - accuracy: 0.9848 - val_loss: 1.1809 - val_accuracy: 0.7647\n",
            "Epoch 72/150\n",
            "22/22 [==============================] - 0s 4ms/step - loss: 0.0149 - accuracy: 0.9924 - val_loss: 1.3036 - val_accuracy: 0.7647\n",
            "Epoch 73/150\n",
            "22/22 [==============================] - 0s 4ms/step - loss: 0.0029 - accuracy: 1.0000 - val_loss: 1.2360 - val_accuracy: 0.7353\n",
            "Epoch 74/150\n",
            "22/22 [==============================] - 0s 4ms/step - loss: 0.0445 - accuracy: 0.9773 - val_loss: 1.3270 - val_accuracy: 0.7647\n",
            "Epoch 75/150\n",
            "22/22 [==============================] - 0s 5ms/step - loss: 0.0164 - accuracy: 0.9924 - val_loss: 0.8586 - val_accuracy: 0.7647\n",
            "Epoch 76/150\n",
            "22/22 [==============================] - 0s 3ms/step - loss: 0.0558 - accuracy: 0.9773 - val_loss: 1.2776 - val_accuracy: 0.7647\n",
            "Epoch 77/150\n",
            "22/22 [==============================] - 0s 5ms/step - loss: 0.0145 - accuracy: 0.9924 - val_loss: 1.0395 - val_accuracy: 0.8235\n",
            "Epoch 78/150\n",
            "22/22 [==============================] - 0s 4ms/step - loss: 0.0058 - accuracy: 1.0000 - val_loss: 0.9458 - val_accuracy: 0.8235\n",
            "Epoch 79/150\n",
            "22/22 [==============================] - 0s 4ms/step - loss: 0.0024 - accuracy: 1.0000 - val_loss: 0.9464 - val_accuracy: 0.8235\n",
            "Epoch 80/150\n",
            "22/22 [==============================] - 0s 4ms/step - loss: 0.0181 - accuracy: 0.9848 - val_loss: 1.3148 - val_accuracy: 0.7941\n",
            "Epoch 81/150\n",
            "22/22 [==============================] - 0s 4ms/step - loss: 0.0063 - accuracy: 1.0000 - val_loss: 1.1765 - val_accuracy: 0.8235\n",
            "Epoch 82/150\n",
            "22/22 [==============================] - 0s 5ms/step - loss: 0.0037 - accuracy: 1.0000 - val_loss: 0.8635 - val_accuracy: 0.8235\n",
            "Epoch 83/150\n",
            "22/22 [==============================] - 0s 5ms/step - loss: 0.0309 - accuracy: 0.9924 - val_loss: 0.9963 - val_accuracy: 0.8235\n",
            "Epoch 84/150\n",
            "22/22 [==============================] - 0s 4ms/step - loss: 0.0013 - accuracy: 1.0000 - val_loss: 1.3111 - val_accuracy: 0.8235\n",
            "Epoch 85/150\n",
            "22/22 [==============================] - 0s 3ms/step - loss: 0.0133 - accuracy: 0.9924 - val_loss: 1.2284 - val_accuracy: 0.8529\n",
            "Epoch 86/150\n",
            "22/22 [==============================] - 0s 3ms/step - loss: 0.0043 - accuracy: 1.0000 - val_loss: 1.0978 - val_accuracy: 0.8529\n",
            "Epoch 87/150\n",
            "22/22 [==============================] - 0s 5ms/step - loss: 0.0012 - accuracy: 1.0000 - val_loss: 1.1242 - val_accuracy: 0.8529\n",
            "Epoch 88/150\n",
            "22/22 [==============================] - 0s 4ms/step - loss: 0.0117 - accuracy: 0.9924 - val_loss: 1.1435 - val_accuracy: 0.8529\n",
            "Epoch 89/150\n",
            "22/22 [==============================] - 0s 6ms/step - loss: 0.0033 - accuracy: 1.0000 - val_loss: 1.1496 - val_accuracy: 0.8529\n",
            "Epoch 90/150\n",
            "22/22 [==============================] - 0s 4ms/step - loss: 0.0047 - accuracy: 1.0000 - val_loss: 1.3102 - val_accuracy: 0.8529\n",
            "Epoch 91/150\n",
            "22/22 [==============================] - 0s 4ms/step - loss: 0.0028 - accuracy: 1.0000 - val_loss: 1.3093 - val_accuracy: 0.8529\n",
            "Epoch 92/150\n",
            "22/22 [==============================] - 0s 5ms/step - loss: 0.0122 - accuracy: 0.9924 - val_loss: 1.2275 - val_accuracy: 0.8235\n",
            "Epoch 93/150\n",
            "22/22 [==============================] - 0s 4ms/step - loss: 0.0200 - accuracy: 0.9924 - val_loss: 1.3408 - val_accuracy: 0.8529\n",
            "Epoch 94/150\n",
            "22/22 [==============================] - 0s 5ms/step - loss: 0.0096 - accuracy: 1.0000 - val_loss: 1.1355 - val_accuracy: 0.8235\n",
            "Epoch 95/150\n",
            "22/22 [==============================] - 0s 4ms/step - loss: 0.0018 - accuracy: 1.0000 - val_loss: 1.1192 - val_accuracy: 0.8235\n",
            "Epoch 96/150\n",
            "22/22 [==============================] - 0s 5ms/step - loss: 0.0136 - accuracy: 0.9924 - val_loss: 0.7768 - val_accuracy: 0.8235\n",
            "Epoch 97/150\n",
            "22/22 [==============================] - 0s 4ms/step - loss: 0.0026 - accuracy: 1.0000 - val_loss: 0.6387 - val_accuracy: 0.7941\n",
            "Epoch 98/150\n",
            "22/22 [==============================] - 0s 4ms/step - loss: 0.0110 - accuracy: 0.9924 - val_loss: 1.4760 - val_accuracy: 0.8235\n",
            "Epoch 99/150\n",
            "22/22 [==============================] - 0s 5ms/step - loss: 0.0070 - accuracy: 1.0000 - val_loss: 1.3786 - val_accuracy: 0.8235\n",
            "Epoch 100/150\n",
            "22/22 [==============================] - 0s 5ms/step - loss: 0.0011 - accuracy: 1.0000 - val_loss: 1.3593 - val_accuracy: 0.8235\n",
            "Epoch 101/150\n",
            "22/22 [==============================] - 0s 4ms/step - loss: 0.0018 - accuracy: 1.0000 - val_loss: 1.3609 - val_accuracy: 0.8235\n",
            "Epoch 102/150\n",
            "22/22 [==============================] - 0s 5ms/step - loss: 0.0010 - accuracy: 1.0000 - val_loss: 1.4713 - val_accuracy: 0.8235\n",
            "Epoch 103/150\n",
            "22/22 [==============================] - 0s 3ms/step - loss: 6.6322e-04 - accuracy: 1.0000 - val_loss: 1.5098 - val_accuracy: 0.8235\n",
            "Epoch 104/150\n",
            "22/22 [==============================] - 0s 4ms/step - loss: 1.5016e-05 - accuracy: 1.0000 - val_loss: 1.5286 - val_accuracy: 0.8235\n",
            "Epoch 105/150\n",
            "22/22 [==============================] - 0s 3ms/step - loss: 0.0019 - accuracy: 1.0000 - val_loss: 1.5285 - val_accuracy: 0.8235\n",
            "Epoch 106/150\n",
            "22/22 [==============================] - 0s 3ms/step - loss: 0.0017 - accuracy: 1.0000 - val_loss: 1.5338 - val_accuracy: 0.8235\n",
            "Epoch 107/150\n",
            "22/22 [==============================] - 0s 5ms/step - loss: 9.7847e-04 - accuracy: 1.0000 - val_loss: 1.5417 - val_accuracy: 0.8235\n",
            "Epoch 108/150\n",
            "22/22 [==============================] - 0s 5ms/step - loss: 3.5458e-04 - accuracy: 1.0000 - val_loss: 1.5430 - val_accuracy: 0.8235\n",
            "Epoch 109/150\n",
            "22/22 [==============================] - 0s 4ms/step - loss: 0.0023 - accuracy: 1.0000 - val_loss: 1.5565 - val_accuracy: 0.8235\n",
            "Epoch 110/150\n",
            "22/22 [==============================] - 0s 4ms/step - loss: 0.0201 - accuracy: 0.9924 - val_loss: 1.6652 - val_accuracy: 0.7941\n",
            "Epoch 111/150\n",
            "22/22 [==============================] - 0s 5ms/step - loss: 0.0069 - accuracy: 1.0000 - val_loss: 1.6653 - val_accuracy: 0.8235\n",
            "Epoch 112/150\n",
            "22/22 [==============================] - 0s 5ms/step - loss: 5.6220e-04 - accuracy: 1.0000 - val_loss: 1.6449 - val_accuracy: 0.8235\n",
            "Epoch 113/150\n",
            "22/22 [==============================] - 0s 4ms/step - loss: 0.0037 - accuracy: 1.0000 - val_loss: 1.6085 - val_accuracy: 0.8235\n",
            "Epoch 114/150\n",
            "22/22 [==============================] - 0s 4ms/step - loss: 0.0041 - accuracy: 1.0000 - val_loss: 1.6308 - val_accuracy: 0.8235\n",
            "Epoch 115/150\n",
            "22/22 [==============================] - 0s 4ms/step - loss: 4.2660e-04 - accuracy: 1.0000 - val_loss: 1.6498 - val_accuracy: 0.8235\n",
            "Epoch 116/150\n",
            "22/22 [==============================] - 0s 4ms/step - loss: 4.6063e-04 - accuracy: 1.0000 - val_loss: 1.6596 - val_accuracy: 0.8235\n",
            "Epoch 117/150\n",
            "22/22 [==============================] - 0s 4ms/step - loss: 0.0241 - accuracy: 0.9924 - val_loss: 1.4777 - val_accuracy: 0.8235\n",
            "Epoch 118/150\n",
            "22/22 [==============================] - 0s 3ms/step - loss: 4.0023e-04 - accuracy: 1.0000 - val_loss: 1.3889 - val_accuracy: 0.8235\n",
            "Epoch 119/150\n",
            "22/22 [==============================] - 0s 5ms/step - loss: 7.3184e-04 - accuracy: 1.0000 - val_loss: 1.3871 - val_accuracy: 0.8235\n",
            "Epoch 120/150\n",
            "22/22 [==============================] - 0s 6ms/step - loss: 0.0172 - accuracy: 0.9924 - val_loss: 1.0795 - val_accuracy: 0.8235\n",
            "Epoch 121/150\n",
            "22/22 [==============================] - 0s 5ms/step - loss: 0.0107 - accuracy: 0.9924 - val_loss: 1.1014 - val_accuracy: 0.8235\n",
            "Epoch 122/150\n",
            "22/22 [==============================] - 0s 5ms/step - loss: 8.5550e-04 - accuracy: 1.0000 - val_loss: 1.2462 - val_accuracy: 0.8235\n",
            "Epoch 123/150\n",
            "22/22 [==============================] - 0s 4ms/step - loss: 0.0018 - accuracy: 1.0000 - val_loss: 1.1765 - val_accuracy: 0.7941\n",
            "Epoch 124/150\n",
            "22/22 [==============================] - 0s 4ms/step - loss: 0.0051 - accuracy: 1.0000 - val_loss: 1.2095 - val_accuracy: 0.7941\n",
            "Epoch 125/150\n",
            "22/22 [==============================] - 0s 4ms/step - loss: 4.8557e-04 - accuracy: 1.0000 - val_loss: 1.4927 - val_accuracy: 0.8235\n",
            "Epoch 126/150\n",
            "22/22 [==============================] - 0s 5ms/step - loss: 0.0171 - accuracy: 0.9924 - val_loss: 1.4179 - val_accuracy: 0.8235\n",
            "Epoch 127/150\n",
            "22/22 [==============================] - 0s 4ms/step - loss: 0.0193 - accuracy: 0.9924 - val_loss: 1.0261 - val_accuracy: 0.8235\n",
            "Epoch 128/150\n",
            "22/22 [==============================] - 0s 4ms/step - loss: 0.0176 - accuracy: 0.9924 - val_loss: 1.2205 - val_accuracy: 0.8235\n",
            "Epoch 129/150\n",
            "22/22 [==============================] - 0s 4ms/step - loss: 6.0044e-04 - accuracy: 1.0000 - val_loss: 1.2439 - val_accuracy: 0.8235\n",
            "Epoch 130/150\n",
            "22/22 [==============================] - 0s 5ms/step - loss: 0.0090 - accuracy: 0.9924 - val_loss: 1.1999 - val_accuracy: 0.8235\n",
            "Epoch 131/150\n",
            "22/22 [==============================] - 0s 4ms/step - loss: 0.0049 - accuracy: 1.0000 - val_loss: 1.2697 - val_accuracy: 0.8235\n",
            "Epoch 132/150\n",
            "22/22 [==============================] - 0s 4ms/step - loss: 0.0140 - accuracy: 0.9924 - val_loss: 1.3254 - val_accuracy: 0.8235\n",
            "Epoch 133/150\n",
            "22/22 [==============================] - 0s 5ms/step - loss: 0.0133 - accuracy: 1.0000 - val_loss: 0.5595 - val_accuracy: 0.8235\n",
            "Epoch 134/150\n",
            "22/22 [==============================] - 0s 3ms/step - loss: 0.0026 - accuracy: 1.0000 - val_loss: 0.5811 - val_accuracy: 0.8529\n",
            "Epoch 135/150\n",
            "22/22 [==============================] - 0s 6ms/step - loss: 0.0052 - accuracy: 1.0000 - val_loss: 0.6268 - val_accuracy: 0.8529\n",
            "Epoch 136/150\n",
            "22/22 [==============================] - 0s 5ms/step - loss: 0.0257 - accuracy: 0.9924 - val_loss: 0.6158 - val_accuracy: 0.7941\n",
            "Epoch 137/150\n",
            "22/22 [==============================] - 0s 4ms/step - loss: 0.0025 - accuracy: 1.0000 - val_loss: 1.0024 - val_accuracy: 0.8235\n",
            "Epoch 138/150\n",
            "22/22 [==============================] - 0s 3ms/step - loss: 0.0251 - accuracy: 0.9924 - val_loss: 2.1957 - val_accuracy: 0.7941\n",
            "Epoch 139/150\n",
            "22/22 [==============================] - 0s 4ms/step - loss: 0.0089 - accuracy: 1.0000 - val_loss: 2.0024 - val_accuracy: 0.8235\n",
            "Epoch 140/150\n",
            "22/22 [==============================] - 0s 4ms/step - loss: 0.0105 - accuracy: 1.0000 - val_loss: 2.0611 - val_accuracy: 0.7941\n",
            "Epoch 141/150\n",
            "22/22 [==============================] - 0s 5ms/step - loss: 0.0197 - accuracy: 1.0000 - val_loss: 1.7945 - val_accuracy: 0.7941\n",
            "Epoch 142/150\n",
            "22/22 [==============================] - 0s 3ms/step - loss: 0.0650 - accuracy: 0.9773 - val_loss: 1.8168 - val_accuracy: 0.7647\n",
            "Epoch 143/150\n",
            "22/22 [==============================] - 0s 4ms/step - loss: 0.0846 - accuracy: 0.9848 - val_loss: 1.4450 - val_accuracy: 0.8235\n",
            "Epoch 144/150\n",
            "22/22 [==============================] - 0s 4ms/step - loss: 0.0300 - accuracy: 0.9924 - val_loss: 1.5329 - val_accuracy: 0.8235\n",
            "Epoch 145/150\n",
            "22/22 [==============================] - 0s 5ms/step - loss: 0.0055 - accuracy: 1.0000 - val_loss: 1.5456 - val_accuracy: 0.8235\n",
            "Epoch 146/150\n",
            "22/22 [==============================] - 0s 6ms/step - loss: 0.0100 - accuracy: 0.9924 - val_loss: 1.5573 - val_accuracy: 0.8235\n",
            "Epoch 147/150\n",
            "22/22 [==============================] - 0s 5ms/step - loss: 0.0767 - accuracy: 0.9621 - val_loss: 1.3447 - val_accuracy: 0.7941\n",
            "Epoch 148/150\n",
            "22/22 [==============================] - 0s 4ms/step - loss: 0.0212 - accuracy: 0.9924 - val_loss: 1.4293 - val_accuracy: 0.7941\n",
            "Epoch 149/150\n",
            "22/22 [==============================] - 0s 4ms/step - loss: 0.0152 - accuracy: 0.9924 - val_loss: 1.4820 - val_accuracy: 0.7941\n",
            "Epoch 150/150\n",
            "22/22 [==============================] - 0s 4ms/step - loss: 0.0056 - accuracy: 1.0000 - val_loss: 1.5235 - val_accuracy: 0.7941\n"
          ]
        },
        {
          "output_type": "display_data",
          "data": {
            "image/png": "[encoded data removed]",
            "text/plain": [
              "<Figure size 432x288 with 1 Axes>"
            ]
          },
          "metadata": {
            "needs_background": "light"
          }
        },
        {
          "output_type": "display_data",
          "data": {
            "image/png": "[encoded data removed]",
            "text/plain": [
              "<Figure size 432x288 with 1 Axes>"
            ]
          },
          "metadata": {
            "needs_background": "light"
          }
        },
        {
          "output_type": "stream",
          "name": "stdout",
          "text": [
            "2/2 [==============================] - 0s 16ms/step - loss: 1.2747 - accuracy: 0.9048\n",
            "Точнось: 0.9048%\n"
          ]
        }
      ]
    }
  ]
}