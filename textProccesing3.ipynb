{
  "nbformat": 4,
  "nbformat_minor": 0,
  "metadata": {
    "colab": {
      "provenance": []
    },
    "kernelspec": {
      "display_name": "Python 3",
      "name": "python3"
    },
    "language_info": {
      "name": "python"
    }
  },
  "cells": [
    {
      "cell_type": "markdown",
      "metadata": {
        "id": "h5fCeVBUbAJG"
      },
      "source": [
        "# Установка требуемых библиотек"
      ]
    },
    {
      "cell_type": "code",
      "metadata": {
        "id": "oW5oD5op5GET"
      },
      "source": [
        "from google.colab import files\n",
        "import numpy as np\n",
        "import pandas as pd\n",
        "import matplotlib.pyplot as plt\n",
        "import os\n",
        "%matplotlib inline\n",
        "\n",
        "from tensorflow.keras import utils\n",
        "from tensorflow.keras.models import Sequential\n",
        "from tensorflow.keras.layers import Dense, Dropout, SpatialDropout1D, BatchNormalization, Embedding, Flatten, Activation\n",
        "from tensorflow.keras.preprocessing.text import Tokenizer\n",
        "from tensorflow.keras.preprocessing.sequence import pad_sequences\n",
        "from tensorflow.keras.optimizers import Adam\n",
        "\n",
        "from sklearn.preprocessing import LabelEncoder\n",
        "from sklearn.model_selection import train_test_split\n",
        "from google.colab import drive\n",
        "import time\n",
        "import seaborn as sns\n",
        "sns.set_style('darkgrid')"
      ],
      "execution_count": null,
      "outputs": []
    },
    {
      "cell_type": "markdown",
      "metadata": {
        "id": "iDEmeBa-bHcb"
      },
      "source": [
        "# Подготовка данных"
      ]
    },
    {
      "cell_type": "code",
      "metadata": {
        "colab": {
          "base_uri": "https://localhost:8080/"
        },
        "id": "0E29iOqv8tzK",
        "outputId": "5606f43d-06f6-46c3-a8af-a09897ca1964"
      },
      "source": [
        "drive.mount('/content/drive')"
      ],
      "execution_count": null,
      "outputs": [
        {
          "output_type": "stream",
          "name": "stdout",
          "text": [
            "Drive already mounted at /content/drive; to attempt to forcibly remount, call drive.mount(\"/content/drive\", force_remount=True).\n"
          ]
        }
      ]
    },
    {
      "cell_type": "code",
      "metadata": {
        "colab": {
          "base_uri": "https://localhost:8080/"
        },
        "id": "j6B3FbjxIPCq",
        "outputId": "3d48eeab-4072-4567-9f79-cb3e41d78e64"
      },
      "source": [
        "from google.colab import drive\n",
        "drive.mount('/content/drive')"
      ],
      "execution_count": null,
      "outputs": [
        {
          "output_type": "stream",
          "name": "stdout",
          "text": [
            "Drive already mounted at /content/drive; to attempt to forcibly remount, call drive.mount(\"/content/drive\", force_remount=True).\n"
          ]
        }
      ]
    },
    {
      "cell_type": "code",
      "metadata": {
        "id": "UI_a0Igp7ILU"
      },
      "source": [
        "!rm -R '/content/texts'"
      ],
      "execution_count": null,
      "outputs": []
    },
    {
      "cell_type": "code",
      "metadata": {
        "id": "LwXBp2Xj7Lkc"
      },
      "source": [
        "!unzip -q '/content/drive/MyDrive/Lessons/Lesson4/Тексты писателей.zip' -d '/content/texts'"
      ],
      "execution_count": null,
      "outputs": []
    },
    {
      "cell_type": "code",
      "metadata": {
        "id": "IfaHTolk7Vgi"
      },
      "source": [
        "def readText(fileName):\n",
        "  f = open(fileName, 'r')\n",
        "  text = f.read()\n",
        "  text = text.replace(\"\\n\", \" \")\n",
        "  \n",
        "  return text         \n",
        "\n",
        "className = [\"О. Генри\", \"Стругацкие\", \"Булгаков\", \"Саймак\", \"Фрай\", \"Брэдберри\"]\n",
        "nClasses = len(className)"
      ],
      "execution_count": null,
      "outputs": []
    },
    {
      "cell_type": "code",
      "metadata": {
        "colab": {
          "base_uri": "https://localhost:8080/"
        },
        "id": "nNvnE6lj7k1C",
        "outputId": "eb4ace7e-bc7f-4091-da3b-a8012f062097"
      },
      "source": [
        "trainText = []\n",
        "testText = []\n",
        "\n",
        "for i in className:\n",
        "  for j in os.listdir('texts/Тексты писателей'):\n",
        "    if i in j:\n",
        "      \n",
        "      if 'Обучающая' in j:  \n",
        "        trainText.append(readText('texts/Тексты писателей/' + j))\n",
        "        print(j, 'добавлен в обучающую выборку')\n",
        "      if 'Тестовая' in j:\n",
        "        testText.append(readText('texts/Тексты писателей/' + j)) \n",
        "        print(j, 'добавлен в тестовую выборку')\n",
        "  print()"
      ],
      "execution_count": null,
      "outputs": [
        {
          "output_type": "stream",
          "name": "stdout",
          "text": [
            "(О. Генри) Обучающая_50 вместе.txt добавлен в обучающую выборку\n",
            "(О. Генри) Тестовая_20 вместе.txt добавлен в тестовую выборку\n",
            "\n",
            "(Стругацкие) Обучающая_5 вместе.txt добавлен в обучающую выборку\n",
            "(Стругацкие) Тестовая_2 вместе.txt добавлен в тестовую выборку\n",
            "\n",
            "(Булгаков) Обучающая_5 вместе.txt добавлен в обучающую выборку\n",
            "(Булгаков) Тестовая_2 вместе.txt добавлен в тестовую выборку\n",
            "\n",
            "(Клиффорд_Саймак) Тестовая_2 вместе.txt добавлен в тестовую выборку\n",
            "(Клиффорд_Саймак) Обучающая_5 вместе.txt добавлен в обучающую выборку\n",
            "\n",
            "(Макс Фрай) Обучающая_5 вместе.txt добавлен в обучающую выборку\n",
            "(Макс Фрай) Тестовая_2 вместе.txt добавлен в тестовую выборку\n",
            "\n",
            "(Рэй Брэдберри) Обучающая_22 вместе.txt добавлен в обучающую выборку\n",
            "(Рэй Брэдберри) Тестовая_8 вместе.txt добавлен в тестовую выборку\n",
            "\n"
          ]
        }
      ]
    },
    {
      "cell_type": "code",
      "metadata": {
        "id": "om5VJJ-bNhiE"
      },
      "source": [
        "checkData = trainText"
      ],
      "execution_count": null,
      "outputs": []
    },
    {
      "cell_type": "markdown",
      "metadata": {
        "id": "LIg4yiSUcZFM"
      },
      "source": [
        "# Работа с данными"
      ]
    },
    {
      "cell_type": "markdown",
      "metadata": {
        "id": "C9y4o8MoeiRw"
      },
      "source": [
        "## Вспомогательные функции"
      ]
    },
    {
      "cell_type": "code",
      "metadata": {
        "id": "HKJjQvWBelSO"
      },
      "source": [
        "def getSetFromIndexes(wordIndexes, xLen, step):\n",
        "  xSample = []\n",
        "  wordsLen = len(wordIndexes)\n",
        "  index = 0\n",
        "  while (index + xLen <= wordsLen):\n",
        "    xSample.append(wordIndexes[index:index+xLen])\n",
        "    index += step\n",
        "  return xSample"
      ],
      "execution_count": null,
      "outputs": []
    },
    {
      "cell_type": "code",
      "metadata": {
        "id": "8FSsQW--elvU"
      },
      "source": [
        "def createSetsMultiClasses(wordIndexes, xLen, step):\n",
        "\n",
        "  nClasses = len(wordIndexes)\n",
        "  classesXSamples = []\n",
        "  for wI in wordIndexes:\n",
        "    classesXSamples.append(getSetFromIndexes(wI, xLen, step))\n",
        "\n",
        "  xSamples = []\n",
        "  ySamples = []\n",
        "  \n",
        "  for t in range(nClasses):\n",
        "    xT = classesXSamples[t]\n",
        "    for i in range(len(xT)):\n",
        "\n",
        "      xSamples.append(xT[i])\n",
        "      ySamples.append(utils.to_categorical(t, nClasses))\n",
        "\n",
        "  xSamples = np.array(xSamples)\n",
        "  ySamples = np.array(ySamples)\n",
        "\n",
        "  \n",
        "  return (xSamples, ySamples)"
      ],
      "execution_count": null,
      "outputs": []
    },
    {
      "cell_type": "code",
      "metadata": {
        "id": "t14goDjwiF8X"
      },
      "source": [
        "def createTestMultiClasses(wordIndexes, xLen, step, tokenizer):\n",
        "\n",
        "  nClasses = len(wordIndexes)\n",
        "  xTest6Classes01 = []\n",
        "  xTest6Classes = []\n",
        "  for wI in wordIndexes:\n",
        "    sample = getSetFromIndexes(wI, xLen, step)\n",
        "    xTest6Classes.append(sample)\n",
        "    xTest6Classes01.append(tokenizer.sequences_to_matrix(sample))\n",
        "  xTest6Classes01 = np.array(xTest6Classes01)\n",
        "  xTest6Classes = np.array(xTest6Classes)\n",
        "  \n",
        "  return xTest6Classes01, xTest6Classes\n"
      ],
      "execution_count": null,
      "outputs": []
    },
    {
      "cell_type": "code",
      "metadata": {
        "id": "OeNlYtWRh7OR"
      },
      "source": [
        "def recognizeMultiClass(model, xTest, modelName):\n",
        "  print(\"НЕЙРОНКА: \", modelName)\n",
        "  print('-'*20)\n",
        "  \n",
        "  totalSumRec = 0\n",
        "  \n",
        "  for i in range(nClasses):\n",
        "    currPred = model.predict(xTest[i])\n",
        "\n",
        "    currOut = np.argmax(currPred, axis=1)\n",
        "\n",
        "    evVal = []\n",
        "    for j in range(nClasses):\n",
        "      evVal.append(len(currOut[currOut==j])/len(xTest[i]))\n",
        "\n",
        "    totalSumRec += len(currOut[currOut==i])\n",
        "    recognizedClass = np.argmax(evVal)\n",
        "    \n",
        "    isRecognized = \"Это НЕПРАВИЛЬНЫЙ ответ!\"\n",
        "    if (recognizedClass == i):\n",
        "      isRecognized = \"Это ПРАВИЛЬНЫЙ ответ!\"\n",
        "    str1 = 'Класс: ' + className[i] + \" \" * (11 - len(className[i])) + str(int(100*evVal[i])) + \"% сеть отнесла к классу \" + className[recognizedClass]\n",
        "    print(str1, \" \" * (55-len(str1)), isRecognized, sep='')\n",
        "  \n",
        "  print()\n",
        "  sumCount = 0\n",
        "  for i in range(nClasses):\n",
        "    sumCount += len(xTest[i])\n",
        "  print(\"Средний процент распознавания \",\n",
        "        int(100*totalSumRec/sumCount),\n",
        "        \"%\",\n",
        "        sep='')\n",
        "\n",
        "  print()\n",
        "  \n",
        "  return totalSumRec/sumCount"
      ],
      "execution_count": null,
      "outputs": []
    },
    {
      "cell_type": "code",
      "metadata": {
        "id": "YdluvZFrIw5F"
      },
      "source": [
        "# Отображение графика\n",
        "def showTable(history):\n",
        "  plt.plot(history.history['accuracy'], \n",
        "          label='Доля верных ответов на обучающем наборе')\n",
        "  plt.plot(history.history['val_accuracy'], \n",
        "          label='Доля верных ответов на проверочном наборе')\n",
        "  plt.xlabel('Эпоха обучения')\n",
        "  plt.ylabel('Доля верных ответов')\n",
        "  plt.legend()\n",
        "  plt.show()\n",
        "\n",
        "  plt.plot(history.history['loss'], \n",
        "          label='Доля ошибок на обучающем наборе')\n",
        "  plt.plot(history.history['val_loss'], \n",
        "          label='Доля ошибок на проверочном наборе')\n",
        "  plt.xlabel('Эпоха обучения')\n",
        "  plt.ylabel('Доля ошибок ответов')\n",
        "  plt.legend()\n",
        "  plt.show()\n",
        "  "
      ],
      "execution_count": null,
      "outputs": []
    },
    {
      "cell_type": "markdown",
      "metadata": {
        "id": "txvaURcaeoSo"
      },
      "source": [
        "## Основная функция"
      ]
    },
    {
      "cell_type": "code",
      "metadata": {
        "id": "_JR0Icvb_ImZ"
      },
      "source": [
        "def takeData(maxWordsCount=10000, level=False):\n",
        "  cur_time = time.time() \n",
        "\n",
        "  tokenizer = Tokenizer(num_words=maxWordsCount,\n",
        "                        filters='!\"#$%&()*+,-–—./…:;<=>?@[\\\\]^_`{|}~«»\\t\\n\\xa0\\ufeff',\n",
        "                        lower=True,\n",
        "                        split=' ',\n",
        "                        oov_token='unknown',\n",
        "                        char_level=False)\n",
        "\n",
        "  tokenizer.fit_on_texts(trainText)\n",
        "  print('Время обработки: ', round(time.time() - cur_time, 2), 'c', sep='')\n",
        "\n",
        "  trainWordIndexes = tokenizer.texts_to_sequences(trainText)\n",
        "  testWordIndexes = tokenizer.texts_to_sequences(testText)\n",
        "\n",
        "  # Задаем гиперпараметры для функции\n",
        "  xLen = 5000\n",
        "  step = 500\n",
        "\n",
        "  Test, x2 = createTestMultiClasses(testWordIndexes, xLen, step, tokenizer)\n",
        "\n",
        "  cur_time = time.time()\n",
        "\n",
        "  xTrain, yTrain = createSetsMultiClasses(trainWordIndexes, xLen, step)\n",
        "  xTest, yTest = createSetsMultiClasses(testWordIndexes, xLen, step)\n",
        "\n",
        "  print('Время обработки: ', round(time.time() - cur_time, 2), 'c', sep='')\n",
        "\n",
        "  if level:\n",
        "    return xTrain, yTrain, xTest, yTest\n",
        "  \n",
        "  else:\n",
        "    cur_time = time.time()\n",
        "    \n",
        "    xTrain01 = tokenizer.sequences_to_matrix(xTrain.tolist())\n",
        "    xTest01 = tokenizer.sequences_to_matrix(xTest.tolist())\n",
        "\n",
        "    print('Время обработки: ', round(time.time() - cur_time, 2), 'c', sep='')\n",
        "\n",
        "    return xTrain01, xTest01, yTrain, yTest, Test, x2"
      ],
      "execution_count": null,
      "outputs": []
    },
    {
      "cell_type": "markdown",
      "metadata": {
        "id": "FSqHwX11fTt7"
      },
      "source": [
        "## Функция создания модели"
      ]
    },
    {
      "cell_type": "code",
      "metadata": {
        "id": "6gAddLOWfgVu"
      },
      "source": [
        "# def createModel(neuronsOneLayers=200, layersN=1, activ=\"relu\"):\n",
        "#   model01 = Sequential() \n",
        "#   model01.add(Dropout(0.1, input_dim=maxWordsCount))\n",
        "#   model01.add(Dense(350, activation=\"linear\"))\n",
        " \n",
        "#   for i in range(layersN):\n",
        "#     model01.add(Dropout(0.1))\n",
        "#     model01.add(Dense(neuronsOneLayers,\n",
        "#                       activation=activ))\n",
        "#   model01.add(Dropout(0.1))\n",
        "#   model01.add(Dense(400, activation=activ))\n",
        "\n",
        "#   model01.add(Dropout(0.1))\n",
        "#   model01.add(BatchNormalization())\n",
        "#   model01.add(Dense(6, activation='softmax'))\n",
        "#   model01.add(BatchNormalization())\n",
        "#   model01.compile(optimizer='adam', \n",
        "#                 loss='categorical_crossentropy', \n",
        "#                 metrics=['accuracy'])\n",
        "\n",
        "#   model01.summary()\n",
        "\n",
        "#   return model01"
      ],
      "execution_count": null,
      "outputs": []
    },
    {
      "cell_type": "code",
      "metadata": {
        "colab": {
          "base_uri": "https://localhost:8080/"
        },
        "id": "6sfRvx2eHeNv",
        "outputId": "644dc46a-76d1-4442-ba9f-52644542c2de"
      },
      "source": [
        "maxWordsCount = 20000\n",
        "xTrain, xTest, yTrain, yTest, Test, x2 = takeData(maxWordsCount)"
      ],
      "execution_count": null,
      "outputs": [
        {
          "output_type": "stream",
          "name": "stdout",
          "text": [
            "Время обработки: 3.32c\n"
          ]
        },
        {
          "output_type": "stream",
          "name": "stderr",
          "text": [
            "/usr/local/lib/python3.7/dist-packages/ipykernel_launcher.py:10: VisibleDeprecationWarning: Creating an ndarray from ragged nested sequences (which is a list-or-tuple of lists-or-tuples-or ndarrays with different lengths or shapes) is deprecated. If you meant to do this, you must specify 'dtype=object' when creating the ndarray\n",
            "  # Remove the CWD from sys.path while we load stuff.\n",
            "/usr/local/lib/python3.7/dist-packages/ipykernel_launcher.py:11: VisibleDeprecationWarning: Creating an ndarray from ragged nested sequences (which is a list-or-tuple of lists-or-tuples-or ndarrays with different lengths or shapes) is deprecated. If you meant to do this, you must specify 'dtype=object' when creating the ndarray\n",
            "  # This is added back by InteractiveShellApp.init_path()\n"
          ]
        },
        {
          "output_type": "stream",
          "name": "stdout",
          "text": [
            "Время обработки: 2.38c\n",
            "Время обработки: 10.03c\n"
          ]
        }
      ]
    },
    {
      "cell_type": "code",
      "metadata": {
        "id": "iFK1_qDOGh1U"
      },
      "source": [
        "def createModel():\n",
        "  model = Sequential()\n",
        "  model.add(Dropout(0.3, input_dim=maxWordsCount))\n",
        "  model.add(Dense(100))\n",
        "  # model.add(Dropout(0.1))\n",
        "  # model.add(Dense(100))\n",
        "  \n",
        "  model.add(Dense(6, activation=\"softmax\"))\n",
        "\n",
        "  model.compile(optimizer=Adam(lr=0.001),\n",
        "                loss=\"categorical_crossentropy\",\n",
        "                metrics=[\"accuracy\"])\n",
        "  \n",
        "  model.summary()\n",
        "\n",
        "  return model"
      ],
      "execution_count": null,
      "outputs": []
    },
    {
      "cell_type": "code",
      "metadata": {
        "id": "vnb8hc_rbfA3"
      },
      "source": [
        "# add new layer Dense (100) 1 - 90%\n",
        "# Dense (300) 1 - 88%\n",
        "# in 1: 1 - 88% , 2 - 89%, 3 - 88%\n",
        "# in 2: 1 - 86% , 2 - 85%, 3 - 88%\n",
        "# in 2: 1 - 86% , 2 - 83%, 3 - 88%\n",
        "# in 2: 1 - 87% , 2 - 75%, 3 - 86%\n",
        "# in 2: 1 - 88% , 2 - 83%, 3 - 86%\n",
        "# in 2: 1 - 87% , 2 - 85%, 3 - 87%  change activation(14) relu\n",
        "# in 2: 1 - 00% , 2 - 00%, 3 - 00%  change activation(14) sigmoid\n",
        "# in 2: 1 - 86% , 2 - 86%, 3 - 88%  change activation(14) to softmax\n",
        "# in 2: 1 - 89% , 2 - 89%, 3 - 87%  change maxWordsCount to 20000\n",
        "# in 2: 1 - 89% , 2 - 87%, 3 - 88%  change neurons to 400 (11)\n",
        "# in 2: 1 - 89% , 2 - 89%, 3 - 87%  change neurons to 350 (4)\n",
        "# in 2: 1 - 88% , 2 - 70%, 3 - 80%  repeat\n",
        "# in 2: 1 - 90% , 2 - 88%, 3 - 88%  ??????\n",
        "# in 2: 1 - 89% , 2 - 84%, 3 - 87%  add one layer BatchNormalization (12)\n",
        "# in 2: 1 - 66% , 2 - 43%, 3 - 47%  del layer BatchNormalization (12) \n",
        "\n",
        "# Create new create_model()\n",
        "# 88% add Dropout(0.2) (3)\n",
        "# 89% change Dropout to 0.4 (3)\n",
        "# 89% repeat\n",
        "# 90% change Dropout to 0.3 (2)\n",
        "# 89% return back & level-down neurons on Dense layer(100) (4)\n",
        "# 89% repeat\n",
        "# 89% repeat\n",
        "# 89% increase the epochs to 40\n",
        "# 90% increase the epochs to 100\n",
        "# 91% change learning rate to 0.001\n",
        "# 90% add vawe with lr=0.0001, epochs = 50, epochs = 50\n",
        "# 90% change 1-st level lr to 0.01, 2-nd to 0.001\n",
        "# 83% return back\n",
        "# 90% add Dense(100)  (5)\n",
        "# 89% return back add Dropout(0.1) 5\n",
        "# 90% change maxWordsCount to 20000 \n",
        "# 91% change xLen to 2000, step to 200\n",
        "# 93% change xLen to 5000, step to 500\n",
        "# 95% change xLen to 10000, step to 1000\n",
        "# 64% go back"
      ],
      "execution_count": null,
      "outputs": []
    },
    {
      "cell_type": "markdown",
      "metadata": {
        "id": "eD-gpjKdgifQ"
      },
      "source": [
        "## Переменная для хранения точностей"
      ]
    },
    {
      "cell_type": "code",
      "metadata": {
        "colab": {
          "base_uri": "https://localhost:8080/"
        },
        "id": "JnK0Xu9gHUz4",
        "outputId": "5a56c1ff-7d9c-45a0-c9eb-d5d552d51eac"
      },
      "source": [
        "# constants\n",
        "epochs = 50\n",
        "maxWordsCount\n",
        "print(xTrain.shape)"
      ],
      "execution_count": null,
      "outputs": [
        {
          "output_type": "stream",
          "name": "stdout",
          "text": [
            "(3483, 20000)\n"
          ]
        }
      ]
    },
    {
      "cell_type": "code",
      "metadata": {
        "colab": {
          "base_uri": "https://localhost:8080/",
          "height": 1000
        },
        "id": "0XNP3p6dHkQs",
        "outputId": "025554a8-71be-4d68-e23c-9e3eb5bdc639"
      },
      "source": [
        "model = createModel()\n",
        "history = model.fit(xTrain,\n",
        "                    yTrain,\n",
        "                    epochs=epochs,\n",
        "                    batch_size=128,\n",
        "                    validation_data=(xTest, yTest),\n",
        "                    verbose=1)\n",
        "\n",
        "showTable(history)\n",
        "recognizeMultiClass(model, Test, \"Set of neurons\")\n",
        "\n",
        "model.compile(optimizer=Adam(lr=0.0001),\n",
        "              metrics=[\"accuracy\"],\n",
        "              loss=\"categorical_crossentropy\")\n",
        "\n",
        "history = model.fit(xTrain,\n",
        "                    yTrain,\n",
        "                    epochs=epochs,\n",
        "                    batch_size=128,\n",
        "                    validation_data=(xTest, yTest),\n",
        "                    verbose=1)\n",
        "\n",
        "showTable(history)\n",
        "recognizeMultiClass(model, Test, \"Set of neurons\")\n",
        "\n"
      ],
      "execution_count": null,
      "outputs": [
        {
          "output_type": "stream",
          "name": "stdout",
          "text": [
            "Model: \"sequential_6\"\n",
            "_________________________________________________________________\n",
            "Layer (type)                 Output Shape              Param #   \n",
            "=================================================================\n",
            "dropout_6 (Dropout)          (None, 20000)             0         \n",
            "_________________________________________________________________\n",
            "dense_12 (Dense)             (None, 100)               2000100   \n",
            "_________________________________________________________________\n",
            "dense_13 (Dense)             (None, 6)                 606       \n",
            "=================================================================\n",
            "Total params: 2,000,706\n",
            "Trainable params: 2,000,706\n",
            "Non-trainable params: 0\n",
            "_________________________________________________________________\n"
          ]
        },
        {
          "output_type": "stream",
          "name": "stderr",
          "text": [
            "/usr/local/lib/python3.7/dist-packages/keras/optimizer_v2/optimizer_v2.py:356: UserWarning: The `lr` argument is deprecated, use `learning_rate` instead.\n",
            "  \"The `lr` argument is deprecated, use `learning_rate` instead.\")\n"
          ]
        },
        {
          "output_type": "stream",
          "name": "stdout",
          "text": [
            "Epoch 1/50\n",
            "28/28 [==============================] - 2s 75ms/step - loss: 0.2717 - accuracy: 0.9219 - val_loss: 1.0099 - val_accuracy: 0.6316\n",
            "Epoch 2/50\n",
            "28/28 [==============================] - 2s 67ms/step - loss: 3.9063e-04 - accuracy: 1.0000 - val_loss: 0.8368 - val_accuracy: 0.6811\n",
            "Epoch 3/50\n",
            "28/28 [==============================] - 2s 66ms/step - loss: 3.4057e-05 - accuracy: 1.0000 - val_loss: 0.7709 - val_accuracy: 0.6904\n",
            "Epoch 4/50\n",
            "28/28 [==============================] - 2s 67ms/step - loss: 2.8792e-05 - accuracy: 1.0000 - val_loss: 0.7276 - val_accuracy: 0.6966\n",
            "Epoch 5/50\n",
            "28/28 [==============================] - 2s 71ms/step - loss: 2.0195e-05 - accuracy: 1.0000 - val_loss: 0.6915 - val_accuracy: 0.7067\n",
            "Epoch 6/50\n",
            "28/28 [==============================] - 2s 67ms/step - loss: 1.4130e-05 - accuracy: 1.0000 - val_loss: 0.6691 - val_accuracy: 0.7152\n",
            "Epoch 7/50\n",
            "28/28 [==============================] - 2s 67ms/step - loss: 1.6978e-05 - accuracy: 1.0000 - val_loss: 0.6396 - val_accuracy: 0.7245\n",
            "Epoch 8/50\n",
            "28/28 [==============================] - 2s 68ms/step - loss: 1.1073e-05 - accuracy: 1.0000 - val_loss: 0.6170 - val_accuracy: 0.7353\n",
            "Epoch 9/50\n",
            "28/28 [==============================] - 2s 68ms/step - loss: 8.5561e-06 - accuracy: 1.0000 - val_loss: 0.6022 - val_accuracy: 0.7407\n",
            "Epoch 10/50\n",
            "28/28 [==============================] - 2s 66ms/step - loss: 8.7275e-06 - accuracy: 1.0000 - val_loss: 0.5869 - val_accuracy: 0.7446\n",
            "Epoch 11/50\n",
            "28/28 [==============================] - 2s 65ms/step - loss: 7.1007e-06 - accuracy: 1.0000 - val_loss: 0.5741 - val_accuracy: 0.7492\n",
            "Epoch 12/50\n",
            "28/28 [==============================] - 2s 72ms/step - loss: 7.7566e-06 - accuracy: 1.0000 - val_loss: 0.5582 - val_accuracy: 0.7531\n",
            "Epoch 13/50\n",
            "28/28 [==============================] - 2s 66ms/step - loss: 5.8839e-06 - accuracy: 1.0000 - val_loss: 0.5448 - val_accuracy: 0.7624\n",
            "Epoch 14/50\n",
            "28/28 [==============================] - 2s 65ms/step - loss: 5.0599e-06 - accuracy: 1.0000 - val_loss: 0.5349 - val_accuracy: 0.7693\n",
            "Epoch 15/50\n",
            "28/28 [==============================] - 2s 66ms/step - loss: 4.2649e-06 - accuracy: 1.0000 - val_loss: 0.5255 - val_accuracy: 0.7717\n",
            "Epoch 16/50\n",
            "28/28 [==============================] - 2s 68ms/step - loss: 4.3920e-06 - accuracy: 1.0000 - val_loss: 0.5176 - val_accuracy: 0.7732\n",
            "Epoch 17/50\n",
            "28/28 [==============================] - 2s 67ms/step - loss: 3.6828e-06 - accuracy: 1.0000 - val_loss: 0.5091 - val_accuracy: 0.7779\n",
            "Epoch 18/50\n",
            "28/28 [==============================] - 2s 68ms/step - loss: 5.7073e-06 - accuracy: 1.0000 - val_loss: 0.4994 - val_accuracy: 0.7825\n",
            "Epoch 19/50\n",
            "28/28 [==============================] - 2s 76ms/step - loss: 3.7051e-06 - accuracy: 1.0000 - val_loss: 0.4901 - val_accuracy: 0.7856\n",
            "Epoch 20/50\n",
            "28/28 [==============================] - 2s 66ms/step - loss: 3.7160e-06 - accuracy: 1.0000 - val_loss: 0.4811 - val_accuracy: 0.7887\n",
            "Epoch 21/50\n",
            "28/28 [==============================] - 2s 66ms/step - loss: 3.3797e-06 - accuracy: 1.0000 - val_loss: 0.4729 - val_accuracy: 0.7926\n",
            "Epoch 22/50\n",
            "28/28 [==============================] - 2s 66ms/step - loss: 3.9600e-06 - accuracy: 1.0000 - val_loss: 0.4626 - val_accuracy: 0.7964\n",
            "Epoch 23/50\n",
            "28/28 [==============================] - 2s 69ms/step - loss: 2.6879e-06 - accuracy: 1.0000 - val_loss: 0.4566 - val_accuracy: 0.7972\n",
            "Epoch 24/50\n",
            "28/28 [==============================] - 2s 67ms/step - loss: 2.5867e-06 - accuracy: 1.0000 - val_loss: 0.4509 - val_accuracy: 0.7988\n",
            "Epoch 25/50\n",
            "28/28 [==============================] - 2s 65ms/step - loss: 2.5051e-06 - accuracy: 1.0000 - val_loss: 0.4449 - val_accuracy: 0.7995\n",
            "Epoch 26/50\n",
            "28/28 [==============================] - 2s 67ms/step - loss: 2.6219e-06 - accuracy: 1.0000 - val_loss: 0.4390 - val_accuracy: 0.8034\n",
            "Epoch 27/50\n",
            "28/28 [==============================] - 2s 65ms/step - loss: 3.4237e-06 - accuracy: 1.0000 - val_loss: 0.4317 - val_accuracy: 0.8080\n",
            "Epoch 28/50\n",
            "28/28 [==============================] - 2s 66ms/step - loss: 2.1116e-06 - accuracy: 1.0000 - val_loss: 0.4261 - val_accuracy: 0.8104\n",
            "Epoch 29/50\n",
            "28/28 [==============================] - 2s 66ms/step - loss: 2.2235e-06 - accuracy: 1.0000 - val_loss: 0.4204 - val_accuracy: 0.8135\n",
            "Epoch 30/50\n",
            "28/28 [==============================] - 2s 66ms/step - loss: 2.0792e-06 - accuracy: 1.0000 - val_loss: 0.4149 - val_accuracy: 0.8150\n",
            "Epoch 31/50\n",
            "28/28 [==============================] - 2s 66ms/step - loss: 1.6165e-06 - accuracy: 1.0000 - val_loss: 0.4102 - val_accuracy: 0.8181\n",
            "Epoch 32/50\n",
            "28/28 [==============================] - 2s 66ms/step - loss: 1.7540e-06 - accuracy: 1.0000 - val_loss: 0.4062 - val_accuracy: 0.8197\n",
            "Epoch 33/50\n",
            "28/28 [==============================] - 2s 67ms/step - loss: 2.0033e-06 - accuracy: 1.0000 - val_loss: 0.4011 - val_accuracy: 0.8212\n",
            "Epoch 34/50\n",
            "28/28 [==============================] - 2s 67ms/step - loss: 1.8963e-06 - accuracy: 1.0000 - val_loss: 0.3955 - val_accuracy: 0.8243\n",
            "Epoch 35/50\n",
            "28/28 [==============================] - 2s 66ms/step - loss: 1.6101e-06 - accuracy: 1.0000 - val_loss: 0.3913 - val_accuracy: 0.8266\n",
            "Epoch 36/50\n",
            "28/28 [==============================] - 2s 66ms/step - loss: 1.8934e-06 - accuracy: 1.0000 - val_loss: 0.3869 - val_accuracy: 0.8289\n",
            "Epoch 37/50\n",
            "28/28 [==============================] - 2s 67ms/step - loss: 1.4381e-06 - accuracy: 1.0000 - val_loss: 0.3820 - val_accuracy: 0.8320\n",
            "Epoch 38/50\n",
            "28/28 [==============================] - 2s 66ms/step - loss: 1.2808e-06 - accuracy: 1.0000 - val_loss: 0.3784 - val_accuracy: 0.8328\n",
            "Epoch 39/50\n",
            "28/28 [==============================] - 2s 67ms/step - loss: 1.4673e-06 - accuracy: 1.0000 - val_loss: 0.3746 - val_accuracy: 0.8359\n",
            "Epoch 40/50\n",
            "28/28 [==============================] - 2s 67ms/step - loss: 1.4171e-06 - accuracy: 1.0000 - val_loss: 0.3713 - val_accuracy: 0.8375\n",
            "Epoch 41/50\n",
            "28/28 [==============================] - 2s 67ms/step - loss: 1.8047e-06 - accuracy: 1.0000 - val_loss: 0.3664 - val_accuracy: 0.8406\n",
            "Epoch 42/50\n",
            "28/28 [==============================] - 2s 67ms/step - loss: 1.4518e-06 - accuracy: 1.0000 - val_loss: 0.3624 - val_accuracy: 0.8421\n",
            "Epoch 43/50\n",
            "28/28 [==============================] - 2s 66ms/step - loss: 1.2345e-06 - accuracy: 1.0000 - val_loss: 0.3588 - val_accuracy: 0.8437\n",
            "Epoch 44/50\n",
            "28/28 [==============================] - 2s 66ms/step - loss: 1.2047e-06 - accuracy: 1.0000 - val_loss: 0.3548 - val_accuracy: 0.8483\n",
            "Epoch 45/50\n",
            "28/28 [==============================] - 2s 67ms/step - loss: 1.1231e-06 - accuracy: 1.0000 - val_loss: 0.3521 - val_accuracy: 0.8483\n",
            "Epoch 46/50\n",
            "28/28 [==============================] - 2s 67ms/step - loss: 1.2302e-06 - accuracy: 1.0000 - val_loss: 0.3488 - val_accuracy: 0.8491\n",
            "Epoch 47/50\n",
            "28/28 [==============================] - 2s 66ms/step - loss: 1.0249e-06 - accuracy: 1.0000 - val_loss: 0.3454 - val_accuracy: 0.8514\n",
            "Epoch 48/50\n",
            "28/28 [==============================] - 2s 66ms/step - loss: 9.7840e-07 - accuracy: 1.0000 - val_loss: 0.3427 - val_accuracy: 0.8522\n",
            "Epoch 49/50\n",
            "28/28 [==============================] - 2s 67ms/step - loss: 9.0557e-07 - accuracy: 1.0000 - val_loss: 0.3399 - val_accuracy: 0.8522\n",
            "Epoch 50/50\n",
            "28/28 [==============================] - 2s 67ms/step - loss: 9.5341e-07 - accuracy: 1.0000 - val_loss: 0.3374 - val_accuracy: 0.8529\n"
          ]
        },
        {
          "output_type": "display_data",
          "data": {
            "image/png": "[encoded data removed]",
            "text/plain": [
              "<Figure size 432x288 with 1 Axes>"
            ]
          },
          "metadata": {
            "needs_background": "light"
          }
        },
        {
          "output_type": "display_data",
          "data": {
            "image/png": "[encoded data removed]",
            "text/plain": [
              "<Figure size 432x288 with 1 Axes>"
            ]
          },
          "metadata": {
            "needs_background": "light"
          }
        },
        {
          "output_type": "stream",
          "name": "stdout",
          "text": [
            "НЕЙРОНКА:  Set of neurons\n",
            "--------------------\n",
            "Класс: О. Генри   98% сеть отнесла к классу О. Генри   Это ПРАВИЛЬНЫЙ ответ!\n",
            "Класс: Стругацкие 92% сеть отнесла к классу Стругацкие Это ПРАВИЛЬНЫЙ ответ!\n",
            "Класс: Булгаков   58% сеть отнесла к классу Булгаков   Это ПРАВИЛЬНЫЙ ответ!\n",
            "Класс: Саймак     81% сеть отнесла к классу Саймак     Это ПРАВИЛЬНЫЙ ответ!\n",
            "Класс: Фрай       97% сеть отнесла к классу Фрай       Это ПРАВИЛЬНЫЙ ответ!\n",
            "Класс: Брэдберри  83% сеть отнесла к классу Брэдберри  Это ПРАВИЛЬНЫЙ ответ!\n",
            "\n",
            "Средний процент распознавания 85%\n",
            "\n",
            "Epoch 1/50\n",
            "28/28 [==============================] - 2s 73ms/step - loss: 5.5997e-07 - accuracy: 1.0000 - val_loss: 0.2538 - val_accuracy: 0.8885\n",
            "Epoch 2/50\n",
            "28/28 [==============================] - 2s 67ms/step - loss: 3.8366e-07 - accuracy: 1.0000 - val_loss: 0.1597 - val_accuracy: 0.9334\n",
            "Epoch 3/50\n",
            "28/28 [==============================] - 2s 66ms/step - loss: 1.9019e-07 - accuracy: 1.0000 - val_loss: 0.1392 - val_accuracy: 0.9505\n",
            "Epoch 4/50\n",
            "28/28 [==============================] - 2s 67ms/step - loss: 1.5022e-07 - accuracy: 1.0000 - val_loss: 0.1269 - val_accuracy: 0.9621\n",
            "Epoch 5/50\n",
            "28/28 [==============================] - 2s 70ms/step - loss: 1.1993e-07 - accuracy: 1.0000 - val_loss: 0.1169 - val_accuracy: 0.9690\n",
            "Epoch 6/50\n",
            "28/28 [==============================] - 2s 67ms/step - loss: 7.8823e-08 - accuracy: 1.0000 - val_loss: 0.1128 - val_accuracy: 0.9690\n",
            "Epoch 7/50\n",
            "28/28 [==============================] - 2s 67ms/step - loss: 7.2012e-08 - accuracy: 1.0000 - val_loss: 0.1107 - val_accuracy: 0.9714\n",
            "Epoch 8/50\n",
            "28/28 [==============================] - 2s 66ms/step - loss: 6.9547e-08 - accuracy: 1.0000 - val_loss: 0.1079 - val_accuracy: 0.9714\n",
            "Epoch 9/50\n",
            "28/28 [==============================] - 2s 66ms/step - loss: 7.0985e-08 - accuracy: 1.0000 - val_loss: 0.1042 - val_accuracy: 0.9706\n",
            "Epoch 10/50\n",
            "28/28 [==============================] - 2s 67ms/step - loss: 6.3729e-08 - accuracy: 1.0000 - val_loss: 0.1026 - val_accuracy: 0.9714\n",
            "Epoch 11/50\n",
            "28/28 [==============================] - 2s 68ms/step - loss: 5.0038e-08 - accuracy: 1.0000 - val_loss: 0.1012 - val_accuracy: 0.9729\n",
            "Epoch 12/50\n",
            "28/28 [==============================] - 2s 67ms/step - loss: 3.9155e-08 - accuracy: 1.0000 - val_loss: 0.0998 - val_accuracy: 0.9737\n",
            "Epoch 13/50\n",
            "28/28 [==============================] - 2s 66ms/step - loss: 3.7820e-08 - accuracy: 1.0000 - val_loss: 0.0984 - val_accuracy: 0.9752\n",
            "Epoch 14/50\n",
            "28/28 [==============================] - 2s 66ms/step - loss: 3.4739e-08 - accuracy: 1.0000 - val_loss: 0.0964 - val_accuracy: 0.9752\n",
            "Epoch 15/50\n",
            "28/28 [==============================] - 2s 66ms/step - loss: 4.7300e-08 - accuracy: 1.0000 - val_loss: 0.0948 - val_accuracy: 0.9768\n",
            "Epoch 16/50\n",
            "28/28 [==============================] - 2s 67ms/step - loss: 3.8847e-08 - accuracy: 1.0000 - val_loss: 0.0930 - val_accuracy: 0.9768\n",
            "Epoch 17/50\n",
            "28/28 [==============================] - 2s 66ms/step - loss: 3.8162e-08 - accuracy: 1.0000 - val_loss: 0.0918 - val_accuracy: 0.9768\n",
            "Epoch 18/50\n",
            "28/28 [==============================] - 2s 66ms/step - loss: 3.1728e-08 - accuracy: 1.0000 - val_loss: 0.0916 - val_accuracy: 0.9760\n",
            "Epoch 19/50\n",
            "28/28 [==============================] - 2s 66ms/step - loss: 2.7860e-08 - accuracy: 1.0000 - val_loss: 0.0911 - val_accuracy: 0.9760\n",
            "Epoch 20/50\n",
            "28/28 [==============================] - 2s 66ms/step - loss: 2.2829e-08 - accuracy: 1.0000 - val_loss: 0.0912 - val_accuracy: 0.9760\n",
            "Epoch 21/50\n",
            "28/28 [==============================] - 2s 66ms/step - loss: 2.6491e-08 - accuracy: 1.0000 - val_loss: 0.0910 - val_accuracy: 0.9760\n",
            "Epoch 22/50\n",
            "28/28 [==============================] - 2s 66ms/step - loss: 2.4985e-08 - accuracy: 1.0000 - val_loss: 0.0921 - val_accuracy: 0.9760\n",
            "Epoch 23/50\n",
            "28/28 [==============================] - 2s 67ms/step - loss: 2.2829e-08 - accuracy: 1.0000 - val_loss: 0.0923 - val_accuracy: 0.9752\n",
            "Epoch 24/50\n",
            "28/28 [==============================] - 2s 66ms/step - loss: 2.4951e-08 - accuracy: 1.0000 - val_loss: 0.0920 - val_accuracy: 0.9752\n",
            "Epoch 25/50\n",
            "28/28 [==============================] - 2s 67ms/step - loss: 1.7558e-08 - accuracy: 1.0000 - val_loss: 0.0914 - val_accuracy: 0.9752\n",
            "Epoch 26/50\n",
            "28/28 [==============================] - 2s 67ms/step - loss: 2.2213e-08 - accuracy: 1.0000 - val_loss: 0.0909 - val_accuracy: 0.9768\n",
            "Epoch 27/50\n",
            "28/28 [==============================] - 2s 67ms/step - loss: 1.5231e-08 - accuracy: 1.0000 - val_loss: 0.0908 - val_accuracy: 0.9768\n",
            "Epoch 28/50\n",
            "28/28 [==============================] - 2s 68ms/step - loss: 2.0570e-08 - accuracy: 1.0000 - val_loss: 0.0905 - val_accuracy: 0.9768\n",
            "Epoch 29/50\n",
            "28/28 [==============================] - 2s 67ms/step - loss: 1.7421e-08 - accuracy: 1.0000 - val_loss: 0.0904 - val_accuracy: 0.9768\n",
            "Epoch 30/50\n",
            "28/28 [==============================] - 2s 67ms/step - loss: 1.5162e-08 - accuracy: 1.0000 - val_loss: 0.0900 - val_accuracy: 0.9768\n",
            "Epoch 31/50\n",
            "28/28 [==============================] - 2s 67ms/step - loss: 1.5367e-08 - accuracy: 1.0000 - val_loss: 0.0900 - val_accuracy: 0.9768\n",
            "Epoch 32/50\n",
            "28/28 [==============================] - 2s 67ms/step - loss: 1.1534e-08 - accuracy: 1.0000 - val_loss: 0.0905 - val_accuracy: 0.9768\n",
            "Epoch 33/50\n",
            "28/28 [==============================] - 2s 67ms/step - loss: 1.5196e-08 - accuracy: 1.0000 - val_loss: 0.0899 - val_accuracy: 0.9768\n",
            "Epoch 34/50\n",
            "28/28 [==============================] - 2s 66ms/step - loss: 1.2664e-08 - accuracy: 1.0000 - val_loss: 0.0900 - val_accuracy: 0.9768\n",
            "Epoch 35/50\n",
            "28/28 [==============================] - 2s 68ms/step - loss: 1.2287e-08 - accuracy: 1.0000 - val_loss: 0.0892 - val_accuracy: 0.9768\n",
            "Epoch 36/50\n",
            "28/28 [==============================] - 2s 68ms/step - loss: 1.1808e-08 - accuracy: 1.0000 - val_loss: 0.0886 - val_accuracy: 0.9768\n",
            "Epoch 37/50\n",
            "28/28 [==============================] - 2s 68ms/step - loss: 1.3382e-08 - accuracy: 1.0000 - val_loss: 0.0890 - val_accuracy: 0.9768\n",
            "Epoch 38/50\n",
            "28/28 [==============================] - 2s 67ms/step - loss: 8.8303e-09 - accuracy: 1.0000 - val_loss: 0.0891 - val_accuracy: 0.9768\n",
            "Epoch 39/50\n",
            "28/28 [==============================] - 2s 67ms/step - loss: 1.0610e-08 - accuracy: 1.0000 - val_loss: 0.0892 - val_accuracy: 0.9768\n",
            "Epoch 40/50\n",
            "28/28 [==============================] - 2s 68ms/step - loss: 1.4272e-08 - accuracy: 1.0000 - val_loss: 0.0895 - val_accuracy: 0.9768\n",
            "Epoch 41/50\n",
            "28/28 [==============================] - 2s 67ms/step - loss: 8.2827e-09 - accuracy: 1.0000 - val_loss: 0.0893 - val_accuracy: 0.9768\n",
            "Epoch 42/50\n",
            "28/28 [==============================] - 2s 68ms/step - loss: 8.6934e-09 - accuracy: 1.0000 - val_loss: 0.0891 - val_accuracy: 0.9768\n",
            "Epoch 43/50\n",
            "28/28 [==============================] - 2s 66ms/step - loss: 1.1021e-08 - accuracy: 1.0000 - val_loss: 0.0885 - val_accuracy: 0.9768\n",
            "Epoch 44/50\n",
            "28/28 [==============================] - 2s 67ms/step - loss: 8.3169e-09 - accuracy: 1.0000 - val_loss: 0.0882 - val_accuracy: 0.9768\n",
            "Epoch 45/50\n",
            "28/28 [==============================] - 2s 67ms/step - loss: 9.3779e-09 - accuracy: 1.0000 - val_loss: 0.0879 - val_accuracy: 0.9783\n",
            "Epoch 46/50\n",
            "28/28 [==============================] - 2s 67ms/step - loss: 8.1458e-09 - accuracy: 1.0000 - val_loss: 0.0875 - val_accuracy: 0.9783\n",
            "Epoch 47/50\n",
            "28/28 [==============================] - 2s 67ms/step - loss: 9.5148e-09 - accuracy: 1.0000 - val_loss: 0.0878 - val_accuracy: 0.9783\n",
            "Epoch 48/50\n",
            "28/28 [==============================] - 2s 68ms/step - loss: 6.6741e-09 - accuracy: 1.0000 - val_loss: 0.0877 - val_accuracy: 0.9783\n",
            "Epoch 49/50\n",
            "28/28 [==============================] - 2s 67ms/step - loss: 8.8988e-09 - accuracy: 1.0000 - val_loss: 0.0876 - val_accuracy: 0.9783\n",
            "Epoch 50/50\n",
            "28/28 [==============================] - 2s 67ms/step - loss: 7.2217e-09 - accuracy: 1.0000 - val_loss: 0.0876 - val_accuracy: 0.9776\n"
          ]
        },
        {
          "output_type": "display_data",
          "data": {
            "image/png": "[encoded data removed]",
            "text/plain": [
              "<Figure size 432x288 with 1 Axes>"
            ]
          },
          "metadata": {
            "needs_background": "light"
          }
        },
        {
          "output_type": "display_data",
          "data": {
            "image/png": "[encoded data removed]",
            "text/plain": [
              "<Figure size 432x288 with 1 Axes>"
            ]
          },
          "metadata": {
            "needs_background": "light"
          }
        },
        {
          "output_type": "stream",
          "name": "stdout",
          "text": [
            "НЕЙРОНКА:  Set of neurons\n",
            "--------------------\n",
            "Класс: О. Генри   100% сеть отнесла к классу О. Генри  Это ПРАВИЛЬНЫЙ ответ!\n",
            "Класс: Стругацкие 92% сеть отнесла к классу Стругацкие Это ПРАВИЛЬНЫЙ ответ!\n",
            "Класс: Булгаков   99% сеть отнесла к классу Булгаков   Это ПРАВИЛЬНЫЙ ответ!\n",
            "Класс: Саймак     100% сеть отнесла к классу Саймак    Это ПРАВИЛЬНЫЙ ответ!\n",
            "Класс: Фрай       96% сеть отнесла к классу Фрай       Это ПРАВИЛЬНЫЙ ответ!\n",
            "Класс: Брэдберри  100% сеть отнесла к классу Брэдберри Это ПРАВИЛЬНЫЙ ответ!\n",
            "\n",
            "Средний процент распознавания 97%\n",
            "\n"
          ]
        },
        {
          "output_type": "execute_result",
          "data": {
            "text/plain": [
              "0.9775541795665634"
            ]
          },
          "metadata": {},
          "execution_count": 114
        }
      ]
    }
  ]
}