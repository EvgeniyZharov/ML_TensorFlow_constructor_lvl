{
  "nbformat": 4,
  "nbformat_minor": 0,
  "metadata": {
    "colab": {
      "provenance": []
    },
    "kernelspec": {
      "name": "python3",
      "display_name": "Python 3"
    },
    "language_info": {
      "name": "python"
    }
  },
  "cells": [
    {
      "cell_type": "markdown",
      "metadata": {
        "id": "Yuf9H7FpBhHX"
      },
      "source": [
        "# Решение 3"
      ]
    },
    {
      "cell_type": "markdown",
      "metadata": {
        "id": "W-Dj6c_3lAU6"
      },
      "source": [
        "# Импорт библиотек"
      ]
    },
    {
      "cell_type": "code",
      "execution_count": null,
      "metadata": {
        "id": "XMxoboXpY5Xi"
      },
      "outputs": [],
      "source": [
        "from tensorflow.keras.datasets import mnist\n",
        "from tensorflow.keras.models import Sequential\n",
        "from tensorflow.keras.layers import Dense \n",
        "from tensorflow.keras.optimizers import Adam, RMSprop\n",
        "from tensorflow.keras import utils \n",
        "from sklearn.model_selection import train_test_split\n",
        "from tensorflow.keras.preprocessing import image \n",
        "import numpy as np \n",
        "import pylab\n",
        "import matplotlib.pyplot as plt\n",
        "from PIL import Image\n",
        "import pandas as pd\n",
        "import random\n",
        "\n",
        "%matplotlib inline "
      ]
    },
    {
      "cell_type": "code",
      "execution_count": null,
      "metadata": {
        "id": "DeFs6fFrqdQY"
      },
      "outputs": [],
      "source": [
        "def show_graph(y1, y2, graph_point=10):\n",
        "  Vg_value = Vg_min\n",
        "  Vg_values_list = list()\n",
        "  for ii in range(graph_point):\n",
        "    Vg_values_list.append(Vg_value)\n",
        "    Vg_value += Vg_step\n",
        "  \n",
        "  plt.plot(Vg_values_list, y1,\n",
        "           label=\"Правильный график\", linewidth=2)\n",
        "  plt.plot(Vg_values_list, y2,\n",
        "           label=\"Предсказанный график\", linestyle='--', linewidth=2)\n",
        "  \n",
        "  plt.xlabel(\"Vg\")\n",
        "  plt.ylabel(\"Ids\")\n",
        "\n",
        "  plt.legend()\n",
        "  plt.show()"
      ]
    },
    {
      "cell_type": "markdown",
      "metadata": {
        "id": "0VULSa1PGiXE"
      },
      "source": [
        "# Normalization\n"
      ]
    },
    {
      "cell_type": "code",
      "execution_count": null,
      "metadata": {
        "id": "RSdPc5NoGkTC"
      },
      "outputs": [],
      "source": [
        "def func_normalization(data_list, list_degree=0, u=1, l=0, flag_lonely=False, min_value=None, max_value=None):\n",
        "  if flag_lonely:\n",
        "    value = data_list\n",
        "    return (value - min_value) / (max_value - min_value) * (u - l) + l\n",
        "  else:\n",
        "    if list_degree == 0:\n",
        "      # new_data_list = list()\n",
        "      min_value, max_value = min(data_list), max(data_list)\n",
        "\n",
        "      for ii in range(len(data_list)):\n",
        "        new_value = (data_list[ii] - min_value) / (max_value - min_value) * (u - l) + l\n",
        "        data_list[ii] = new_value\n",
        "\n",
        "    elif list_degree == 1:\n",
        "      total_list = list()\n",
        "      for elem in data_list:\n",
        "        total_list.extend(elem)\n",
        "      \n",
        "      min_value, max_value = min(total_list), max(total_list)\n",
        "\n",
        "      for ii in range(len(data_list)):\n",
        "        for jj in range(graph_point):\n",
        "          new_value = (data_list[ii][jj] - min_value) / (max_value - min_value) * (u - l) + l\n",
        "          data_list[ii][jj] = new_value\n",
        "\n",
        "\n",
        "    return data_list, min_value, max_value\n"
      ]
    },
    {
      "cell_type": "code",
      "execution_count": null,
      "metadata": {
        "id": "fn_NQbzeJzCk"
      },
      "outputs": [],
      "source": [
        "def func_back_normalization(data_list, min_value, max_value, list_degree=0, u=1, l=0):\n",
        "\n",
        "  if list_degree == 0:\n",
        "    for ii in range(len(data_list)):\n",
        "      new_value = (data_list[ii] - l)/(u - l)*(max_value - min_value) + min_value\n",
        "      data_list[ii] = new_value\n",
        "  elif list_degree == 1:\n",
        "    for ii in range(len(data_list)):\n",
        "      for jj in range(graph_point):\n",
        "        new_value = (data_list[ii][jj] - l)/(u - l)*(max_value - min_value) + min_value\n",
        "        data_list[ii][jj] = new_value\n",
        "  \n",
        "  return data_list"
      ]
    },
    {
      "cell_type": "markdown",
      "metadata": {
        "id": "PkFHWr5VVbBk"
      },
      "source": [
        "# Подготовка данных"
      ]
    },
    {
      "cell_type": "code",
      "execution_count": null,
      "metadata": {
        "id": "OtlmLi9wKZ0K"
      },
      "outputs": [],
      "source": [
        "# Constants\n",
        "graph_point = 10\n",
        "\n",
        "L_min = 5e-7\n",
        "L_max = 3e-6\n",
        "L_step = 5e-7\n",
        "\n",
        "W_min = 5e-6\n",
        "W_max = 3e-5\n",
        "W_step = 5e-6\n",
        "\n",
        "Uns_min = 0.04\n",
        "Uns_max = 0.06\n",
        "Uns_step = 0.06\n",
        "\n",
        "Eo = 8.85e-12\n",
        "Eox = 3.9\n",
        "\n",
        "Tgatox_min = 6e-9\n",
        "Tgatox_max = 1.2e-8\n",
        "Tgatox_step = 1e-9\n",
        "\n",
        "Vg_min = 1\n",
        "Vg_max = 5\n",
        "Vg_step = (Vg_max - Vg_min) / graph_point\n",
        "\n",
        "Vth_min = 0.7\n",
        "Vth_max = 1\n",
        "Vth_step = 0.05"
      ]
    },
    {
      "cell_type": "code",
      "execution_count": null,
      "metadata": {
        "colab": {
          "base_uri": "https://localhost:8080/"
        },
        "id": "lNe4d-ZthZb2",
        "outputId": "f2fd57b5-b179-4e70-ad06-8f216c14ec6e"
      },
      "outputs": [
        {
          "output_type": "stream",
          "name": "stdout",
          "text": [
            "0.4\n"
          ]
        }
      ],
      "source": [
        "print(Vg_step)"
      ]
    },
    {
      "cell_type": "code",
      "execution_count": null,
      "metadata": {
        "id": "VvUAsjSLIuHo"
      },
      "outputs": [],
      "source": [
        "def func_y(L, W, Uns, Tgatox, Vg, Vth):\n",
        "  \n",
        "  Ids = (W/L)*Uns*(Eo*Eox/Tgatox)*((Vg - Vth)**2/2)\n",
        "  return Ids\n",
        "\n",
        "\n",
        "def get_list(min_value, max_value, step):\n",
        "\n",
        "  element_value = min_value\n",
        "  element_list = list()\n",
        "  while element_value <= max_value:\n",
        "    element_list.append(element_value)\n",
        "    element_value += step\n",
        "  return element_list\n",
        "\n",
        "\n",
        "def create_dataset(count):\n",
        "\n",
        "  x_dataset_list = list()\n",
        "  y_dataset_list = list()\n",
        "\n",
        "  L_list = get_list(L_min, L_max, L_step)\n",
        "  W_list = get_list(W_min, W_max, W_step)\n",
        "  # Uns_list = get_list(Uns_min, Uns_max, Uns_step)\n",
        "  Tgatox_list = get_list(Tgatox_min, Tgatox_max, Tgatox_step)\n",
        "  # Vg_list = get_list(Vg_min, Vg_max, Vg_step)\n",
        "  Vth_list = get_list(Vth_min, Vth_max, Vth_step)\n",
        "\n",
        "  for ii in range(count):\n",
        "\n",
        "    element_list = list()\n",
        "    L_value = random.choice(L_list)\n",
        "    W_value = random.choice(W_list)\n",
        "    # Uns_value = random.choice(Uns_list)\n",
        "    Uns_value = Uns_max\n",
        "    Tgatox_value = random.choice(Tgatox_list)\n",
        "    # Vg_value = random.choice(Vg_list)\n",
        "    Vth_value = random.choice(Vth_list)\n",
        "\n",
        "    Vg_value = Vg_min\n",
        "    y_value_list = list()\n",
        "  \n",
        "    for jj in range(graph_point): \n",
        "      y_value_list.append(func_y(L_value, W_value, Uns_value, Tgatox_value, Vg_value, Vth_value))\n",
        "      Vg_value += Vg_step\n",
        "\n",
        "    y_dataset_list.append(np.array(y_value_list))\n",
        "\n",
        "    element_list.append(func_normalization(L_value, flag_lonely=True, min_value=L_min, max_value=L_max))\n",
        "    element_list.append(func_normalization(W_value, flag_lonely=True, min_value=W_min, max_value=W_max))\n",
        "    # element_list.append(func_normalization(Uns_value, flag_lonely=True, min_value=Uns_min, max_value=Uns_max))\n",
        "    element_list.append(Uns_value)\n",
        "    element_list.append(func_normalization(Tgatox_value, flag_lonely=True, min_value=Tgatox_min, max_value=Tgatox_max))\n",
        "    # element_list.append(func_normalization(Vg_value, flag_lonely=True, min_value=Vg_min, max_value=Vg_max))\n",
        "    element_list.append(func_normalization(Vth_value, flag_lonely=True, min_value=Vth_min, max_value=Vth_max))\n",
        "    x_dataset_list.append(element_list)\n",
        "\n",
        "  y_dataset_list, y_min, y_max = func_normalization(y_dataset_list, list_degree=1)\n",
        "  return np.array(x_dataset_list), np.array(y_dataset_list), y_min, y_max"
      ]
    },
    {
      "cell_type": "code",
      "execution_count": null,
      "metadata": {
        "id": "mH0OpDCnaNP9"
      },
      "outputs": [],
      "source": [
        "x_dataset_list, y_dataset_list, y_min, y_max = create_dataset(1000)"
      ]
    },
    {
      "cell_type": "code",
      "execution_count": null,
      "metadata": {
        "id": "X4ubNx3jWnXN"
      },
      "outputs": [],
      "source": [
        "x_train, x_test, y_train, y_test = train_test_split(x_dataset_list, y_dataset_list, test_size=0.2, shuffle=True)"
      ]
    },
    {
      "cell_type": "code",
      "execution_count": null,
      "metadata": {
        "id": "p8wnw_DMWHbi"
      },
      "outputs": [],
      "source": [
        "def getMae(history):\n",
        "  plt.plot(history.history[\"mae\"],\n",
        "           label=\"Точность модели на обучающей выборке.\")\n",
        "  plt.plot(history.history[\"val_mae\"],\n",
        "           label=\"Точность модели на проверяющей выборке.\")\n",
        "  \n",
        "  plt.xlabel(\"Эпоха обучения\")\n",
        "  plt.ylabel(\"Точность модели\")\n",
        "\n",
        "  plt.legend()\n",
        "  plt.show()\n",
        "\n",
        "def getLoss(history):\n",
        "  plt.plot(history.history[\"loss\"],\n",
        "           label=\"Ошибка на обучающей выборке.\")\n",
        "  plt.plot(history.history[\"val_loss\"],\n",
        "           label=\"Ошибка на проверочной выборке\")\n",
        "  \n",
        "  plt.xlabel(\"Эпоха обучения\")\n",
        "  plt.ylabel(\"Ошибка модели\")\n",
        "\n",
        "  plt.legend()\n",
        "  plt.show()"
      ]
    },
    {
      "cell_type": "markdown",
      "metadata": {
        "id": "tpnOjJMaWHbj"
      },
      "source": [
        "# Создание нейронной сети"
      ]
    },
    {
      "cell_type": "code",
      "execution_count": null,
      "metadata": {
        "colab": {
          "base_uri": "https://localhost:8080/"
        },
        "id": "1hJ2exojWHbj",
        "outputId": "ed804f76-68bf-4143-ffb5-a51d35e524f3"
      },
      "outputs": [
        {
          "output_type": "stream",
          "name": "stdout",
          "text": [
            "Model: \"sequential\"\n",
            "_________________________________________________________________\n",
            " Layer (type)                Output Shape              Param #   \n",
            "=================================================================\n",
            " dense (Dense)               (None, 64)                384       \n",
            "                                                                 \n",
            " dense_1 (Dense)             (None, 32)                2080      \n",
            "                                                                 \n",
            " dense_2 (Dense)             (None, 10)                330       \n",
            "                                                                 \n",
            "=================================================================\n",
            "Total params: 2,794\n",
            "Trainable params: 2,794\n",
            "Non-trainable params: 0\n",
            "_________________________________________________________________\n",
            "None\n"
          ]
        }
      ],
      "source": [
        "model = Sequential()\n",
        "model.add(Dense(64, input_dim=5, activation=\"relu\"))\n",
        "model.add(Dense(32, activation=\"relu\"))\n",
        "model.add(Dense(graph_point, activation=\"linear\"))\n",
        "model.compile(loss=\"mae\", optimizer=Adam(0.01), metrics=['mae'])\n",
        "print(model.summary())"
      ]
    },
    {
      "cell_type": "markdown",
      "metadata": {
        "id": "ZPRR7_DqWHbk"
      },
      "source": [
        "# Обучение нейронной сети"
      ]
    },
    {
      "cell_type": "code",
      "execution_count": null,
      "metadata": {
        "colab": {
          "base_uri": "https://localhost:8080/"
        },
        "id": "57H7to_RWHbk",
        "outputId": "6ba2702a-0b04-40a6-a20f-6515cffc2608"
      },
      "outputs": [
        {
          "output_type": "stream",
          "name": "stdout",
          "text": [
            "Epoch 1/100\n",
            "5/5 [==============================] - 2s 161ms/step - loss: 0.0564 - mae: 0.0564 - val_loss: 0.0370 - val_mae: 0.0370\n",
            "Epoch 2/100\n",
            "5/5 [==============================] - 0s 39ms/step - loss: 0.0296 - mae: 0.0296 - val_loss: 0.0229 - val_mae: 0.0229\n",
            "Epoch 3/100\n",
            "5/5 [==============================] - 0s 44ms/step - loss: 0.0181 - mae: 0.0181 - val_loss: 0.0154 - val_mae: 0.0154\n",
            "Epoch 4/100\n",
            "5/5 [==============================] - 0s 39ms/step - loss: 0.0134 - mae: 0.0134 - val_loss: 0.0112 - val_mae: 0.0112\n",
            "Epoch 5/100\n",
            "5/5 [==============================] - 0s 20ms/step - loss: 0.0100 - mae: 0.0100 - val_loss: 0.0098 - val_mae: 0.0098\n",
            "Epoch 6/100\n",
            "5/5 [==============================] - 0s 68ms/step - loss: 0.0083 - mae: 0.0083 - val_loss: 0.0072 - val_mae: 0.0072\n",
            "Epoch 7/100\n",
            "5/5 [==============================] - 0s 47ms/step - loss: 0.0066 - mae: 0.0066 - val_loss: 0.0070 - val_mae: 0.0070\n",
            "Epoch 8/100\n",
            "5/5 [==============================] - 0s 42ms/step - loss: 0.0058 - mae: 0.0058 - val_loss: 0.0054 - val_mae: 0.0054\n",
            "Epoch 9/100\n",
            "5/5 [==============================] - 0s 32ms/step - loss: 0.0047 - mae: 0.0047 - val_loss: 0.0045 - val_mae: 0.0045\n",
            "Epoch 10/100\n",
            "5/5 [==============================] - 0s 26ms/step - loss: 0.0041 - mae: 0.0041 - val_loss: 0.0043 - val_mae: 0.0043\n",
            "Epoch 11/100\n",
            "5/5 [==============================] - 0s 40ms/step - loss: 0.0037 - mae: 0.0037 - val_loss: 0.0037 - val_mae: 0.0037\n",
            "Epoch 12/100\n",
            "5/5 [==============================] - 0s 69ms/step - loss: 0.0038 - mae: 0.0038 - val_loss: 0.0046 - val_mae: 0.0046\n",
            "Epoch 13/100\n",
            "5/5 [==============================] - 0s 28ms/step - loss: 0.0047 - mae: 0.0047 - val_loss: 0.0044 - val_mae: 0.0044\n",
            "Epoch 14/100\n",
            "5/5 [==============================] - 0s 29ms/step - loss: 0.0053 - mae: 0.0053 - val_loss: 0.0036 - val_mae: 0.0036\n",
            "Epoch 15/100\n",
            "5/5 [==============================] - 0s 30ms/step - loss: 0.0037 - mae: 0.0037 - val_loss: 0.0032 - val_mae: 0.0032\n",
            "Epoch 16/100\n",
            "5/5 [==============================] - 0s 46ms/step - loss: 0.0034 - mae: 0.0034 - val_loss: 0.0047 - val_mae: 0.0047\n",
            "Epoch 17/100\n",
            "5/5 [==============================] - 0s 38ms/step - loss: 0.0037 - mae: 0.0037 - val_loss: 0.0040 - val_mae: 0.0040\n",
            "Epoch 18/100\n",
            "5/5 [==============================] - 0s 41ms/step - loss: 0.0036 - mae: 0.0036 - val_loss: 0.0029 - val_mae: 0.0029\n",
            "Epoch 19/100\n",
            "5/5 [==============================] - 0s 78ms/step - loss: 0.0028 - mae: 0.0028 - val_loss: 0.0025 - val_mae: 0.0025\n",
            "Epoch 20/100\n",
            "5/5 [==============================] - 0s 87ms/step - loss: 0.0027 - mae: 0.0027 - val_loss: 0.0037 - val_mae: 0.0037\n",
            "Epoch 21/100\n",
            "5/5 [==============================] - 0s 50ms/step - loss: 0.0032 - mae: 0.0032 - val_loss: 0.0023 - val_mae: 0.0023\n",
            "Epoch 22/100\n",
            "5/5 [==============================] - 0s 50ms/step - loss: 0.0028 - mae: 0.0028 - val_loss: 0.0031 - val_mae: 0.0031\n",
            "Epoch 23/100\n",
            "5/5 [==============================] - 0s 42ms/step - loss: 0.0029 - mae: 0.0029 - val_loss: 0.0028 - val_mae: 0.0028\n",
            "Epoch 24/100\n",
            "5/5 [==============================] - 0s 39ms/step - loss: 0.0026 - mae: 0.0026 - val_loss: 0.0033 - val_mae: 0.0033\n",
            "Epoch 25/100\n",
            "5/5 [==============================] - 0s 67ms/step - loss: 0.0028 - mae: 0.0028 - val_loss: 0.0028 - val_mae: 0.0028\n",
            "Epoch 26/100\n",
            "5/5 [==============================] - 0s 35ms/step - loss: 0.0028 - mae: 0.0028 - val_loss: 0.0034 - val_mae: 0.0034\n",
            "Epoch 27/100\n",
            "5/5 [==============================] - 0s 29ms/step - loss: 0.0030 - mae: 0.0030 - val_loss: 0.0038 - val_mae: 0.0038\n",
            "Epoch 28/100\n",
            "5/5 [==============================] - 0s 42ms/step - loss: 0.0037 - mae: 0.0037 - val_loss: 0.0026 - val_mae: 0.0026\n",
            "Epoch 29/100\n",
            "5/5 [==============================] - 0s 39ms/step - loss: 0.0037 - mae: 0.0037 - val_loss: 0.0049 - val_mae: 0.0049\n",
            "Epoch 30/100\n",
            "5/5 [==============================] - 0s 22ms/step - loss: 0.0039 - mae: 0.0039 - val_loss: 0.0031 - val_mae: 0.0031\n",
            "Epoch 31/100\n",
            "5/5 [==============================] - 0s 42ms/step - loss: 0.0034 - mae: 0.0034 - val_loss: 0.0039 - val_mae: 0.0039\n",
            "Epoch 32/100\n",
            "5/5 [==============================] - 0s 25ms/step - loss: 0.0033 - mae: 0.0033 - val_loss: 0.0024 - val_mae: 0.0024\n",
            "Epoch 33/100\n",
            "5/5 [==============================] - 0s 46ms/step - loss: 0.0034 - mae: 0.0034 - val_loss: 0.0045 - val_mae: 0.0045\n",
            "Epoch 34/100\n",
            "5/5 [==============================] - 0s 84ms/step - loss: 0.0039 - mae: 0.0039 - val_loss: 0.0047 - val_mae: 0.0047\n",
            "Epoch 35/100\n",
            "5/5 [==============================] - 0s 38ms/step - loss: 0.0040 - mae: 0.0040 - val_loss: 0.0040 - val_mae: 0.0040\n",
            "Epoch 36/100\n",
            "5/5 [==============================] - 0s 31ms/step - loss: 0.0037 - mae: 0.0037 - val_loss: 0.0032 - val_mae: 0.0032\n",
            "Epoch 37/100\n",
            "5/5 [==============================] - 0s 34ms/step - loss: 0.0029 - mae: 0.0029 - val_loss: 0.0025 - val_mae: 0.0025\n",
            "Epoch 38/100\n",
            "5/5 [==============================] - 0s 20ms/step - loss: 0.0023 - mae: 0.0023 - val_loss: 0.0023 - val_mae: 0.0023\n",
            "Epoch 39/100\n",
            "5/5 [==============================] - 0s 45ms/step - loss: 0.0020 - mae: 0.0020 - val_loss: 0.0020 - val_mae: 0.0020\n",
            "Epoch 40/100\n",
            "5/5 [==============================] - 0s 29ms/step - loss: 0.0020 - mae: 0.0020 - val_loss: 0.0021 - val_mae: 0.0021\n",
            "Epoch 41/100\n",
            "5/5 [==============================] - 0s 22ms/step - loss: 0.0022 - mae: 0.0022 - val_loss: 0.0026 - val_mae: 0.0026\n",
            "Epoch 42/100\n",
            "5/5 [==============================] - 0s 27ms/step - loss: 0.0024 - mae: 0.0024 - val_loss: 0.0024 - val_mae: 0.0024\n",
            "Epoch 43/100\n",
            "5/5 [==============================] - 0s 20ms/step - loss: 0.0023 - mae: 0.0023 - val_loss: 0.0023 - val_mae: 0.0023\n",
            "Epoch 44/100\n",
            "5/5 [==============================] - 0s 24ms/step - loss: 0.0022 - mae: 0.0022 - val_loss: 0.0023 - val_mae: 0.0023\n",
            "Epoch 45/100\n",
            "5/5 [==============================] - 0s 17ms/step - loss: 0.0022 - mae: 0.0022 - val_loss: 0.0022 - val_mae: 0.0022\n",
            "Epoch 46/100\n",
            "5/5 [==============================] - 0s 24ms/step - loss: 0.0022 - mae: 0.0022 - val_loss: 0.0019 - val_mae: 0.0019\n",
            "Epoch 47/100\n",
            "5/5 [==============================] - 0s 14ms/step - loss: 0.0022 - mae: 0.0022 - val_loss: 0.0027 - val_mae: 0.0027\n",
            "Epoch 48/100\n",
            "5/5 [==============================] - 0s 28ms/step - loss: 0.0023 - mae: 0.0023 - val_loss: 0.0029 - val_mae: 0.0029\n",
            "Epoch 49/100\n",
            "5/5 [==============================] - 0s 49ms/step - loss: 0.0025 - mae: 0.0025 - val_loss: 0.0027 - val_mae: 0.0027\n",
            "Epoch 50/100\n",
            "5/5 [==============================] - 0s 46ms/step - loss: 0.0024 - mae: 0.0024 - val_loss: 0.0023 - val_mae: 0.0023\n",
            "Epoch 51/100\n",
            "5/5 [==============================] - 0s 31ms/step - loss: 0.0026 - mae: 0.0026 - val_loss: 0.0034 - val_mae: 0.0034\n",
            "Epoch 52/100\n",
            "5/5 [==============================] - 0s 36ms/step - loss: 0.0030 - mae: 0.0030 - val_loss: 0.0028 - val_mae: 0.0028\n",
            "Epoch 53/100\n",
            "5/5 [==============================] - 0s 81ms/step - loss: 0.0026 - mae: 0.0026 - val_loss: 0.0023 - val_mae: 0.0023\n",
            "Epoch 54/100\n",
            "5/5 [==============================] - 0s 24ms/step - loss: 0.0024 - mae: 0.0024 - val_loss: 0.0027 - val_mae: 0.0027\n",
            "Epoch 55/100\n",
            "5/5 [==============================] - 0s 26ms/step - loss: 0.0025 - mae: 0.0025 - val_loss: 0.0030 - val_mae: 0.0030\n",
            "Epoch 56/100\n",
            "5/5 [==============================] - 0s 18ms/step - loss: 0.0025 - mae: 0.0025 - val_loss: 0.0022 - val_mae: 0.0022\n",
            "Epoch 57/100\n",
            "5/5 [==============================] - 0s 44ms/step - loss: 0.0022 - mae: 0.0022 - val_loss: 0.0022 - val_mae: 0.0022\n",
            "Epoch 58/100\n",
            "5/5 [==============================] - 0s 50ms/step - loss: 0.0023 - mae: 0.0023 - val_loss: 0.0026 - val_mae: 0.0026\n",
            "Epoch 59/100\n",
            "5/5 [==============================] - 0s 45ms/step - loss: 0.0022 - mae: 0.0022 - val_loss: 0.0027 - val_mae: 0.0027\n",
            "Epoch 60/100\n",
            "5/5 [==============================] - 0s 43ms/step - loss: 0.0028 - mae: 0.0028 - val_loss: 0.0036 - val_mae: 0.0036\n",
            "Epoch 61/100\n",
            "5/5 [==============================] - 0s 34ms/step - loss: 0.0029 - mae: 0.0029 - val_loss: 0.0022 - val_mae: 0.0022\n",
            "Epoch 62/100\n",
            "5/5 [==============================] - 0s 64ms/step - loss: 0.0029 - mae: 0.0029 - val_loss: 0.0034 - val_mae: 0.0034\n",
            "Epoch 63/100\n",
            "5/5 [==============================] - 0s 26ms/step - loss: 0.0028 - mae: 0.0028 - val_loss: 0.0022 - val_mae: 0.0022\n",
            "Epoch 64/100\n",
            "5/5 [==============================] - 0s 21ms/step - loss: 0.0025 - mae: 0.0025 - val_loss: 0.0026 - val_mae: 0.0026\n",
            "Epoch 65/100\n",
            "5/5 [==============================] - 0s 29ms/step - loss: 0.0023 - mae: 0.0023 - val_loss: 0.0032 - val_mae: 0.0032\n",
            "Epoch 66/100\n",
            "5/5 [==============================] - 0s 50ms/step - loss: 0.0026 - mae: 0.0026 - val_loss: 0.0026 - val_mae: 0.0026\n",
            "Epoch 67/100\n",
            "5/5 [==============================] - 0s 30ms/step - loss: 0.0027 - mae: 0.0027 - val_loss: 0.0032 - val_mae: 0.0032\n",
            "Epoch 68/100\n",
            "5/5 [==============================] - 0s 25ms/step - loss: 0.0025 - mae: 0.0025 - val_loss: 0.0024 - val_mae: 0.0024\n",
            "Epoch 69/100\n",
            "5/5 [==============================] - 0s 21ms/step - loss: 0.0021 - mae: 0.0021 - val_loss: 0.0019 - val_mae: 0.0019\n",
            "Epoch 70/100\n",
            "5/5 [==============================] - 0s 14ms/step - loss: 0.0017 - mae: 0.0017 - val_loss: 0.0019 - val_mae: 0.0019\n",
            "Epoch 71/100\n",
            "5/5 [==============================] - 0s 35ms/step - loss: 0.0018 - mae: 0.0018 - val_loss: 0.0019 - val_mae: 0.0019\n",
            "Epoch 72/100\n",
            "5/5 [==============================] - 0s 40ms/step - loss: 0.0017 - mae: 0.0017 - val_loss: 0.0019 - val_mae: 0.0019\n",
            "Epoch 73/100\n",
            "5/5 [==============================] - 0s 29ms/step - loss: 0.0019 - mae: 0.0019 - val_loss: 0.0024 - val_mae: 0.0024\n",
            "Epoch 74/100\n",
            "5/5 [==============================] - 0s 30ms/step - loss: 0.0021 - mae: 0.0021 - val_loss: 0.0019 - val_mae: 0.0019\n",
            "Epoch 75/100\n",
            "5/5 [==============================] - 0s 54ms/step - loss: 0.0020 - mae: 0.0020 - val_loss: 0.0020 - val_mae: 0.0020\n",
            "Epoch 76/100\n",
            "5/5 [==============================] - 0s 59ms/step - loss: 0.0018 - mae: 0.0018 - val_loss: 0.0017 - val_mae: 0.0017\n",
            "Epoch 77/100\n",
            "5/5 [==============================] - 0s 53ms/step - loss: 0.0017 - mae: 0.0017 - val_loss: 0.0018 - val_mae: 0.0018\n",
            "Epoch 78/100\n",
            "5/5 [==============================] - 0s 68ms/step - loss: 0.0017 - mae: 0.0017 - val_loss: 0.0022 - val_mae: 0.0022\n",
            "Epoch 79/100\n",
            "5/5 [==============================] - 0s 13ms/step - loss: 0.0021 - mae: 0.0021 - val_loss: 0.0019 - val_mae: 0.0019\n",
            "Epoch 80/100\n",
            "5/5 [==============================] - 0s 15ms/step - loss: 0.0022 - mae: 0.0022 - val_loss: 0.0026 - val_mae: 0.0026\n",
            "Epoch 81/100\n",
            "5/5 [==============================] - 0s 26ms/step - loss: 0.0024 - mae: 0.0024 - val_loss: 0.0033 - val_mae: 0.0033\n",
            "Epoch 82/100\n",
            "5/5 [==============================] - 0s 12ms/step - loss: 0.0026 - mae: 0.0026 - val_loss: 0.0027 - val_mae: 0.0027\n",
            "Epoch 83/100\n",
            "5/5 [==============================] - 0s 15ms/step - loss: 0.0026 - mae: 0.0026 - val_loss: 0.0029 - val_mae: 0.0029\n",
            "Epoch 84/100\n",
            "5/5 [==============================] - 0s 14ms/step - loss: 0.0023 - mae: 0.0023 - val_loss: 0.0021 - val_mae: 0.0021\n",
            "Epoch 85/100\n",
            "5/5 [==============================] - 0s 11ms/step - loss: 0.0020 - mae: 0.0020 - val_loss: 0.0023 - val_mae: 0.0023\n",
            "Epoch 86/100\n",
            "5/5 [==============================] - 0s 12ms/step - loss: 0.0020 - mae: 0.0020 - val_loss: 0.0024 - val_mae: 0.0024\n",
            "Epoch 87/100\n",
            "5/5 [==============================] - 0s 17ms/step - loss: 0.0021 - mae: 0.0021 - val_loss: 0.0023 - val_mae: 0.0023\n",
            "Epoch 88/100\n",
            "5/5 [==============================] - 0s 16ms/step - loss: 0.0021 - mae: 0.0021 - val_loss: 0.0019 - val_mae: 0.0019\n",
            "Epoch 89/100\n",
            "5/5 [==============================] - 0s 21ms/step - loss: 0.0019 - mae: 0.0019 - val_loss: 0.0023 - val_mae: 0.0023\n",
            "Epoch 90/100\n",
            "5/5 [==============================] - 0s 19ms/step - loss: 0.0022 - mae: 0.0022 - val_loss: 0.0019 - val_mae: 0.0019\n",
            "Epoch 91/100\n",
            "5/5 [==============================] - 0s 18ms/step - loss: 0.0019 - mae: 0.0019 - val_loss: 0.0033 - val_mae: 0.0033\n",
            "Epoch 92/100\n",
            "5/5 [==============================] - 0s 13ms/step - loss: 0.0028 - mae: 0.0028 - val_loss: 0.0025 - val_mae: 0.0025\n",
            "Epoch 93/100\n",
            "5/5 [==============================] - 0s 22ms/step - loss: 0.0021 - mae: 0.0021 - val_loss: 0.0017 - val_mae: 0.0017\n",
            "Epoch 94/100\n",
            "5/5 [==============================] - 0s 14ms/step - loss: 0.0016 - mae: 0.0016 - val_loss: 0.0018 - val_mae: 0.0018\n",
            "Epoch 95/100\n",
            "5/5 [==============================] - 0s 19ms/step - loss: 0.0016 - mae: 0.0016 - val_loss: 0.0014 - val_mae: 0.0014\n",
            "Epoch 96/100\n",
            "5/5 [==============================] - 0s 13ms/step - loss: 0.0013 - mae: 0.0013 - val_loss: 0.0016 - val_mae: 0.0016\n",
            "Epoch 97/100\n",
            "5/5 [==============================] - 0s 24ms/step - loss: 0.0020 - mae: 0.0020 - val_loss: 0.0022 - val_mae: 0.0022\n",
            "Epoch 98/100\n",
            "5/5 [==============================] - 0s 15ms/step - loss: 0.0026 - mae: 0.0026 - val_loss: 0.0032 - val_mae: 0.0032\n",
            "Epoch 99/100\n",
            "5/5 [==============================] - 0s 20ms/step - loss: 0.0028 - mae: 0.0028 - val_loss: 0.0027 - val_mae: 0.0027\n",
            "Epoch 100/100\n",
            "5/5 [==============================] - 0s 16ms/step - loss: 0.0024 - mae: 0.0024 - val_loss: 0.0025 - val_mae: 0.0025\n"
          ]
        }
      ],
      "source": [
        "history = model.fit(x_train, y_train, batch_size=128, validation_split=0.2, epochs=100, verbose=1)"
      ]
    },
    {
      "cell_type": "code",
      "execution_count": null,
      "metadata": {
        "colab": {
          "base_uri": "https://localhost:8080/",
          "height": 279
        },
        "id": "vwkZsUDolY2l",
        "outputId": "db78f252-8548-4636-bfb7-37312b26843e"
      },
      "outputs": [
        {
          "output_type": "display_data",
          "data": {
            "text/plain": [
              "<Figure size 432x288 with 1 Axes>"
            ],
            "image/png": "[encoded data removed]"
          },
          "metadata": {
            "needs_background": "light"
          }
        }
      ],
      "source": [
        "getLoss(history)"
      ]
    },
    {
      "cell_type": "code",
      "execution_count": null,
      "metadata": {
        "colab": {
          "base_uri": "https://localhost:8080/",
          "height": 1000
        },
        "id": "6UEQE9cSWHbl",
        "outputId": "2165b03e-1c12-499c-a5b3-c38574790853"
      },
      "outputs": [
        {
          "output_type": "stream",
          "name": "stdout",
          "text": [
            "Epoch 1/100\n",
            "6/6 [==============================] - 1s 29ms/step - loss: 0.0017 - mae: 0.0017 - val_loss: 0.0015 - val_mae: 0.0015\n",
            "Epoch 2/100\n",
            "6/6 [==============================] - 0s 6ms/step - loss: 0.0013 - mae: 0.0013 - val_loss: 0.0013 - val_mae: 0.0013\n",
            "Epoch 3/100\n",
            "6/6 [==============================] - 0s 7ms/step - loss: 0.0012 - mae: 0.0012 - val_loss: 0.0012 - val_mae: 0.0012\n",
            "Epoch 4/100\n",
            "6/6 [==============================] - 0s 7ms/step - loss: 0.0011 - mae: 0.0011 - val_loss: 0.0011 - val_mae: 0.0011\n",
            "Epoch 5/100\n",
            "6/6 [==============================] - 0s 14ms/step - loss: 0.0010 - mae: 0.0010 - val_loss: 0.0011 - val_mae: 0.0011\n",
            "Epoch 6/100\n",
            "6/6 [==============================] - 0s 7ms/step - loss: 9.6678e-04 - mae: 9.6678e-04 - val_loss: 0.0011 - val_mae: 0.0011\n",
            "Epoch 7/100\n",
            "6/6 [==============================] - 0s 8ms/step - loss: 9.7290e-04 - mae: 9.7290e-04 - val_loss: 0.0011 - val_mae: 0.0011\n",
            "Epoch 8/100\n",
            "6/6 [==============================] - 0s 6ms/step - loss: 9.5693e-04 - mae: 9.5693e-04 - val_loss: 0.0011 - val_mae: 0.0011\n",
            "Epoch 9/100\n",
            "6/6 [==============================] - 0s 7ms/step - loss: 0.0010 - mae: 0.0010 - val_loss: 0.0011 - val_mae: 0.0011\n",
            "Epoch 10/100\n",
            "6/6 [==============================] - 0s 8ms/step - loss: 9.5193e-04 - mae: 9.5193e-04 - val_loss: 0.0011 - val_mae: 0.0011\n",
            "Epoch 11/100\n",
            "6/6 [==============================] - 0s 7ms/step - loss: 9.7136e-04 - mae: 9.7136e-04 - val_loss: 0.0010 - val_mae: 0.0010\n",
            "Epoch 12/100\n",
            "6/6 [==============================] - 0s 10ms/step - loss: 9.2839e-04 - mae: 9.2839e-04 - val_loss: 0.0011 - val_mae: 0.0011\n",
            "Epoch 13/100\n",
            "6/6 [==============================] - 0s 6ms/step - loss: 9.1329e-04 - mae: 9.1329e-04 - val_loss: 0.0010 - val_mae: 0.0010\n",
            "Epoch 14/100\n",
            "6/6 [==============================] - 0s 6ms/step - loss: 9.0403e-04 - mae: 9.0403e-04 - val_loss: 0.0010 - val_mae: 0.0010\n",
            "Epoch 15/100\n",
            "6/6 [==============================] - 0s 9ms/step - loss: 8.8586e-04 - mae: 8.8586e-04 - val_loss: 0.0010 - val_mae: 0.0010\n",
            "Epoch 16/100\n",
            "6/6 [==============================] - 0s 6ms/step - loss: 9.0570e-04 - mae: 9.0570e-04 - val_loss: 0.0010 - val_mae: 0.0010\n",
            "Epoch 17/100\n",
            "6/6 [==============================] - 0s 7ms/step - loss: 8.9436e-04 - mae: 8.9436e-04 - val_loss: 0.0011 - val_mae: 0.0011\n",
            "Epoch 18/100\n",
            "6/6 [==============================] - 0s 6ms/step - loss: 9.1600e-04 - mae: 9.1600e-04 - val_loss: 0.0011 - val_mae: 0.0011\n",
            "Epoch 19/100\n",
            "6/6 [==============================] - 0s 7ms/step - loss: 9.2276e-04 - mae: 9.2276e-04 - val_loss: 0.0011 - val_mae: 0.0011\n",
            "Epoch 20/100\n",
            "6/6 [==============================] - 0s 7ms/step - loss: 8.8289e-04 - mae: 8.8289e-04 - val_loss: 0.0010 - val_mae: 0.0010\n",
            "Epoch 21/100\n",
            "6/6 [==============================] - 0s 7ms/step - loss: 9.0716e-04 - mae: 9.0716e-04 - val_loss: 9.9318e-04 - val_mae: 9.9318e-04\n",
            "Epoch 22/100\n",
            "6/6 [==============================] - 0s 7ms/step - loss: 8.9351e-04 - mae: 8.9351e-04 - val_loss: 0.0011 - val_mae: 0.0011\n",
            "Epoch 23/100\n",
            "6/6 [==============================] - 0s 7ms/step - loss: 9.0844e-04 - mae: 9.0844e-04 - val_loss: 0.0010 - val_mae: 0.0010\n",
            "Epoch 24/100\n",
            "6/6 [==============================] - 0s 8ms/step - loss: 8.9098e-04 - mae: 8.9098e-04 - val_loss: 0.0010 - val_mae: 0.0010\n",
            "Epoch 25/100\n",
            "6/6 [==============================] - 0s 7ms/step - loss: 8.6798e-04 - mae: 8.6798e-04 - val_loss: 9.8930e-04 - val_mae: 9.8930e-04\n",
            "Epoch 26/100\n",
            "6/6 [==============================] - 0s 7ms/step - loss: 8.5681e-04 - mae: 8.5681e-04 - val_loss: 0.0011 - val_mae: 0.0011\n",
            "Epoch 27/100\n",
            "6/6 [==============================] - 0s 7ms/step - loss: 9.3694e-04 - mae: 9.3694e-04 - val_loss: 0.0010 - val_mae: 0.0010\n",
            "Epoch 28/100\n",
            "6/6 [==============================] - 0s 12ms/step - loss: 8.7275e-04 - mae: 8.7275e-04 - val_loss: 0.0011 - val_mae: 0.0011\n",
            "Epoch 29/100\n",
            "6/6 [==============================] - 0s 8ms/step - loss: 8.6771e-04 - mae: 8.6771e-04 - val_loss: 9.8444e-04 - val_mae: 9.8444e-04\n",
            "Epoch 30/100\n",
            "6/6 [==============================] - 0s 8ms/step - loss: 8.5246e-04 - mae: 8.5246e-04 - val_loss: 9.8286e-04 - val_mae: 9.8286e-04\n",
            "Epoch 31/100\n",
            "6/6 [==============================] - 0s 10ms/step - loss: 8.5987e-04 - mae: 8.5987e-04 - val_loss: 0.0010 - val_mae: 0.0010\n",
            "Epoch 32/100\n",
            "6/6 [==============================] - 0s 7ms/step - loss: 8.8147e-04 - mae: 8.8147e-04 - val_loss: 0.0010 - val_mae: 0.0010\n",
            "Epoch 33/100\n",
            "6/6 [==============================] - 0s 8ms/step - loss: 9.4233e-04 - mae: 9.4233e-04 - val_loss: 0.0011 - val_mae: 0.0011\n",
            "Epoch 34/100\n",
            "6/6 [==============================] - 0s 7ms/step - loss: 9.7318e-04 - mae: 9.7318e-04 - val_loss: 0.0010 - val_mae: 0.0010\n",
            "Epoch 35/100\n",
            "6/6 [==============================] - 0s 15ms/step - loss: 9.7503e-04 - mae: 9.7503e-04 - val_loss: 9.5611e-04 - val_mae: 9.5611e-04\n",
            "Epoch 36/100\n",
            "6/6 [==============================] - 0s 7ms/step - loss: 8.8656e-04 - mae: 8.8656e-04 - val_loss: 9.8538e-04 - val_mae: 9.8538e-04\n",
            "Epoch 37/100\n",
            "6/6 [==============================] - 0s 9ms/step - loss: 8.3660e-04 - mae: 8.3660e-04 - val_loss: 9.6550e-04 - val_mae: 9.6550e-04\n",
            "Epoch 38/100\n",
            "6/6 [==============================] - 0s 7ms/step - loss: 8.1968e-04 - mae: 8.1968e-04 - val_loss: 9.8849e-04 - val_mae: 9.8849e-04\n",
            "Epoch 39/100\n",
            "6/6 [==============================] - 0s 7ms/step - loss: 8.4745e-04 - mae: 8.4745e-04 - val_loss: 9.7114e-04 - val_mae: 9.7114e-04\n",
            "Epoch 40/100\n",
            "6/6 [==============================] - 0s 7ms/step - loss: 8.7632e-04 - mae: 8.7632e-04 - val_loss: 9.5820e-04 - val_mae: 9.5820e-04\n",
            "Epoch 41/100\n",
            "6/6 [==============================] - 0s 7ms/step - loss: 8.3161e-04 - mae: 8.3161e-04 - val_loss: 9.8804e-04 - val_mae: 9.8804e-04\n",
            "Epoch 42/100\n",
            "6/6 [==============================] - 0s 7ms/step - loss: 8.7463e-04 - mae: 8.7463e-04 - val_loss: 9.7196e-04 - val_mae: 9.7196e-04\n",
            "Epoch 43/100\n",
            "6/6 [==============================] - 0s 7ms/step - loss: 8.3971e-04 - mae: 8.3971e-04 - val_loss: 9.8424e-04 - val_mae: 9.8424e-04\n",
            "Epoch 44/100\n",
            "6/6 [==============================] - 0s 9ms/step - loss: 8.4525e-04 - mae: 8.4525e-04 - val_loss: 0.0010 - val_mae: 0.0010\n",
            "Epoch 45/100\n",
            "6/6 [==============================] - 0s 8ms/step - loss: 8.5982e-04 - mae: 8.5982e-04 - val_loss: 9.3414e-04 - val_mae: 9.3414e-04\n",
            "Epoch 46/100\n",
            "6/6 [==============================] - 0s 7ms/step - loss: 8.1460e-04 - mae: 8.1460e-04 - val_loss: 0.0010 - val_mae: 0.0010\n",
            "Epoch 47/100\n",
            "6/6 [==============================] - 0s 8ms/step - loss: 8.9632e-04 - mae: 8.9632e-04 - val_loss: 9.6501e-04 - val_mae: 9.6501e-04\n",
            "Epoch 48/100\n",
            "6/6 [==============================] - 0s 7ms/step - loss: 8.1471e-04 - mae: 8.1471e-04 - val_loss: 9.1746e-04 - val_mae: 9.1746e-04\n",
            "Epoch 49/100\n",
            "6/6 [==============================] - 0s 7ms/step - loss: 8.0471e-04 - mae: 8.0471e-04 - val_loss: 9.2907e-04 - val_mae: 9.2907e-04\n",
            "Epoch 50/100\n",
            "6/6 [==============================] - 0s 8ms/step - loss: 8.2821e-04 - mae: 8.2821e-04 - val_loss: 9.4521e-04 - val_mae: 9.4521e-04\n",
            "Epoch 51/100\n",
            "6/6 [==============================] - 0s 7ms/step - loss: 8.3225e-04 - mae: 8.3225e-04 - val_loss: 9.4120e-04 - val_mae: 9.4120e-04\n",
            "Epoch 52/100\n",
            "6/6 [==============================] - 0s 7ms/step - loss: 8.3818e-04 - mae: 8.3818e-04 - val_loss: 9.2911e-04 - val_mae: 9.2911e-04\n",
            "Epoch 53/100\n",
            "6/6 [==============================] - 0s 7ms/step - loss: 8.2487e-04 - mae: 8.2487e-04 - val_loss: 0.0010 - val_mae: 0.0010\n",
            "Epoch 54/100\n",
            "6/6 [==============================] - 0s 8ms/step - loss: 8.2133e-04 - mae: 8.2133e-04 - val_loss: 9.0759e-04 - val_mae: 9.0759e-04\n",
            "Epoch 55/100\n",
            "6/6 [==============================] - 0s 7ms/step - loss: 7.9952e-04 - mae: 7.9952e-04 - val_loss: 8.9340e-04 - val_mae: 8.9340e-04\n",
            "Epoch 56/100\n",
            "6/6 [==============================] - 0s 9ms/step - loss: 7.9389e-04 - mae: 7.9389e-04 - val_loss: 8.9246e-04 - val_mae: 8.9246e-04\n",
            "Epoch 57/100\n",
            "6/6 [==============================] - 0s 11ms/step - loss: 8.0775e-04 - mae: 8.0775e-04 - val_loss: 0.0010 - val_mae: 0.0010\n",
            "Epoch 58/100\n",
            "6/6 [==============================] - 0s 10ms/step - loss: 8.3992e-04 - mae: 8.3992e-04 - val_loss: 8.9046e-04 - val_mae: 8.9046e-04\n",
            "Epoch 59/100\n",
            "6/6 [==============================] - 0s 7ms/step - loss: 7.9778e-04 - mae: 7.9778e-04 - val_loss: 8.8251e-04 - val_mae: 8.8251e-04\n",
            "Epoch 60/100\n",
            "6/6 [==============================] - 0s 7ms/step - loss: 7.6982e-04 - mae: 7.6982e-04 - val_loss: 8.9247e-04 - val_mae: 8.9247e-04\n",
            "Epoch 61/100\n",
            "6/6 [==============================] - 0s 6ms/step - loss: 7.8682e-04 - mae: 7.8682e-04 - val_loss: 8.6715e-04 - val_mae: 8.6715e-04\n",
            "Epoch 62/100\n",
            "6/6 [==============================] - 0s 6ms/step - loss: 7.7843e-04 - mae: 7.7843e-04 - val_loss: 8.8858e-04 - val_mae: 8.8858e-04\n",
            "Epoch 63/100\n",
            "6/6 [==============================] - 0s 7ms/step - loss: 7.6467e-04 - mae: 7.6467e-04 - val_loss: 8.6710e-04 - val_mae: 8.6710e-04\n",
            "Epoch 64/100\n",
            "6/6 [==============================] - 0s 7ms/step - loss: 7.7410e-04 - mae: 7.7410e-04 - val_loss: 8.7451e-04 - val_mae: 8.7451e-04\n",
            "Epoch 65/100\n",
            "6/6 [==============================] - 0s 7ms/step - loss: 7.7243e-04 - mae: 7.7243e-04 - val_loss: 9.1499e-04 - val_mae: 9.1499e-04\n",
            "Epoch 66/100\n",
            "6/6 [==============================] - 0s 7ms/step - loss: 7.8585e-04 - mae: 7.8585e-04 - val_loss: 9.3909e-04 - val_mae: 9.3909e-04\n",
            "Epoch 67/100\n",
            "6/6 [==============================] - 0s 11ms/step - loss: 8.8617e-04 - mae: 8.8617e-04 - val_loss: 8.9942e-04 - val_mae: 8.9942e-04\n",
            "Epoch 68/100\n",
            "6/6 [==============================] - 0s 7ms/step - loss: 8.4982e-04 - mae: 8.4982e-04 - val_loss: 9.1055e-04 - val_mae: 9.1055e-04\n",
            "Epoch 69/100\n",
            "6/6 [==============================] - 0s 7ms/step - loss: 8.1396e-04 - mae: 8.1396e-04 - val_loss: 9.3138e-04 - val_mae: 9.3138e-04\n",
            "Epoch 70/100\n",
            "6/6 [==============================] - 0s 8ms/step - loss: 8.1865e-04 - mae: 8.1865e-04 - val_loss: 9.4220e-04 - val_mae: 9.4220e-04\n",
            "Epoch 71/100\n",
            "6/6 [==============================] - 0s 8ms/step - loss: 8.0676e-04 - mae: 8.0676e-04 - val_loss: 9.6802e-04 - val_mae: 9.6802e-04\n",
            "Epoch 72/100\n",
            "6/6 [==============================] - 0s 7ms/step - loss: 8.4845e-04 - mae: 8.4845e-04 - val_loss: 9.2317e-04 - val_mae: 9.2317e-04\n",
            "Epoch 73/100\n",
            "6/6 [==============================] - 0s 7ms/step - loss: 8.3052e-04 - mae: 8.3052e-04 - val_loss: 9.2213e-04 - val_mae: 9.2213e-04\n",
            "Epoch 74/100\n",
            "6/6 [==============================] - 0s 7ms/step - loss: 7.8835e-04 - mae: 7.8835e-04 - val_loss: 9.0845e-04 - val_mae: 9.0845e-04\n",
            "Epoch 75/100\n",
            "6/6 [==============================] - 0s 9ms/step - loss: 8.0970e-04 - mae: 8.0970e-04 - val_loss: 9.0265e-04 - val_mae: 9.0265e-04\n",
            "Epoch 76/100\n",
            "6/6 [==============================] - 0s 12ms/step - loss: 7.8243e-04 - mae: 7.8243e-04 - val_loss: 9.0468e-04 - val_mae: 9.0468e-04\n",
            "Epoch 77/100\n",
            "6/6 [==============================] - 0s 12ms/step - loss: 8.0867e-04 - mae: 8.0867e-04 - val_loss: 8.9547e-04 - val_mae: 8.9547e-04\n",
            "Epoch 78/100\n",
            "6/6 [==============================] - 0s 7ms/step - loss: 7.9820e-04 - mae: 7.9820e-04 - val_loss: 8.9036e-04 - val_mae: 8.9036e-04\n",
            "Epoch 79/100\n",
            "6/6 [==============================] - 0s 7ms/step - loss: 8.0148e-04 - mae: 8.0148e-04 - val_loss: 8.9814e-04 - val_mae: 8.9814e-04\n",
            "Epoch 80/100\n",
            "6/6 [==============================] - 0s 9ms/step - loss: 7.7433e-04 - mae: 7.7433e-04 - val_loss: 8.8590e-04 - val_mae: 8.8590e-04\n",
            "Epoch 81/100\n",
            "6/6 [==============================] - 0s 8ms/step - loss: 7.5922e-04 - mae: 7.5922e-04 - val_loss: 8.4036e-04 - val_mae: 8.4036e-04\n",
            "Epoch 82/100\n",
            "6/6 [==============================] - 0s 7ms/step - loss: 7.3170e-04 - mae: 7.3170e-04 - val_loss: 9.1166e-04 - val_mae: 9.1166e-04\n",
            "Epoch 83/100\n",
            "6/6 [==============================] - 0s 7ms/step - loss: 7.7026e-04 - mae: 7.7026e-04 - val_loss: 9.5017e-04 - val_mae: 9.5017e-04\n",
            "Epoch 84/100\n",
            "6/6 [==============================] - 0s 7ms/step - loss: 7.9363e-04 - mae: 7.9363e-04 - val_loss: 8.5248e-04 - val_mae: 8.5248e-04\n",
            "Epoch 85/100\n",
            "6/6 [==============================] - 0s 7ms/step - loss: 8.0623e-04 - mae: 8.0623e-04 - val_loss: 9.4005e-04 - val_mae: 9.4005e-04\n",
            "Epoch 86/100\n",
            "6/6 [==============================] - 0s 9ms/step - loss: 8.1002e-04 - mae: 8.1002e-04 - val_loss: 8.6723e-04 - val_mae: 8.6723e-04\n",
            "Epoch 87/100\n",
            "6/6 [==============================] - 0s 7ms/step - loss: 7.5355e-04 - mae: 7.5355e-04 - val_loss: 9.3204e-04 - val_mae: 9.3204e-04\n",
            "Epoch 88/100\n",
            "6/6 [==============================] - 0s 14ms/step - loss: 7.6980e-04 - mae: 7.6980e-04 - val_loss: 8.7069e-04 - val_mae: 8.7069e-04\n",
            "Epoch 89/100\n",
            "6/6 [==============================] - 0s 8ms/step - loss: 7.4015e-04 - mae: 7.4015e-04 - val_loss: 8.5845e-04 - val_mae: 8.5845e-04\n",
            "Epoch 90/100\n",
            "6/6 [==============================] - 0s 7ms/step - loss: 7.2809e-04 - mae: 7.2809e-04 - val_loss: 8.5012e-04 - val_mae: 8.5012e-04\n",
            "Epoch 91/100\n",
            "6/6 [==============================] - 0s 6ms/step - loss: 7.2261e-04 - mae: 7.2261e-04 - val_loss: 8.4223e-04 - val_mae: 8.4223e-04\n",
            "Epoch 92/100\n",
            "6/6 [==============================] - 0s 6ms/step - loss: 7.2746e-04 - mae: 7.2746e-04 - val_loss: 8.9539e-04 - val_mae: 8.9539e-04\n",
            "Epoch 93/100\n",
            "6/6 [==============================] - 0s 7ms/step - loss: 7.3820e-04 - mae: 7.3820e-04 - val_loss: 9.0007e-04 - val_mae: 9.0007e-04\n",
            "Epoch 94/100\n",
            "6/6 [==============================] - 0s 7ms/step - loss: 8.0640e-04 - mae: 8.0640e-04 - val_loss: 8.6384e-04 - val_mae: 8.6384e-04\n",
            "Epoch 95/100\n",
            "6/6 [==============================] - 0s 7ms/step - loss: 7.6122e-04 - mae: 7.6122e-04 - val_loss: 9.1403e-04 - val_mae: 9.1403e-04\n",
            "Epoch 96/100\n",
            "6/6 [==============================] - 0s 9ms/step - loss: 8.0584e-04 - mae: 8.0584e-04 - val_loss: 8.7076e-04 - val_mae: 8.7076e-04\n",
            "Epoch 97/100\n",
            "6/6 [==============================] - 0s 6ms/step - loss: 7.5763e-04 - mae: 7.5763e-04 - val_loss: 9.4546e-04 - val_mae: 9.4546e-04\n",
            "Epoch 98/100\n",
            "6/6 [==============================] - 0s 7ms/step - loss: 7.8872e-04 - mae: 7.8872e-04 - val_loss: 9.3535e-04 - val_mae: 9.3535e-04\n",
            "Epoch 99/100\n",
            "6/6 [==============================] - 0s 7ms/step - loss: 7.6367e-04 - mae: 7.6367e-04 - val_loss: 8.5839e-04 - val_mae: 8.5839e-04\n",
            "Epoch 100/100\n",
            "6/6 [==============================] - 0s 6ms/step - loss: 7.2339e-04 - mae: 7.2339e-04 - val_loss: 8.8289e-04 - val_mae: 8.8289e-04\n"
          ]
        },
        {
          "output_type": "display_data",
          "data": {
            "text/plain": [
              "<Figure size 432x288 with 1 Axes>"
            ],
            "image/png": "[encoded data removed]"
          },
          "metadata": {
            "needs_background": "light"
          }
        }
      ],
      "source": [
        "model.compile(loss=\"mae\", optimizer=Adam(0.001), metrics=['mae'])\n",
        "history = model.fit(x_train, y_train, batch_size=128, validation_split=0.1, epochs=100, verbose=1)\n",
        "getLoss(history)"
      ]
    },
    {
      "cell_type": "code",
      "execution_count": null,
      "metadata": {
        "colab": {
          "base_uri": "https://localhost:8080/"
        },
        "id": "l_5qahbrWHbm",
        "outputId": "091c6b8e-32c5-4bda-f5e4-6b54cb500101"
      },
      "outputs": [
        {
          "output_type": "stream",
          "name": "stdout",
          "text": [
            "Epoch 1/100\n",
            "5/5 [==============================] - 0s 36ms/step - loss: 7.3218e-04 - mae: 7.3218e-04 - val_loss: 8.0636e-04 - val_mae: 8.0636e-04\n",
            "Epoch 2/100\n",
            "5/5 [==============================] - 0s 8ms/step - loss: 6.9870e-04 - mae: 6.9870e-04 - val_loss: 7.8788e-04 - val_mae: 7.8788e-04\n",
            "Epoch 3/100\n",
            "5/5 [==============================] - 0s 12ms/step - loss: 6.8820e-04 - mae: 6.8820e-04 - val_loss: 7.7619e-04 - val_mae: 7.7619e-04\n",
            "Epoch 4/100\n",
            "5/5 [==============================] - 0s 8ms/step - loss: 6.8040e-04 - mae: 6.8040e-04 - val_loss: 7.7905e-04 - val_mae: 7.7905e-04\n",
            "Epoch 5/100\n",
            "5/5 [==============================] - 0s 8ms/step - loss: 6.7594e-04 - mae: 6.7594e-04 - val_loss: 7.7764e-04 - val_mae: 7.7764e-04\n",
            "Epoch 6/100\n",
            "5/5 [==============================] - 0s 8ms/step - loss: 6.7569e-04 - mae: 6.7569e-04 - val_loss: 7.7554e-04 - val_mae: 7.7554e-04\n",
            "Epoch 7/100\n",
            "5/5 [==============================] - 0s 8ms/step - loss: 6.7576e-04 - mae: 6.7576e-04 - val_loss: 7.7734e-04 - val_mae: 7.7734e-04\n",
            "Epoch 8/100\n",
            "5/5 [==============================] - 0s 8ms/step - loss: 6.7359e-04 - mae: 6.7359e-04 - val_loss: 7.7562e-04 - val_mae: 7.7562e-04\n",
            "Epoch 9/100\n",
            "5/5 [==============================] - 0s 9ms/step - loss: 6.7432e-04 - mae: 6.7432e-04 - val_loss: 7.8972e-04 - val_mae: 7.8972e-04\n",
            "Epoch 10/100\n",
            "5/5 [==============================] - 0s 8ms/step - loss: 6.7638e-04 - mae: 6.7638e-04 - val_loss: 7.7649e-04 - val_mae: 7.7649e-04\n",
            "Epoch 11/100\n",
            "5/5 [==============================] - 0s 10ms/step - loss: 6.7198e-04 - mae: 6.7198e-04 - val_loss: 7.8860e-04 - val_mae: 7.8860e-04\n",
            "Epoch 12/100\n",
            "5/5 [==============================] - 0s 8ms/step - loss: 6.7493e-04 - mae: 6.7493e-04 - val_loss: 7.7521e-04 - val_mae: 7.7521e-04\n",
            "Epoch 13/100\n",
            "5/5 [==============================] - 0s 8ms/step - loss: 6.6975e-04 - mae: 6.6975e-04 - val_loss: 7.8478e-04 - val_mae: 7.8478e-04\n",
            "Epoch 14/100\n",
            "5/5 [==============================] - 0s 8ms/step - loss: 6.7342e-04 - mae: 6.7342e-04 - val_loss: 7.7755e-04 - val_mae: 7.7755e-04\n",
            "Epoch 15/100\n",
            "5/5 [==============================] - 0s 8ms/step - loss: 6.7299e-04 - mae: 6.7299e-04 - val_loss: 7.7633e-04 - val_mae: 7.7633e-04\n",
            "Epoch 16/100\n",
            "5/5 [==============================] - 0s 10ms/step - loss: 6.7189e-04 - mae: 6.7189e-04 - val_loss: 7.8055e-04 - val_mae: 7.8055e-04\n",
            "Epoch 17/100\n",
            "5/5 [==============================] - 0s 10ms/step - loss: 6.7214e-04 - mae: 6.7214e-04 - val_loss: 7.7968e-04 - val_mae: 7.7968e-04\n",
            "Epoch 18/100\n",
            "5/5 [==============================] - 0s 8ms/step - loss: 6.6956e-04 - mae: 6.6956e-04 - val_loss: 7.7947e-04 - val_mae: 7.7947e-04\n",
            "Epoch 19/100\n",
            "5/5 [==============================] - 0s 9ms/step - loss: 6.6665e-04 - mae: 6.6665e-04 - val_loss: 7.7700e-04 - val_mae: 7.7700e-04\n",
            "Epoch 20/100\n",
            "5/5 [==============================] - 0s 10ms/step - loss: 6.6943e-04 - mae: 6.6943e-04 - val_loss: 7.7907e-04 - val_mae: 7.7907e-04\n",
            "Epoch 21/100\n",
            "5/5 [==============================] - 0s 9ms/step - loss: 6.7177e-04 - mae: 6.7177e-04 - val_loss: 7.7625e-04 - val_mae: 7.7625e-04\n",
            "Epoch 22/100\n",
            "5/5 [==============================] - 0s 8ms/step - loss: 6.6920e-04 - mae: 6.6920e-04 - val_loss: 7.7549e-04 - val_mae: 7.7549e-04\n",
            "Epoch 23/100\n",
            "5/5 [==============================] - 0s 12ms/step - loss: 6.7335e-04 - mae: 6.7335e-04 - val_loss: 7.8327e-04 - val_mae: 7.8327e-04\n",
            "Epoch 24/100\n",
            "5/5 [==============================] - 0s 14ms/step - loss: 6.7358e-04 - mae: 6.7358e-04 - val_loss: 7.8549e-04 - val_mae: 7.8549e-04\n",
            "Epoch 25/100\n",
            "5/5 [==============================] - 0s 16ms/step - loss: 6.7344e-04 - mae: 6.7344e-04 - val_loss: 7.9431e-04 - val_mae: 7.9431e-04\n",
            "Epoch 26/100\n",
            "5/5 [==============================] - 0s 12ms/step - loss: 6.8102e-04 - mae: 6.8102e-04 - val_loss: 7.7750e-04 - val_mae: 7.7750e-04\n",
            "Epoch 27/100\n",
            "5/5 [==============================] - 0s 13ms/step - loss: 6.7497e-04 - mae: 6.7497e-04 - val_loss: 7.8097e-04 - val_mae: 7.8097e-04\n",
            "Epoch 28/100\n",
            "5/5 [==============================] - 0s 12ms/step - loss: 6.7016e-04 - mae: 6.7016e-04 - val_loss: 7.8322e-04 - val_mae: 7.8322e-04\n",
            "Epoch 29/100\n",
            "5/5 [==============================] - 0s 13ms/step - loss: 6.7375e-04 - mae: 6.7375e-04 - val_loss: 7.7918e-04 - val_mae: 7.7918e-04\n",
            "Epoch 30/100\n",
            "5/5 [==============================] - 0s 16ms/step - loss: 6.7113e-04 - mae: 6.7113e-04 - val_loss: 7.8233e-04 - val_mae: 7.8233e-04\n",
            "Epoch 31/100\n",
            "5/5 [==============================] - 0s 12ms/step - loss: 6.7275e-04 - mae: 6.7275e-04 - val_loss: 7.8271e-04 - val_mae: 7.8271e-04\n",
            "Epoch 32/100\n",
            "5/5 [==============================] - 0s 11ms/step - loss: 6.7056e-04 - mae: 6.7056e-04 - val_loss: 7.7947e-04 - val_mae: 7.7947e-04\n",
            "Epoch 33/100\n",
            "5/5 [==============================] - 0s 15ms/step - loss: 6.7030e-04 - mae: 6.7030e-04 - val_loss: 7.8894e-04 - val_mae: 7.8894e-04\n",
            "Epoch 34/100\n",
            "5/5 [==============================] - 0s 14ms/step - loss: 6.7312e-04 - mae: 6.7312e-04 - val_loss: 7.8006e-04 - val_mae: 7.8006e-04\n",
            "Epoch 35/100\n",
            "5/5 [==============================] - 0s 11ms/step - loss: 6.6992e-04 - mae: 6.6992e-04 - val_loss: 7.8475e-04 - val_mae: 7.8475e-04\n",
            "Epoch 36/100\n",
            "5/5 [==============================] - 0s 12ms/step - loss: 6.6644e-04 - mae: 6.6644e-04 - val_loss: 7.7826e-04 - val_mae: 7.7826e-04\n",
            "Epoch 37/100\n",
            "5/5 [==============================] - 0s 15ms/step - loss: 6.6603e-04 - mae: 6.6603e-04 - val_loss: 7.8179e-04 - val_mae: 7.8179e-04\n",
            "Epoch 38/100\n",
            "5/5 [==============================] - 0s 11ms/step - loss: 6.6574e-04 - mae: 6.6574e-04 - val_loss: 7.7737e-04 - val_mae: 7.7737e-04\n",
            "Epoch 39/100\n",
            "5/5 [==============================] - 0s 11ms/step - loss: 6.6277e-04 - mae: 6.6277e-04 - val_loss: 7.8194e-04 - val_mae: 7.8194e-04\n",
            "Epoch 40/100\n",
            "5/5 [==============================] - 0s 15ms/step - loss: 6.6300e-04 - mae: 6.6300e-04 - val_loss: 7.7728e-04 - val_mae: 7.7728e-04\n",
            "Epoch 41/100\n",
            "5/5 [==============================] - 0s 11ms/step - loss: 6.6284e-04 - mae: 6.6284e-04 - val_loss: 7.7812e-04 - val_mae: 7.7812e-04\n",
            "Epoch 42/100\n",
            "5/5 [==============================] - 0s 11ms/step - loss: 6.6507e-04 - mae: 6.6507e-04 - val_loss: 7.8977e-04 - val_mae: 7.8977e-04\n",
            "Epoch 43/100\n",
            "5/5 [==============================] - 0s 11ms/step - loss: 6.6677e-04 - mae: 6.6677e-04 - val_loss: 7.7615e-04 - val_mae: 7.7615e-04\n",
            "Epoch 44/100\n",
            "5/5 [==============================] - 0s 13ms/step - loss: 6.6316e-04 - mae: 6.6316e-04 - val_loss: 7.8183e-04 - val_mae: 7.8183e-04\n",
            "Epoch 45/100\n",
            "5/5 [==============================] - 0s 13ms/step - loss: 6.6521e-04 - mae: 6.6521e-04 - val_loss: 7.7717e-04 - val_mae: 7.7717e-04\n",
            "Epoch 46/100\n",
            "5/5 [==============================] - 0s 13ms/step - loss: 6.6162e-04 - mae: 6.6162e-04 - val_loss: 7.7532e-04 - val_mae: 7.7532e-04\n",
            "Epoch 47/100\n",
            "5/5 [==============================] - 0s 16ms/step - loss: 6.6134e-04 - mae: 6.6134e-04 - val_loss: 7.7766e-04 - val_mae: 7.7766e-04\n",
            "Epoch 48/100\n",
            "5/5 [==============================] - 0s 15ms/step - loss: 6.6079e-04 - mae: 6.6079e-04 - val_loss: 7.7531e-04 - val_mae: 7.7531e-04\n",
            "Epoch 49/100\n",
            "5/5 [==============================] - 0s 13ms/step - loss: 6.6187e-04 - mae: 6.6187e-04 - val_loss: 7.7935e-04 - val_mae: 7.7935e-04\n",
            "Epoch 50/100\n",
            "5/5 [==============================] - 0s 13ms/step - loss: 6.6388e-04 - mae: 6.6388e-04 - val_loss: 7.8284e-04 - val_mae: 7.8284e-04\n",
            "Epoch 51/100\n",
            "5/5 [==============================] - 0s 12ms/step - loss: 6.6212e-04 - mae: 6.6212e-04 - val_loss: 7.7972e-04 - val_mae: 7.7972e-04\n",
            "Epoch 52/100\n",
            "5/5 [==============================] - 0s 13ms/step - loss: 6.6405e-04 - mae: 6.6405e-04 - val_loss: 7.7884e-04 - val_mae: 7.7884e-04\n",
            "Epoch 53/100\n",
            "5/5 [==============================] - 0s 13ms/step - loss: 6.6089e-04 - mae: 6.6089e-04 - val_loss: 7.7868e-04 - val_mae: 7.7868e-04\n",
            "Epoch 54/100\n",
            "5/5 [==============================] - 0s 11ms/step - loss: 6.5912e-04 - mae: 6.5912e-04 - val_loss: 7.7980e-04 - val_mae: 7.7980e-04\n",
            "Epoch 55/100\n",
            "5/5 [==============================] - 0s 11ms/step - loss: 6.5904e-04 - mae: 6.5904e-04 - val_loss: 7.7566e-04 - val_mae: 7.7566e-04\n",
            "Epoch 56/100\n",
            "5/5 [==============================] - 0s 19ms/step - loss: 6.6083e-04 - mae: 6.6083e-04 - val_loss: 7.7720e-04 - val_mae: 7.7720e-04\n",
            "Epoch 57/100\n",
            "5/5 [==============================] - 0s 17ms/step - loss: 6.5960e-04 - mae: 6.5960e-04 - val_loss: 7.8141e-04 - val_mae: 7.8141e-04\n",
            "Epoch 58/100\n",
            "5/5 [==============================] - 0s 19ms/step - loss: 6.6258e-04 - mae: 6.6258e-04 - val_loss: 7.8053e-04 - val_mae: 7.8053e-04\n",
            "Epoch 59/100\n",
            "5/5 [==============================] - 0s 15ms/step - loss: 6.6262e-04 - mae: 6.6262e-04 - val_loss: 7.8630e-04 - val_mae: 7.8630e-04\n",
            "Epoch 60/100\n",
            "5/5 [==============================] - 0s 16ms/step - loss: 6.6409e-04 - mae: 6.6409e-04 - val_loss: 7.7670e-04 - val_mae: 7.7670e-04\n",
            "Epoch 61/100\n",
            "5/5 [==============================] - 0s 17ms/step - loss: 6.6041e-04 - mae: 6.6041e-04 - val_loss: 7.7558e-04 - val_mae: 7.7558e-04\n",
            "Epoch 62/100\n",
            "5/5 [==============================] - 0s 11ms/step - loss: 6.5975e-04 - mae: 6.5975e-04 - val_loss: 7.7774e-04 - val_mae: 7.7774e-04\n",
            "Epoch 63/100\n",
            "5/5 [==============================] - 0s 12ms/step - loss: 6.5686e-04 - mae: 6.5686e-04 - val_loss: 7.7929e-04 - val_mae: 7.7929e-04\n",
            "Epoch 64/100\n",
            "5/5 [==============================] - 0s 18ms/step - loss: 6.5978e-04 - mae: 6.5978e-04 - val_loss: 7.7626e-04 - val_mae: 7.7626e-04\n",
            "Epoch 65/100\n",
            "5/5 [==============================] - 0s 16ms/step - loss: 6.5919e-04 - mae: 6.5919e-04 - val_loss: 7.8245e-04 - val_mae: 7.8245e-04\n",
            "Epoch 66/100\n",
            "5/5 [==============================] - 0s 19ms/step - loss: 6.6123e-04 - mae: 6.6123e-04 - val_loss: 7.7726e-04 - val_mae: 7.7726e-04\n",
            "Epoch 67/100\n",
            "5/5 [==============================] - 0s 10ms/step - loss: 6.6107e-04 - mae: 6.6107e-04 - val_loss: 7.8325e-04 - val_mae: 7.8325e-04\n",
            "Epoch 68/100\n",
            "5/5 [==============================] - 0s 8ms/step - loss: 6.6131e-04 - mae: 6.6131e-04 - val_loss: 7.7704e-04 - val_mae: 7.7704e-04\n",
            "Epoch 69/100\n",
            "5/5 [==============================] - 0s 9ms/step - loss: 6.5778e-04 - mae: 6.5778e-04 - val_loss: 7.7817e-04 - val_mae: 7.7817e-04\n",
            "Epoch 70/100\n",
            "5/5 [==============================] - 0s 8ms/step - loss: 6.5911e-04 - mae: 6.5911e-04 - val_loss: 7.7552e-04 - val_mae: 7.7552e-04\n",
            "Epoch 71/100\n",
            "5/5 [==============================] - 0s 8ms/step - loss: 6.6438e-04 - mae: 6.6438e-04 - val_loss: 7.9509e-04 - val_mae: 7.9509e-04\n",
            "Epoch 72/100\n",
            "5/5 [==============================] - 0s 8ms/step - loss: 6.6843e-04 - mae: 6.6843e-04 - val_loss: 7.8202e-04 - val_mae: 7.8202e-04\n",
            "Epoch 73/100\n",
            "5/5 [==============================] - 0s 15ms/step - loss: 6.6672e-04 - mae: 6.6672e-04 - val_loss: 7.7933e-04 - val_mae: 7.7933e-04\n",
            "Epoch 74/100\n",
            "5/5 [==============================] - 0s 9ms/step - loss: 6.6133e-04 - mae: 6.6133e-04 - val_loss: 7.7802e-04 - val_mae: 7.7802e-04\n",
            "Epoch 75/100\n",
            "5/5 [==============================] - 0s 9ms/step - loss: 6.5774e-04 - mae: 6.5774e-04 - val_loss: 7.7867e-04 - val_mae: 7.7867e-04\n",
            "Epoch 76/100\n",
            "5/5 [==============================] - 0s 9ms/step - loss: 6.5949e-04 - mae: 6.5949e-04 - val_loss: 7.7913e-04 - val_mae: 7.7913e-04\n",
            "Epoch 77/100\n",
            "5/5 [==============================] - 0s 9ms/step - loss: 6.5717e-04 - mae: 6.5717e-04 - val_loss: 7.7843e-04 - val_mae: 7.7843e-04\n",
            "Epoch 78/100\n",
            "5/5 [==============================] - 0s 9ms/step - loss: 6.6406e-04 - mae: 6.6406e-04 - val_loss: 7.8607e-04 - val_mae: 7.8607e-04\n",
            "Epoch 79/100\n",
            "5/5 [==============================] - 0s 10ms/step - loss: 6.7126e-04 - mae: 6.7126e-04 - val_loss: 7.9840e-04 - val_mae: 7.9840e-04\n",
            "Epoch 80/100\n",
            "5/5 [==============================] - 0s 9ms/step - loss: 6.6336e-04 - mae: 6.6336e-04 - val_loss: 7.8129e-04 - val_mae: 7.8129e-04\n",
            "Epoch 81/100\n",
            "5/5 [==============================] - 0s 9ms/step - loss: 6.6342e-04 - mae: 6.6342e-04 - val_loss: 7.9302e-04 - val_mae: 7.9302e-04\n",
            "Epoch 82/100\n",
            "5/5 [==============================] - 0s 8ms/step - loss: 6.5753e-04 - mae: 6.5753e-04 - val_loss: 7.7861e-04 - val_mae: 7.7861e-04\n",
            "Epoch 83/100\n",
            "5/5 [==============================] - 0s 8ms/step - loss: 6.6218e-04 - mae: 6.6218e-04 - val_loss: 7.8487e-04 - val_mae: 7.8487e-04\n",
            "Epoch 84/100\n",
            "5/5 [==============================] - 0s 8ms/step - loss: 6.5521e-04 - mae: 6.5521e-04 - val_loss: 7.7374e-04 - val_mae: 7.7374e-04\n",
            "Epoch 85/100\n",
            "5/5 [==============================] - 0s 11ms/step - loss: 6.5813e-04 - mae: 6.5813e-04 - val_loss: 7.7641e-04 - val_mae: 7.7641e-04\n",
            "Epoch 86/100\n",
            "5/5 [==============================] - 0s 8ms/step - loss: 6.5739e-04 - mae: 6.5739e-04 - val_loss: 7.8349e-04 - val_mae: 7.8349e-04\n",
            "Epoch 87/100\n",
            "5/5 [==============================] - 0s 9ms/step - loss: 6.5866e-04 - mae: 6.5866e-04 - val_loss: 7.7757e-04 - val_mae: 7.7757e-04\n",
            "Epoch 88/100\n",
            "5/5 [==============================] - 0s 8ms/step - loss: 6.5545e-04 - mae: 6.5545e-04 - val_loss: 7.7923e-04 - val_mae: 7.7923e-04\n",
            "Epoch 89/100\n",
            "5/5 [==============================] - 0s 8ms/step - loss: 6.5613e-04 - mae: 6.5613e-04 - val_loss: 7.7954e-04 - val_mae: 7.7954e-04\n",
            "Epoch 90/100\n",
            "5/5 [==============================] - 0s 8ms/step - loss: 6.5631e-04 - mae: 6.5631e-04 - val_loss: 7.7830e-04 - val_mae: 7.7830e-04\n",
            "Epoch 91/100\n",
            "5/5 [==============================] - 0s 10ms/step - loss: 6.5238e-04 - mae: 6.5238e-04 - val_loss: 7.7719e-04 - val_mae: 7.7719e-04\n",
            "Epoch 92/100\n",
            "5/5 [==============================] - 0s 8ms/step - loss: 6.5251e-04 - mae: 6.5251e-04 - val_loss: 7.7625e-04 - val_mae: 7.7625e-04\n",
            "Epoch 93/100\n",
            "5/5 [==============================] - 0s 8ms/step - loss: 6.5181e-04 - mae: 6.5181e-04 - val_loss: 7.7617e-04 - val_mae: 7.7617e-04\n",
            "Epoch 94/100\n",
            "5/5 [==============================] - 0s 10ms/step - loss: 6.5199e-04 - mae: 6.5199e-04 - val_loss: 7.7613e-04 - val_mae: 7.7613e-04\n",
            "Epoch 95/100\n",
            "5/5 [==============================] - 0s 8ms/step - loss: 6.5262e-04 - mae: 6.5262e-04 - val_loss: 7.7810e-04 - val_mae: 7.7810e-04\n",
            "Epoch 96/100\n",
            "5/5 [==============================] - 0s 11ms/step - loss: 6.5164e-04 - mae: 6.5164e-04 - val_loss: 7.7496e-04 - val_mae: 7.7496e-04\n",
            "Epoch 97/100\n",
            "5/5 [==============================] - 0s 8ms/step - loss: 6.5207e-04 - mae: 6.5207e-04 - val_loss: 7.7522e-04 - val_mae: 7.7522e-04\n",
            "Epoch 98/100\n",
            "5/5 [==============================] - 0s 9ms/step - loss: 6.5328e-04 - mae: 6.5328e-04 - val_loss: 7.8144e-04 - val_mae: 7.8144e-04\n",
            "Epoch 99/100\n",
            "5/5 [==============================] - 0s 8ms/step - loss: 6.5208e-04 - mae: 6.5208e-04 - val_loss: 7.8131e-04 - val_mae: 7.8131e-04\n",
            "Epoch 100/100\n",
            "5/5 [==============================] - 0s 8ms/step - loss: 6.5297e-04 - mae: 6.5297e-04 - val_loss: 7.7550e-04 - val_mae: 7.7550e-04\n"
          ]
        }
      ],
      "source": [
        "model.compile(loss=\"mae\", optimizer=Adam(0.0001), metrics=['mae'])\n",
        "history = model.fit(x_train, y_train, batch_size=128, validation_split=0.2, epochs=100, verbose=1)"
      ]
    },
    {
      "cell_type": "code",
      "execution_count": null,
      "metadata": {
        "colab": {
          "base_uri": "https://localhost:8080/",
          "height": 279
        },
        "id": "Rj2Of4nRWHbm",
        "outputId": "b78477e7-1a05-424f-cf2c-876c287140b9"
      },
      "outputs": [
        {
          "output_type": "display_data",
          "data": {
            "text/plain": [
              "<Figure size 432x288 with 1 Axes>"
            ],
            "image/png": "[encoded data removed]"
          },
          "metadata": {
            "needs_background": "light"
          }
        }
      ],
      "source": [
        "getLoss(history)"
      ]
    },
    {
      "cell_type": "markdown",
      "metadata": {
        "id": "S3wjzY1IW1GI"
      },
      "source": [
        "# Результаты"
      ]
    },
    {
      "cell_type": "code",
      "execution_count": null,
      "metadata": {
        "colab": {
          "base_uri": "https://localhost:8080/"
        },
        "id": "IHDXKwk7W1GJ",
        "outputId": "d465be09-d225-41a1-e869-94be09c7ad25"
      },
      "outputs": [
        {
          "output_type": "stream",
          "name": "stdout",
          "text": [
            "7/7 [==============================] - 0s 2ms/step\n"
          ]
        }
      ],
      "source": [
        "y_predicts = model.predict(x_test)"
      ]
    },
    {
      "cell_type": "code",
      "execution_count": null,
      "metadata": {
        "id": "VdbLlemLLbkT"
      },
      "outputs": [],
      "source": [
        "y_real_predict = func_back_normalization(y_predicts, y_min, y_max, list_degree=1)\n",
        "y_true = func_back_normalization(y_test, y_min, y_max, list_degree=1)"
      ]
    },
    {
      "cell_type": "code",
      "execution_count": null,
      "metadata": {
        "colab": {
          "base_uri": "https://localhost:8080/"
        },
        "id": "-5SYlSngsCVW",
        "outputId": "1fd0f3d6-d0e7-4c2f-f3c6-ea53a4493ad6"
      },
      "outputs": [
        {
          "output_type": "stream",
          "name": "stdout",
          "text": [
            "Error 1 = 0.0014680223695396426, regard error = 1.73%\n",
            "Error 2 = 0.001631257330471578, regard error = 2.24%\n",
            "Error 3 = 0.0018404510682696457, regard error = 2.5%\n",
            "Error 4 = 0.0010083956415563838, regard error = 1.9%\n",
            "Error 5 = 0.0007687226288930834, regard error = 1.3%\n",
            "Error 6 = 0.002750619789096643, regard error = 3.25%\n",
            "Error 7 = 0.0010627640886118632, regard error = 1.12%\n",
            "Error 8 = 0.001961049283839608, regard error = 1.34%\n",
            "Error 9 = 0.0012384732543006388, regard error = 1.62%\n",
            "Error 10 = 0.0012065322620904379, regard error = 1.53%\n",
            "mean error: 1.85%\n"
          ]
        }
      ],
      "source": [
        "total_error = 0\n",
        "count_element = 10\n",
        "for ii in range(count_element):\n",
        "  result = 0\n",
        "  error = 0 \n",
        "\n",
        "  for jj in range(graph_point):\n",
        "    y_mean = y_true[ii].mean()\n",
        "    one_error = abs(float(y_true[ii][jj]) - float(y_real_predict[ii][jj]))\n",
        "    error += one_error\n",
        "  result = round(error / graph_point / y_mean * 100, 2)\n",
        "  \n",
        "  print(f\"Error {ii + 1} = {error}, regard error = {result}%\")\n",
        "  total_error +=  result\n",
        "\n",
        "print(f\"mean error: {round(total_error/count_element, 2)}%\")"
      ]
    },
    {
      "cell_type": "code",
      "execution_count": null,
      "metadata": {
        "colab": {
          "base_uri": "https://localhost:8080/",
          "height": 279
        },
        "id": "a7sN4HemqPLd",
        "outputId": "7197954b-22fe-4d46-a833-4aeb7f3fd7d2"
      },
      "outputs": [
        {
          "output_type": "display_data",
          "data": {
            "text/plain": [
              "<Figure size 432x288 with 1 Axes>"
            ],
            "image/png": "[encoded data removed]"
          },
          "metadata": {
            "needs_background": "light"
          }
        }
      ],
      "source": [
        "show_graph(y_true[1], y_real_predict[1])"
      ]
    },
    {
      "cell_type": "code",
      "execution_count": null,
      "metadata": {
        "colab": {
          "base_uri": "https://localhost:8080/",
          "height": 279
        },
        "id": "kBPlDOU3rLW7",
        "outputId": "ec32181c-b35c-4f05-ed2d-0da4a5b98424"
      },
      "outputs": [
        {
          "output_type": "display_data",
          "data": {
            "text/plain": [
              "<Figure size 432x288 with 1 Axes>"
            ],
            "image/png": "[encoded data removed]"
          },
          "metadata": {
            "needs_background": "light"
          }
        }
      ],
      "source": [
        "show_graph(y_true[8], y_real_predict[8])"
      ]
    },
    {
      "cell_type": "markdown",
      "metadata": {
        "id": "avZ52S07mUbW"
      },
      "source": [
        "# (Сохранение весов)"
      ]
    },
    {
      "cell_type": "code",
      "execution_count": null,
      "metadata": {
        "id": "KeprgmmidXjo"
      },
      "outputs": [],
      "source": [
        "model.save_weights('model.h5')\n",
        "# model.load_weights('model.h5')"
      ]
    }
  ]
}