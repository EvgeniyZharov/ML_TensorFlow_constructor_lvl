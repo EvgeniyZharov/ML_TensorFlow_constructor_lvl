{
  "nbformat": 4,
  "nbformat_minor": 0,
  "metadata": {
    "colab": {
      "provenance": [],
      "toc_visible": true
    },
    "kernelspec": {
      "name": "python3",
      "display_name": "Python 3"
    },
    "language_info": {
      "name": "python"
    }
  },
  "cells": [
    {
      "cell_type": "markdown",
      "source": [
        "Создайте модель для распознавания рукописных цифр из набора MNIST (можно воспользоваться ноутбуком 1-го занятия) и проведите ряд тестов:\n",
        "\n",
        "1. Запустите сеть с различными размерами обучающей и проверочной выборок:\n",
        "Обучающая выборка 50.000 примеров\n",
        "Обучающая выборка 10.000 примеров\n",
        "Обучающая выборка 500 примеров\n",
        "2. сравните значения точности на проверочной выборке (на          последней эпохе) и на тестовой выборке. Сделайте сравнительную таблицу.\n",
        "\n",
        "3. Создайте сеть, содержащую следующие слои (слои могут находится в любом порядке):\n",
        "\n",
        "      4 Dense слоя\n",
        "\n",
        "      3 Dropout слоя\n",
        "\n",
        "      3 BatchNormalization слоя\n",
        "\n",
        "      \n",
        "Напишите свои выводы по результатам проведенных тестов."
      ],
      "metadata": {
        "id": "pGt-HL1lIUmY"
      }
    },
    {
      "cell_type": "markdown",
      "metadata": {
        "id": "W-Dj6c_3lAU6"
      },
      "source": [
        "# Импорт библиотек"
      ]
    },
    {
      "cell_type": "code",
      "metadata": {
        "id": "XMxoboXpY5Xi"
      },
      "source": [
        "from tensorflow.keras.datasets import mnist\n",
        "from tensorflow.keras.models import Sequential\n",
        "from tensorflow.keras.layers import Dense, Dropout, BatchNormalization\n",
        "from tensorflow.keras.optimizers import Adam \n",
        "from tensorflow.keras import utils \n",
        "from tensorflow.keras.preprocessing import image \n",
        "import numpy as np \n",
        "import pylab\n",
        "# from mpl_toolkits.mplot3d import Axes3D\n",
        "# from google.colab import files \n",
        "import matplotlib.pyplot as plt\n",
        "from PIL import Image\n",
        "\n",
        "%matplotlib inline "
      ],
      "execution_count": null,
      "outputs": []
    },
    {
      "cell_type": "markdown",
      "metadata": {
        "id": "D8OnEvc6lfM9"
      },
      "source": [
        "# Подготовка данных"
      ]
    },
    {
      "cell_type": "code",
      "metadata": {
        "id": "tzpEn6-bbbIF",
        "colab": {
          "base_uri": "https://localhost:8080/"
        },
        "outputId": "6af647c4-e62e-43ab-b92e-8131c056c158"
      },
      "source": [
        "(x_train_org, y_train_org), (x_test_org, y_test_org) = mnist.load_data()\n",
        "\n",
        "x_train = x_train_org.reshape(60000, 784)\n",
        "x_test = x_test_org.reshape(10000, 784)\n",
        "\n",
        "x_train = x_train.astype('float32') \n",
        "x_train = x_train / 255 \n",
        "x_test = x_test.astype('float32') \n",
        "x_test = x_test / 255 \n",
        "\n",
        "y_train = utils.to_categorical(y_train_org, 10)\n",
        "y_test = utils.to_categorical(y_test_org, 10) "
      ],
      "execution_count": null,
      "outputs": [
        {
          "output_type": "stream",
          "text": [
            "Downloading data from https://storage.googleapis.com/tensorflow/tf-keras-datasets/mnist.npz\n",
            "11493376/11490434 [==============================] - 0s 0us/step\n"
          ],
          "name": "stdout"
        }
      ]
    },
    {
      "cell_type": "markdown",
      "metadata": {
        "id": "X2jsBf15lwW4"
      },
      "source": [
        "# Функция создания нейронной сети"
      ]
    },
    {
      "cell_type": "code",
      "metadata": {
        "id": "6KofLH8VcjU0"
      },
      "source": [
        "def createModel():\n",
        "  model = Sequential()\n",
        "  model.add(Dense(800, input_dim=784, activation=\"relu\"))\n",
        "  model.add(Dense(400, activation=\"relu\"))\n",
        "  model.add(Dense(10, activation=\"softmax\"))\n",
        "  model.compile(loss=\"categorical_crossentropy\",\n",
        "                optimizer=\"adam\",\n",
        "                metrics=[\"accuracy\"])\n",
        "  print(model.summary())\n",
        "\n",
        "  return model"
      ],
      "execution_count": null,
      "outputs": []
    },
    {
      "cell_type": "markdown",
      "metadata": {
        "id": "ufVRbfROOQPp"
      },
      "source": [
        "# Функия подготовки модели"
      ]
    },
    {
      "cell_type": "code",
      "metadata": {
        "id": "5BoaOBR4ORxL"
      },
      "source": [
        "def mainTest(x, y, n_train):\n",
        "\n",
        "  # Создание модели\n",
        "  model = createModel()\n",
        "\n",
        "  # Распределение данных\n",
        "  x_train = x[:n_train]\n",
        "  y_train = y[:n_train]\n",
        "  x_check = x[n_train:]\n",
        "  y_check = y[n_train:]\n",
        "\n",
        "  model.fit(x_train,\n",
        "            y_train,\n",
        "            epochs=15,\n",
        "            batch_size=128,\n",
        "            validation_data=(x_check, y_check),\n",
        "            verbose=1)"
      ],
      "execution_count": null,
      "outputs": []
    },
    {
      "cell_type": "markdown",
      "metadata": {
        "id": "mu4duZ3IScdf"
      },
      "source": [
        "# 1 задание"
      ]
    },
    {
      "cell_type": "markdown",
      "metadata": {
        "id": "ltdS4-iIQCZ6"
      },
      "source": [
        "## Тест 1 (Обучающая выборка 50.000 примеров)"
      ]
    },
    {
      "cell_type": "code",
      "metadata": {
        "colab": {
          "base_uri": "https://localhost:8080/"
        },
        "id": "dp-NkEvrQHml",
        "outputId": "0b855b11-ae98-479f-ff44-d3155d54cfa1"
      },
      "source": [
        "mainTest(x_train, y_train, 50000)"
      ],
      "execution_count": null,
      "outputs": [
        {
          "output_type": "stream",
          "text": [
            "Model: \"sequential\"\n",
            "_________________________________________________________________\n",
            "Layer (type)                 Output Shape              Param #   \n",
            "=================================================================\n",
            "dense (Dense)                (None, 800)               628000    \n",
            "_________________________________________________________________\n",
            "dense_1 (Dense)              (None, 400)               320400    \n",
            "_________________________________________________________________\n",
            "dense_2 (Dense)              (None, 10)                4010      \n",
            "=================================================================\n",
            "Total params: 952,410\n",
            "Trainable params: 952,410\n",
            "Non-trainable params: 0\n",
            "_________________________________________________________________\n",
            "None\n",
            "Epoch 1/15\n",
            "391/391 [==============================] - 8s 18ms/step - loss: 0.2265 - accuracy: 0.9313 - val_loss: 0.1115 - val_accuracy: 0.9678\n",
            "Epoch 2/15\n",
            "391/391 [==============================] - 7s 17ms/step - loss: 0.0853 - accuracy: 0.9736 - val_loss: 0.0844 - val_accuracy: 0.9760\n",
            "Epoch 3/15\n",
            "391/391 [==============================] - 7s 17ms/step - loss: 0.0514 - accuracy: 0.9834 - val_loss: 0.0793 - val_accuracy: 0.9774\n",
            "Epoch 4/15\n",
            "391/391 [==============================] - 7s 17ms/step - loss: 0.0348 - accuracy: 0.9889 - val_loss: 0.0825 - val_accuracy: 0.9781\n",
            "Epoch 5/15\n",
            "391/391 [==============================] - 7s 17ms/step - loss: 0.0282 - accuracy: 0.9908 - val_loss: 0.0755 - val_accuracy: 0.9777\n",
            "Epoch 6/15\n",
            "391/391 [==============================] - 7s 17ms/step - loss: 0.0192 - accuracy: 0.9934 - val_loss: 0.0803 - val_accuracy: 0.9783\n",
            "Epoch 7/15\n",
            "391/391 [==============================] - 7s 17ms/step - loss: 0.0203 - accuracy: 0.9930 - val_loss: 0.0852 - val_accuracy: 0.9793\n",
            "Epoch 8/15\n",
            "391/391 [==============================] - 7s 17ms/step - loss: 0.0165 - accuracy: 0.9946 - val_loss: 0.0931 - val_accuracy: 0.9790\n",
            "Epoch 9/15\n",
            "391/391 [==============================] - 7s 17ms/step - loss: 0.0180 - accuracy: 0.9940 - val_loss: 0.0977 - val_accuracy: 0.9785\n",
            "Epoch 10/15\n",
            "391/391 [==============================] - 7s 17ms/step - loss: 0.0094 - accuracy: 0.9969 - val_loss: 0.1010 - val_accuracy: 0.9771\n",
            "Epoch 11/15\n",
            "391/391 [==============================] - 7s 17ms/step - loss: 0.0132 - accuracy: 0.9958 - val_loss: 0.1023 - val_accuracy: 0.9785\n",
            "Epoch 12/15\n",
            "391/391 [==============================] - 7s 17ms/step - loss: 0.0088 - accuracy: 0.9974 - val_loss: 0.1401 - val_accuracy: 0.9757\n",
            "Epoch 13/15\n",
            "391/391 [==============================] - 6s 17ms/step - loss: 0.0131 - accuracy: 0.9958 - val_loss: 0.1018 - val_accuracy: 0.9802\n",
            "Epoch 14/15\n",
            "391/391 [==============================] - 7s 17ms/step - loss: 0.0116 - accuracy: 0.9962 - val_loss: 0.1033 - val_accuracy: 0.9800\n",
            "Epoch 15/15\n",
            "391/391 [==============================] - 7s 17ms/step - loss: 0.0089 - accuracy: 0.9972 - val_loss: 0.1067 - val_accuracy: 0.9798\n"
          ],
          "name": "stdout"
        }
      ]
    },
    {
      "cell_type": "markdown",
      "metadata": {
        "id": "WBjnHw2UQOyN"
      },
      "source": [
        "## Тест 2 (Обучающая выборка 10.000 примеров)"
      ]
    },
    {
      "cell_type": "code",
      "metadata": {
        "colab": {
          "base_uri": "https://localhost:8080/"
        },
        "id": "4Cjy1JM6QR1j",
        "outputId": "2e1ad8ed-74ac-4396-9866-49be5d7ba7fc"
      },
      "source": [
        "mainTest(x_train, y_train, 10000)"
      ],
      "execution_count": null,
      "outputs": [
        {
          "output_type": "stream",
          "text": [
            "Model: \"sequential_1\"\n",
            "_________________________________________________________________\n",
            "Layer (type)                 Output Shape              Param #   \n",
            "=================================================================\n",
            "dense_3 (Dense)              (None, 800)               628000    \n",
            "_________________________________________________________________\n",
            "dense_4 (Dense)              (None, 400)               320400    \n",
            "_________________________________________________________________\n",
            "dense_5 (Dense)              (None, 10)                4010      \n",
            "=================================================================\n",
            "Total params: 952,410\n",
            "Trainable params: 952,410\n",
            "Non-trainable params: 0\n",
            "_________________________________________________________________\n",
            "None\n",
            "Epoch 1/15\n",
            "79/79 [==============================] - 4s 46ms/step - loss: 0.4829 - accuracy: 0.8588 - val_loss: 0.2514 - val_accuracy: 0.9255\n",
            "Epoch 2/15\n",
            "79/79 [==============================] - 3s 44ms/step - loss: 0.1728 - accuracy: 0.9495 - val_loss: 0.1914 - val_accuracy: 0.9424\n",
            "Epoch 3/15\n",
            "79/79 [==============================] - 3s 44ms/step - loss: 0.1034 - accuracy: 0.9687 - val_loss: 0.1908 - val_accuracy: 0.9429\n",
            "Epoch 4/15\n",
            "79/79 [==============================] - 3s 43ms/step - loss: 0.0623 - accuracy: 0.9812 - val_loss: 0.1686 - val_accuracy: 0.9514\n",
            "Epoch 5/15\n",
            "79/79 [==============================] - 3s 44ms/step - loss: 0.0410 - accuracy: 0.9878 - val_loss: 0.1660 - val_accuracy: 0.9532\n",
            "Epoch 6/15\n",
            "79/79 [==============================] - 3s 44ms/step - loss: 0.0221 - accuracy: 0.9953 - val_loss: 0.1587 - val_accuracy: 0.9561\n",
            "Epoch 7/15\n",
            "79/79 [==============================] - 3s 44ms/step - loss: 0.0128 - accuracy: 0.9973 - val_loss: 0.1651 - val_accuracy: 0.9563\n",
            "Epoch 8/15\n",
            "79/79 [==============================] - 3s 44ms/step - loss: 0.0072 - accuracy: 0.9986 - val_loss: 0.1597 - val_accuracy: 0.9595\n",
            "Epoch 9/15\n",
            "79/79 [==============================] - 3s 44ms/step - loss: 0.0055 - accuracy: 0.9994 - val_loss: 0.1651 - val_accuracy: 0.9580\n",
            "Epoch 10/15\n",
            "79/79 [==============================] - 3s 44ms/step - loss: 0.0026 - accuracy: 0.9997 - val_loss: 0.1614 - val_accuracy: 0.9610\n",
            "Epoch 11/15\n",
            "79/79 [==============================] - 3s 44ms/step - loss: 0.0027 - accuracy: 0.9996 - val_loss: 0.1628 - val_accuracy: 0.9611\n",
            "Epoch 12/15\n",
            "79/79 [==============================] - 3s 44ms/step - loss: 0.0099 - accuracy: 0.9977 - val_loss: 0.1691 - val_accuracy: 0.9587\n",
            "Epoch 13/15\n",
            "79/79 [==============================] - 3s 44ms/step - loss: 0.0076 - accuracy: 0.9980 - val_loss: 0.1897 - val_accuracy: 0.9569\n",
            "Epoch 14/15\n",
            "79/79 [==============================] - 3s 44ms/step - loss: 0.0027 - accuracy: 0.9998 - val_loss: 0.1774 - val_accuracy: 0.9614\n",
            "Epoch 15/15\n",
            "79/79 [==============================] - 3s 44ms/step - loss: 0.0044 - accuracy: 0.9986 - val_loss: 0.2007 - val_accuracy: 0.9582\n"
          ],
          "name": "stdout"
        }
      ]
    },
    {
      "cell_type": "markdown",
      "metadata": {
        "id": "chVW-ZtgQWNQ"
      },
      "source": [
        "## Тест 3 (Обучающая выборка 500 примеров)"
      ]
    },
    {
      "cell_type": "code",
      "metadata": {
        "colab": {
          "base_uri": "https://localhost:8080/"
        },
        "id": "HtXUP5icQZTw",
        "outputId": "dc4d004e-a270-4805-818c-8a25e21d6412"
      },
      "source": [
        "mainTest(x_train, y_train, 500)"
      ],
      "execution_count": null,
      "outputs": [
        {
          "output_type": "stream",
          "text": [
            "Model: \"sequential_2\"\n",
            "_________________________________________________________________\n",
            "Layer (type)                 Output Shape              Param #   \n",
            "=================================================================\n",
            "dense_6 (Dense)              (None, 800)               628000    \n",
            "_________________________________________________________________\n",
            "dense_7 (Dense)              (None, 400)               320400    \n",
            "_________________________________________________________________\n",
            "dense_8 (Dense)              (None, 10)                4010      \n",
            "=================================================================\n",
            "Total params: 952,410\n",
            "Trainable params: 952,410\n",
            "Non-trainable params: 0\n",
            "_________________________________________________________________\n",
            "None\n",
            "Epoch 1/15\n",
            "4/4 [==============================] - 3s 893ms/step - loss: 1.8493 - accuracy: 0.4800 - val_loss: 1.3258 - val_accuracy: 0.6735\n",
            "Epoch 2/15\n",
            "4/4 [==============================] - 3s 877ms/step - loss: 0.8261 - accuracy: 0.8260 - val_loss: 0.7842 - val_accuracy: 0.7673\n",
            "Epoch 3/15\n",
            "4/4 [==============================] - 3s 875ms/step - loss: 0.4111 - accuracy: 0.8860 - val_loss: 0.6242 - val_accuracy: 0.7920\n",
            "Epoch 4/15\n",
            "4/4 [==============================] - 3s 884ms/step - loss: 0.2498 - accuracy: 0.9180 - val_loss: 0.5726 - val_accuracy: 0.8194\n",
            "Epoch 5/15\n",
            "4/4 [==============================] - 3s 859ms/step - loss: 0.1742 - accuracy: 0.9520 - val_loss: 0.5857 - val_accuracy: 0.8162\n",
            "Epoch 6/15\n",
            "4/4 [==============================] - 3s 874ms/step - loss: 0.1100 - accuracy: 0.9780 - val_loss: 0.5394 - val_accuracy: 0.8401\n",
            "Epoch 7/15\n",
            "4/4 [==============================] - 3s 868ms/step - loss: 0.0664 - accuracy: 0.9860 - val_loss: 0.5899 - val_accuracy: 0.8318\n",
            "Epoch 8/15\n",
            "4/4 [==============================] - 3s 873ms/step - loss: 0.0381 - accuracy: 0.9940 - val_loss: 0.5893 - val_accuracy: 0.8369\n",
            "Epoch 9/15\n",
            "4/4 [==============================] - 3s 879ms/step - loss: 0.0273 - accuracy: 1.0000 - val_loss: 0.5968 - val_accuracy: 0.8332\n",
            "Epoch 10/15\n",
            "4/4 [==============================] - 3s 877ms/step - loss: 0.0146 - accuracy: 1.0000 - val_loss: 0.5979 - val_accuracy: 0.8417\n",
            "Epoch 11/15\n",
            "4/4 [==============================] - 3s 892ms/step - loss: 0.0133 - accuracy: 1.0000 - val_loss: 0.6069 - val_accuracy: 0.8443\n",
            "Epoch 12/15\n",
            "4/4 [==============================] - 3s 882ms/step - loss: 0.0075 - accuracy: 1.0000 - val_loss: 0.5887 - val_accuracy: 0.8495\n",
            "Epoch 13/15\n",
            "4/4 [==============================] - 3s 895ms/step - loss: 0.0052 - accuracy: 1.0000 - val_loss: 0.6088 - val_accuracy: 0.8445\n",
            "Epoch 14/15\n",
            "4/4 [==============================] - 3s 904ms/step - loss: 0.0049 - accuracy: 1.0000 - val_loss: 0.6228 - val_accuracy: 0.8439\n",
            "Epoch 15/15\n",
            "4/4 [==============================] - 3s 880ms/step - loss: 0.0037 - accuracy: 1.0000 - val_loss: 0.6298 - val_accuracy: 0.8470\n"
          ],
          "name": "stdout"
        }
      ]
    },
    {
      "cell_type": "markdown",
      "metadata": {
        "id": "VVBNRzIySoOk"
      },
      "source": [
        "# 2 задание"
      ]
    },
    {
      "cell_type": "code",
      "metadata": {
        "id": "ys39oxb-30mw",
        "colab": {
          "base_uri": "https://localhost:8080/",
          "height": 1000
        },
        "outputId": "348f2d2e-21d3-4acb-f21c-7d6717485098"
      },
      "source": [
        "# Подготовка модели\n",
        "modelTest = Sequential()\n",
        "modelTest.add(Dense(800, input_dim=784, activation=\"relu\"))\n",
        "modelTest.add(Dense(400, activation=\"relu\"))\n",
        "modelTest.add(Dense(200, activation=\"relu\"))\n",
        "modelTest.add(Dense(10, activation=\"softmax\"))\n",
        "modelTest.compile(loss=\"categorical_crossentropy\",\n",
        "              optimizer=\"adam\",\n",
        "              metrics=[\"accuracy\"])\n",
        "print(modelTest.summary())\n",
        "\n",
        "# Обучение модели\n",
        "history = modelTest.fit(x_train, y_train, epochs=13, batch_size=128, verbose=1)\n",
        "\n",
        "plt.plot(history.history['accuracy'])\n",
        "plt.xlabel('Эпоха обучения')\n",
        "plt.ylabel('Доля верных ответов')\n",
        "plt.legend()\n",
        "plt.show()\n",
        "\n",
        "score = modelTest.evaluate(x_test, y_test, verbose=1)\n",
        "print(\"Доля верных ответов на тестовых данных, в процентах: \",\n",
        "      round(score[1] * 100, 4  ), \"%\", sep=\"\")"
      ],
      "execution_count": null,
      "outputs": [
        {
          "output_type": "stream",
          "text": [
            "Model: \"sequential_8\"\n",
            "_________________________________________________________________\n",
            "Layer (type)                 Output Shape              Param #   \n",
            "=================================================================\n",
            "dense_29 (Dense)             (None, 800)               628000    \n",
            "_________________________________________________________________\n",
            "dense_30 (Dense)             (None, 400)               320400    \n",
            "_________________________________________________________________\n",
            "dense_31 (Dense)             (None, 200)               80200     \n",
            "_________________________________________________________________\n",
            "dense_32 (Dense)             (None, 10)                2010      \n",
            "=================================================================\n",
            "Total params: 1,030,610\n",
            "Trainable params: 1,030,610\n",
            "Non-trainable params: 0\n",
            "_________________________________________________________________\n",
            "None\n",
            "Epoch 1/13\n",
            "469/469 [==============================] - 9s 18ms/step - loss: 0.2098 - accuracy: 0.9361\n",
            "Epoch 2/13\n",
            "469/469 [==============================] - 8s 18ms/step - loss: 0.0782 - accuracy: 0.9751\n",
            "Epoch 3/13\n",
            "469/469 [==============================] - 8s 18ms/step - loss: 0.0529 - accuracy: 0.9835\n",
            "Epoch 4/13\n",
            "469/469 [==============================] - 8s 18ms/step - loss: 0.0382 - accuracy: 0.9877\n",
            "Epoch 5/13\n",
            "469/469 [==============================] - 8s 18ms/step - loss: 0.0293 - accuracy: 0.9906\n",
            "Epoch 6/13\n",
            "469/469 [==============================] - 8s 18ms/step - loss: 0.0262 - accuracy: 0.9917\n",
            "Epoch 7/13\n",
            "469/469 [==============================] - 8s 18ms/step - loss: 0.0227 - accuracy: 0.9930\n",
            "Epoch 8/13\n",
            "469/469 [==============================] - 8s 18ms/step - loss: 0.0202 - accuracy: 0.9933\n",
            "Epoch 9/13\n",
            "469/469 [==============================] - 8s 18ms/step - loss: 0.0178 - accuracy: 0.9942\n",
            "Epoch 10/13\n",
            "469/469 [==============================] - 8s 18ms/step - loss: 0.0145 - accuracy: 0.9956\n",
            "Epoch 11/13\n",
            "469/469 [==============================] - 8s 18ms/step - loss: 0.0157 - accuracy: 0.9952\n",
            "Epoch 12/13\n",
            "469/469 [==============================] - 8s 18ms/step - loss: 0.0133 - accuracy: 0.9957\n",
            "Epoch 13/13\n",
            "469/469 [==============================] - 8s 18ms/step - loss: 0.0132 - accuracy: 0.9956\n"
          ],
          "name": "stdout"
        },
        {
          "output_type": "stream",
          "text": [
            "No handles with labels found to put in legend.\n"
          ],
          "name": "stderr"
        },
        {
          "output_type": "display_data",
          "data": {
            "image/png": "[encoded data removed]",
            "text/plain": [
              "<Figure size 432x288 with 1 Axes>"
            ]
          },
          "metadata": {
            "tags": [],
            "needs_background": "light"
          }
        },
        {
          "output_type": "stream",
          "text": [
            "313/313 [==============================] - 1s 4ms/step - loss: 0.0927 - accuracy: 0.9803\n",
            "Доля верных ответов на тестовых данных, в процентах: 98.03%\n"
          ],
          "name": "stdout"
        }
      ]
    },
    {
      "cell_type": "markdown",
      "metadata": {
        "id": "ZLJ77IFXSrQ0"
      },
      "source": [
        "# 3 задание"
      ]
    },
    {
      "cell_type": "code",
      "metadata": {
        "colab": {
          "base_uri": "https://localhost:8080/"
        },
        "id": "PpnhDCD4S1ta",
        "outputId": "21351a84-e05d-46ff-f0fc-74bca7fe977c"
      },
      "source": [
        "# Подготовка модели\n",
        "model = Sequential()\n",
        "model.add(Dropout(0.3, input_shape=(784,)))\n",
        "model.add(Dense(800, activation=\"relu\"))\n",
        "model.add(BatchNormalization())\n",
        "model.add(Dropout(0.3))\n",
        "model.add(Dense(400, activation=\"relu\"))\n",
        "model.add(BatchNormalization())\n",
        "model.add(Dropout(0.4))\n",
        "model.add(Dense(200, activation=\"relu\"))\n",
        "model.add(BatchNormalization())\n",
        "model.add(Dense(10, activation=\"softmax\"))\n",
        "model.compile(loss=\"categorical_crossentropy\",\n",
        "              optimizer=\"adam\",\n",
        "              metrics=[\"accuracy\"])\n",
        "print(model.summary())\n",
        "\n",
        "# Обучение модели\n",
        "model.fit(x_train, y_train, epochs=13, batch_size=128, verbose=1)"
      ],
      "execution_count": null,
      "outputs": [
        {
          "output_type": "stream",
          "text": [
            "Model: \"sequential_9\"\n",
            "_________________________________________________________________\n",
            "Layer (type)                 Output Shape              Param #   \n",
            "=================================================================\n",
            "dropout (Dropout)            (None, 784)               0         \n",
            "_________________________________________________________________\n",
            "dense_33 (Dense)             (None, 800)               628000    \n",
            "_________________________________________________________________\n",
            "batch_normalization (BatchNo (None, 800)               3200      \n",
            "_________________________________________________________________\n",
            "dropout_1 (Dropout)          (None, 800)               0         \n",
            "_________________________________________________________________\n",
            "dense_34 (Dense)             (None, 400)               320400    \n",
            "_________________________________________________________________\n",
            "batch_normalization_1 (Batch (None, 400)               1600      \n",
            "_________________________________________________________________\n",
            "dropout_2 (Dropout)          (None, 400)               0         \n",
            "_________________________________________________________________\n",
            "dense_35 (Dense)             (None, 200)               80200     \n",
            "_________________________________________________________________\n",
            "batch_normalization_2 (Batch (None, 200)               800       \n",
            "_________________________________________________________________\n",
            "dense_36 (Dense)             (None, 10)                2010      \n",
            "=================================================================\n",
            "Total params: 1,036,210\n",
            "Trainable params: 1,033,410\n",
            "Non-trainable params: 2,800\n",
            "_________________________________________________________________\n",
            "None\n",
            "Epoch 1/13\n",
            "469/469 [==============================] - 12s 24ms/step - loss: 0.3524 - accuracy: 0.8899\n",
            "Epoch 2/13\n",
            "469/469 [==============================] - 11s 24ms/step - loss: 0.1843 - accuracy: 0.9416\n",
            "Epoch 3/13\n",
            "469/469 [==============================] - 11s 24ms/step - loss: 0.1499 - accuracy: 0.9519\n",
            "Epoch 4/13\n",
            "469/469 [==============================] - 11s 24ms/step - loss: 0.1327 - accuracy: 0.9584\n",
            "Epoch 5/13\n",
            "469/469 [==============================] - 11s 24ms/step - loss: 0.1200 - accuracy: 0.9612\n",
            "Epoch 6/13\n",
            "469/469 [==============================] - 11s 23ms/step - loss: 0.1073 - accuracy: 0.9658\n",
            "Epoch 7/13\n",
            "469/469 [==============================] - 11s 23ms/step - loss: 0.1002 - accuracy: 0.9676\n",
            "Epoch 8/13\n",
            "469/469 [==============================] - 11s 24ms/step - loss: 0.0936 - accuracy: 0.9690\n",
            "Epoch 9/13\n",
            "469/469 [==============================] - 11s 24ms/step - loss: 0.0880 - accuracy: 0.9712\n",
            "Epoch 10/13\n",
            "469/469 [==============================] - 11s 24ms/step - loss: 0.0830 - accuracy: 0.9726\n",
            "Epoch 11/13\n",
            "469/469 [==============================] - 11s 23ms/step - loss: 0.0790 - accuracy: 0.9741\n",
            "Epoch 12/13\n",
            "469/469 [==============================] - 11s 24ms/step - loss: 0.0761 - accuracy: 0.9746\n",
            "Epoch 13/13\n",
            "469/469 [==============================] - 11s 24ms/step - loss: 0.0721 - accuracy: 0.9767\n"
          ],
          "name": "stdout"
        },
        {
          "output_type": "execute_result",
          "data": {
            "text/plain": [
              "<tensorflow.python.keras.callbacks.History at 0x7f23a413b9d0>"
            ]
          },
          "metadata": {
            "tags": []
          },
          "execution_count": 14
        }
      ]
    },
    {
      "cell_type": "code",
      "metadata": {
        "colab": {
          "base_uri": "https://localhost:8080/"
        },
        "id": "hpw0-mlaVo6y",
        "outputId": "76010eac-9f3f-4a55-c406-20e0982659eb"
      },
      "source": [
        "score = model.evaluate(x_test, y_test, verbose=1)\n",
        "print(\"Доля верных ответов на тестовых данных, в процентах: \", round(score[1] * 100, 4  ), \"%\", sep=\"\")"
      ],
      "execution_count": null,
      "outputs": [
        {
          "output_type": "stream",
          "text": [
            "313/313 [==============================] - 1s 4ms/step - loss: 0.0540 - accuracy: 0.9828\n",
            "Доля верных ответов на тестовых данных, в процентах: 98.28%\n"
          ],
          "name": "stdout"
        }
      ]
    },
    {
      "cell_type": "markdown",
      "metadata": {
        "id": "kHUZOWFGV4Kb"
      },
      "source": [
        "# ВЫВОД"
      ]
    },
    {
      "cell_type": "markdown",
      "metadata": {
        "id": "dQ4Sl8naV5Xc"
      },
      "source": [
        "Во время проведения экспериментов над моделью били замечены следующие закономерности:\n",
        "\n",
        "1. С уменьшением обучающей выборки уменьшаются время обучения и качество модели, это объясняется тем, что модель начинает быстрее заучивать элементы обучающей выборки и перестает выделять отличительные признаки (шаблоны)\n",
        "2. При добавлении еще одного скрытого слоя нейронов (200 нейронов) качество модели увеличилось, но вместе с этим увеличилось и время обучения модели, потому что теперь ей нужно обрабатывать больше параметров (весов)\n",
        "Однако переобучения не будет, так как в обучающей выборке достаточно много элементов\n",
        "3. При добавлении в модель слоев Dropout и BatchNormalizatoin качество модели становится хуже, потому что для данной задачи они не требуются, так как переобучения нет\n",
        "Также увеличивается время обучения"
      ]
    }
  ]
}