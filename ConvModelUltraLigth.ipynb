{
  "nbformat": 4,
  "nbformat_minor": 0,
  "metadata": {
    "colab": {
      "provenance": []
    },
    "kernelspec": {
      "name": "python3",
      "display_name": "Python 3"
    },
    "language_info": {
      "name": "python"
    }
  },
  "cells": [
    {
      "cell_type": "markdown",
      "metadata": {
        "id": "kAVXfixF45lt"
      },
      "source": [
        "# Импорт библиотек"
      ]
    },
    {
      "cell_type": "code",
      "metadata": {
        "id": "XmFqzvNP48kG"
      },
      "source": [
        "from tensorflow.keras.datasets import mnist\n",
        "from tensorflow.keras.models import Sequential\n",
        "from tensorflow.keras.layers import Dense, Conv2D, MaxPooling2D\n",
        "from tensorflow.keras.layers import Flatten, Dropout, BatchNormalization\n",
        "from tensorflow.keras import utils \n",
        "import numpy as np \n",
        "import matplotlib.pyplot as plt\n",
        "from PIL import Image\n",
        "\n",
        "%matplotlib inline"
      ],
      "execution_count": null,
      "outputs": []
    },
    {
      "cell_type": "markdown",
      "metadata": {
        "id": "m43y9WUc5NrM"
      },
      "source": [
        "# Подготовка данных"
      ]
    },
    {
      "cell_type": "code",
      "metadata": {
        "id": "JEpiYkTc5Qcs"
      },
      "source": [
        "(x_train, y_train), (x_test, y_test) = mnist.load_data()\n",
        "\n",
        "\n",
        "y_train = utils.to_categorical(y_train, 10)\n",
        "y_test = utils.to_categorical(y_test, 10)\n",
        "\n",
        "\n",
        "x_train = x_train.reshape(x_train.shape[0], 28, 28, 1)\n",
        "x_test = x_test.reshape(x_test.shape[0], 28, 28, 1)"
      ],
      "execution_count": null,
      "outputs": []
    },
    {
      "cell_type": "markdown",
      "metadata": {
        "id": "EX2eaHqb5hjP"
      },
      "source": [
        "# Подготовка модели"
      ]
    },
    {
      "cell_type": "markdown",
      "metadata": {
        "id": "uP1LUXhC4_qX"
      },
      "source": []
    },
    {
      "cell_type": "code",
      "metadata": {
        "colab": {
          "base_uri": "https://localhost:8080/"
        },
        "id": "QYzZos9E5skk",
        "outputId": "6e860f1f-2258-4153-f020-f3b8f3f4f7a4"
      },
      "source": [
        "model = Sequential()\n",
        "model.add(BatchNormalization(input_shape=(28, 28, 1)))\n",
        "model.add(Conv2D(32, (3, 3), padding='same', activation='relu'))\n",
        "model.add(MaxPooling2D(pool_size=(2, 2)))\n",
        "\n",
        "model.add(Flatten())\n",
        "model.add(Dense(256, activation='relu'))\n",
        "model.add(Dense(10, activation='softmax'))\n",
        "\n",
        "model.compile(loss=\"categorical_crossentropy\", optimizer=\"adam\", metrics=[\"accuracy\"])\n",
        "\n",
        "model.summary()"
      ],
      "execution_count": null,
      "outputs": [
        {
          "output_type": "stream",
          "text": [
            "Model: \"sequential_3\"\n",
            "_________________________________________________________________\n",
            "Layer (type)                 Output Shape              Param #   \n",
            "=================================================================\n",
            "batch_normalization_3 (Batch (None, 28, 28, 1)         4         \n",
            "_________________________________________________________________\n",
            "conv2d_4 (Conv2D)            (None, 28, 28, 32)        320       \n",
            "_________________________________________________________________\n",
            "max_pooling2d_3 (MaxPooling2 (None, 14, 14, 32)        0         \n",
            "_________________________________________________________________\n",
            "flatten_3 (Flatten)          (None, 6272)              0         \n",
            "_________________________________________________________________\n",
            "dense_6 (Dense)              (None, 256)               1605888   \n",
            "_________________________________________________________________\n",
            "dense_7 (Dense)              (None, 10)                2570      \n",
            "=================================================================\n",
            "Total params: 1,608,782\n",
            "Trainable params: 1,608,780\n",
            "Non-trainable params: 2\n",
            "_________________________________________________________________\n"
          ],
          "name": "stdout"
        }
      ]
    },
    {
      "cell_type": "markdown",
      "metadata": {
        "id": "2YGbQwRr5w9t"
      },
      "source": [
        "# Обучение сети"
      ]
    },
    {
      "cell_type": "code",
      "metadata": {
        "colab": {
          "base_uri": "https://localhost:8080/",
          "height": 781
        },
        "id": "baWHxezW5z2-",
        "outputId": "cd126128-1b3e-4ebf-e48c-939d9ffde361"
      },
      "source": [
        "history = model.fit(x_train, \n",
        "                    y_train, \n",
        "                    batch_size=128, \n",
        "                    epochs=15,\n",
        "                    validation_data=(x_test, y_test),\n",
        "                    verbose=1)\n",
        "\n",
        "plt.plot(history.history['accuracy'], \n",
        "         label='Доля верных ответов на обучающем наборе')\n",
        "plt.plot(history.history['val_accuracy'], \n",
        "         label='Доля верных ответов на проверочном наборе')\n",
        "plt.xlabel('Эпоха обучения')\n",
        "plt.ylabel('Доля верных ответов')\n",
        "plt.legend()\n",
        "plt.show()"
      ],
      "execution_count": null,
      "outputs": [
        {
          "output_type": "stream",
          "text": [
            "Epoch 1/15\n",
            "469/469 [==============================] - 46s 97ms/step - loss: 0.1770 - accuracy: 0.9456 - val_loss: 0.0667 - val_accuracy: 0.9792\n",
            "Epoch 2/15\n",
            "469/469 [==============================] - 45s 96ms/step - loss: 0.0544 - accuracy: 0.9835 - val_loss: 0.0575 - val_accuracy: 0.9813\n",
            "Epoch 3/15\n",
            "469/469 [==============================] - 45s 96ms/step - loss: 0.0355 - accuracy: 0.9889 - val_loss: 0.0514 - val_accuracy: 0.9841\n",
            "Epoch 4/15\n",
            "469/469 [==============================] - 45s 96ms/step - loss: 0.0219 - accuracy: 0.9930 - val_loss: 0.0521 - val_accuracy: 0.9840\n",
            "Epoch 5/15\n",
            "469/469 [==============================] - 45s 96ms/step - loss: 0.0164 - accuracy: 0.9946 - val_loss: 0.0518 - val_accuracy: 0.9846\n",
            "Epoch 6/15\n",
            "469/469 [==============================] - 45s 97ms/step - loss: 0.0103 - accuracy: 0.9966 - val_loss: 0.0500 - val_accuracy: 0.9855\n",
            "Epoch 7/15\n",
            "469/469 [==============================] - 45s 96ms/step - loss: 0.0107 - accuracy: 0.9962 - val_loss: 0.0496 - val_accuracy: 0.9853\n",
            "Epoch 8/15\n",
            "469/469 [==============================] - 45s 96ms/step - loss: 0.0089 - accuracy: 0.9971 - val_loss: 0.0518 - val_accuracy: 0.9850\n",
            "Epoch 9/15\n",
            "469/469 [==============================] - 45s 97ms/step - loss: 0.0054 - accuracy: 0.9983 - val_loss: 0.0464 - val_accuracy: 0.9868\n",
            "Epoch 10/15\n",
            "469/469 [==============================] - 46s 97ms/step - loss: 0.0051 - accuracy: 0.9983 - val_loss: 0.0612 - val_accuracy: 0.9851\n",
            "Epoch 11/15\n",
            "469/469 [==============================] - 47s 99ms/step - loss: 0.0062 - accuracy: 0.9980 - val_loss: 0.0557 - val_accuracy: 0.9858\n",
            "Epoch 12/15\n",
            "469/469 [==============================] - 46s 99ms/step - loss: 0.0052 - accuracy: 0.9983 - val_loss: 0.0582 - val_accuracy: 0.9858\n",
            "Epoch 13/15\n",
            "469/469 [==============================] - 46s 98ms/step - loss: 0.0048 - accuracy: 0.9985 - val_loss: 0.0633 - val_accuracy: 0.9843\n",
            "Epoch 14/15\n",
            "469/469 [==============================] - 46s 99ms/step - loss: 0.0034 - accuracy: 0.9989 - val_loss: 0.0557 - val_accuracy: 0.9872\n",
            "Epoch 15/15\n",
            "469/469 [==============================] - 46s 99ms/step - loss: 0.0025 - accuracy: 0.9993 - val_loss: 0.0538 - val_accuracy: 0.9872\n"
          ],
          "name": "stdout"
        },
        {
          "output_type": "display_data",
          "data": {
            "image/png": "[encoded data removed]",
            "text/plain": [
              "<Figure size 432x288 with 1 Axes>"
            ]
          },
          "metadata": {
            "tags": [],
            "needs_background": "light"
          }
        }
      ]
    }
  ]
}