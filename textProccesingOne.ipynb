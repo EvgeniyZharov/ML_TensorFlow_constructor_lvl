{
  "nbformat": 4,
  "nbformat_minor": 0,
  "metadata": {
    "colab": {
      "provenance": []
    },
    "kernelspec": {
      "name": "python3",
      "display_name": "Python 3"
    },
    "language_info": {
      "name": "python"
    }
  },
  "cells": [
    {
      "cell_type": "code",
      "metadata": {
        "id": "oW5oD5op5GET"
      },
      "source": [
        "from google.colab import files\n",
        "import numpy as np\n",
        "import pandas as pd\n",
        "import matplotlib.pyplot as plt\n",
        "import os\n",
        "%matplotlib inline\n",
        "\n",
        "from tensorflow.keras import utils\n",
        "from tensorflow.keras.models import Sequential\n",
        "from tensorflow.keras.layers import Dense, Dropout, SpatialDropout1D, BatchNormalization, Embedding, Flatten, Activation\n",
        "from tensorflow.keras.preprocessing.text import Tokenizer\n",
        "from tensorflow.keras.preprocessing.sequence import pad_sequences\n",
        "\n",
        "from sklearn.preprocessing import LabelEncoder\n",
        "from sklearn.model_selection import train_test_split\n",
        "from google.colab import drive\n",
        "import time\n",
        "import seaborn as sns\n",
        "sns.set_style('darkgrid')"
      ],
      "execution_count": null,
      "outputs": []
    },
    {
      "cell_type": "code",
      "metadata": {
        "colab": {
          "base_uri": "https://localhost:8080/"
        },
        "id": "0E29iOqv8tzK",
        "outputId": "1b13558d-748f-4c70-8cb1-1d7a3b0d3e19"
      },
      "source": [
        "drive.mount('/content/drive')"
      ],
      "execution_count": null,
      "outputs": [
        {
          "output_type": "stream",
          "text": [
            "Drive already mounted at /content/drive; to attempt to forcibly remount, call drive.mount(\"/content/drive\", force_remount=True).\n"
          ],
          "name": "stdout"
        }
      ]
    },
    {
      "cell_type": "code",
      "metadata": {
        "id": "UI_a0Igp7ILU",
        "colab": {
          "base_uri": "https://localhost:8080/"
        },
        "outputId": "e3a8da00-25e1-47b5-ba8b-88b3e81c4e3e"
      },
      "source": [
        "!rm -R '/content/texts'"
      ],
      "execution_count": null,
      "outputs": [
        {
          "output_type": "stream",
          "text": [
            "rm: cannot remove '/content/texts': No such file or directory\n"
          ],
          "name": "stdout"
        }
      ]
    },
    {
      "cell_type": "code",
      "metadata": {
        "id": "LwXBp2Xj7Lkc"
      },
      "source": [
        "!unzip -q '/content/drive/MyDrive/Lessons/Lesson4/Тексты писателей.zip' -d '/content/texts'"
      ],
      "execution_count": null,
      "outputs": []
    },
    {
      "cell_type": "code",
      "metadata": {
        "id": "IfaHTolk7Vgi"
      },
      "source": [
        "def readText(fileName):\n",
        "  f = open(fileName, 'r')\n",
        "  text = f.read()\n",
        "  text = text.replace(\"\\n\", \" \")\n",
        "  \n",
        "  return text         \n",
        "\n",
        "className = [\"О. Генри\", \"Стругацкие\", \"Булгаков\", \"Саймак\", \"Фрай\", \"Брэдберри\"]\n",
        "nClasses = len(className)"
      ],
      "execution_count": null,
      "outputs": []
    },
    {
      "cell_type": "code",
      "metadata": {
        "colab": {
          "base_uri": "https://localhost:8080/"
        },
        "id": "nNvnE6lj7k1C",
        "outputId": "0a232f17-aecc-4db0-eca3-06b685a54d92"
      },
      "source": [
        "trainText = []\n",
        "testText = []\n",
        "\n",
        "for i in className:\n",
        "  for j in os.listdir('texts/Тексты писателей'):\n",
        "    if i in j:\n",
        "      \n",
        "      if 'Обучающая' in j:  \n",
        "        trainText.append(readText('texts/Тексты писателей/' + j))\n",
        "        print(j, 'добавлен в обучающую выборку')\n",
        "      if 'Тестовая' in j:\n",
        "        testText.append(readText('texts/Тексты писателей/' + j)) \n",
        "        print(j, 'добавлен в тестовую выборку')\n",
        "  print()"
      ],
      "execution_count": null,
      "outputs": [
        {
          "output_type": "stream",
          "text": [
            "(О. Генри) Обучающая_50 вместе.txt добавлен в обучающую выборку\n",
            "(О. Генри) Тестовая_20 вместе.txt добавлен в тестовую выборку\n",
            "\n",
            "(Стругацкие) Тестовая_2 вместе.txt добавлен в тестовую выборку\n",
            "(Стругацкие) Обучающая_5 вместе.txt добавлен в обучающую выборку\n",
            "\n",
            "(Булгаков) Обучающая_5 вместе.txt добавлен в обучающую выборку\n",
            "(Булгаков) Тестовая_2 вместе.txt добавлен в тестовую выборку\n",
            "\n",
            "(Клиффорд_Саймак) Обучающая_5 вместе.txt добавлен в обучающую выборку\n",
            "(Клиффорд_Саймак) Тестовая_2 вместе.txt добавлен в тестовую выборку\n",
            "\n",
            "(Макс Фрай) Тестовая_2 вместе.txt добавлен в тестовую выборку\n",
            "(Макс Фрай) Обучающая_5 вместе.txt добавлен в обучающую выборку\n",
            "\n",
            "(Рэй Брэдберри) Обучающая_22 вместе.txt добавлен в обучающую выборку\n",
            "(Рэй Брэдберри) Тестовая_8 вместе.txt добавлен в тестовую выборку\n",
            "\n"
          ],
          "name": "stdout"
        }
      ]
    },
    {
      "cell_type": "code",
      "metadata": {
        "colab": {
          "base_uri": "https://localhost:8080/"
        },
        "id": "8eKXM1O27ouM",
        "outputId": "e04edabc-8aaa-4ebe-b0cd-930851c73573"
      },
      "source": [
        "print(len(trainText))\n",
        "print(len(trainText[0]))"
      ],
      "execution_count": null,
      "outputs": [
        {
          "output_type": "stream",
          "text": [
            "6\n",
            "1049517\n"
          ],
          "name": "stdout"
        }
      ]
    },
    {
      "cell_type": "code",
      "metadata": {
        "colab": {
          "base_uri": "https://localhost:8080/"
        },
        "id": "_JR0Icvb_ImZ",
        "outputId": "c423eef5-c634-4cff-d262-593a01e8b82a"
      },
      "source": [
        "cur_time = time.time() \n",
        "maxWordsCount = 20000 \n",
        "\n",
        "tokenizer = Tokenizer(num_words=maxWordsCount,\n",
        "                      filters='!\"#$%&()*+,-–—./…:;<=>?@[\\\\]^_`{|}~«»\\t\\n\\xa0\\ufeff',\n",
        "                      lower=True,\n",
        "                      split=' ',\n",
        "                      oov_token='unknown',\n",
        "                      char_level=False)\n",
        "\n",
        "tokenizer.fit_on_texts(trainText)\n",
        "items = list(tokenizer.word_index.items())\n",
        "print('Время обработки: ', round(time.time() - cur_time, 2), 'c', sep='')"
      ],
      "execution_count": null,
      "outputs": [
        {
          "output_type": "stream",
          "text": [
            "Время обработки: 2.98c\n"
          ],
          "name": "stdout"
        }
      ]
    },
    {
      "cell_type": "code",
      "metadata": {
        "id": "rkMAIlIf_MlM"
      },
      "source": [
        "trainWordIndexes = tokenizer.texts_to_sequences(trainText)\n",
        "testWordIndexes = tokenizer.texts_to_sequences(testText)"
      ],
      "execution_count": null,
      "outputs": []
    },
    {
      "cell_type": "code",
      "metadata": {
        "colab": {
          "base_uri": "https://localhost:8080/"
        },
        "id": "b5Hahi24_N2k",
        "outputId": "17129408-38bf-4ab3-da19-defc89dfd1b1"
      },
      "source": [
        "print(\"Статистика по обучающим текстам:\")\n",
        "\n",
        "symbolsTrainText = 0\n",
        "wordsTrainText = 0\n",
        "\n",
        "for i in range(nClasses):\n",
        "  print(className[i], \" \"*(10-len(className[i])), len(trainText[i]), \"символов, \", len(trainWordIndexes[i]), \"слов\")\n",
        "  symbolsTrainText += len(trainText[i])\n",
        "  wordsTrainText += len(trainWordIndexes[i])\n",
        "\n",
        "print('----')\n",
        "print(\"В сумме \", symbolsTrainText, \" символов, \", wordsTrainText, \" слов \\n\")\n",
        "print()\n",
        "print(\"Статистика по тестовым текстам:\")\n",
        "\n",
        "symbolsTestText = 0\n",
        "wordsTestText = 0\n",
        "\n",
        "for i in range(nClasses):\n",
        "  print(className[i], ' '*(10-len(className[i])), len(testText[i]), \"символов, \", len(testWordIndexes[i]), \"слов\")\n",
        "  symbolsTestText += len(testText[i])\n",
        "  wordsTestText += len(testWordIndexes[i])\n",
        "print('----')\n",
        "print(\"В сумме \", symbolsTestText, \" символов, \", wordsTestText, \" слов\")"
      ],
      "execution_count": null,
      "outputs": [
        {
          "output_type": "stream",
          "text": [
            "Статистика по обучающим текстам:\n",
            "О. Генри    1049517 символов,  160607 слов\n",
            "Стругацкие  2042469 символов,  313012 слов\n",
            "Булгаков    1765648 символов,  261465 слов\n",
            "Саймак      1609507 символов,  251502 слов\n",
            "Фрай        3700010 символов,  568533 слов\n",
            "Брэдберри   1386454 символов,  214454 слов\n",
            "----\n",
            "В сумме  11553605  символов,  1769573  слов \n",
            "\n",
            "\n",
            "Статистика по тестовым текстам:\n",
            "О. Генри    349662 символов,  53238 слов\n",
            "Стругацкие  704846 символов,  108621 слов\n",
            "Булгаков    875042 символов,  132730 слов\n",
            "Саймак      318811 символов,  50360 слов\n",
            "Фрай        1278191 символов,  196731 слов\n",
            "Брэдберри   868673 символов,  132524 слов\n",
            "----\n",
            "В сумме  4395225  символов,  674204  слов\n"
          ],
          "name": "stdout"
        }
      ]
    },
    {
      "cell_type": "code",
      "metadata": {
        "id": "zG8R9ozE_Q4G"
      },
      "source": [
        "# Обработка единиц данных\n",
        "def getSetFromIndexes(wordIndexes, xLen, step):\n",
        "  xSample = []\n",
        "  wordsLen = len(wordIndexes)\n",
        "  index = 0\n",
        "  while (index + xLen <= wordsLen):\n",
        "    xSample.append(wordIndexes[index:index+xLen])\n",
        "    index += step\n",
        "  return xSample"
      ],
      "execution_count": null,
      "outputs": []
    },
    {
      "cell_type": "code",
      "metadata": {
        "id": "CKcnfwwH_T5J"
      },
      "source": [
        "# Обработка всей базы данных\n",
        "def createSetsMultiClasses(wordIndexes, xLen, step):\n",
        "\n",
        "  nClasses = len(wordIndexes)\n",
        "  classesXSamples = []\n",
        "  for wI in wordIndexes:\n",
        "    classesXSamples.append(getSetFromIndexes(wI, xLen, step))\n",
        "\n",
        "\n",
        "  xSamples = []\n",
        "  ySamples = []\n",
        "  \n",
        "  for t in range(nClasses):\n",
        "    xT = classesXSamples[t]\n",
        "    for i in range(len(xT)):\n",
        "      xSamples.append(xT[i])\n",
        "      ySamples.append(utils.to_categorical(t, nClasses))\n",
        "\n",
        "  xSamples = np.array(xSamples)\n",
        "  ySamples = np.array(ySamples)\n",
        "\n",
        "  \n",
        "  return (xSamples, ySamples)"
      ],
      "execution_count": null,
      "outputs": []
    },
    {
      "cell_type": "code",
      "metadata": {
        "id": "elt1V39m_VGI"
      },
      "source": [
        "# Задаем гиперпараметры для функции\n",
        "xLen = 1000\n",
        "step = 100"
      ],
      "execution_count": null,
      "outputs": []
    },
    {
      "cell_type": "code",
      "metadata": {
        "colab": {
          "base_uri": "https://localhost:8080/"
        },
        "id": "b5quO75n_W--",
        "outputId": "4b5a895a-d36a-433f-a1cc-b21d0a9122c1"
      },
      "source": [
        "cur_time = time.time()\n",
        "\n",
        "xTrain, yTrain = createSetsMultiClasses(trainWordIndexes, xLen, step)\n",
        "xTest, yTest = createSetsMultiClasses(testWordIndexes, xLen, step)\n",
        "print(xTrain.shape)\n",
        "print(yTrain.shape)\n",
        "print(xTest.shape)\n",
        "print(yTest.shape)\n",
        "\n",
        "print('Время обработки: ', round(time.time() - cur_time, 2), 'c', sep='')"
      ],
      "execution_count": null,
      "outputs": [
        {
          "output_type": "stream",
          "text": [
            "(17640, 1000)\n",
            "(17640, 6)\n",
            "(6686, 1000)\n",
            "(6686, 6)\n",
            "Время обработки: 2.49c\n"
          ],
          "name": "stdout"
        }
      ]
    },
    {
      "cell_type": "code",
      "metadata": {
        "colab": {
          "base_uri": "https://localhost:8080/"
        },
        "id": "-GYH7KLcu_Db",
        "outputId": "99c723bc-06cc-4c78-c93d-acdb93755ca7"
      },
      "source": [
        "cur_time = time.time()\n",
        "\n",
        "xTrain01 = tokenizer.sequences_to_matrix(xTrain.tolist())\n",
        "xTest01 = tokenizer.sequences_to_matrix(xTest.tolist())\n",
        "\n",
        "print(xTrain01.shape)\n",
        "print(xTrain01[0][0:100])\n",
        "print('Время обработки: ', round(time.time() - cur_time, 2), 'c', sep='')"
      ],
      "execution_count": null,
      "outputs": [
        {
          "output_type": "stream",
          "text": [
            "(17640, 20000)\n",
            "[0. 1. 1. 1. 1. 0. 1. 1. 1. 1. 1. 1. 1. 1. 1. 1. 1. 1. 1. 1. 1. 0. 1. 1.\n",
            " 0. 0. 1. 1. 0. 1. 1. 1. 1. 0. 0. 0. 1. 1. 1. 1. 1. 1. 1. 1. 0. 1. 1. 0.\n",
            " 0. 1. 1. 1. 0. 0. 1. 1. 0. 0. 0. 1. 0. 0. 0. 1. 1. 0. 1. 1. 0. 0. 0. 0.\n",
            " 1. 1. 0. 0. 1. 0. 1. 0. 1. 0. 0. 0. 0. 1. 1. 1. 1. 0. 0. 1. 0. 0. 1. 1.\n",
            " 0. 0. 1. 1.]\n",
            "Время обработки: 13.89c\n"
          ],
          "name": "stdout"
        }
      ]
    },
    {
      "cell_type": "code",
      "metadata": {
        "colab": {
          "base_uri": "https://localhost:8080/",
          "height": 884
        },
        "id": "hsoRbmkmvDie",
        "outputId": "b4209230-63ec-4fb6-b4b6-d7242355efc9"
      },
      "source": [
        "model01 = Sequential()\n",
        "model01.add(Dense(200, input_dim=maxWordsCount, activation=\"relu\"))\n",
        "model01.add(Dropout(0.25))\n",
        "model01.add(BatchNormalization())\n",
        "model01.add(Dense(6, activation='sigmoid'))\n",
        "\n",
        "model01.compile(optimizer='adam', \n",
        "              loss='categorical_crossentropy', \n",
        "              metrics=['accuracy'])\n",
        "\n",
        "model01.summary()\n",
        "\n",
        "history = model01.fit(xTrain01, \n",
        "                      yTrain, \n",
        "                      epochs=10,\n",
        "                      batch_size=128,\n",
        "                      validation_data=(xTest01, yTest))\n",
        "\n",
        "plt.plot(history.history['accuracy'], \n",
        "         label='Доля верных ответов на обучающем наборе')\n",
        "plt.plot(history.history['val_accuracy'], \n",
        "         label='Доля верных ответов на проверочном наборе')\n",
        "plt.xlabel('Эпоха обучения')\n",
        "plt.ylabel('Доля верных ответов')\n",
        "plt.legend()\n",
        "plt.show()"
      ],
      "execution_count": null,
      "outputs": [
        {
          "output_type": "stream",
          "text": [
            "Model: \"sequential_1\"\n",
            "_________________________________________________________________\n",
            "Layer (type)                 Output Shape              Param #   \n",
            "=================================================================\n",
            "dense_2 (Dense)              (None, 200)               4000200   \n",
            "_________________________________________________________________\n",
            "dropout_1 (Dropout)          (None, 200)               0         \n",
            "_________________________________________________________________\n",
            "batch_normalization_1 (Batch (None, 200)               800       \n",
            "_________________________________________________________________\n",
            "dense_3 (Dense)              (None, 6)                 1206      \n",
            "=================================================================\n",
            "Total params: 4,002,206\n",
            "Trainable params: 4,001,806\n",
            "Non-trainable params: 400\n",
            "_________________________________________________________________\n",
            "Epoch 1/10\n",
            "138/138 [==============================] - 11s 77ms/step - loss: 0.0472 - accuracy: 0.9853 - val_loss: 0.3738 - val_accuracy: 0.8980\n",
            "Epoch 2/10\n",
            "138/138 [==============================] - 10s 74ms/step - loss: 3.9888e-04 - accuracy: 1.0000 - val_loss: 0.3309 - val_accuracy: 0.8940\n",
            "Epoch 3/10\n",
            "138/138 [==============================] - 10s 74ms/step - loss: 2.0279e-04 - accuracy: 1.0000 - val_loss: 0.3232 - val_accuracy: 0.8932\n",
            "Epoch 4/10\n",
            "138/138 [==============================] - 10s 74ms/step - loss: 1.2395e-04 - accuracy: 1.0000 - val_loss: 0.3356 - val_accuracy: 0.8845\n",
            "Epoch 5/10\n",
            "138/138 [==============================] - 10s 74ms/step - loss: 8.8178e-05 - accuracy: 1.0000 - val_loss: 0.3154 - val_accuracy: 0.8947\n",
            "Epoch 6/10\n",
            "138/138 [==============================] - 10s 74ms/step - loss: 6.7382e-05 - accuracy: 1.0000 - val_loss: 0.3092 - val_accuracy: 0.8971\n",
            "Epoch 7/10\n",
            "138/138 [==============================] - 10s 74ms/step - loss: 5.1771e-05 - accuracy: 1.0000 - val_loss: 0.3121 - val_accuracy: 0.8937\n",
            "Epoch 8/10\n",
            "138/138 [==============================] - 10s 76ms/step - loss: 4.1616e-05 - accuracy: 1.0000 - val_loss: 0.3067 - val_accuracy: 0.8972\n",
            "Epoch 9/10\n",
            "138/138 [==============================] - 10s 76ms/step - loss: 3.3666e-05 - accuracy: 1.0000 - val_loss: 0.3035 - val_accuracy: 0.8983\n",
            "Epoch 10/10\n",
            "138/138 [==============================] - 10s 75ms/step - loss: 2.9887e-05 - accuracy: 1.0000 - val_loss: 0.3032 - val_accuracy: 0.8977\n"
          ],
          "name": "stdout"
        },
        {
          "output_type": "display_data",
          "data": {
            "image/png": "[encoded data removed]",
            "text/plain": [
              "<Figure size 432x288 with 1 Axes>"
            ]
          },
          "metadata": {
            "tags": [],
            "needs_background": "light"
          }
        }
      ]
    },
    {
      "cell_type": "code",
      "metadata": {
        "id": "xGSnIs8KCO_g"
      },
      "source": [
        "def createTestMultiClasses(wordIndexes, xLen, step):\n",
        "\n",
        "  nClasses = len(wordIndexes)\n",
        "  xTest6Classes01 = []\n",
        "  xTest6Classes = []\n",
        "  for wI in wordIndexes:\n",
        "    sample = getSetFromIndexes(wI, xLen, step)\n",
        "    xTest6Classes.append(sample)\n",
        "    xTest6Classes01.append(tokenizer.sequences_to_matrix(sample))\n",
        "  xTest6Classes01 = np.array(xTest6Classes01)\n",
        "  xTest6Classes = np.array(xTest6Classes)\n",
        "  \n",
        "  return xTest6Classes01, xTest6Classes\n"
      ],
      "execution_count": null,
      "outputs": []
    },
    {
      "cell_type": "code",
      "metadata": {
        "id": "HksfpJ6jEGJ3"
      },
      "source": [
        "def recognizeMultiClass(model, xTest, modelName):\n",
        "  print(\"НЕЙРОНКА: \", modelName)\n",
        "  print('-'*20)\n",
        "  \n",
        "  totalSumRec = 0\n",
        "  \n",
        "  for i in range(nClasses):\n",
        "    currPred = model.predict(xTest[i])\n",
        "\n",
        "    currOut = np.argmax(currPred, axis=1)\n",
        "\n",
        "    evVal = []\n",
        "    for j in range(nClasses):\n",
        "      evVal.append(len(currOut[currOut==j])/len(xTest[i]))\n",
        "\n",
        "    totalSumRec += len(currOut[currOut==i])\n",
        "    recognizedClass = np.argmax(evVal)\n",
        "    \n",
        "    isRecognized = \"Это НЕПРАВИЛЬНЫЙ ответ!\"\n",
        "    if (recognizedClass == i):\n",
        "      isRecognized = \"Это ПРАВИЛЬНЫЙ ответ!\"\n",
        "    str1 = 'Класс: ' + className[i] + \" \" * (11 - len(className[i])) + str(int(100*evVal[i])) + \"% сеть отнесла к классу \" + className[recognizedClass]\n",
        "    print(str1, \" \" * (55-len(str1)), isRecognized, sep='')\n",
        "  \n",
        "  print()\n",
        "  sumCount = 0\n",
        "  for i in range(nClasses):\n",
        "    sumCount += len(xTest[i])\n",
        "  print(\"Средний процент распознавания \",\n",
        "        int(100*totalSumRec/sumCount),\n",
        "        \"%\",\n",
        "        sep='')\n",
        "\n",
        "  print()\n",
        "  \n",
        "  return totalSumRec/sumCount"
      ],
      "execution_count": null,
      "outputs": []
    },
    {
      "cell_type": "code",
      "metadata": {
        "id": "IUUMWxDECRWp",
        "colab": {
          "base_uri": "https://localhost:8080/"
        },
        "outputId": "e9d8c150-26d4-452a-87f5-ce3d3dea5b7f"
      },
      "source": [
        "xTest6Classes01, x2 = createTestMultiClasses(testWordIndexes, xLen, step)"
      ],
      "execution_count": null,
      "outputs": [
        {
          "output_type": "stream",
          "text": [
            "/usr/local/lib/python3.7/dist-packages/ipykernel_launcher.py:10: VisibleDeprecationWarning: Creating an ndarray from ragged nested sequences (which is a list-or-tuple of lists-or-tuples-or ndarrays with different lengths or shapes) is deprecated. If you meant to do this, you must specify 'dtype=object' when creating the ndarray\n",
            "  # Remove the CWD from sys.path while we load stuff.\n",
            "/usr/local/lib/python3.7/dist-packages/ipykernel_launcher.py:11: VisibleDeprecationWarning: Creating an ndarray from ragged nested sequences (which is a list-or-tuple of lists-or-tuples-or ndarrays with different lengths or shapes) is deprecated. If you meant to do this, you must specify 'dtype=object' when creating the ndarray\n",
            "  # This is added back by InteractiveShellApp.init_path()\n"
          ],
          "name": "stderr"
        }
      ]
    },
    {
      "cell_type": "code",
      "metadata": {
        "id": "vhMCND9MCTXk"
      },
      "source": [
        "l = np.array(xTest6Classes01)\n",
        "np.save('xTestPredictBoW', l)\n",
        "np.save('xTestPredictEmbedding', x2)"
      ],
      "execution_count": null,
      "outputs": []
    },
    {
      "cell_type": "code",
      "metadata": {
        "id": "F0OGtBfhCVqb",
        "colab": {
          "base_uri": "https://localhost:8080/"
        },
        "outputId": "d34e0379-fcfa-4280-d8e3-cfd3da14ea8a"
      },
      "source": [
        "pred = recognizeMultiClass(model01, xTest6Classes01, \"Dense\")"
      ],
      "execution_count": null,
      "outputs": [
        {
          "output_type": "stream",
          "text": [
            "НЕЙРОНКА:  Dense\n",
            "--------------------\n",
            "Класс: О. Генри   93% сеть отнесла к классу О. Генри   Это ПРАВИЛЬНЫЙ ответ!\n",
            "Класс: Стругацкие 87% сеть отнесла к классу Стругацкие Это ПРАВИЛЬНЫЙ ответ!\n",
            "Класс: Булгаков   76% сеть отнесла к классу Булгаков   Это ПРАВИЛЬНЫЙ ответ!\n",
            "Класс: Саймак     87% сеть отнесла к классу Саймак     Это ПРАВИЛЬНЫЙ ответ!\n",
            "Класс: Фрай       93% сеть отнесла к классу Фрай       Это ПРАВИЛЬНЫЙ ответ!\n",
            "Класс: Брэдберри  98% сеть отнесла к классу Брэдберри  Это ПРАВИЛЬНЫЙ ответ!\n",
            "\n",
            "Средний процент распознавания 89%\n",
            "\n"
          ],
          "name": "stdout"
        }
      ]
    }
  ]
}