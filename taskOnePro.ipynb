{
  "nbformat": 4,
  "nbformat_minor": 0,
  "metadata": {
    "colab": {
      "provenance": []
    },
    "kernelspec": {
      "name": "python3",
      "display_name": "Python 3"
    },
    "language_info": {
      "name": "python"
    }
  },
  "cells": [
    {
      "cell_type": "markdown",
      "source": [
        "Предсказание рукописных чисел из базы mnist\n",
        "\n",
        "Проверка модели на цифре, нарисованной в Point"
      ],
      "metadata": {
        "id": "C04XTcjbG-3t"
      }
    },
    {
      "cell_type": "markdown",
      "metadata": {
        "id": "W-Dj6c_3lAU6"
      },
      "source": [
        "# Импорт библиотек"
      ]
    },
    {
      "cell_type": "code",
      "metadata": {
        "id": "XMxoboXpY5Xi"
      },
      "source": [
        "from tensorflow.keras.datasets import mnist\n",
        "from tensorflow.keras.models import Sequential\n",
        "from tensorflow.keras.layers import Dense \n",
        "from tensorflow.keras.optimizers import Adam \n",
        "from tensorflow.keras import utils \n",
        "from tensorflow.keras.preprocessing import image \n",
        "import numpy as np \n",
        "import pylab\n",
        "import matplotlib.pyplot as plt\n",
        "from PIL import Image\n",
        "\n",
        "from tensorflow.keras.preprocessing import image\n",
        "\n",
        "%matplotlib inline "
      ],
      "execution_count": null,
      "outputs": []
    },
    {
      "cell_type": "markdown",
      "metadata": {
        "id": "l81hkO9SlQwU"
      },
      "source": [
        "# Загрузка базы mnist"
      ]
    },
    {
      "cell_type": "code",
      "metadata": {
        "colab": {
          "base_uri": "https://localhost:8080/"
        },
        "id": "HG0AofOolYCD",
        "outputId": "1a1b240e-c5d0-4dec-ff75-0e8200e3297e"
      },
      "source": [
        "(x_train_org, y_train_org), (x_test_org, y_test_org) = mnist.load_data()"
      ],
      "execution_count": null,
      "outputs": [
        {
          "output_type": "stream",
          "text": [
            "Downloading data from https://storage.googleapis.com/tensorflow/tf-keras-datasets/mnist.npz\n",
            "11493376/11490434 [==============================] - 0s 0us/step\n"
          ],
          "name": "stdout"
        }
      ]
    },
    {
      "cell_type": "markdown",
      "metadata": {
        "id": "D8OnEvc6lfM9"
      },
      "source": [
        "# Нормирование и преобразование x_train и y_train"
      ]
    },
    {
      "cell_type": "code",
      "metadata": {
        "id": "tzpEn6-bbbIF"
      },
      "source": [
        "x_train = x_train_org.reshape(60000, 784)\n",
        "x_test = x_test_org.reshape(10000, 784)\n",
        "\n",
        "x_train = x_train.astype('float32') \n",
        "x_train = x_train / 255 \n",
        "x_test = x_test.astype('float32') \n",
        "x_test = x_test / 255 \n",
        "\n",
        "y_train = utils.to_categorical(y_train_org, 10)\n",
        "y_test = utils.to_categorical(y_test_org, 10) "
      ],
      "execution_count": null,
      "outputs": []
    },
    {
      "cell_type": "markdown",
      "metadata": {
        "id": "X2jsBf15lwW4"
      },
      "source": [
        "# Создание нейронной сети"
      ]
    },
    {
      "cell_type": "code",
      "metadata": {
        "id": "6KofLH8VcjU0",
        "colab": {
          "base_uri": "https://localhost:8080/"
        },
        "outputId": "0eccf066-797a-40ef-f691-2235680955d0"
      },
      "source": [
        "model = Sequential()\n",
        "model.add(Dense(800, input_dim=784, activation=\"relu\"))\n",
        "model.add(Dense(400, activation=\"relu\"))\n",
        "model.add(Dense(10, activation=\"softmax\"))\n",
        "model.compile(loss=\"categorical_crossentropy\", optimizer=\"adam\", metrics=[\"accuracy\"])\n",
        "print(model.summary())"
      ],
      "execution_count": null,
      "outputs": [
        {
          "output_type": "stream",
          "text": [
            "Model: \"sequential\"\n",
            "_________________________________________________________________\n",
            "Layer (type)                 Output Shape              Param #   \n",
            "=================================================================\n",
            "dense (Dense)                (None, 800)               628000    \n",
            "_________________________________________________________________\n",
            "dense_1 (Dense)              (None, 400)               320400    \n",
            "_________________________________________________________________\n",
            "dense_2 (Dense)              (None, 10)                4010      \n",
            "=================================================================\n",
            "Total params: 952,410\n",
            "Trainable params: 952,410\n",
            "Non-trainable params: 0\n",
            "_________________________________________________________________\n",
            "None\n"
          ],
          "name": "stdout"
        }
      ]
    },
    {
      "cell_type": "markdown",
      "metadata": {
        "id": "ZTEsfs7LmMjw"
      },
      "source": [
        "# Обучение нейронной сети"
      ]
    },
    {
      "cell_type": "code",
      "metadata": {
        "colab": {
          "base_uri": "https://localhost:8080/"
        },
        "id": "NXJukalMcq5C",
        "outputId": "16761f4d-770a-414f-8705-6e588ffd48d8"
      },
      "source": [
        "model.fit(x_train, y_train, batch_size=128, epochs=15, verbose=1)"
      ],
      "execution_count": null,
      "outputs": [
        {
          "output_type": "stream",
          "text": [
            "Epoch 1/15\n",
            "469/469 [==============================] - 9s 18ms/step - loss: 0.2059 - accuracy: 0.9393\n",
            "Epoch 2/15\n",
            "469/469 [==============================] - 8s 18ms/step - loss: 0.0733 - accuracy: 0.9766\n",
            "Epoch 3/15\n",
            "469/469 [==============================] - 8s 18ms/step - loss: 0.0490 - accuracy: 0.9842\n",
            "Epoch 4/15\n",
            "469/469 [==============================] - 8s 18ms/step - loss: 0.0318 - accuracy: 0.9898\n",
            "Epoch 5/15\n",
            "469/469 [==============================] - 8s 18ms/step - loss: 0.0235 - accuracy: 0.9926\n",
            "Epoch 6/15\n",
            "469/469 [==============================] - 8s 18ms/step - loss: 0.0230 - accuracy: 0.9923\n",
            "Epoch 7/15\n",
            "469/469 [==============================] - 8s 18ms/step - loss: 0.0169 - accuracy: 0.9941\n",
            "Epoch 8/15\n",
            "469/469 [==============================] - 8s 18ms/step - loss: 0.0158 - accuracy: 0.9947\n",
            "Epoch 9/15\n",
            "469/469 [==============================] - 8s 18ms/step - loss: 0.0147 - accuracy: 0.9950\n",
            "Epoch 10/15\n",
            "469/469 [==============================] - 8s 18ms/step - loss: 0.0119 - accuracy: 0.9961\n",
            "Epoch 11/15\n",
            "469/469 [==============================] - 8s 18ms/step - loss: 0.0129 - accuracy: 0.9958\n",
            "Epoch 12/15\n",
            "469/469 [==============================] - 8s 18ms/step - loss: 0.0127 - accuracy: 0.9962\n",
            "Epoch 13/15\n",
            "469/469 [==============================] - 8s 18ms/step - loss: 0.0085 - accuracy: 0.9971\n",
            "Epoch 14/15\n",
            "469/469 [==============================] - 8s 18ms/step - loss: 0.0095 - accuracy: 0.9971\n",
            "Epoch 15/15\n",
            "469/469 [==============================] - 8s 18ms/step - loss: 0.0097 - accuracy: 0.9966\n"
          ],
          "name": "stdout"
        },
        {
          "output_type": "execute_result",
          "data": {
            "text/plain": [
              "<tensorflow.python.keras.callbacks.History at 0x7f4d6cc9fc50>"
            ]
          },
          "metadata": {
            "tags": []
          },
          "execution_count": 6
        }
      ]
    },
    {
      "cell_type": "markdown",
      "metadata": {
        "id": "On9R-PYnxNgq"
      },
      "source": [
        "# Добавление нарисованной в Point цифры"
      ]
    },
    {
      "cell_type": "code",
      "metadata": {
        "id": "ASQUwa-hxTgt"
      },
      "source": [
        "# Импорт картинки\n",
        "img = image.load_img(\"/content/drive/MyDrive/Lessons/LessonOne/number.jpg\", target_size=(28, 28), color_mode='grayscale')"
      ],
      "execution_count": null,
      "outputs": []
    },
    {
      "cell_type": "code",
      "metadata": {
        "id": "sAA2QdHlyEbx"
      },
      "source": [
        "# Перевод картинки в массив\n",
        "img = image.img_to_array(img)"
      ],
      "execution_count": null,
      "outputs": []
    },
    {
      "cell_type": "code",
      "metadata": {
        "id": "ANSby46tzI3j"
      },
      "source": [
        "# Функция для подготовки элементов в массиве\n",
        "preparation = lambda x: (255 - x) / 255\n",
        "vectorized = np.vectorize(preparation)\n",
        "\n",
        "# Применение функции и сохранение результата в переменной\n",
        "image_vector = vectorized(img)\n",
        "\n",
        "# Переформирование массива\n",
        "x_train_one = image_vector.reshape(1, -1)\n",
        "\n",
        "true_answer = 3"
      ],
      "execution_count": null,
      "outputs": []
    },
    {
      "cell_type": "code",
      "metadata": {
        "colab": {
          "base_uri": "https://localhost:8080/"
        },
        "id": "6l9dt4fQz4sM",
        "outputId": "532a4a37-dd8a-4a66-cc8b-94643ae6a1b9"
      },
      "source": [
        "answer = np.argmax(model.predict(x_train_one))\n",
        "\n",
        "if answer == true_answer:\n",
        "  print(\"Правильно\")\n",
        "else:\n",
        "  print(\"Ошибка\")"
      ],
      "execution_count": null,
      "outputs": [
        {
          "output_type": "stream",
          "text": [
            "Правильно\n"
          ],
          "name": "stdout"
        }
      ]
    },
    {
      "cell_type": "markdown",
      "metadata": {
        "id": "avZ52S07mUbW"
      },
      "source": [
        "# (Сохранение весов)"
      ]
    },
    {
      "cell_type": "code",
      "metadata": {
        "id": "KeprgmmidXjo"
      },
      "source": [
        "model.save_weights('model.h5')\n",
        "model.load_weights('model.h5')"
      ],
      "execution_count": null,
      "outputs": []
    }
  ]
}