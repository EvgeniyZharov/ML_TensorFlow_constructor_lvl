{
  "nbformat": 4,
  "nbformat_minor": 0,
  "metadata": {
    "colab": {
      "provenance": [],
      "toc_visible": true
    },
    "kernelspec": {
      "name": "python3",
      "display_name": "Python 3"
    },
    "language_info": {
      "name": "python"
    }
  },
  "cells": [
    {
      "cell_type": "markdown",
      "metadata": {
        "id": "h5fCeVBUbAJG"
      },
      "source": [
        "# Установка требуемых библиотек"
      ]
    },
    {
      "cell_type": "code",
      "metadata": {
        "id": "oW5oD5op5GET"
      },
      "source": [
        "from google.colab import files\n",
        "import numpy as np\n",
        "import pandas as pd\n",
        "import matplotlib.pyplot as plt\n",
        "import os\n",
        "%matplotlib inline\n",
        "\n",
        "from tensorflow.keras import utils\n",
        "from tensorflow.keras.models import Sequential\n",
        "from tensorflow.keras.layers import Dense, Dropout, SpatialDropout1D, BatchNormalization, Embedding, Flatten, Activation\n",
        "from tensorflow.keras.preprocessing.text import Tokenizer\n",
        "from tensorflow.keras.preprocessing.sequence import pad_sequences\n",
        "\n",
        "from sklearn.preprocessing import LabelEncoder\n",
        "from sklearn.model_selection import train_test_split\n",
        "from google.colab import drive\n",
        "import time\n",
        "import seaborn as sns\n",
        "sns.set_style('darkgrid')"
      ],
      "execution_count": null,
      "outputs": []
    },
    {
      "cell_type": "markdown",
      "metadata": {
        "id": "iDEmeBa-bHcb"
      },
      "source": [
        "# Подготовка данных"
      ]
    },
    {
      "cell_type": "code",
      "metadata": {
        "id": "0E29iOqv8tzK",
        "colab": {
          "base_uri": "https://localhost:8080/"
        },
        "outputId": "fc0aea21-5877-4045-e0f5-f79057be4a25"
      },
      "source": [
        "drive.mount('/content/drive')"
      ],
      "execution_count": null,
      "outputs": [
        {
          "output_type": "stream",
          "text": [
            "Drive already mounted at /content/drive; to attempt to forcibly remount, call drive.mount(\"/content/drive\", force_remount=True).\n"
          ],
          "name": "stdout"
        }
      ]
    },
    {
      "cell_type": "code",
      "metadata": {
        "id": "UI_a0Igp7ILU"
      },
      "source": [
        "!rm -R '/content/texts' "
      ],
      "execution_count": null,
      "outputs": []
    },
    {
      "cell_type": "code",
      "metadata": {
        "id": "LwXBp2Xj7Lkc"
      },
      "source": [
        "!unzip -q '/content/drive/MyDrive/Lessons/Lesson4/Тексты писателей.zip' -d '/content/texts'"
      ],
      "execution_count": null,
      "outputs": []
    },
    {
      "cell_type": "code",
      "metadata": {
        "id": "IfaHTolk7Vgi"
      },
      "source": [
        "def readText(fileName):\n",
        "  f = open(fileName, 'r')\n",
        "  text = f.read()\n",
        "  text = text.replace(\"\\n\", \" \")\n",
        "  \n",
        "  return text         \n",
        "\n",
        "className = [\"О. Генри\", \"Стругацкие\", \"Булгаков\", \"Саймак\", \"Фрай\", \"Брэдберри\"]\n",
        "nClasses = len(className)"
      ],
      "execution_count": null,
      "outputs": []
    },
    {
      "cell_type": "code",
      "metadata": {
        "id": "nNvnE6lj7k1C",
        "colab": {
          "base_uri": "https://localhost:8080/"
        },
        "outputId": "edee4079-4c9e-4bb7-ec0b-81fce12d1775"
      },
      "source": [
        "trainText = []\n",
        "testText = []\n",
        "\n",
        "for i in className:\n",
        "  for j in os.listdir('texts/Тексты писателей'):\n",
        "    if i in j:\n",
        "      \n",
        "      if 'Обучающая' in j:  \n",
        "        trainText.append(readText('texts/Тексты писателей/' + j))\n",
        "        print(j, 'добавлен в обучающую выборку')\n",
        "      if 'Тестовая' in j:\n",
        "        testText.append(readText('texts/Тексты писателей/' + j)) \n",
        "        print(j, 'добавлен в тестовую выборку')\n",
        "  print()"
      ],
      "execution_count": null,
      "outputs": [
        {
          "output_type": "stream",
          "text": [
            "(О. Генри) Тестовая_20 вместе.txt добавлен в тестовую выборку\n",
            "(О. Генри) Обучающая_50 вместе.txt добавлен в обучающую выборку\n",
            "\n",
            "(Стругацкие) Обучающая_5 вместе.txt добавлен в обучающую выборку\n",
            "(Стругацкие) Тестовая_2 вместе.txt добавлен в тестовую выборку\n",
            "\n",
            "(Булгаков) Тестовая_2 вместе.txt добавлен в тестовую выборку\n",
            "(Булгаков) Обучающая_5 вместе.txt добавлен в обучающую выборку\n",
            "\n",
            "(Клиффорд_Саймак) Тестовая_2 вместе.txt добавлен в тестовую выборку\n",
            "(Клиффорд_Саймак) Обучающая_5 вместе.txt добавлен в обучающую выборку\n",
            "\n",
            "(Макс Фрай) Обучающая_5 вместе.txt добавлен в обучающую выборку\n",
            "(Макс Фрай) Тестовая_2 вместе.txt добавлен в тестовую выборку\n",
            "\n",
            "(Рэй Брэдберри) Обучающая_22 вместе.txt добавлен в обучающую выборку\n",
            "(Рэй Брэдберри) Тестовая_8 вместе.txt добавлен в тестовую выборку\n",
            "\n"
          ],
          "name": "stdout"
        }
      ]
    },
    {
      "cell_type": "markdown",
      "metadata": {
        "id": "LIg4yiSUcZFM"
      },
      "source": [
        "# Работа с данными"
      ]
    },
    {
      "cell_type": "markdown",
      "metadata": {
        "id": "C9y4o8MoeiRw"
      },
      "source": [
        "## Вспомогательные функции"
      ]
    },
    {
      "cell_type": "code",
      "metadata": {
        "id": "HKJjQvWBelSO"
      },
      "source": [
        "def getSetFromIndexes(wordIndexes, xLen, step):\n",
        "  xSample = []\n",
        "  wordsLen = len(wordIndexes)\n",
        "  index = 0\n",
        "  while (index + xLen <= wordsLen):\n",
        "    xSample.append(wordIndexes[index:index+xLen])\n",
        "    index += step\n",
        "  return xSample"
      ],
      "execution_count": null,
      "outputs": []
    },
    {
      "cell_type": "code",
      "metadata": {
        "id": "8FSsQW--elvU"
      },
      "source": [
        "def createSetsMultiClasses(wordIndexes, xLen, step):\n",
        "\n",
        "  nClasses = len(wordIndexes)\n",
        "  classesXSamples = []\n",
        "  for wI in wordIndexes:\n",
        "    classesXSamples.append(getSetFromIndexes(wI, xLen, step))\n",
        "\n",
        "  xSamples = []\n",
        "  ySamples = []\n",
        "  \n",
        "  for t in range(nClasses):\n",
        "    xT = classesXSamples[t]\n",
        "    for i in range(len(xT)):\n",
        "      xSamples.append(xT[i])\n",
        "      ySamples.append(utils.to_categorical(t, nClasses))\n",
        "\n",
        "  xSamples = np.array(xSamples)\n",
        "  ySamples = np.array(ySamples)\n",
        "\n",
        "  \n",
        "  return (xSamples, ySamples)"
      ],
      "execution_count": null,
      "outputs": []
    },
    {
      "cell_type": "code",
      "metadata": {
        "id": "t14goDjwiF8X"
      },
      "source": [
        "def createTestMultiClasses(wordIndexes, xLen, step, tokenizer):\n",
        "\n",
        "  nClasses = len(wordIndexes)\n",
        "  xTest6Classes01 = []\n",
        "  xTest6Classes = []\n",
        "  for wI in wordIndexes:\n",
        "    sample = getSetFromIndexes(wI, xLen, step)\n",
        "    xTest6Classes.append(sample)\n",
        "    xTest6Classes01.append(tokenizer.sequences_to_matrix(sample))\n",
        "  xTest6Classes01 = np.array(xTest6Classes01)\n",
        "  xTest6Classes = np.array(xTest6Classes)\n",
        "  \n",
        "  return xTest6Classes01, xTest6Classes\n"
      ],
      "execution_count": null,
      "outputs": []
    },
    {
      "cell_type": "code",
      "metadata": {
        "id": "OeNlYtWRh7OR"
      },
      "source": [
        "def recognizeMultiClass(model, xTest, modelName):\n",
        "  print(\"НЕЙРОНКА: \", modelName)\n",
        "  print('-'*20)\n",
        "  \n",
        "  totalSumRec = 0\n",
        "  \n",
        "  for i in range(nClasses):\n",
        "    currPred = model.predict(xTest[i])\n",
        "\n",
        "    currOut = np.argmax(currPred, axis=1)\n",
        "\n",
        "    evVal = []\n",
        "    for j in range(nClasses):\n",
        "      evVal.append(len(currOut[currOut==j])/len(xTest[i]))\n",
        "\n",
        "    totalSumRec += len(currOut[currOut==i])\n",
        "    recognizedClass = np.argmax(evVal)\n",
        "    \n",
        "    isRecognized = \"Это НЕПРАВИЛЬНЫЙ ответ!\"\n",
        "    if (recognizedClass == i):\n",
        "      isRecognized = \"Это ПРАВИЛЬНЫЙ ответ!\"\n",
        "    str1 = 'Класс: ' + className[i] + \" \" * (11 - len(className[i])) + str(int(100*evVal[i])) + \"% сеть отнесла к классу \" + className[recognizedClass]\n",
        "    print(str1, \" \" * (55-len(str1)), isRecognized, sep='')\n",
        "  \n",
        "  print()\n",
        "  sumCount = 0\n",
        "  for i in range(nClasses):\n",
        "    sumCount += len(xTest[i])\n",
        "  print(\"Средний процент распознавания \",\n",
        "        int(100*totalSumRec/sumCount),\n",
        "        \"%\",\n",
        "        sep='')\n",
        "\n",
        "  print()\n",
        "  \n",
        "  return totalSumRec/sumCount"
      ],
      "execution_count": null,
      "outputs": []
    },
    {
      "cell_type": "code",
      "metadata": {
        "id": "YdluvZFrIw5F"
      },
      "source": [
        "# Отображение графика\n",
        "def showTable(history):\n",
        "  plt.plot(history.history['accuracy'], \n",
        "          label='Доля верных ответов на обучающем наборе')\n",
        "  plt.plot(history.history['val_accuracy'], \n",
        "          label='Доля верных ответов на проверочном наборе')\n",
        "  plt.xlabel('Эпоха обучения')\n",
        "  plt.ylabel('Доля верных ответов')\n",
        "  plt.legend()\n",
        "  plt.show()"
      ],
      "execution_count": null,
      "outputs": []
    },
    {
      "cell_type": "markdown",
      "metadata": {
        "id": "txvaURcaeoSo"
      },
      "source": [
        "## Основная функция"
      ]
    },
    {
      "cell_type": "code",
      "metadata": {
        "id": "_JR0Icvb_ImZ"
      },
      "source": [
        "def takeData(maxWordsCount=10000, level=False):\n",
        "  cur_time = time.time() \n",
        "\n",
        "  tokenizer = Tokenizer(num_words=maxWordsCount,\n",
        "                        filters='!\"#$%&()*+,-–—./…:;<=>?@[\\\\]^_`{|}~«»\\t\\n\\xa0\\ufeff',\n",
        "                        lower=True,\n",
        "                        split=' ',\n",
        "                        oov_token='unknown',\n",
        "                        char_level=False)\n",
        "\n",
        "  tokenizer.fit_on_texts(trainText)\n",
        "  print('Время обработки: ', round(time.time() - cur_time, 2), 'c', sep='')\n",
        "\n",
        "  trainWordIndexes = tokenizer.texts_to_sequences(trainText)\n",
        "  testWordIndexes = tokenizer.texts_to_sequences(testText)\n",
        "\n",
        "  # Задаем гиперпараметры для функции\n",
        "  xLen = 1000\n",
        "  step = 100\n",
        "\n",
        "  Test, x2 = createTestMultiClasses(testWordIndexes, xLen, step, tokenizer)\n",
        "\n",
        "  cur_time = time.time()\n",
        "\n",
        "  xTrain, yTrain = createSetsMultiClasses(trainWordIndexes, xLen, step)\n",
        "  xTest, yTest = createSetsMultiClasses(testWordIndexes, xLen, step)\n",
        "\n",
        "  print('Время обработки: ', round(time.time() - cur_time, 2), 'c', sep='')\n",
        "\n",
        "  if level:\n",
        "    return xTrain, yTrain, xTest, yTest\n",
        "  \n",
        "  else:\n",
        "    cur_time = time.time()\n",
        "    \n",
        "    xTrain01 = tokenizer.sequences_to_matrix(xTrain.tolist())\n",
        "    xTest01 = tokenizer.sequences_to_matrix(xTest.tolist())\n",
        "\n",
        "    print('Время обработки: ', round(time.time() - cur_time, 2), 'c', sep='')\n",
        "\n",
        "    return xTrain01, xTest01, yTrain, yTest, Test, x2"
      ],
      "execution_count": null,
      "outputs": []
    },
    {
      "cell_type": "markdown",
      "metadata": {
        "id": "TdQNVcfRHIHz"
      },
      "source": [
        "## Создание тестовой выборки "
      ]
    },
    {
      "cell_type": "markdown",
      "metadata": {
        "id": "FSqHwX11fTt7"
      },
      "source": [
        "## Функция создания модели"
      ]
    },
    {
      "cell_type": "code",
      "metadata": {
        "id": "6gAddLOWfgVu"
      },
      "source": [
        "def createModel(neuronsOneLayers=200, layersN=1, activ=\"relu\"):\n",
        "  model01 = Sequential()\n",
        "\n",
        "  for i in range(layersN):\n",
        "    model01.add(Dense(neuronsOneLayers,\n",
        "                      input_dim=maxWordsCount,\n",
        "                      activation=activ))\n",
        "    \n",
        "  model01.add(Dropout(0.25))\n",
        "  model01.add(BatchNormalization())\n",
        "  model01.add(Dense(6, activation='sigmoid'))\n",
        "\n",
        "  model01.compile(optimizer='adam', \n",
        "                loss='categorical_crossentropy', \n",
        "                metrics=['accuracy'])\n",
        "\n",
        "  model01.summary()\n",
        "\n",
        "  return model01"
      ],
      "execution_count": null,
      "outputs": []
    },
    {
      "cell_type": "code",
      "metadata": {
        "id": "_JcjU8jIl6JA"
      },
      "source": [
        "def createModelEmbed(embedding=30):\n",
        "  model = Sequential()\n",
        "\n",
        "  model.add(Embedding(maxWordsCount, embedding, input_length=1000))\n",
        "  model.add(SpatialDropout1D(0.2))\n",
        "  model.add(Flatten())\n",
        "  model.add(BatchNormalization())\n",
        "  model.add(Dense(64, activation=\"relu\"))\n",
        "  model.add(Dropout(0.2))\n",
        "  model.add(BatchNormalization())\n",
        "  model.add(Dense(nClasses, activation='softmax'))\n",
        "\n",
        "  model.compile(optimizer='adam', \n",
        "                loss='categorical_crossentropy', \n",
        "                metrics=['accuracy'])\n",
        "  \n",
        "  model.summary()\n",
        "\n",
        "  return model"
      ],
      "execution_count": null,
      "outputs": []
    },
    {
      "cell_type": "markdown",
      "metadata": {
        "id": "eD-gpjKdgifQ"
      },
      "source": [
        "## Переменная для хранения точностей"
      ]
    },
    {
      "cell_type": "code",
      "metadata": {
        "id": "CtS3ZfL_go2S"
      },
      "source": [
        "accuracyTotal = list()\n"
      ],
      "execution_count": null,
      "outputs": []
    },
    {
      "cell_type": "markdown",
      "metadata": {
        "id": "GkMRh-3Xf4em"
      },
      "source": [
        "## Эксперименты с обучением модели (Часть А)"
      ]
    },
    {
      "cell_type": "markdown",
      "metadata": {
        "id": "lwX5T3WXhEii"
      },
      "source": [
        "### Эксперимент 1 (maxWordsCount = 100)"
      ]
    },
    {
      "cell_type": "code",
      "metadata": {
        "id": "hsoRbmkmvDie",
        "colab": {
          "base_uri": "https://localhost:8080/",
          "height": 1000
        },
        "outputId": "eb8dd893-0fd2-4f09-fa3e-8d117e9ce4a3"
      },
      "source": [
        "maxWordsCount = 100\n",
        "\n",
        "xTrain, xTest, yTrain, yTest, Test, x2 = takeData(maxWordsCount)\n",
        "model = createModel()\n",
        "history = model.fit(xTrain, \n",
        "                      yTrain, \n",
        "                      epochs=10,\n",
        "                      batch_size=128,\n",
        "                      validation_data=(xTest, yTest))\n",
        "\n",
        "accuracyTotal.append(model.evaluate(xTest, yTest, verbose=1))\n",
        "recognizeMultiClass(model, Test, \"maxWordsCount=100\")\n",
        "\n",
        "\n",
        "showTable(history)"
      ],
      "execution_count": null,
      "outputs": [
        {
          "output_type": "stream",
          "text": [
            "Время обработки: 3.4c\n"
          ],
          "name": "stdout"
        },
        {
          "output_type": "stream",
          "text": [
            "/usr/local/lib/python3.7/dist-packages/ipykernel_launcher.py:10: VisibleDeprecationWarning: Creating an ndarray from ragged nested sequences (which is a list-or-tuple of lists-or-tuples-or ndarrays with different lengths or shapes) is deprecated. If you meant to do this, you must specify 'dtype=object' when creating the ndarray\n",
            "  # Remove the CWD from sys.path while we load stuff.\n",
            "/usr/local/lib/python3.7/dist-packages/ipykernel_launcher.py:11: VisibleDeprecationWarning: Creating an ndarray from ragged nested sequences (which is a list-or-tuple of lists-or-tuples-or ndarrays with different lengths or shapes) is deprecated. If you meant to do this, you must specify 'dtype=object' when creating the ndarray\n",
            "  # This is added back by InteractiveShellApp.init_path()\n"
          ],
          "name": "stderr"
        },
        {
          "output_type": "stream",
          "text": [
            "Время обработки: 2.79c\n",
            "Время обработки: 5.7c\n",
            "Model: \"sequential_14\"\n",
            "_________________________________________________________________\n",
            "Layer (type)                 Output Shape              Param #   \n",
            "=================================================================\n",
            "dense_30 (Dense)             (None, 200)               20200     \n",
            "_________________________________________________________________\n",
            "dropout_14 (Dropout)         (None, 200)               0         \n",
            "_________________________________________________________________\n",
            "batch_normalization_22 (Batc (None, 200)               800       \n",
            "_________________________________________________________________\n",
            "dense_31 (Dense)             (None, 6)                 1206      \n",
            "=================================================================\n",
            "Total params: 22,206\n",
            "Trainable params: 21,806\n",
            "Non-trainable params: 400\n",
            "_________________________________________________________________\n",
            "Epoch 1/10\n",
            "138/138 [==============================] - 1s 5ms/step - loss: 1.1790 - accuracy: 0.5598 - val_loss: 1.3121 - val_accuracy: 0.4858\n",
            "Epoch 2/10\n",
            "138/138 [==============================] - 1s 4ms/step - loss: 0.8290 - accuracy: 0.6973 - val_loss: 1.2211 - val_accuracy: 0.5298\n",
            "Epoch 3/10\n",
            "138/138 [==============================] - 1s 4ms/step - loss: 0.7356 - accuracy: 0.7302 - val_loss: 1.2908 - val_accuracy: 0.5181\n",
            "Epoch 4/10\n",
            "138/138 [==============================] - 1s 4ms/step - loss: 0.6640 - accuracy: 0.7559 - val_loss: 1.3556 - val_accuracy: 0.5120\n",
            "Epoch 5/10\n",
            "138/138 [==============================] - 1s 4ms/step - loss: 0.6049 - accuracy: 0.7822 - val_loss: 1.4250 - val_accuracy: 0.5045\n",
            "Epoch 6/10\n",
            "138/138 [==============================] - 1s 4ms/step - loss: 0.5564 - accuracy: 0.7981 - val_loss: 1.5548 - val_accuracy: 0.4969\n",
            "Epoch 7/10\n",
            "138/138 [==============================] - 1s 4ms/step - loss: 0.5262 - accuracy: 0.8084 - val_loss: 1.6088 - val_accuracy: 0.4818\n",
            "Epoch 8/10\n",
            "138/138 [==============================] - 1s 4ms/step - loss: 0.4809 - accuracy: 0.8277 - val_loss: 1.6834 - val_accuracy: 0.5010\n",
            "Epoch 9/10\n",
            "138/138 [==============================] - 1s 4ms/step - loss: 0.4521 - accuracy: 0.8342 - val_loss: 1.7417 - val_accuracy: 0.4831\n",
            "Epoch 10/10\n",
            "138/138 [==============================] - 1s 4ms/step - loss: 0.4223 - accuracy: 0.8490 - val_loss: 1.7599 - val_accuracy: 0.4699\n",
            "209/209 [==============================] - 0s 1ms/step - loss: 1.7599 - accuracy: 0.4699\n",
            "НЕЙРОНКА:  maxWordsCount=100\n",
            "--------------------\n",
            "Класс: О. Генри   54% сеть отнесла к классу О. Генри   Это ПРАВИЛЬНЫЙ ответ!\n",
            "Класс: Стругацкие 47% сеть отнесла к классу Стругацкие Это ПРАВИЛЬНЫЙ ответ!\n",
            "Класс: Булгаков   36% сеть отнесла к классу Булгаков   Это ПРАВИЛЬНЫЙ ответ!\n",
            "Класс: Саймак     47% сеть отнесла к классу Саймак     Это ПРАВИЛЬНЫЙ ответ!\n",
            "Класс: Фрай       68% сеть отнесла к классу Фрай       Это ПРАВИЛЬНЫЙ ответ!\n",
            "Класс: Брэдберри  20% сеть отнесла к классу Стругацкие Это НЕПРАВИЛЬНЫЙ ответ!\n",
            "\n",
            "Средний процент распознавания 46%\n",
            "\n"
          ],
          "name": "stdout"
        },
        {
          "output_type": "display_data",
          "data": {
            "image/png": "[encoded data removed]",
            "text/plain": [
              "<Figure size 432x288 with 1 Axes>"
            ]
          },
          "metadata": {
            "tags": []
          }
        }
      ]
    },
    {
      "cell_type": "markdown",
      "metadata": {
        "id": "5N14ajNP6uEL"
      },
      "source": [
        "### Эксперимент 2 (maxWordsCount=1000)\n"
      ]
    },
    {
      "cell_type": "code",
      "metadata": {
        "id": "Nw9gkGhu_YmA",
        "colab": {
          "base_uri": "https://localhost:8080/",
          "height": 1000
        },
        "outputId": "2a9e8319-8d8b-4bd6-ff0f-e0b5d9f262f3"
      },
      "source": [
        "maxWordsCount = 1000\n",
        "\n",
        "xTrain, xTest, yTrain, yTest, Test, x2 = takeData(maxWordsCount)\n",
        "model = createModel()\n",
        "history = model.fit(xTrain, \n",
        "                      yTrain, \n",
        "                      epochs=10,\n",
        "                      batch_size=128,\n",
        "                      validation_data=(xTest, yTest))\n",
        "\n",
        "accuracyTotal.append(model.evaluate(xTest, yTest, verbose=1))\n",
        "recognizeMultiClass(model, Test, \"maxWordsCount=1000\")\n",
        "\n",
        "showTable(history)"
      ],
      "execution_count": null,
      "outputs": [
        {
          "output_type": "stream",
          "text": [
            "Время обработки: 3.19c\n"
          ],
          "name": "stdout"
        },
        {
          "output_type": "stream",
          "text": [
            "/usr/local/lib/python3.7/dist-packages/ipykernel_launcher.py:10: VisibleDeprecationWarning: Creating an ndarray from ragged nested sequences (which is a list-or-tuple of lists-or-tuples-or ndarrays with different lengths or shapes) is deprecated. If you meant to do this, you must specify 'dtype=object' when creating the ndarray\n",
            "  # Remove the CWD from sys.path while we load stuff.\n",
            "/usr/local/lib/python3.7/dist-packages/ipykernel_launcher.py:11: VisibleDeprecationWarning: Creating an ndarray from ragged nested sequences (which is a list-or-tuple of lists-or-tuples-or ndarrays with different lengths or shapes) is deprecated. If you meant to do this, you must specify 'dtype=object' when creating the ndarray\n",
            "  # This is added back by InteractiveShellApp.init_path()\n"
          ],
          "name": "stderr"
        },
        {
          "output_type": "stream",
          "text": [
            "Время обработки: 2.53c\n",
            "Время обработки: 8.12c\n",
            "Model: \"sequential_15\"\n",
            "_________________________________________________________________\n",
            "Layer (type)                 Output Shape              Param #   \n",
            "=================================================================\n",
            "dense_32 (Dense)             (None, 200)               200200    \n",
            "_________________________________________________________________\n",
            "dropout_15 (Dropout)         (None, 200)               0         \n",
            "_________________________________________________________________\n",
            "batch_normalization_23 (Batc (None, 200)               800       \n",
            "_________________________________________________________________\n",
            "dense_33 (Dense)             (None, 6)                 1206      \n",
            "=================================================================\n",
            "Total params: 202,206\n",
            "Trainable params: 201,806\n",
            "Non-trainable params: 400\n",
            "_________________________________________________________________\n",
            "Epoch 1/10\n",
            "138/138 [==============================] - 2s 9ms/step - loss: 0.2146 - accuracy: 0.9358 - val_loss: 0.5302 - val_accuracy: 0.8264\n",
            "Epoch 2/10\n",
            "138/138 [==============================] - 1s 7ms/step - loss: 0.0111 - accuracy: 0.9998 - val_loss: 0.4787 - val_accuracy: 0.8356\n",
            "Epoch 3/10\n",
            "138/138 [==============================] - 1s 8ms/step - loss: 0.0048 - accuracy: 1.0000 - val_loss: 0.4697 - val_accuracy: 0.8358\n",
            "Epoch 4/10\n",
            "138/138 [==============================] - 1s 8ms/step - loss: 0.0027 - accuracy: 1.0000 - val_loss: 0.4644 - val_accuracy: 0.8415\n",
            "Epoch 5/10\n",
            "138/138 [==============================] - 1s 7ms/step - loss: 0.0020 - accuracy: 0.9999 - val_loss: 0.4776 - val_accuracy: 0.8365\n",
            "Epoch 6/10\n",
            "138/138 [==============================] - 1s 8ms/step - loss: 0.0012 - accuracy: 1.0000 - val_loss: 0.4809 - val_accuracy: 0.8359\n",
            "Epoch 7/10\n",
            "138/138 [==============================] - 1s 7ms/step - loss: 9.7922e-04 - accuracy: 1.0000 - val_loss: 0.4763 - val_accuracy: 0.8413\n",
            "Epoch 8/10\n",
            "138/138 [==============================] - 1s 7ms/step - loss: 6.9319e-04 - accuracy: 1.0000 - val_loss: 0.4849 - val_accuracy: 0.8382\n",
            "Epoch 9/10\n",
            "138/138 [==============================] - 1s 9ms/step - loss: 5.4122e-04 - accuracy: 1.0000 - val_loss: 0.4947 - val_accuracy: 0.8325\n",
            "Epoch 10/10\n",
            "138/138 [==============================] - 1s 7ms/step - loss: 4.6601e-04 - accuracy: 1.0000 - val_loss: 0.4961 - val_accuracy: 0.8347\n",
            "209/209 [==============================] - 0s 2ms/step - loss: 0.4961 - accuracy: 0.8347\n",
            "НЕЙРОНКА:  maxWordsCount=1000\n",
            "--------------------\n",
            "Класс: О. Генри   92% сеть отнесла к классу О. Генри   Это ПРАВИЛЬНЫЙ ответ!\n",
            "Класс: Стругацкие 75% сеть отнесла к классу Стругацкие Это ПРАВИЛЬНЫЙ ответ!\n",
            "Класс: Булгаков   82% сеть отнесла к классу Булгаков   Это ПРАВИЛЬНЫЙ ответ!\n",
            "Класс: Саймак     70% сеть отнесла к классу Саймак     Это ПРАВИЛЬНЫЙ ответ!\n",
            "Класс: Фрай       87% сеть отнесла к классу Фрай       Это ПРАВИЛЬНЫЙ ответ!\n",
            "Класс: Брэдберри  86% сеть отнесла к классу Брэдберри  Это ПРАВИЛЬНЫЙ ответ!\n",
            "\n",
            "Средний процент распознавания 83%\n",
            "\n"
          ],
          "name": "stdout"
        },
        {
          "output_type": "display_data",
          "data": {
            "image/png": "[encoded data removed]",
            "text/plain": [
              "<Figure size 432x288 with 1 Axes>"
            ]
          },
          "metadata": {
            "tags": []
          }
        }
      ]
    },
    {
      "cell_type": "markdown",
      "metadata": {
        "id": "kRABkuX0_hJf"
      },
      "source": [
        "### Эксперимент 3 (maxWordsCount=10000)"
      ]
    },
    {
      "cell_type": "code",
      "metadata": {
        "id": "9v724VmU_n1R",
        "colab": {
          "base_uri": "https://localhost:8080/",
          "height": 1000
        },
        "outputId": "ade685c7-d425-415b-f5a1-f1b8158b0cc8"
      },
      "source": [
        "maxWordsCount = 10000\n",
        "\n",
        "xTrain, xTest, yTrain, yTest, Test, x2 = takeData(maxWordsCount)\n",
        "model = createModel()\n",
        "history = model.fit(xTrain, \n",
        "                      yTrain, \n",
        "                      epochs=10,\n",
        "                      batch_size=128,\n",
        "                      validation_data=(xTest, yTest))\n",
        "\n",
        "accuracyTotal.append(model.evaluate(xTest, yTest, verbose=1))\n",
        "recognizeMultiClass(model, Test, \"maxWordsCount=10000\")\n",
        "\n",
        "showTable(history)"
      ],
      "execution_count": null,
      "outputs": [
        {
          "output_type": "stream",
          "text": [
            "Время обработки: 3.17c\n"
          ],
          "name": "stdout"
        },
        {
          "output_type": "stream",
          "text": [
            "/usr/local/lib/python3.7/dist-packages/ipykernel_launcher.py:10: VisibleDeprecationWarning: Creating an ndarray from ragged nested sequences (which is a list-or-tuple of lists-or-tuples-or ndarrays with different lengths or shapes) is deprecated. If you meant to do this, you must specify 'dtype=object' when creating the ndarray\n",
            "  # Remove the CWD from sys.path while we load stuff.\n",
            "/usr/local/lib/python3.7/dist-packages/ipykernel_launcher.py:11: VisibleDeprecationWarning: Creating an ndarray from ragged nested sequences (which is a list-or-tuple of lists-or-tuples-or ndarrays with different lengths or shapes) is deprecated. If you meant to do this, you must specify 'dtype=object' when creating the ndarray\n",
            "  # This is added back by InteractiveShellApp.init_path()\n"
          ],
          "name": "stderr"
        },
        {
          "output_type": "stream",
          "text": [
            "Время обработки: 2.85c\n",
            "Время обработки: 13.11c\n",
            "Model: \"sequential_16\"\n",
            "_________________________________________________________________\n",
            "Layer (type)                 Output Shape              Param #   \n",
            "=================================================================\n",
            "dense_34 (Dense)             (None, 200)               2000200   \n",
            "_________________________________________________________________\n",
            "dropout_16 (Dropout)         (None, 200)               0         \n",
            "_________________________________________________________________\n",
            "batch_normalization_24 (Batc (None, 200)               800       \n",
            "_________________________________________________________________\n",
            "dense_35 (Dense)             (None, 6)                 1206      \n",
            "=================================================================\n",
            "Total params: 2,002,206\n",
            "Trainable params: 2,001,806\n",
            "Non-trainable params: 400\n",
            "_________________________________________________________________\n",
            "Epoch 1/10\n",
            "138/138 [==============================] - 6s 40ms/step - loss: 0.0596 - accuracy: 0.9819 - val_loss: 0.3994 - val_accuracy: 0.8827\n",
            "Epoch 2/10\n",
            "138/138 [==============================] - 5s 37ms/step - loss: 6.5951e-04 - accuracy: 1.0000 - val_loss: 0.3402 - val_accuracy: 0.8830\n",
            "Epoch 3/10\n",
            "138/138 [==============================] - 5s 37ms/step - loss: 3.2752e-04 - accuracy: 1.0000 - val_loss: 0.3282 - val_accuracy: 0.8833\n",
            "Epoch 4/10\n",
            "138/138 [==============================] - 5s 37ms/step - loss: 2.3178e-04 - accuracy: 1.0000 - val_loss: 0.3261 - val_accuracy: 0.8832\n",
            "Epoch 5/10\n",
            "138/138 [==============================] - 5s 37ms/step - loss: 1.5811e-04 - accuracy: 1.0000 - val_loss: 0.3261 - val_accuracy: 0.8829\n",
            "Epoch 6/10\n",
            "138/138 [==============================] - 5s 37ms/step - loss: 1.1517e-04 - accuracy: 1.0000 - val_loss: 0.3251 - val_accuracy: 0.8829\n",
            "Epoch 7/10\n",
            "138/138 [==============================] - 5s 37ms/step - loss: 8.6957e-05 - accuracy: 1.0000 - val_loss: 0.3234 - val_accuracy: 0.8827\n",
            "Epoch 8/10\n",
            "138/138 [==============================] - 5s 37ms/step - loss: 7.3567e-05 - accuracy: 1.0000 - val_loss: 0.3227 - val_accuracy: 0.8826\n",
            "Epoch 9/10\n",
            "138/138 [==============================] - 5s 37ms/step - loss: 6.2309e-05 - accuracy: 1.0000 - val_loss: 0.3238 - val_accuracy: 0.8838\n",
            "Epoch 10/10\n",
            "138/138 [==============================] - 5s 37ms/step - loss: 5.2120e-05 - accuracy: 1.0000 - val_loss: 0.3195 - val_accuracy: 0.8854\n",
            "209/209 [==============================] - 1s 6ms/step - loss: 0.3195 - accuracy: 0.8854\n",
            "НЕЙРОНКА:  maxWordsCount=10000\n",
            "--------------------\n",
            "Класс: О. Генри   98% сеть отнесла к классу О. Генри   Это ПРАВИЛЬНЫЙ ответ!\n",
            "Класс: Стругацкие 86% сеть отнесла к классу Стругацкие Это ПРАВИЛЬНЫЙ ответ!\n",
            "Класс: Булгаков   79% сеть отнесла к классу Булгаков   Это ПРАВИЛЬНЫЙ ответ!\n",
            "Класс: Саймак     80% сеть отнесла к классу Саймак     Это ПРАВИЛЬНЫЙ ответ!\n",
            "Класс: Фрай       90% сеть отнесла к классу Фрай       Это ПРАВИЛЬНЫЙ ответ!\n",
            "Класс: Брэдберри  95% сеть отнесла к классу Брэдберри  Это ПРАВИЛЬНЫЙ ответ!\n",
            "\n",
            "Средний процент распознавания 88%\n",
            "\n"
          ],
          "name": "stdout"
        },
        {
          "output_type": "display_data",
          "data": {
            "image/png": "[encoded data removed]",
            "text/plain": [
              "<Figure size 432x288 with 1 Axes>"
            ]
          },
          "metadata": {
            "tags": []
          }
        }
      ]
    },
    {
      "cell_type": "markdown",
      "metadata": {
        "id": "rrGoaIhj_pil"
      },
      "source": [
        "### Эксперимент 4 (maxWordsCount=50000)"
      ]
    },
    {
      "cell_type": "markdown",
      "metadata": {
        "id": "qZ8lc7jA0ODC"
      },
      "source": [
        "#### не хватает памяти"
      ]
    },
    {
      "cell_type": "code",
      "metadata": {
        "id": "dRx8aG0J_vHR"
      },
      "source": [
        "# maxWordsCount = 50000\n",
        "\n",
        "# xTrain, xTest, yTrain, yTest, Test, x2 = takeData(maxWordsCount)\n",
        "# model = createModel()\n",
        "# history = model.fit(xTrain, \n",
        "#                       yTrain, \n",
        "#                       epochs=10,\n",
        "#                       batch_size=128,\n",
        "#                       validation_data=(xTest, yTest))\n",
        "\n",
        "# accuracyTotal.append(model.evaluate(xTest, yTest, verbose=1))\n",
        "# accuracyTest.append(recognizeMultiClass(model, Test, \"maxWordsCount=50000\"))\n",
        "\n",
        "# showTable(history)"
      ],
      "execution_count": null,
      "outputs": []
    },
    {
      "cell_type": "markdown",
      "metadata": {
        "id": "WRIQ1k33_32e"
      },
      "source": [
        "## Эксперимент с обучением модели (Часть Б)"
      ]
    },
    {
      "cell_type": "markdown",
      "metadata": {
        "id": "yv2QLhnf_8aJ"
      },
      "source": [
        "### Эксперимент 5 (maxWordsCount=10000 || другое количество нейронов в сети)\n",
        "\n"
      ]
    },
    {
      "cell_type": "code",
      "metadata": {
        "colab": {
          "base_uri": "https://localhost:8080/",
          "height": 1000
        },
        "id": "379j_QSKGvY9",
        "outputId": "dd9bbba4-38b9-49b1-a16d-8c26d49d4690"
      },
      "source": [
        "nNeurons = 400\n",
        "xTrain, xTest, yTrain, yTest, Test, x2 = takeData()\n",
        "model = createModel(neuronsOneLayers=nNeurons)\n",
        "history = model.fit(xTrain,\n",
        "                    yTrain,\n",
        "                    epochs=10,\n",
        "                    batch_size=128,\n",
        "                    validation_data=(xTest, yTest))\n",
        "\n",
        "accuracyTotal.append(model.evaluate(xTest, yTest, verbose=1))\n",
        "recognizeMultiClass(model, Test, \"Another set of neurons\")\n",
        "\n",
        "showTable(history)"
      ],
      "execution_count": null,
      "outputs": [
        {
          "output_type": "stream",
          "text": [
            "Время обработки: 3.13c\n"
          ],
          "name": "stdout"
        },
        {
          "output_type": "stream",
          "text": [
            "/usr/local/lib/python3.7/dist-packages/ipykernel_launcher.py:10: VisibleDeprecationWarning: Creating an ndarray from ragged nested sequences (which is a list-or-tuple of lists-or-tuples-or ndarrays with different lengths or shapes) is deprecated. If you meant to do this, you must specify 'dtype=object' when creating the ndarray\n",
            "  # Remove the CWD from sys.path while we load stuff.\n",
            "/usr/local/lib/python3.7/dist-packages/ipykernel_launcher.py:11: VisibleDeprecationWarning: Creating an ndarray from ragged nested sequences (which is a list-or-tuple of lists-or-tuples-or ndarrays with different lengths or shapes) is deprecated. If you meant to do this, you must specify 'dtype=object' when creating the ndarray\n",
            "  # This is added back by InteractiveShellApp.init_path()\n"
          ],
          "name": "stderr"
        },
        {
          "output_type": "stream",
          "text": [
            "Время обработки: 2.52c\n",
            "Время обработки: 12.77c\n",
            "Model: \"sequential_17\"\n",
            "_________________________________________________________________\n",
            "Layer (type)                 Output Shape              Param #   \n",
            "=================================================================\n",
            "dense_36 (Dense)             (None, 400)               4000400   \n",
            "_________________________________________________________________\n",
            "dropout_17 (Dropout)         (None, 400)               0         \n",
            "_________________________________________________________________\n",
            "batch_normalization_25 (Batc (None, 400)               1600      \n",
            "_________________________________________________________________\n",
            "dense_37 (Dense)             (None, 6)                 2406      \n",
            "=================================================================\n",
            "Total params: 4,004,406\n",
            "Trainable params: 4,003,606\n",
            "Non-trainable params: 800\n",
            "_________________________________________________________________\n",
            "Epoch 1/10\n",
            "138/138 [==============================] - 10s 67ms/step - loss: 0.0437 - accuracy: 0.9857 - val_loss: 0.4314 - val_accuracy: 0.8537\n",
            "Epoch 2/10\n",
            "138/138 [==============================] - 9s 65ms/step - loss: 2.3587e-04 - accuracy: 1.0000 - val_loss: 0.3875 - val_accuracy: 0.8590\n",
            "Epoch 3/10\n",
            "138/138 [==============================] - 9s 65ms/step - loss: 1.1801e-04 - accuracy: 1.0000 - val_loss: 0.3879 - val_accuracy: 0.8564\n",
            "Epoch 4/10\n",
            "138/138 [==============================] - 9s 65ms/step - loss: 7.0363e-05 - accuracy: 1.0000 - val_loss: 0.3913 - val_accuracy: 0.8560\n",
            "Epoch 5/10\n",
            "138/138 [==============================] - 9s 65ms/step - loss: 4.7718e-05 - accuracy: 1.0000 - val_loss: 0.3905 - val_accuracy: 0.8566\n",
            "Epoch 6/10\n",
            "138/138 [==============================] - 9s 65ms/step - loss: 3.6874e-05 - accuracy: 1.0000 - val_loss: 0.3920 - val_accuracy: 0.8557\n",
            "Epoch 7/10\n",
            "138/138 [==============================] - 9s 66ms/step - loss: 2.8635e-05 - accuracy: 1.0000 - val_loss: 0.3932 - val_accuracy: 0.8554\n",
            "Epoch 8/10\n",
            "138/138 [==============================] - 9s 65ms/step - loss: 2.2928e-05 - accuracy: 1.0000 - val_loss: 0.3920 - val_accuracy: 0.8554\n",
            "Epoch 9/10\n",
            "138/138 [==============================] - 9s 65ms/step - loss: 1.9892e-05 - accuracy: 1.0000 - val_loss: 0.3931 - val_accuracy: 0.8566\n",
            "Epoch 10/10\n",
            "138/138 [==============================] - 9s 65ms/step - loss: 1.6539e-05 - accuracy: 1.0000 - val_loss: 0.3920 - val_accuracy: 0.8564\n",
            "209/209 [==============================] - 2s 10ms/step - loss: 0.3920 - accuracy: 0.8564\n",
            "НЕЙРОНКА:  Another set of neurons\n",
            "--------------------\n",
            "Класс: О. Генри   94% сеть отнесла к классу О. Генри   Это ПРАВИЛЬНЫЙ ответ!\n",
            "Класс: Стругацкие 81% сеть отнесла к классу Стругацкие Это ПРАВИЛЬНЫЙ ответ!\n",
            "Класс: Булгаков   69% сеть отнесла к классу Булгаков   Это ПРАВИЛЬНЫЙ ответ!\n",
            "Класс: Саймак     76% сеть отнесла к классу Саймак     Это ПРАВИЛЬНЫЙ ответ!\n",
            "Класс: Фрай       91% сеть отнесла к классу Фрай       Это ПРАВИЛЬНЫЙ ответ!\n",
            "Класс: Брэдберри  96% сеть отнесла к классу Брэдберри  Это ПРАВИЛЬНЫЙ ответ!\n",
            "\n",
            "Средний процент распознавания 85%\n",
            "\n"
          ],
          "name": "stdout"
        },
        {
          "output_type": "display_data",
          "data": {
            "image/png": "[encoded data removed]",
            "text/plain": [
              "<Figure size 432x288 with 1 Axes>"
            ]
          },
          "metadata": {
            "tags": []
          }
        }
      ]
    },
    {
      "cell_type": "markdown",
      "metadata": {
        "id": "pfO8s4pqAbLs"
      },
      "source": [
        "### Эксперимент 6 (maxWordsCount=10000 || другое количество слоев)\n",
        "\n"
      ]
    },
    {
      "cell_type": "code",
      "metadata": {
        "colab": {
          "base_uri": "https://localhost:8080/",
          "height": 1000
        },
        "id": "OdVVK2ptbnLr",
        "outputId": "609f2f0c-8ee5-4a02-abf9-8d684d252a87"
      },
      "source": [
        "layersN = 3\n",
        "\n",
        "xTrain, xTest, yTrain, yTest, Test, x2 = takeData()\n",
        "model = createModel(layersN=layersN)\n",
        "history = model.fit(xTrain,\n",
        "                    yTrain,\n",
        "                    epochs=10,\n",
        "                    batch_size=128,\n",
        "                    validation_data=(xTest, yTest))\n",
        "\n",
        "accuracyTotal.append(model.evaluate(xTest, yTest, verbose=1))\n",
        "recognizeMultiClass(model, Test, \"Another number of layers\")\n",
        "\n",
        "showTable(history)"
      ],
      "execution_count": null,
      "outputs": [
        {
          "output_type": "stream",
          "text": [
            "Время обработки: 3.27c\n"
          ],
          "name": "stdout"
        },
        {
          "output_type": "stream",
          "text": [
            "/usr/local/lib/python3.7/dist-packages/ipykernel_launcher.py:10: VisibleDeprecationWarning: Creating an ndarray from ragged nested sequences (which is a list-or-tuple of lists-or-tuples-or ndarrays with different lengths or shapes) is deprecated. If you meant to do this, you must specify 'dtype=object' when creating the ndarray\n",
            "  # Remove the CWD from sys.path while we load stuff.\n",
            "/usr/local/lib/python3.7/dist-packages/ipykernel_launcher.py:11: VisibleDeprecationWarning: Creating an ndarray from ragged nested sequences (which is a list-or-tuple of lists-or-tuples-or ndarrays with different lengths or shapes) is deprecated. If you meant to do this, you must specify 'dtype=object' when creating the ndarray\n",
            "  # This is added back by InteractiveShellApp.init_path()\n"
          ],
          "name": "stderr"
        },
        {
          "output_type": "stream",
          "text": [
            "Время обработки: 2.56c\n",
            "Время обработки: 11.83c\n",
            "Model: \"sequential_18\"\n",
            "_________________________________________________________________\n",
            "Layer (type)                 Output Shape              Param #   \n",
            "=================================================================\n",
            "dense_38 (Dense)             (None, 200)               2000200   \n",
            "_________________________________________________________________\n",
            "dense_39 (Dense)             (None, 200)               40200     \n",
            "_________________________________________________________________\n",
            "dense_40 (Dense)             (None, 200)               40200     \n",
            "_________________________________________________________________\n",
            "dropout_18 (Dropout)         (None, 200)               0         \n",
            "_________________________________________________________________\n",
            "batch_normalization_26 (Batc (None, 200)               800       \n",
            "_________________________________________________________________\n",
            "dense_41 (Dense)             (None, 6)                 1206      \n",
            "=================================================================\n",
            "Total params: 2,082,606\n",
            "Trainable params: 2,082,206\n",
            "Non-trainable params: 400\n",
            "_________________________________________________________________\n",
            "Epoch 1/10\n",
            "138/138 [==============================] - 6s 42ms/step - loss: 0.0828 - accuracy: 0.9749 - val_loss: 0.4209 - val_accuracy: 0.8890\n",
            "Epoch 2/10\n",
            "138/138 [==============================] - 6s 40ms/step - loss: 8.5395e-04 - accuracy: 1.0000 - val_loss: 0.3433 - val_accuracy: 0.8899\n",
            "Epoch 3/10\n",
            "138/138 [==============================] - 6s 40ms/step - loss: 4.0248e-04 - accuracy: 1.0000 - val_loss: 0.3313 - val_accuracy: 0.8886\n",
            "Epoch 4/10\n",
            "138/138 [==============================] - 5s 40ms/step - loss: 2.4840e-04 - accuracy: 1.0000 - val_loss: 0.3269 - val_accuracy: 0.8893\n",
            "Epoch 5/10\n",
            "138/138 [==============================] - 5s 40ms/step - loss: 1.5744e-04 - accuracy: 1.0000 - val_loss: 0.3296 - val_accuracy: 0.8893\n",
            "Epoch 6/10\n",
            "138/138 [==============================] - 5s 40ms/step - loss: 1.0670e-04 - accuracy: 1.0000 - val_loss: 0.3317 - val_accuracy: 0.8877\n",
            "Epoch 7/10\n",
            "138/138 [==============================] - 5s 39ms/step - loss: 7.9291e-05 - accuracy: 1.0000 - val_loss: 0.3307 - val_accuracy: 0.8878\n",
            "Epoch 8/10\n",
            "138/138 [==============================] - 5s 40ms/step - loss: 6.2778e-05 - accuracy: 1.0000 - val_loss: 0.3300 - val_accuracy: 0.8872\n",
            "Epoch 9/10\n",
            "138/138 [==============================] - 5s 39ms/step - loss: 5.3061e-05 - accuracy: 1.0000 - val_loss: 0.3325 - val_accuracy: 0.8869\n",
            "Epoch 10/10\n",
            "138/138 [==============================] - 5s 39ms/step - loss: 4.6711e-05 - accuracy: 1.0000 - val_loss: 0.3279 - val_accuracy: 0.8907\n",
            "209/209 [==============================] - 1s 6ms/step - loss: 0.3279 - accuracy: 0.8907\n",
            "НЕЙРОНКА:  Another number of layers\n",
            "--------------------\n",
            "Класс: О. Генри   92% сеть отнесла к классу О. Генри   Это ПРАВИЛЬНЫЙ ответ!\n",
            "Класс: Стругацкие 87% сеть отнесла к классу Стругацкие Это ПРАВИЛЬНЫЙ ответ!\n",
            "Класс: Булгаков   78% сеть отнесла к классу Булгаков   Это ПРАВИЛЬНЫЙ ответ!\n",
            "Класс: Саймак     86% сеть отнесла к классу Саймак     Это ПРАВИЛЬНЫЙ ответ!\n",
            "Класс: Фрай       92% сеть отнесла к классу Фрай       Это ПРАВИЛЬНЫЙ ответ!\n",
            "Класс: Брэдберри  95% сеть отнесла к классу Брэдберри  Это ПРАВИЛЬНЫЙ ответ!\n",
            "\n",
            "Средний процент распознавания 89%\n",
            "\n"
          ],
          "name": "stdout"
        },
        {
          "output_type": "display_data",
          "data": {
            "image/png": "[encoded data removed]",
            "text/plain": [
              "<Figure size 432x288 with 1 Axes>"
            ]
          },
          "metadata": {
            "tags": []
          }
        }
      ]
    },
    {
      "cell_type": "markdown",
      "metadata": {
        "id": "W90obMUoAkXq"
      },
      "source": [
        "### Эксперимент 7 (maxWordsCount=10000 || другие активационные функции)\n"
      ]
    },
    {
      "cell_type": "code",
      "metadata": {
        "colab": {
          "base_uri": "https://localhost:8080/",
          "height": 1000
        },
        "id": "oloCoI1gb87Q",
        "outputId": "49897f01-1088-4d18-e7b6-532bcf295f55"
      },
      "source": [
        "activ = \"linear\"\n",
        "xTrain, xTest, yTrain, yTest, Test, x2 = takeData()\n",
        "model = createModel(activ=activ)\n",
        "history = model.fit(xTrain,\n",
        "                    yTrain,\n",
        "                    epochs=10,\n",
        "                    batch_size=128,\n",
        "                    validation_data=(xTest, yTest))\n",
        "\n",
        "accuracyTotal.append(model.evaluate(xTest, yTest, verbose=1))\n",
        "recognizeMultiClass(model, Test, \"Another activation function\")\n",
        "\n",
        "showTable(history)"
      ],
      "execution_count": null,
      "outputs": [
        {
          "output_type": "stream",
          "text": [
            "Время обработки: 3.2c\n"
          ],
          "name": "stdout"
        },
        {
          "output_type": "stream",
          "text": [
            "/usr/local/lib/python3.7/dist-packages/ipykernel_launcher.py:10: VisibleDeprecationWarning: Creating an ndarray from ragged nested sequences (which is a list-or-tuple of lists-or-tuples-or ndarrays with different lengths or shapes) is deprecated. If you meant to do this, you must specify 'dtype=object' when creating the ndarray\n",
            "  # Remove the CWD from sys.path while we load stuff.\n",
            "/usr/local/lib/python3.7/dist-packages/ipykernel_launcher.py:11: VisibleDeprecationWarning: Creating an ndarray from ragged nested sequences (which is a list-or-tuple of lists-or-tuples-or ndarrays with different lengths or shapes) is deprecated. If you meant to do this, you must specify 'dtype=object' when creating the ndarray\n",
            "  # This is added back by InteractiveShellApp.init_path()\n"
          ],
          "name": "stderr"
        },
        {
          "output_type": "stream",
          "text": [
            "Время обработки: 2.5c\n",
            "Время обработки: 11.73c\n",
            "Model: \"sequential_19\"\n",
            "_________________________________________________________________\n",
            "Layer (type)                 Output Shape              Param #   \n",
            "=================================================================\n",
            "dense_42 (Dense)             (None, 200)               2000200   \n",
            "_________________________________________________________________\n",
            "dropout_19 (Dropout)         (None, 200)               0         \n",
            "_________________________________________________________________\n",
            "batch_normalization_27 (Batc (None, 200)               800       \n",
            "_________________________________________________________________\n",
            "dense_43 (Dense)             (None, 6)                 1206      \n",
            "=================================================================\n",
            "Total params: 2,002,206\n",
            "Trainable params: 2,001,806\n",
            "Non-trainable params: 400\n",
            "_________________________________________________________________\n",
            "Epoch 1/10\n",
            "138/138 [==============================] - 6s 39ms/step - loss: 0.0459 - accuracy: 0.9853 - val_loss: 0.3770 - val_accuracy: 0.8786\n",
            "Epoch 2/10\n",
            "138/138 [==============================] - 5s 37ms/step - loss: 4.2197e-04 - accuracy: 1.0000 - val_loss: 0.3403 - val_accuracy: 0.8892\n",
            "Epoch 3/10\n",
            "138/138 [==============================] - 5s 37ms/step - loss: 2.2730e-04 - accuracy: 1.0000 - val_loss: 0.3300 - val_accuracy: 0.8911\n",
            "Epoch 4/10\n",
            "138/138 [==============================] - 5s 37ms/step - loss: 1.5708e-04 - accuracy: 1.0000 - val_loss: 0.3323 - val_accuracy: 0.8901\n",
            "Epoch 5/10\n",
            "138/138 [==============================] - 5s 37ms/step - loss: 1.0300e-04 - accuracy: 1.0000 - val_loss: 0.3321 - val_accuracy: 0.8910\n",
            "Epoch 6/10\n",
            "138/138 [==============================] - 5s 37ms/step - loss: 7.6355e-05 - accuracy: 1.0000 - val_loss: 0.3315 - val_accuracy: 0.8911\n",
            "Epoch 7/10\n",
            "138/138 [==============================] - 5s 37ms/step - loss: 6.6367e-05 - accuracy: 1.0000 - val_loss: 0.3293 - val_accuracy: 0.8914\n",
            "Epoch 8/10\n",
            "138/138 [==============================] - 5s 37ms/step - loss: 5.2363e-05 - accuracy: 1.0000 - val_loss: 0.3297 - val_accuracy: 0.8916\n",
            "Epoch 9/10\n",
            "138/138 [==============================] - 5s 37ms/step - loss: 4.2996e-05 - accuracy: 1.0000 - val_loss: 0.3262 - val_accuracy: 0.8923\n",
            "Epoch 10/10\n",
            "138/138 [==============================] - 5s 37ms/step - loss: 3.6661e-05 - accuracy: 1.0000 - val_loss: 0.3280 - val_accuracy: 0.8916\n",
            "209/209 [==============================] - 1s 6ms/step - loss: 0.3280 - accuracy: 0.8916\n",
            "НЕЙРОНКА:  Another activation function\n",
            "--------------------\n",
            "Класс: О. Генри   97% сеть отнесла к классу О. Генри   Это ПРАВИЛЬНЫЙ ответ!\n",
            "Класс: Стругацкие 91% сеть отнесла к классу Стругацкие Это ПРАВИЛЬНЫЙ ответ!\n",
            "Класс: Булгаков   77% сеть отнесла к классу Булгаков   Это ПРАВИЛЬНЫЙ ответ!\n",
            "Класс: Саймак     85% сеть отнесла к классу Саймак     Это ПРАВИЛЬНЫЙ ответ!\n",
            "Класс: Фрай       89% сеть отнесла к классу Фрай       Это ПРАВИЛЬНЫЙ ответ!\n",
            "Класс: Брэдберри  96% сеть отнесла к классу Брэдберри  Это ПРАВИЛЬНЫЙ ответ!\n",
            "\n",
            "Средний процент распознавания 89%\n",
            "\n"
          ],
          "name": "stdout"
        },
        {
          "output_type": "display_data",
          "data": {
            "image/png": "[encoded data removed]",
            "text/plain": [
              "<Figure size 432x288 with 1 Axes>"
            ]
          },
          "metadata": {
            "tags": []
          }
        }
      ]
    },
    {
      "cell_type": "markdown",
      "metadata": {
        "id": "mmCWIBsWA2tF"
      },
      "source": [
        "## Эксперименты с обучение модели (Часть В)"
      ]
    },
    {
      "cell_type": "markdown",
      "metadata": {
        "id": "rPPUQIjBA7fb"
      },
      "source": [
        "### Эксперимент 8 (maxWordsCount=10000||embedding=10)"
      ]
    },
    {
      "cell_type": "code",
      "metadata": {
        "colab": {
          "base_uri": "https://localhost:8080/",
          "height": 1000
        },
        "id": "YvjOQY1Fhd8c",
        "outputId": "a4b6c093-226e-442b-8bc2-c05d0fb8eb43"
      },
      "source": [
        "xTrain, yTrain, xTest, yTest = takeData(level=True)\n",
        "\n",
        "model = createModelEmbed(embedding=10)\n",
        "\n",
        "history = model.fit(xTrain,\n",
        "                    yTrain,\n",
        "                    epochs=10,\n",
        "                    batch_size=128,\n",
        "                    validation_data=(xTest, yTest))\n",
        "\n",
        "accuracyTotal.append(model.evaluate(xTest, yTest, verbose=1))\n",
        "\n",
        "showTable(history)"
      ],
      "execution_count": null,
      "outputs": [
        {
          "output_type": "stream",
          "text": [
            "Время обработки: 3.23c\n"
          ],
          "name": "stdout"
        },
        {
          "output_type": "stream",
          "text": [
            "/usr/local/lib/python3.7/dist-packages/ipykernel_launcher.py:10: VisibleDeprecationWarning: Creating an ndarray from ragged nested sequences (which is a list-or-tuple of lists-or-tuples-or ndarrays with different lengths or shapes) is deprecated. If you meant to do this, you must specify 'dtype=object' when creating the ndarray\n",
            "  # Remove the CWD from sys.path while we load stuff.\n",
            "/usr/local/lib/python3.7/dist-packages/ipykernel_launcher.py:11: VisibleDeprecationWarning: Creating an ndarray from ragged nested sequences (which is a list-or-tuple of lists-or-tuples-or ndarrays with different lengths or shapes) is deprecated. If you meant to do this, you must specify 'dtype=object' when creating the ndarray\n",
            "  # This is added back by InteractiveShellApp.init_path()\n"
          ],
          "name": "stderr"
        },
        {
          "output_type": "stream",
          "text": [
            "Время обработки: 2.83c\n",
            "Model: \"sequential_20\"\n",
            "_________________________________________________________________\n",
            "Layer (type)                 Output Shape              Param #   \n",
            "=================================================================\n",
            "embedding_8 (Embedding)      (None, 1000, 10)          100000    \n",
            "_________________________________________________________________\n",
            "spatial_dropout1d_8 (Spatial (None, 1000, 10)          0         \n",
            "_________________________________________________________________\n",
            "flatten_8 (Flatten)          (None, 10000)             0         \n",
            "_________________________________________________________________\n",
            "batch_normalization_28 (Batc (None, 10000)             40000     \n",
            "_________________________________________________________________\n",
            "dense_44 (Dense)             (None, 64)                640064    \n",
            "_________________________________________________________________\n",
            "dropout_20 (Dropout)         (None, 64)                0         \n",
            "_________________________________________________________________\n",
            "batch_normalization_29 (Batc (None, 64)                256       \n",
            "_________________________________________________________________\n",
            "dense_45 (Dense)             (None, 6)                 390       \n",
            "=================================================================\n",
            "Total params: 780,710\n",
            "Trainable params: 760,582\n",
            "Non-trainable params: 20,128\n",
            "_________________________________________________________________\n",
            "Epoch 1/10\n",
            "138/138 [==============================] - 9s 57ms/step - loss: 1.1623 - accuracy: 0.5915 - val_loss: 1.8497 - val_accuracy: 0.3498\n",
            "Epoch 2/10\n",
            "138/138 [==============================] - 8s 55ms/step - loss: 0.1013 - accuracy: 0.9868 - val_loss: 1.4375 - val_accuracy: 0.3646\n",
            "Epoch 3/10\n",
            "138/138 [==============================] - 8s 55ms/step - loss: 0.0386 - accuracy: 0.9959 - val_loss: 1.1029 - val_accuracy: 0.5627\n",
            "Epoch 4/10\n",
            "138/138 [==============================] - 8s 56ms/step - loss: 0.0219 - accuracy: 0.9977 - val_loss: 0.8856 - val_accuracy: 0.7024\n",
            "Epoch 5/10\n",
            "138/138 [==============================] - 8s 56ms/step - loss: 0.0163 - accuracy: 0.9974 - val_loss: 0.8528 - val_accuracy: 0.7049\n",
            "Epoch 6/10\n",
            "138/138 [==============================] - 10s 74ms/step - loss: 0.0134 - accuracy: 0.9977 - val_loss: 0.7171 - val_accuracy: 0.7592\n",
            "Epoch 7/10\n",
            "138/138 [==============================] - 7s 54ms/step - loss: 0.0096 - accuracy: 0.9986 - val_loss: 0.9749 - val_accuracy: 0.6941\n",
            "Epoch 8/10\n",
            "138/138 [==============================] - 8s 56ms/step - loss: 0.0084 - accuracy: 0.9985 - val_loss: 0.8316 - val_accuracy: 0.7036\n",
            "Epoch 9/10\n",
            "138/138 [==============================] - 8s 55ms/step - loss: 0.0065 - accuracy: 0.9993 - val_loss: 0.8674 - val_accuracy: 0.7133\n",
            "Epoch 10/10\n",
            "138/138 [==============================] - 8s 56ms/step - loss: 0.0063 - accuracy: 0.9989 - val_loss: 0.9779 - val_accuracy: 0.7109\n",
            "209/209 [==============================] - 1s 4ms/step - loss: 0.9779 - accuracy: 0.7109\n"
          ],
          "name": "stdout"
        },
        {
          "output_type": "display_data",
          "data": {
            "image/png": "[encoded data removed]",
            "text/plain": [
              "<Figure size 432x288 with 1 Axes>"
            ]
          },
          "metadata": {
            "tags": []
          }
        }
      ]
    },
    {
      "cell_type": "markdown",
      "metadata": {
        "id": "HIy7F59lBZWP"
      },
      "source": [
        "### Эксперимент 9 (maxWordsCount=10000||embedding=50)"
      ]
    },
    {
      "cell_type": "code",
      "metadata": {
        "id": "F5F7jy4Nhiqh",
        "colab": {
          "base_uri": "https://localhost:8080/",
          "height": 1000
        },
        "outputId": "8d2edaa9-2cd0-4274-b2d8-377dbf42d131"
      },
      "source": [
        "xTrain, yTrain, xTest, yTest = takeData(level=True)\n",
        "\n",
        "model = createModelEmbed(embedding=50)\n",
        "history = model.fit(xTrain,\n",
        "                    yTrain,\n",
        "                    epochs=10,\n",
        "                    batch_size=128,\n",
        "                    validation_data=(xTest, yTest))\n",
        "\n",
        "accuracyTotal.append(model.evaluate(xTest, yTest, verbose=1))\n",
        "showTable(history)"
      ],
      "execution_count": null,
      "outputs": [
        {
          "output_type": "stream",
          "text": [
            "Время обработки: 3.34c\n"
          ],
          "name": "stdout"
        },
        {
          "output_type": "stream",
          "text": [
            "/usr/local/lib/python3.7/dist-packages/ipykernel_launcher.py:10: VisibleDeprecationWarning: Creating an ndarray from ragged nested sequences (which is a list-or-tuple of lists-or-tuples-or ndarrays with different lengths or shapes) is deprecated. If you meant to do this, you must specify 'dtype=object' when creating the ndarray\n",
            "  # Remove the CWD from sys.path while we load stuff.\n",
            "/usr/local/lib/python3.7/dist-packages/ipykernel_launcher.py:11: VisibleDeprecationWarning: Creating an ndarray from ragged nested sequences (which is a list-or-tuple of lists-or-tuples-or ndarrays with different lengths or shapes) is deprecated. If you meant to do this, you must specify 'dtype=object' when creating the ndarray\n",
            "  # This is added back by InteractiveShellApp.init_path()\n"
          ],
          "name": "stderr"
        },
        {
          "output_type": "stream",
          "text": [
            "Время обработки: 2.61c\n",
            "Model: \"sequential_21\"\n",
            "_________________________________________________________________\n",
            "Layer (type)                 Output Shape              Param #   \n",
            "=================================================================\n",
            "embedding_9 (Embedding)      (None, 1000, 50)          500000    \n",
            "_________________________________________________________________\n",
            "spatial_dropout1d_9 (Spatial (None, 1000, 50)          0         \n",
            "_________________________________________________________________\n",
            "flatten_9 (Flatten)          (None, 50000)             0         \n",
            "_________________________________________________________________\n",
            "batch_normalization_30 (Batc (None, 50000)             200000    \n",
            "_________________________________________________________________\n",
            "dense_46 (Dense)             (None, 64)                3200064   \n",
            "_________________________________________________________________\n",
            "dropout_21 (Dropout)         (None, 64)                0         \n",
            "_________________________________________________________________\n",
            "batch_normalization_31 (Batc (None, 64)                256       \n",
            "_________________________________________________________________\n",
            "dense_47 (Dense)             (None, 6)                 390       \n",
            "=================================================================\n",
            "Total params: 3,900,710\n",
            "Trainable params: 3,800,582\n",
            "Non-trainable params: 100,128\n",
            "_________________________________________________________________\n",
            "Epoch 1/10\n",
            "138/138 [==============================] - 31s 218ms/step - loss: 0.7423 - accuracy: 0.7597 - val_loss: 1.9508 - val_accuracy: 0.2929\n",
            "Epoch 2/10\n",
            "138/138 [==============================] - 30s 217ms/step - loss: 0.0254 - accuracy: 0.9996 - val_loss: 1.4575 - val_accuracy: 0.3284\n",
            "Epoch 3/10\n",
            "138/138 [==============================] - 31s 223ms/step - loss: 0.0103 - accuracy: 0.9999 - val_loss: 1.1128 - val_accuracy: 0.5411\n",
            "Epoch 4/10\n",
            "138/138 [==============================] - 31s 222ms/step - loss: 0.0060 - accuracy: 0.9999 - val_loss: 0.8618 - val_accuracy: 0.6916\n",
            "Epoch 5/10\n",
            "138/138 [==============================] - 30s 220ms/step - loss: 0.0040 - accuracy: 1.0000 - val_loss: 0.7016 - val_accuracy: 0.7640\n",
            "Epoch 6/10\n",
            "138/138 [==============================] - 30s 218ms/step - loss: 0.0030 - accuracy: 1.0000 - val_loss: 0.6806 - val_accuracy: 0.7736\n",
            "Epoch 7/10\n",
            "138/138 [==============================] - 30s 218ms/step - loss: 0.0023 - accuracy: 1.0000 - val_loss: 0.6703 - val_accuracy: 0.7777\n",
            "Epoch 8/10\n",
            "138/138 [==============================] - 31s 223ms/step - loss: 0.0017 - accuracy: 1.0000 - val_loss: 0.6552 - val_accuracy: 0.7858\n",
            "Epoch 9/10\n",
            "138/138 [==============================] - 31s 222ms/step - loss: 0.0013 - accuracy: 1.0000 - val_loss: 0.6699 - val_accuracy: 0.7789\n",
            "Epoch 10/10\n",
            "138/138 [==============================] - 31s 221ms/step - loss: 0.0011 - accuracy: 1.0000 - val_loss: 0.6648 - val_accuracy: 0.7819\n",
            "209/209 [==============================] - 2s 11ms/step - loss: 0.6648 - accuracy: 0.7819\n"
          ],
          "name": "stdout"
        },
        {
          "output_type": "display_data",
          "data": {
            "image/png": "[encoded data removed]",
            "text/plain": [
              "<Figure size 432x288 with 1 Axes>"
            ]
          },
          "metadata": {
            "tags": []
          }
        }
      ]
    },
    {
      "cell_type": "markdown",
      "metadata": {
        "id": "SJx5rlZNBdwB"
      },
      "source": [
        "### Эксперимент 10 (maxWordsCount=10000||embedding=200)"
      ]
    },
    {
      "cell_type": "code",
      "metadata": {
        "id": "9znhMvsMhmDE",
        "colab": {
          "base_uri": "https://localhost:8080/",
          "height": 1000
        },
        "outputId": "4b841a55-7607-4edc-be55-421e1579a7e5"
      },
      "source": [
        "xTrain, yTrain, xTest, yTest = takeData(level=True)\n",
        "model = createModelEmbed(embedding=200)\n",
        "history = model.fit(xTrain,\n",
        "                    yTrain,\n",
        "                    epochs=10,\n",
        "                    batch_size=128,\n",
        "                    validation_data=(xTest, yTest))\n",
        "\n",
        "accuracyTotal.append(model.evaluate(xTest, yTest, verbose=1))\n",
        "\n",
        "\n",
        "showTable(history)"
      ],
      "execution_count": null,
      "outputs": [
        {
          "output_type": "stream",
          "text": [
            "Время обработки: 3.39c\n"
          ],
          "name": "stdout"
        },
        {
          "output_type": "stream",
          "text": [
            "/usr/local/lib/python3.7/dist-packages/ipykernel_launcher.py:10: VisibleDeprecationWarning: Creating an ndarray from ragged nested sequences (which is a list-or-tuple of lists-or-tuples-or ndarrays with different lengths or shapes) is deprecated. If you meant to do this, you must specify 'dtype=object' when creating the ndarray\n",
            "  # Remove the CWD from sys.path while we load stuff.\n",
            "/usr/local/lib/python3.7/dist-packages/ipykernel_launcher.py:11: VisibleDeprecationWarning: Creating an ndarray from ragged nested sequences (which is a list-or-tuple of lists-or-tuples-or ndarrays with different lengths or shapes) is deprecated. If you meant to do this, you must specify 'dtype=object' when creating the ndarray\n",
            "  # This is added back by InteractiveShellApp.init_path()\n"
          ],
          "name": "stderr"
        },
        {
          "output_type": "stream",
          "text": [
            "Время обработки: 3.01c\n",
            "Model: \"sequential_22\"\n",
            "_________________________________________________________________\n",
            "Layer (type)                 Output Shape              Param #   \n",
            "=================================================================\n",
            "embedding_10 (Embedding)     (None, 1000, 200)         2000000   \n",
            "_________________________________________________________________\n",
            "spatial_dropout1d_10 (Spatia (None, 1000, 200)         0         \n",
            "_________________________________________________________________\n",
            "flatten_10 (Flatten)         (None, 200000)            0         \n",
            "_________________________________________________________________\n",
            "batch_normalization_32 (Batc (None, 200000)            800000    \n",
            "_________________________________________________________________\n",
            "dense_48 (Dense)             (None, 64)                12800064  \n",
            "_________________________________________________________________\n",
            "dropout_22 (Dropout)         (None, 64)                0         \n",
            "_________________________________________________________________\n",
            "batch_normalization_33 (Batc (None, 64)                256       \n",
            "_________________________________________________________________\n",
            "dense_49 (Dense)             (None, 6)                 390       \n",
            "=================================================================\n",
            "Total params: 15,600,710\n",
            "Trainable params: 15,200,582\n",
            "Non-trainable params: 400,128\n",
            "_________________________________________________________________\n",
            "Epoch 1/10\n",
            "138/138 [==============================] - 125s 901ms/step - loss: 0.6277 - accuracy: 0.8070 - val_loss: 1.7553 - val_accuracy: 0.2929\n",
            "Epoch 2/10\n",
            "138/138 [==============================] - 126s 911ms/step - loss: 0.0204 - accuracy: 0.9998 - val_loss: 1.3320 - val_accuracy: 0.3566\n",
            "Epoch 3/10\n",
            "138/138 [==============================] - 121s 879ms/step - loss: 0.0075 - accuracy: 1.0000 - val_loss: 1.0542 - val_accuracy: 0.5891\n",
            "Epoch 4/10\n",
            "138/138 [==============================] - 121s 874ms/step - loss: 0.0043 - accuracy: 1.0000 - val_loss: 0.7819 - val_accuracy: 0.7273\n",
            "Epoch 5/10\n",
            "138/138 [==============================] - 120s 872ms/step - loss: 0.0028 - accuracy: 1.0000 - val_loss: 0.6587 - val_accuracy: 0.7733\n",
            "Epoch 6/10\n",
            "138/138 [==============================] - 121s 875ms/step - loss: 0.0021 - accuracy: 1.0000 - val_loss: 0.6527 - val_accuracy: 0.7725\n",
            "Epoch 7/10\n",
            "138/138 [==============================] - 123s 890ms/step - loss: 0.0016 - accuracy: 1.0000 - val_loss: 0.6327 - val_accuracy: 0.7798\n",
            "Epoch 8/10\n",
            "138/138 [==============================] - 119s 864ms/step - loss: 0.0012 - accuracy: 1.0000 - val_loss: 0.6347 - val_accuracy: 0.7804\n",
            "Epoch 9/10\n",
            "138/138 [==============================] - 119s 862ms/step - loss: 0.0010 - accuracy: 1.0000 - val_loss: 0.6142 - val_accuracy: 0.7921\n",
            "Epoch 10/10\n",
            "138/138 [==============================] - 119s 864ms/step - loss: 8.6775e-04 - accuracy: 1.0000 - val_loss: 0.6219 - val_accuracy: 0.7858\n",
            "209/209 [==============================] - 8s 36ms/step - loss: 0.6219 - accuracy: 0.7858\n"
          ],
          "name": "stdout"
        },
        {
          "output_type": "display_data",
          "data": {
            "image/png": "[encoded data removed]",
            "text/plain": [
              "<Figure size 432x288 with 1 Axes>"
            ]
          },
          "metadata": {
            "tags": []
          }
        }
      ]
    },
    {
      "cell_type": "markdown",
      "metadata": {
        "id": "bhFB_G9riXbT"
      },
      "source": [
        "# Таблица точностей моделей"
      ]
    },
    {
      "cell_type": "code",
      "metadata": {
        "id": "qK2afhzNiahD",
        "colab": {
          "base_uri": "https://localhost:8080/"
        },
        "outputId": "d2d0622d-6945-41fe-bd5d-a3e8929667cd"
      },
      "source": [
        "names = [\"maxWordsCount=100\", \"maxWordsCount=1000\",\n",
        "         \"maxWordsCount=10000\", \"maxWordsCount=50000\",\n",
        "         \"another set of neurons\", \"another count of layers\", \n",
        "         \"another activation function\", \"embedding=10\", \n",
        "         \"embedding=50\", \"embedding=200\"]\n",
        "\n",
        "accuracy = [elem[1] for elem in accuracyTotal]\n",
        "accuracy.append(True)\n",
        "\n",
        "for ii in range(4, len(accuracyTotal) + 1):\n",
        "  accuracy[ii] = accuracyTotal[ii - 1][1]\n",
        "accuracy[3] = \"Не хватило памяти\"\n",
        "\n",
        "accuracyTable = pd.DataFrame({\"Название эксперимента:\": names,\n",
        "                              \"Точность на проверочной выборке:\": accuracy},\n",
        "                             index=[i for i in range(1, len(names) + 1)])\n",
        "print(accuracyTable)"
      ],
      "execution_count": null,
      "outputs": [
        {
          "output_type": "stream",
          "text": [
            "         Название эксперимента: Точность на проверочной выборке:\n",
            "1             maxWordsCount=100                         0.469937\n",
            "2            maxWordsCount=1000                         0.834729\n",
            "3           maxWordsCount=10000                         0.885432\n",
            "4           maxWordsCount=50000                Не хватило памяти\n",
            "5        another set of neurons                         0.856416\n",
            "6       another count of layers                         0.890667\n",
            "7   another activation function                         0.891564\n",
            "8                  embedding=10                         0.710888\n",
            "9                  embedding=50                         0.781932\n",
            "10                embedding=200                         0.785821\n"
          ],
          "name": "stdout"
        }
      ]
    }
  ]
}