{
  "nbformat": 4,
  "nbformat_minor": 0,
  "metadata": {
    "colab": {
      "provenance": []
    },
    "kernelspec": {
      "name": "python3",
      "display_name": "Python 3"
    },
    "language_info": {
      "name": "python"
    }
  },
  "cells": [
    {
      "cell_type": "markdown",
      "source": [
        "Предсказание рукописных чисел из базы mnist\n",
        "\n",
        "Проверка модели на цифре, нарисованной от руки на тетради ручкой"
      ],
      "metadata": {
        "id": "C04XTcjbG-3t"
      }
    },
    {
      "cell_type": "markdown",
      "metadata": {
        "id": "W-Dj6c_3lAU6"
      },
      "source": [
        "# Импорт библиотек"
      ]
    },
    {
      "cell_type": "code",
      "metadata": {
        "id": "XMxoboXpY5Xi"
      },
      "source": [
        "from tensorflow.keras.datasets import mnist\n",
        "from tensorflow.keras.models import Sequential\n",
        "from tensorflow.keras.layers import Dense \n",
        "from tensorflow.keras.optimizers import Adam \n",
        "from tensorflow.keras import utils \n",
        "from tensorflow.keras.preprocessing import image \n",
        "import numpy as np \n",
        "import pylab\n",
        "import matplotlib.pyplot as plt\n",
        "from PIL import Image\n",
        "\n",
        "from tensorflow.keras.preprocessing import image\n",
        "\n",
        "%matplotlib inline "
      ],
      "execution_count": null,
      "outputs": []
    },
    {
      "cell_type": "markdown",
      "metadata": {
        "id": "l81hkO9SlQwU"
      },
      "source": [
        "# Загрузка базы mnist"
      ]
    },
    {
      "cell_type": "code",
      "metadata": {
        "id": "HG0AofOolYCD"
      },
      "source": [
        "(x_train_org, y_train_org), (x_test_org, y_test_org) = mnist.load_data()"
      ],
      "execution_count": null,
      "outputs": []
    },
    {
      "cell_type": "markdown",
      "metadata": {
        "id": "D8OnEvc6lfM9"
      },
      "source": [
        "# Нормирование и преобразование x_train и y_train"
      ]
    },
    {
      "cell_type": "code",
      "metadata": {
        "id": "tzpEn6-bbbIF"
      },
      "source": [
        "x_train = x_train_org.reshape(60000, 784)\n",
        "x_test = x_test_org.reshape(10000, 784)\n",
        "\n",
        "x_train = x_train.astype('float32') \n",
        "x_train = x_train / 255 \n",
        "x_test = x_test.astype('float32') \n",
        "x_test = x_test / 255 \n",
        "\n",
        "y_train = utils.to_categorical(y_train_org, 10)\n",
        "y_test = utils.to_categorical(y_test_org, 10) "
      ],
      "execution_count": null,
      "outputs": []
    },
    {
      "cell_type": "markdown",
      "metadata": {
        "id": "X2jsBf15lwW4"
      },
      "source": [
        "# Создание нейронной сети"
      ]
    },
    {
      "cell_type": "code",
      "metadata": {
        "id": "6KofLH8VcjU0",
        "colab": {
          "base_uri": "https://localhost:8080/"
        },
        "outputId": "e977557f-0e29-46a7-f4ad-9ca2e17b8984"
      },
      "source": [
        "model = Sequential()\n",
        "model.add(Dense(800, input_dim=784, activation=\"relu\"))\n",
        "model.add(Dense(400, activation=\"relu\"))\n",
        "model.add(Dense(10, activation=\"softmax\"))\n",
        "model.compile(loss=\"categorical_crossentropy\", optimizer=\"adam\", metrics=[\"accuracy\"])\n",
        "print(model.summary())"
      ],
      "execution_count": null,
      "outputs": [
        {
          "output_type": "stream",
          "text": [
            "Model: \"sequential_1\"\n",
            "_________________________________________________________________\n",
            "Layer (type)                 Output Shape              Param #   \n",
            "=================================================================\n",
            "dense_3 (Dense)              (None, 800)               628000    \n",
            "_________________________________________________________________\n",
            "dense_4 (Dense)              (None, 400)               320400    \n",
            "_________________________________________________________________\n",
            "dense_5 (Dense)              (None, 10)                4010      \n",
            "=================================================================\n",
            "Total params: 952,410\n",
            "Trainable params: 952,410\n",
            "Non-trainable params: 0\n",
            "_________________________________________________________________\n",
            "None\n"
          ],
          "name": "stdout"
        }
      ]
    },
    {
      "cell_type": "markdown",
      "metadata": {
        "id": "ZTEsfs7LmMjw"
      },
      "source": [
        "# Обучение нейронной сети"
      ]
    },
    {
      "cell_type": "code",
      "metadata": {
        "colab": {
          "base_uri": "https://localhost:8080/"
        },
        "id": "NXJukalMcq5C",
        "outputId": "6fa8ddaa-c7b4-4882-e140-f6293c92c6cf"
      },
      "source": [
        "model.fit(x_train, y_train, batch_size=128, epochs=15, verbose=1)"
      ],
      "execution_count": null,
      "outputs": [
        {
          "output_type": "stream",
          "text": [
            "Epoch 1/15\n",
            "469/469 [==============================] - 5s 11ms/step - loss: 0.2013 - accuracy: 0.9392\n",
            "Epoch 2/15\n",
            "469/469 [==============================] - 5s 10ms/step - loss: 0.0760 - accuracy: 0.9762\n",
            "Epoch 3/15\n",
            "469/469 [==============================] - 5s 11ms/step - loss: 0.0492 - accuracy: 0.9844\n",
            "Epoch 4/15\n",
            "469/469 [==============================] - 5s 11ms/step - loss: 0.0335 - accuracy: 0.9894\n",
            "Epoch 5/15\n",
            "469/469 [==============================] - 5s 11ms/step - loss: 0.0254 - accuracy: 0.9917\n",
            "Epoch 6/15\n",
            "469/469 [==============================] - 5s 11ms/step - loss: 0.0209 - accuracy: 0.9930\n",
            "Epoch 7/15\n",
            "469/469 [==============================] - 5s 11ms/step - loss: 0.0192 - accuracy: 0.9934\n",
            "Epoch 8/15\n",
            "469/469 [==============================] - 5s 11ms/step - loss: 0.0164 - accuracy: 0.9943\n",
            "Epoch 9/15\n",
            "469/469 [==============================] - 5s 11ms/step - loss: 0.0132 - accuracy: 0.9958\n",
            "Epoch 10/15\n",
            "469/469 [==============================] - 5s 11ms/step - loss: 0.0129 - accuracy: 0.9958\n",
            "Epoch 11/15\n",
            "469/469 [==============================] - 5s 11ms/step - loss: 0.0126 - accuracy: 0.9958\n",
            "Epoch 12/15\n",
            "469/469 [==============================] - 5s 11ms/step - loss: 0.0134 - accuracy: 0.9957\n",
            "Epoch 13/15\n",
            "469/469 [==============================] - 5s 11ms/step - loss: 0.0098 - accuracy: 0.9969\n",
            "Epoch 14/15\n",
            "469/469 [==============================] - 5s 11ms/step - loss: 0.0096 - accuracy: 0.9970\n",
            "Epoch 15/15\n",
            "469/469 [==============================] - 5s 11ms/step - loss: 0.0076 - accuracy: 0.9975\n"
          ],
          "name": "stdout"
        },
        {
          "output_type": "execute_result",
          "data": {
            "text/plain": [
              "<tensorflow.python.keras.callbacks.History at 0x7fa0ea57efd0>"
            ]
          },
          "metadata": {
            "tags": []
          },
          "execution_count": 43
        }
      ]
    },
    {
      "cell_type": "markdown",
      "metadata": {
        "id": "On9R-PYnxNgq"
      },
      "source": [
        "# Добавление нарисованной в Point цифры"
      ]
    },
    {
      "cell_type": "code",
      "metadata": {
        "id": "ASQUwa-hxTgt"
      },
      "source": [
        "# Импорт картинки\n",
        "img_name = '/content/drive/MyDrive/Lessons/LessonOne/IMG_20210806_115253.jpg'\n",
        "img = image.load_img(img_name,\n",
        "                     target_size=(28, 28),\n",
        "                     color_mode='grayscale')"
      ],
      "execution_count": null,
      "outputs": []
    },
    {
      "cell_type": "code",
      "metadata": {
        "colab": {
          "base_uri": "https://localhost:8080/",
          "height": 54
        },
        "id": "N5n7Re3rqGbl",
        "outputId": "4b367e71-0578-4648-94a0-4ab5c2704420"
      },
      "source": [
        "img"
      ],
      "execution_count": null,
      "outputs": [
        {
          "output_type": "execute_result",
          "data": {
            "image/png": "[encoded data removed]",
            "text/plain": [
              "<PIL.Image.Image image mode=L size=28x28 at 0x7FA0EA5D1450>"
            ]
          },
          "metadata": {
            "tags": []
          },
          "execution_count": 45
        }
      ]
    },
    {
      "cell_type": "code",
      "metadata": {
        "id": "sAA2QdHlyEbx"
      },
      "source": [
        "# Перевод картинки в массив\n",
        "img = image.img_to_array(img)"
      ],
      "execution_count": null,
      "outputs": []
    },
    {
      "cell_type": "markdown",
      "metadata": {
        "id": "1irb8FsvsvLz"
      },
      "source": [
        "Так как фотография не имеет контрастности цветов, которые привыкла отличать модель, применим приближенное округление, чтобы отделить фон от цифры"
      ]
    },
    {
      "cell_type": "code",
      "metadata": {
        "id": "QueHzswHtLYl"
      },
      "source": [
        "# Функция для подготовки элементов в массиве\n",
        "# preparation = lambda x: (255 - x) / 255 - не работает\n",
        "\n",
        "def preparation(x):\n",
        "  if x > 150:\n",
        "    return 0\n",
        "  else:\n",
        "    return 1"
      ],
      "execution_count": null,
      "outputs": []
    },
    {
      "cell_type": "code",
      "metadata": {
        "id": "ANSby46tzI3j"
      },
      "source": [
        "\n",
        "\n",
        "vectorized = np.vectorize(preparation)\n",
        "\n",
        "# Применение функции и сохранение результата в переменной\n",
        "image_vector = vectorized(img)\n",
        "\n",
        "# Переформирование массива\n",
        "x_train_one = image_vector.reshape(1, -1)\n",
        "\n",
        "true_answer = 7"
      ],
      "execution_count": null,
      "outputs": []
    },
    {
      "cell_type": "code",
      "metadata": {
        "id": "6l9dt4fQz4sM",
        "colab": {
          "base_uri": "https://localhost:8080/"
        },
        "outputId": "d2618e3b-9205-48d1-ab1c-d836c64dab05"
      },
      "source": [
        "# Выбор правильного ответа среди вероятностей\n",
        "answer = np.argmax(model.predict(x_train_one))\n",
        "\n",
        "if answer == true_answer:\n",
        "  print(\"Правильно\")\n",
        "else:\n",
        "  print(\"Ошибка\")"
      ],
      "execution_count": null,
      "outputs": [
        {
          "output_type": "stream",
          "text": [
            "Ошибка\n"
          ],
          "name": "stdout"
        }
      ]
    },
    {
      "cell_type": "code",
      "metadata": {
        "colab": {
          "base_uri": "https://localhost:8080/"
        },
        "id": "0hyfd1shp58Y",
        "outputId": "124a9f8e-46f3-468a-8726-135c18830295"
      },
      "source": [
        "print(model.predict(x_train_one))\n",
        "print(x_train_one)"
      ],
      "execution_count": null,
      "outputs": [
        {
          "output_type": "stream",
          "text": [
            "[[7.0546087e-37 1.0403414e-24 1.2137699e-32 9.9951839e-01 3.9965066e-30\n",
            "  3.0830709e-22 0.0000000e+00 4.8163781e-04 3.9785352e-26 1.3417572e-12]]\n",
            "[[0 0 0 0 0 0 0 0 0 0 0 0 0 0 0 0 0 0 0 0 0 0 0 0 0 0 0 0 0 0 0 0 0 0 0 0\n",
            "  0 0 0 0 0 0 0 0 0 0 0 0 0 0 0 0 0 0 0 0 0 0 0 0 0 0 0 0 0 0 0 0 0 0 0 0\n",
            "  0 0 0 0 0 0 0 0 0 0 0 0 0 0 0 0 0 0 0 0 0 0 0 0 0 0 0 0 0 0 0 0 0 0 0 0\n",
            "  0 0 0 0 0 0 0 0 0 0 0 0 0 0 0 0 0 0 0 0 0 0 0 0 0 0 0 0 0 0 0 0 0 0 0 0\n",
            "  0 0 0 0 0 0 0 1 1 0 0 0 0 0 0 1 1 0 0 0 0 0 0 0 0 0 0 0 0 0 0 0 0 0 1 1\n",
            "  1 1 0 0 0 0 1 1 1 0 0 0 0 0 0 0 0 0 0 0 0 0 0 0 1 1 1 1 1 1 1 1 1 1 1 1\n",
            "  0 0 0 0 0 0 0 0 0 0 0 0 0 0 0 1 1 1 1 0 0 1 1 1 1 1 1 1 0 0 0 0 0 0 0 0\n",
            "  0 0 0 0 0 0 0 1 1 1 0 0 0 0 0 0 0 1 1 0 0 0 0 0 0 0 0 0 0 0 0 0 0 0 0 1\n",
            "  1 0 0 0 0 0 0 0 1 1 1 0 0 0 0 0 0 0 0 0 0 0 0 0 0 0 0 0 0 0 0 0 0 0 0 0\n",
            "  1 1 0 0 0 0 0 0 0 0 0 0 0 0 0 0 0 0 0 0 0 0 0 0 0 0 0 0 1 1 0 0 0 0 0 0\n",
            "  0 0 0 0 0 0 0 0 0 0 0 0 0 0 0 0 0 0 0 1 1 0 0 0 0 0 0 0 0 0 0 0 0 0 0 0\n",
            "  0 0 0 0 0 0 0 0 0 0 1 1 1 1 1 0 0 0 0 0 0 0 0 0 0 0 0 0 0 0 0 0 0 0 1 1\n",
            "  1 1 1 1 1 1 1 1 0 0 0 0 0 0 0 0 0 0 0 0 0 0 0 0 0 0 1 1 1 1 1 1 1 1 1 0\n",
            "  0 0 0 0 0 0 0 0 0 0 0 0 0 0 0 0 0 0 0 0 0 0 1 1 0 0 0 0 0 0 0 0 0 0 0 0\n",
            "  0 0 0 0 0 0 0 0 0 0 0 0 0 1 1 0 0 0 0 0 0 0 0 0 0 0 0 0 1 1 0 0 0 0 0 0\n",
            "  0 0 0 0 0 1 1 0 0 0 0 0 0 0 0 0 0 0 0 0 1 0 0 0 0 0 0 0 0 0 0 0 1 1 1 0\n",
            "  0 0 0 0 0 0 0 0 0 0 0 0 1 1 0 0 0 0 1 0 0 0 0 0 1 1 0 0 0 0 0 0 0 0 0 0\n",
            "  0 0 0 0 1 1 1 0 1 0 0 0 0 0 0 0 1 1 0 0 0 0 0 0 0 0 0 0 0 0 0 0 1 1 1 1\n",
            "  1 1 0 0 0 0 0 0 1 1 0 0 0 0 0 0 0 0 0 0 0 0 0 0 1 1 1 1 1 1 1 1 0 0 0 0\n",
            "  0 0 0 0 0 0 0 0 0 0 0 0 0 0 0 0 1 1 1 1 1 1 1 0 1 1 0 1 1 1 0 1 0 1 0 0\n",
            "  0 0 0 0 0 0 0 0 1 1 1 1 1 1 1 0 1 1 1 1 1 0 0 1 0 1 1 0 1 1 0 0 1 0 0 0\n",
            "  1 1 1 1 1 1 1 1 1 1 1 1 1 1 1 1 1 1 1 1 1 1 1 1 1 0 0 0]]\n"
          ],
          "name": "stdout"
        }
      ]
    },
    {
      "cell_type": "markdown",
      "metadata": {
        "id": "avZ52S07mUbW"
      },
      "source": [
        "# (Сохранение весов)"
      ]
    },
    {
      "cell_type": "code",
      "metadata": {
        "id": "KeprgmmidXjo"
      },
      "source": [
        "model.save_weights('model.h5')\n",
        "model.load_weights('model.h5')"
      ],
      "execution_count": null,
      "outputs": []
    }
  ]
}